{
 "cells": [
  {
   "cell_type": "code",
   "execution_count": 21,
   "id": "e827d995",
   "metadata": {},
   "outputs": [],
   "source": [
    "import pandas as pd\n",
    "import json\n",
    "import os\n",
    "from collections import defaultdict\n",
    "\n",
    "os.chdir('C:\\\\Users\\\\arvgoyal\\Python Codes\\IRE Project\\Data Cleaning\\data')"
   ]
  },
  {
   "cell_type": "markdown",
   "id": "ef77b860-d69f-46d0-94d8-f3a2ea1d179e",
   "metadata": {},
   "source": [
    "#df = pd.read_json('combined_minerals.json')\n",
    "with open('mindat.json') as webMinJsn:\n",
    "    data = json.load(webMinJsn)\n",
    "data    "
   ]
  },
  {
   "cell_type": "code",
   "execution_count": 23,
   "id": "1b18fa39",
   "metadata": {},
   "outputs": [
    {
     "data": {
      "text/plain": [
       "9112"
      ]
     },
     "execution_count": 23,
     "metadata": {},
     "output_type": "execute_result"
    }
   ],
   "source": [
    "len(data.keys())"
   ]
  },
  {
   "cell_type": "code",
   "execution_count": 24,
   "id": "9e52e72c",
   "metadata": {},
   "outputs": [],
   "source": [
    "All_Attribute= []\n",
    "Mineral_List = []\n",
    "for mineral in data.keys():\n",
    "    Mineral_List.append(mineral)\n",
    "    for att in data[mineral].keys():\n",
    "        All_Attribute.append(att)\n",
    "        \n",
    "All_Attribute = list(set(All_Attribute))    "
   ]
  },
  {
   "cell_type": "markdown",
   "id": "79d74de3-13fb-4ccc-8f56-6037aafa7f0a",
   "metadata": {},
   "source": [
    "print(len(All_Attribute))\n",
    "All_Attribute"
   ]
  },
  {
   "cell_type": "code",
   "execution_count": 26,
   "id": "d35be7a9",
   "metadata": {},
   "outputs": [],
   "source": [
    "AttributeData = defaultdict(list)"
   ]
  },
  {
   "cell_type": "code",
   "execution_count": 27,
   "id": "02b608d7",
   "metadata": {},
   "outputs": [],
   "source": [
    "for mineral in Mineral_List:\n",
    "    AttributeData['Mineral Name'].append(mineral)\n",
    "    #FinalData['Mineral Name'] = mineral\n",
    "    for att in All_Attribute:\n",
    "        try:\n",
    "            AttributeData[att].append(data[mineral][att])\n",
    "        except:\n",
    "            AttributeData[att].append(None)      "
   ]
  },
  {
   "cell_type": "code",
   "execution_count": 28,
   "id": "c311ffd0",
   "metadata": {},
   "outputs": [],
   "source": [
    "FinalData = {}\n",
    "\n",
    "for key in AttributeData.keys():\n",
    "    FinalData[key] = AttributeData[key]\n",
    "    #print(len(AttributeData[key]))"
   ]
  },
  {
   "cell_type": "markdown",
   "id": "0dd34b64-b6fe-4565-a1ad-0f2f96b173cc",
   "metadata": {},
   "source": [
    "df = pd.DataFrame(FinalData)\n",
    "df"
   ]
  },
  {
   "cell_type": "code",
   "execution_count": 30,
   "id": "fa13c4a4",
   "metadata": {},
   "outputs": [
    {
     "name": "stdout",
     "output_type": "stream",
     "text": [
      "102\n",
      "9112\n"
     ]
    }
   ],
   "source": [
    "print(len(df.columns))\n",
    "print(len(df))"
   ]
  },
  {
   "cell_type": "code",
   "execution_count": 31,
   "id": "8074ff81",
   "metadata": {},
   "outputs": [
    {
     "name": "stdout",
     "output_type": "stream",
     "text": [
      "Interestingness  :  9111\n",
      "Special Storage/Display Requirements  :  9035\n",
      "CAS Registry number  :  9075\n",
      "Bireflectance  :  8856\n",
      "German name for  :  9111\n",
      "Idealised Formula  :  8980\n",
      "Translation gliding  :  9099\n",
      "Recorded ages  :  9068\n",
      "Magnetism  :  9042\n",
      "First Recorded Locality  :  9009\n",
      "IMA status notes  :  8896\n",
      "Internal Reflections  :  8803\n",
      "Polymorph of  :  8988\n",
      "Epitaxial Minerals  :  9027\n",
      "Synonym of  :  9053\n",
      "IR Spectrum  :  8993\n",
      "Series Formula  :  9107\n",
      "Electrical  :  9052\n",
      "Epitaxy Comments  :  9051\n",
      "Industrial Uses  :  8958\n",
      "Dimorph of  :  8819\n",
      "Crystal Atlas  :  8832\n",
      "German synonym of  :  9111\n",
      "Strunz 9th ed.  :  8915\n",
      "Thermal Behaviour  :  8962\n",
      "A Mixture Of  :  9095\n",
      "Optical Extinction  :  8815\n",
      "French synonym of  :  9111\n",
      "Co-First Recorded Localities  :  9103\n",
      "Sample references  :  8939\n",
      "Epitaxi Comments  :  9105\n",
      "Synonym  :  9097\n",
      "First Recorded Localities  :  9104\n",
      "As a Commodity  :  9088\n",
      "Empirical formulas  :  9046\n",
      "Oxide wt%  :  8966\n",
      "36\n"
     ]
    }
   ],
   "source": [
    "cnt = 0 \n",
    "for col in df.columns:\n",
    "    \n",
    "    blanks = df[col].isnull().sum()\n",
    "    if blanks >8800:\n",
    "        cnt +=1\n",
    "        print(col,' : ',df[col].isnull().sum())\n",
    "        df = df.drop([col],axis=1)\n",
    "        \n",
    "print(cnt)"
   ]
  },
  {
   "cell_type": "code",
   "execution_count": 32,
   "id": "e818a829",
   "metadata": {},
   "outputs": [],
   "source": [
    "col_drop_lst = ['Approval year','Search Engines','Reference List','Mineral Dealers','Comment','External Links','Download','Comments','mindat.org URL','First published','Reference','Z']\n",
    "#col_crpt_data_lst = ['Cleavage', 'Forms']   #Data is not correct\n",
    "\n",
    "col_name_lst = ['Name']\n",
    "col_formula_lst = ['Formula','IMA status', 'IMA Formula']\n",
    "col_clr_lst = ['Colour','Streak','Lustre','Transparency','Pleochroism']\n",
    "col_strctr_lst = ['Density','Hardness','Crystal System','Specific Gravity','Tenacity']\n",
    "col_texture_lst = ['Surface Relief', 'Fracture','Morphology']\n",
    "col_compound_lst = ['Elements listed', 'Common Impurities','Geological Setting','Member of',\"Hey's CIM Ref.\",\"Nickel-Strunz 10th (pending) ed.\",\"Type\"]\n"
   ]
  },
  {
   "cell_type": "code",
   "execution_count": 33,
   "id": "d78c9d1b",
   "metadata": {},
   "outputs": [
    {
     "data": {
      "text/plain": [
       "(9112, 54)"
      ]
     },
     "execution_count": 33,
     "metadata": {},
     "output_type": "execute_result"
    }
   ],
   "source": [
    "len(col_drop_lst)\n",
    "df=df.drop(col_drop_lst,axis=1)\n",
    "df.shape"
   ]
  },
  {
   "cell_type": "code",
   "execution_count": 86,
   "id": "edf269e9",
   "metadata": {},
   "outputs": [],
   "source": [
    "df.to_csv('mindat_9k_stage.csv')"
   ]
  },
  {
   "cell_type": "code",
   "execution_count": 34,
   "id": "d7b2511c",
   "metadata": {},
   "outputs": [
    {
     "name": "stdout",
     "output_type": "stream",
     "text": [
      "51\n",
      "54\n"
     ]
    },
    {
     "data": {
      "text/plain": [
       "{'Hardness Data', 'In UV light', 'Pronounciation', 'Setting'}"
      ]
     },
     "execution_count": 34,
     "metadata": {},
     "output_type": "execute_result"
    }
   ],
   "source": [
    "list2 = list(df.columns)\n",
    "list2 = set(list2)\n",
    "\n",
    "list1 = set(['Mineral Name', 'Name', 'Formula', 'IMA Formula', 'IMA status', 'IMA Formula',\n",
    "       'Colour', 'Streak', 'Lustre', 'Transparency', 'Pleochroism', 'Density',\n",
    "       'Hardness', 'Crystal System', 'Specific Gravity', 'Tenacity',\n",
    "       'Surface Relief', 'Fracture', 'Morphology', 'Elements listed',\n",
    "       'Common Impurities', 'Geological Setting', 'Member of',\n",
    "       \"Hey's CIM Ref.\", 'Nickel-Strunz 10th (pending) ed.', 'Type',\n",
    "       'Cell Parameters', 'Powder Diffraction Data', 'Dana 8th ed.',\n",
    "       'Unit Cell V', 'Space Group', 'Dispersion', 'Strunz 8th ed.',\n",
    "       'RI values', 'Cleavage', 'Ratio', 'Type Locality', 'Class (H-M)',\n",
    "       'Health Risks', '2V', 'Approval history', 'Colour in reflected light', 'Anisotropism',\n",
    "        'Reflectivity','Dana 7th ed.','Birefringence','Isostructural with','Co-Type Localities',\n",
    "        'Twinning','Parting','Notes','Mineral Dealers'])\n",
    "\n",
    "print (len(list1))\n",
    "print (len(list2))\n",
    "\n",
    "extra = list2 - list1\n",
    "extra   #"
   ]
  },
  {
   "cell_type": "code",
   "execution_count": 35,
   "id": "1755d0e8",
   "metadata": {},
   "outputs": [
    {
     "name": "stdout",
     "output_type": "stream",
     "text": [
      "25\n"
     ]
    },
    {
     "data": {
      "text/plain": [
       "['Mineral Name',\n",
       " 'Name',\n",
       " 'Formula',\n",
       " 'IMA status',\n",
       " 'IMA Formula',\n",
       " 'Colour',\n",
       " 'Streak',\n",
       " 'Lustre',\n",
       " 'Transparency',\n",
       " 'Pleochroism',\n",
       " 'Density',\n",
       " 'Hardness',\n",
       " 'Crystal System',\n",
       " 'Specific Gravity',\n",
       " 'Tenacity',\n",
       " 'Surface Relief',\n",
       " 'Fracture',\n",
       " 'Morphology',\n",
       " 'Elements listed',\n",
       " 'Common Impurities',\n",
       " 'Geological Setting',\n",
       " 'Member of',\n",
       " \"Hey's CIM Ref.\",\n",
       " 'Nickel-Strunz 10th (pending) ed.',\n",
       " 'Type']"
      ]
     },
     "execution_count": 35,
     "metadata": {},
     "output_type": "execute_result"
    }
   ],
   "source": [
    "rearrange_col = ['Mineral Name']\n",
    "rearrange_col.extend(col_name_lst)\n",
    "rearrange_col.extend(col_formula_lst)\n",
    "rearrange_col.extend(col_clr_lst)\n",
    "rearrange_col.extend(col_strctr_lst)\n",
    "rearrange_col.extend(col_texture_lst)\n",
    "rearrange_col.extend(col_compound_lst)\n",
    "print(len(rearrange_col))\n",
    "rearrange_col"
   ]
  },
  {
   "cell_type": "code",
   "execution_count": 29,
   "id": "71136d1e",
   "metadata": {},
   "outputs": [],
   "source": [
    "#df = df[ ['mean'] + [ col for col in df.columns if col != 'mean' ] ]\n",
    "#df = df.reindex_axis(['Col1','Col2'] + list(df.columns.drop(['Col1','Col2'])), axis=1)"
   ]
  },
  {
   "cell_type": "markdown",
   "id": "4d788cd8-25e2-40d4-882a-cd624cc74efa",
   "metadata": {},
   "source": [
    "df = df[ rearrange_col + [ col for col in df.columns if col not in rearrange_col ] ]\n",
    "df"
   ]
  },
  {
   "cell_type": "code",
   "execution_count": 37,
   "id": "7807fce5",
   "metadata": {},
   "outputs": [],
   "source": [
    "df.to_csv('mindat.csv')"
   ]
  },
  {
   "cell_type": "code",
   "execution_count": 32,
   "id": "48edf0f8",
   "metadata": {},
   "outputs": [],
   "source": [
    "#df = df.loc[df['instance of (p31)'] !='mountain (Q8502)']\n",
    "#df = df.loc[df['instance of (p31)'] !='human settlement (Q486972)']\n",
    "#df = df.loc[df['instance of (p31)'] =='mineral species (Q12089225)']"
   ]
  },
  {
   "cell_type": "code",
   "execution_count": 38,
   "id": "e6754136",
   "metadata": {},
   "outputs": [
    {
     "data": {
      "text/plain": [
       "(9112, 54)"
      ]
     },
     "execution_count": 38,
     "metadata": {},
     "output_type": "execute_result"
    }
   ],
   "source": [
    "df.shape"
   ]
  },
  {
   "cell_type": "code",
   "execution_count": 58,
   "id": "8247e525",
   "metadata": {},
   "outputs": [],
   "source": [
    "#df['colour'] = df['color'] + df['colour'] #Merging columns into a single column"
   ]
  }
 ],
 "metadata": {
  "kernelspec": {
   "display_name": "Python 3",
   "language": "python",
   "name": "python3"
  },
  "language_info": {
   "codemirror_mode": {
    "name": "ipython",
    "version": 3
   },
   "file_extension": ".py",
   "mimetype": "text/x-python",
   "name": "python",
   "nbconvert_exporter": "python",
   "pygments_lexer": "ipython3",
   "version": "3.8.10"
  }
 },
 "nbformat": 4,
 "nbformat_minor": 5
}
