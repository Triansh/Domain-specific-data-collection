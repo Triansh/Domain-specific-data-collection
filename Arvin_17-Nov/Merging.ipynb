{
 "cells": [
  {
   "cell_type": "code",
   "execution_count": 1,
   "id": "75f47ba2",
   "metadata": {},
   "outputs": [],
   "source": [
    "import pandas as pd\n",
    "import json\n",
    "import os\n",
    "from collections import defaultdict\n",
    "\n",
    "os.chdir('C:\\\\Users\\\\arvgoyal\\Python Codes\\IRE Project\\Data Cleaning\\data')"
   ]
  },
  {
   "cell_type": "code",
   "execution_count": null,
   "id": "757c3725-1259-4bec-8da6-5053f0756484",
   "metadata": {},
   "outputs": [],
   "source": [
    "#df = pd.read_json('combined_minerals.json')\n",
    "with open('combined_minerals.json') as webMinJsn:\n",
    "    webMin_dic = json.load(webMinJsn)\n",
    "    \n",
    "with open('mindat.json') as minDatJsn:\n",
    "    minDat_dic = json.load(minDatJsn)    \n",
    "\n",
    "webMin_dic['Natanite'].keys()\n",
    "minDat_dic.keys()"
   ]
  },
  {
   "cell_type": "code",
   "execution_count": 9,
   "id": "a84aa1e6",
   "metadata": {},
   "outputs": [],
   "source": [
    "#for k in webMin_dic.keys():\n",
    "#    print (len(webMin_dic[k].keys()))\n",
    "\n",
    "all_mnrl = set()\n",
    "mindat_mnrl = set()\n",
    "webmin_mnrl = set()\n",
    "\n",
    "for mnrl in webMin_dic.keys():\n",
    "    all_mnrl.add(mnrl.lower())\n",
    "    webmin_mnrl.add(mnrl.lower())\n",
    "    \n",
    "for mnrl in minDat_dic.keys():\n",
    "    all_mnrl.add(mnrl.lower())\n",
    "    mindat_mnrl.add(mnrl.lower()) \n"
   ]
  },
  {
   "cell_type": "code",
   "execution_count": 10,
   "id": "885081b5",
   "metadata": {},
   "outputs": [
    {
     "name": "stdout",
     "output_type": "stream",
     "text": [
      "9609\n",
      "4660\n",
      "9112\n"
     ]
    }
   ],
   "source": [
    "print(len(all_mnrl))\n",
    "print(len(webmin_mnrl))\n",
    "print(len(mindat_mnrl))"
   ]
  },
  {
   "cell_type": "code",
   "execution_count": 35,
   "id": "0c9e5f16",
   "metadata": {},
   "outputs": [
    {
     "name": "stdout",
     "output_type": "stream",
     "text": [
      "9609\n",
      "4660\n",
      "9112\n"
     ]
    }
   ],
   "source": [
    "print(len(all_mnrl))\n",
    "print(len(webmin_mnrl))\n",
    "print(len(mindat_mnrl))"
   ]
  },
  {
   "cell_type": "code",
   "execution_count": 12,
   "id": "6eefd68a",
   "metadata": {},
   "outputs": [],
   "source": [
    "attr_dic  = defaultdict(lambda:defaultdict(list))\n",
    "\n",
    "attr_dic['Name Pronunciation'][1]=     ['webMin','Name Pronunciation']\n",
    "attr_dic['Synonym'][1]=                ['webMin','Synonym']\n",
    "attr_dic['Name Origin'][1]=            ['webMin','Name Origin']\n",
    "attr_dic['Name Origin'][2]=            ['minDat','Name']\n",
    "attr_dic['Formula'][1]=                ['webMin','Chemical Formula']\n",
    "attr_dic['Formula'][2]=                ['webMin','Empirical Formula']\n",
    "attr_dic['Formula'][3]=                ['minDat','Formula']\n",
    "attr_dic['Formula'][4]=                ['minDat','IMA Formula']\n",
    "attr_dic['IMA Status'][1]=             ['webMin','IMA Status']\n",
    "attr_dic['IMA Status'][2]=             ['minDat','IMA status']\n",
    "attr_dic['Color'][1]=                  ['webMin','Color']\n",
    "attr_dic['Color'][2]=                  ['minDat','Colour']\n",
    "attr_dic['Streak'][1]=                 ['webMin','Streak']\n",
    "attr_dic['Streak'][2]=                 ['minDat','Streak']\n",
    "attr_dic['Luster'][1]=                 ['webMin','Luster']\n",
    "attr_dic['Luster'][2]=                 ['minDat','Lustre']\n",
    "attr_dic['Transparency'][1]=           ['webMin','Diaphaneity']\n",
    "attr_dic['Transparency'][2]=           ['minDat','Transparency']\n",
    "attr_dic['Pleochroism Scale'][1]=      ['minDat','Pleochroism']\n",
    "attr_dic['Pleochroism'][1]=            ['webMin','RL Pleochroism']\n",
    "attr_dic['Pleochroism (x)'][1]=        ['webMin','Pleochroism (x)']\n",
    "attr_dic['Pleochroism (y)'][1]=        ['webMin','Pleochroism (y)']\n",
    "attr_dic['Pleochroism (z)'][1]=        ['webMin','Pleochroism (z)']\n",
    "attr_dic['RL Color'][1]=               ['webMin','RL Color']\n",
    "attr_dic['RL Bireflectance'][1]=       ['webMin','RL Bireflectance']\n",
    "attr_dic['RL Anisotrophism'][1]=       ['webMin','RL Anisotrophism']\n",
    "attr_dic['Dichroism (e)'][1]=          ['webMin','Dichroism (e)']\n",
    "attr_dic['Dichroism (w)'][1]=          ['webMin','Dichroism (w)']\n",
    "attr_dic['Density'][1]=                ['minDat','Density']\n",
    "attr_dic['Density'][2]=                ['webMin','Density']\n",
    "attr_dic['Molecular Weight'][1]=       ['webMin','Composition']\n",
    "attr_dic['Electron Density'][1]=       ['webMin','Electron Density']\n",
    "attr_dic['Hardness'][1]=               ['minDat','Hardness']\n",
    "attr_dic['Hardness'][2]=               ['webMin','Hardness']\n",
    "attr_dic['Crystal System'][1]=         ['webMin','Crystal System']\n",
    "attr_dic['Crystal System'][2]=         ['minDat','Crystal System']\n",
    "attr_dic['Specific Gravity'][1]=       ['minDat','Specific Gravity']\n",
    "attr_dic['Fracture'][1]=               ['webMin','Fracture']\n",
    "attr_dic['Fracture'][2]=               ['minDat','Fracture']\n",
    "attr_dic['Dana Class'][1]=             ['webMin','Dana Class']\n",
    "attr_dic['Dana Class'][2]=             ['minDat','Dana 8th ed.']\n",
    "attr_dic['Strunz Class'][1]=           ['webMin','Strunz Class']\n",
    "attr_dic['Strunz Class'][2]=           ['minDat','Nickel-Strunz 10th (pending) ed.']\n",
    "attr_dic['Strunz 8th ed.'][1]=         ['minDat','Strunz 8th ed.']\n",
    "attr_dic['Cell Dimensions'][1]=        ['webMin','Cell Dimensions']\n",
    "attr_dic['Cell Dimensions'][2]=        ['minDat','Cell Parameters']\n",
    "attr_dic['Habit'][1]=                  ['webMin','Habit']\n",
    "attr_dic['Axial Ratios'][1]=           ['webMin','Axial Ratios']\n",
    "attr_dic['Radioactivity'][1]=          ['webMin','Radioactivity']\n",
    "attr_dic['Photoelectric'][1]=          ['webMin','Photoelectric']\n",
    "attr_dic['Environment'][1]=            ['webMin','Environment']\n",
    "attr_dic['Fermion Index'][1]=          ['webMin','Fermion Index']\n",
    "attr_dic['Magnetism'][1]=              ['webMin','Magnetism']\n",
    "attr_dic['Gladstone-Dale'][1]=         ['webMin','Gladstone-Dale']\n",
    "attr_dic['X Ray Diffraction'][1]=      ['webMin','X Ray Diffraction']\n",
    "attr_dic['Luminescence'][1]=           ['webMin','Luminescence']\n",
    "attr_dic['Optical Data'][1]=           ['webMin','Optical Data']\n",
    "attr_dic['Tenacity'][1]=               ['minDat','Tenacity']\n",
    "attr_dic['Surface Relief'][1]=         ['minDat','Surface Relief']\n",
    "attr_dic['Morphology'][1]=             ['minDat','Morphology']\n",
    "attr_dic['Elements listed'][1]=        ['minDat','Elements listed']\n",
    "attr_dic['Common Impurities'][1]=      ['minDat','Common Impurities']\n",
    "attr_dic['Geological Setting'][1]=     ['minDat','Geological Setting']\n",
    "attr_dic['Member of'][1]=              ['minDat','Member of']\n",
    "attr_dic[\"Hey's CIM Ref.\"][1]=         [\"minDat\",\"Hey's CIM Ref.\"]\n",
    "attr_dic['Type'][1]=                   ['minDat','Type']\n",
    "attr_dic['Powder Diffraction Data'][1]=['minDat','Powder Diffraction Data']\n",
    "attr_dic['Unit Cell V'][1]=            ['minDat','Unit Cell V']\n",
    "attr_dic['Space Group'][1]=            ['minDat','Space Group']\n",
    "attr_dic['Dispersion'][1]=             ['minDat','Dispersion']\n",
    "attr_dic['RI values'][1]=              ['minDat','RI values']\n",
    "attr_dic['Cleavage'][1]=               ['minDat','Cleavage']\n",
    "attr_dic['Ratio'][1]=                  ['minDat','Ratio']\n",
    "attr_dic['Type Locality'][1]=          ['minDat','Type Locality']\n",
    "attr_dic['Class (H-M)'][1]=            ['minDat','Class (H-M)']\n",
    "attr_dic['Health Risks'][1]=           ['minDat','Health Risks']\n",
    "attr_dic['2V'][1]=                     ['minDat','2V']\n"
   ]
  },
  {
   "cell_type": "code",
   "execution_count": 31,
   "id": "213eb44e",
   "metadata": {},
   "outputs": [],
   "source": [
    "def get_atr_val(mnrl_web,mnrl_dat,atr):\n",
    "    m=''\n",
    "    value =''\n",
    "    for i in attr_dic[atr].keys():\n",
    "        lst = attr_dic[atr][i]\n",
    "        \n",
    "        if lst[0] == 'webMin':\n",
    "            try:\n",
    "                value = webMin_dic[mnrl_web][lst[1]]\n",
    "                m = mnrl_web\n",
    "                break\n",
    "            except:\n",
    "                a=1\n",
    "        else:\n",
    "            try:\n",
    "                value = minDat_dic[mnrl_dat][lst[1]]\n",
    "                m = mnrl_dat\n",
    "                break\n",
    "            except:\n",
    "                a=1\n",
    "    return (value,m)\n",
    "        "
   ]
  },
  {
   "cell_type": "code",
   "execution_count": 70,
   "id": "5a339215",
   "metadata": {},
   "outputs": [],
   "source": [
    "merged_dic  = defaultdict(lambda:defaultdict(str))\n",
    "\n",
    "for mnrl in all_mnrl:\n",
    "    mName_web = ''\n",
    "    mName_dat = ''\n",
    "    for m in webMin_dic.keys():\n",
    "        if mnrl.lower() == m.lower():\n",
    "            mName_web = m\n",
    "            break\n",
    "    \n",
    "    for m in  minDat_dic.keys():\n",
    "        if mnrl.lower() == m.lower():\n",
    "            mName_dat = m\n",
    "            break\n",
    "    \n",
    "    \n",
    "    for atr in attr_dic.keys():\n",
    "        val,m = get_atr_val(mName_web,mName_dat, atr)\n",
    "        if m != '':\n",
    "            merged_dic[m][atr] = val\n",
    "    \n",
    "        \n",
    "        "
   ]
  },
  {
   "cell_type": "code",
   "execution_count": 71,
   "id": "ce77d3f4",
   "metadata": {},
   "outputs": [],
   "source": [
    "#for k in merged_dic.keys():\n",
    "#    print (len(merged_dic[k].keys()))\n",
    "len(merged_dic.keys())    \n",
    "\n",
    "mrg_set = set()\n",
    "for m in merged_dic.keys():\n",
    "    mrg_set.add(m.lower())\n",
    "    \n",
    "lst = all_mnrl - mrg_set\n"
   ]
  },
  {
   "cell_type": "code",
   "execution_count": null,
   "id": "86f09ca1-2da3-4d5e-8d99-59655746a9f7",
   "metadata": {},
   "outputs": [],
   "source": [
    "print(lst)\n",
    "len(lst)\n"
   ]
  },
  {
   "cell_type": "code",
   "execution_count": 73,
   "id": "f1841c20",
   "metadata": {},
   "outputs": [],
   "source": [
    "with open('merged_webmin_mindat.json', 'w') as file:\n",
    "    json.dump(merged_dic, file)"
   ]
  },
  {
   "cell_type": "code",
   "execution_count": null,
   "id": "cf1e3e4a-8a70-4ff6-b1db-85ccb1ecc37d",
   "metadata": {},
   "outputs": [],
   "source": [
    "merged_dic.keys()"
   ]
  },
  {
   "cell_type": "code",
   "execution_count": null,
   "id": "9201241b-197c-43b9-9295-82c9a95b0693",
   "metadata": {},
   "outputs": [],
   "source": [
    "\n",
    "keys = [\"Name Pronunciation\", \"Synonym\", \"Name Origin\", \"Formula\", \"IMA Status\",\"Color\", \"Streak\", \"Luster\", \"Transparency\", \"Pleochroism Scale\", \"Pleochroism\", \"Pleochroism (x)\", \"Pleochroism (y)\", \"Pleochroism (z)\", \"RL Color\", \"RL Bireflectance\", \"RL Anisotrophism\", \"Dichroism (e)\", \"Dichroism (w)\", \"Density\", \"Molecular Weight\", \"Electron Density\", \"Hardness\", \"Crystal System\", \"Specific Gravity\", \"Fracture\", \"Dana Class\", \"Strunz Class\", \"Strunz 8th ed.\",\"Cell Dimensions\", \"Habit\", \"Axial Ratios\", \"Radioactivity\", \"Photoelectric\", \"Environment\", \"Fermion Index\", \"Magnetism\", \"Gladstone-Dale\", \"X Ray Diffraction\", \"Luminescence\", \"Optical Data\", \"Tenacity\", \"Surface Relief\", \"Morphology\", \"Elements listed\", \"Common Impurities\", \"Geological Setting\", \"Member of\", \"Hey's CIM Ref.\", \"Type\", \"Powder Diffraction Data\", \"Unit Cell V\",\"Space Group\", \"Dispersion\", \"RI values\", \"Cleavage\", \"Ratio\", \"Type Locality\", \"Class (H-M)\", \"Health Risks\", \"2V\"]\n",
    "merged_dic2  = {key:{k:merged_dic[k][key] for k in merged_dic if key in merged_dic[k]} for key in keys}\n",
    "\n",
    "df = pd.DataFrame(merged_dic2)\n",
    "df"
   ]
  },
  {
   "cell_type": "code",
   "execution_count": 75,
   "id": "188ae76c",
   "metadata": {},
   "outputs": [],
   "source": [
    "df.to_csv('merged_webmin_mindat.csv')"
   ]
  },
  {
   "cell_type": "code",
   "execution_count": null,
   "id": "05c181ee",
   "metadata": {},
   "outputs": [],
   "source": [
    "\n"
   ]
  }
 ],
 "metadata": {
  "kernelspec": {
   "display_name": "Python 3 (ipykernel)",
   "language": "python",
   "name": "python3"
  },
  "language_info": {
   "codemirror_mode": {
    "name": "ipython",
    "version": 3
   },
   "file_extension": ".py",
   "mimetype": "text/x-python",
   "name": "python",
   "nbconvert_exporter": "python",
   "pygments_lexer": "ipython3",
   "version": "3.8.8"
  }
 },
 "nbformat": 4,
 "nbformat_minor": 5
}
