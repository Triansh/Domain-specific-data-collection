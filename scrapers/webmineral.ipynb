{
 "cells": [
  {
   "cell_type": "code",
   "execution_count": 1,
   "id": "af1220e8",
   "metadata": {},
   "outputs": [],
   "source": [
    "from selenium import webdriver\n",
    "import time\n",
    "import pandas as pd\n",
    "import os\n",
    "import json"
   ]
  },
  {
   "cell_type": "code",
   "execution_count": 2,
   "id": "a41e2e82",
   "metadata": {},
   "outputs": [],
   "source": [
    "from selenium.webdriver.support.ui import WebDriverWait\n",
    "from selenium.webdriver.support import expected_conditions as EC\n",
    "from selenium.webdriver.common.by import By\n",
    "from selenium.common.exceptions import TimeoutException"
   ]
  },
  {
   "cell_type": "markdown",
   "id": "8ba8fa18-e74a-492f-9872-4510bb133f98",
   "metadata": {},
   "source": [
    "import os\n",
    "import json\n",
    "os.chdir('E:\\PGSSP\\Information Retrival and Extraction\\Major Project')"
   ]
  },
  {
   "cell_type": "code",
   "execution_count": 15,
   "id": "e7674e21",
   "metadata": {},
   "outputs": [],
   "source": [
    "f = open('../prat_trish_list.txt', 'r')\n",
    "Links = []\n",
    "for line in f.readlines():\n",
    "    Links.append(line.strip('\\n'))"
   ]
  },
  {
   "cell_type": "code",
   "execution_count": 16,
   "id": "a2289258",
   "metadata": {},
   "outputs": [],
   "source": [
    "def SkipRowsforMineral(elementName):\n",
    "    skipRows = [\n",
    "        'General ' + elementName + ' Information',\n",
    "        'Search for ' + elementName + ' Images',\n",
    "        elementName + ' Crystallography',\n",
    "        'Physical Properties of ' + elementName,\n",
    "        'Optical Properties of ' + elementName,\n",
    "        'Calculated Properties of ' + elementName,\n",
    "        elementName + ' Classification',\n",
    "        'Other ' + elementName + ' Information'\n",
    "    ]\n",
    "    return skipRows"
   ]
  },
  {
   "cell_type": "code",
   "execution_count": 17,
   "id": "bb08edbc",
   "metadata": {},
   "outputs": [
    {
     "name": "stderr",
     "output_type": "stream",
     "text": [
      "/var/folders/63/8sk6p42d28b00trfq5r8lp0h0000gn/T/ipykernel_1038/2964872129.py:10: DeprecationWarning: executable_path has been deprecated, please pass in a Service object\n",
      "  driver = webdriver.Chrome('../chromedriver')\n"
     ]
    },
    {
     "name": "stdout",
     "output_type": "stream",
     "text": [
      "Loading took too much time! http://www.webmineral.com/data/Methane%20Clathrate.shtml\n"
     ]
    },
    {
     "name": "stderr",
     "output_type": "stream",
     "text": [
      "/var/folders/63/8sk6p42d28b00trfq5r8lp0h0000gn/T/ipykernel_1038/2964872129.py:25: DeprecationWarning: find_elements_by_* commands are deprecated. Please use find_elements() instead\n",
      "  DataRows = driver.find_elements_by_xpath(xpath)\n"
     ]
    }
   ],
   "source": [
    "UnloadedLinks = []\n",
    "FullData = {}\n",
    "counter = 0\n",
    "fileCnt = 0\n",
    "# driver = webdriver.Chrome('../chromedriver')\n",
    "for link in Links:\n",
    "    proceed = True\n",
    "    #print(link)\n",
    "    if counter % 100 == 0:\n",
    "        driver = webdriver.Chrome('../chromedriver')\n",
    "\n",
    "    driver.get(link)\n",
    "    delay = 3  # seconds\n",
    "\n",
    "    try:\n",
    "        myElem = WebDriverWait(driver, delay).until(\n",
    "            EC.presence_of_element_located((By.ID, 'printMe')))\n",
    "        #print(myElem)\n",
    "    except TimeoutException:\n",
    "        print(\"Loading took too much time!\", link)\n",
    "        UnloadedLinks.append(link)\n",
    "        continue\n",
    "\n",
    "    try:\n",
    "        xpath = '/html/body/table/tbody/tr/td/center/table[3]/tbody/tr'\n",
    "        DataRows = driver.find_elements_by_xpath(xpath)\n",
    "        #print(DataRows[0].text)\n",
    "        elementName = DataRows[0].text.split()[1]\n",
    "    except:\n",
    "        print('Issue in accessing element.')\n",
    "        proceed = False\n",
    "\n",
    "    if proceed:\n",
    "        skipRows = SkipRowsforMineral(elementName)\n",
    "\n",
    "        Data = {}\n",
    "        for row in DataRows:\n",
    "            if row.text in skipRows:\n",
    "                pass\n",
    "            else:\n",
    "                splitted = row.text.split(':', 1)\n",
    "                if len(splitted) == 2:\n",
    "                    key = splitted[0]\n",
    "                    value = splitted[1]\n",
    "                    Data[key] = value\n",
    "\n",
    "        FullData[elementName] = Data\n",
    "        counter += 1\n",
    "        if counter % 100 == 0:\n",
    "            print('minerals processed so far ', str(counter))\n",
    "            fileCnt += 1\n",
    "            UnloadLinksText = '\\n'.join(UnloadedLinks)\n",
    "            fl = open('UnloadedLinks5.txt', 'w')\n",
    "            fl.write(UnloadLinksText)\n",
    "            fl.close()\n",
    "            with open('FullMineralData5.json', 'w') as fp:\n",
    "                json.dump(FullData, fp)\n",
    "            driver.close()\n",
    "\n",
    "\n",
    "# driver.close()"
   ]
  },
  {
   "cell_type": "code",
   "execution_count": 18,
   "id": "6de92175",
   "metadata": {},
   "outputs": [
    {
     "data": {
      "text/plain": [
       "76"
      ]
     },
     "execution_count": 18,
     "metadata": {},
     "output_type": "execute_result"
    }
   ],
   "source": [
    "totalAttributes = []\n",
    "for mineral in FullData.keys():\n",
    "    Attributes = list(FullData[mineral].keys())\n",
    "    totalAttributes.extend(Attributes)\n",
    "\n",
    "totalAttributes = list(set(totalAttributes))\n",
    "len(totalAttributes)"
   ]
  },
  {
   "cell_type": "code",
   "execution_count": 19,
   "id": "fc04992b-190a-4d2a-a6f3-3acff10df0e6",
   "metadata": {},
   "outputs": [
    {
     "name": "stdout",
     "output_type": "stream",
     "text": [
      "minerals processed so far  92\n"
     ]
    }
   ],
   "source": [
    "print('minerals processed so far ', str(counter))\n",
    "fileCnt += 1\n",
    "UnloadLinksText = '\\n'.join(UnloadedLinks)\n",
    "fl = open('UnloadedLinks5.txt', 'w')\n",
    "fl.write(UnloadLinksText)\n",
    "fl.close()\n",
    "with open('FullMineralData5.json', 'w') as fp:\n",
    "    json.dump(FullData, fp)\n",
    "driver.close()"
   ]
  },
  {
   "cell_type": "code",
   "execution_count": null,
   "id": "5a46e702-8614-4e3c-b298-62f31ccd96a5",
   "metadata": {},
   "outputs": [],
   "source": []
  }
 ],
 "metadata": {
  "kernelspec": {
   "display_name": "Python 3 (ipykernel)",
   "language": "python",
   "name": "python3"
  },
  "language_info": {
   "codemirror_mode": {
    "name": "ipython",
    "version": 3
   },
   "file_extension": ".py",
   "mimetype": "text/x-python",
   "name": "python",
   "nbconvert_exporter": "python",
   "pygments_lexer": "ipython3",
   "version": "3.8.8"
  }
 },
 "nbformat": 4,
 "nbformat_minor": 5
}