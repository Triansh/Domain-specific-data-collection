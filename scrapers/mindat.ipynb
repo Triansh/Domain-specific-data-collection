{
 "cells": [
  {
   "cell_type": "code",
   "execution_count": 16,
   "id": "458108ef-6051-4283-8593-0045b2ef7285",
   "metadata": {},
   "outputs": [],
   "source": [
    "import pandas as pd\n",
    "import numpy as np\n",
    "import requests\n",
    "import re\n",
    "import os\n",
    "import json\n",
    "from pprint import pprint\n",
    "from bs4 import BeautifulSoup"
   ]
  },
  {
   "cell_type": "code",
   "execution_count": 2,
   "id": "0923f251-caf7-413b-a842-6b674c1fb622",
   "metadata": {},
   "outputs": [],
   "source": [
    "all_mineral_dict = {}\n",
    "min_dict = {}\n",
    "skipped = []\n",
    "collapse_finder = re.compile(r\"collapse[0-9]+\")\n",
    "FILE_NUM = 30"
   ]
  },
  {
   "cell_type": "code",
   "execution_count": 3,
   "id": "a68a232b-4196-4160-98bf-a15a4d3f572a",
   "metadata": {},
   "outputs": [],
   "source": [
    "def add_key_to_dict(key, value):\n",
    "    global min_dict\n",
    "    ind = key.rfind(':')\n",
    "    if ind == -1: return\n",
    "    key = key[:ind]\n",
    "    \n",
    "    if key not in min_dict:\n",
    "        min_dict[key] = value\n",
    "    elif isinstance(min_dict[key], list):\n",
    "        min_dict[key].append(value)\n",
    "    else:\n",
    "        min_dict[key] = [min_dict[key], value]"
   ]
  },
  {
   "cell_type": "code",
   "execution_count": 4,
   "id": "8400dbe5-acab-45e9-adf5-f33c4701f6d4",
   "metadata": {},
   "outputs": [],
   "source": [
    "def get_intro_data(div):\n",
    "    try:\n",
    "        intro = div.find(\"div\", {\"id\": \"introdata\"})\n",
    "        for x in intro.find_all(\"div\", recursive=False):\n",
    "            try:\n",
    "                key = x.span.text\n",
    "                value = x.div.text\n",
    "                add_key_to_dict(key, value)\n",
    "            except Exception as e:\n",
    "                print(e)\n",
    "    except Exception as e:\n",
    "        print(e)"
   ]
  },
  {
   "cell_type": "code",
   "execution_count": 5,
   "id": "0c9e37b0-e7be-4323-8b33-e161dfb84bf6",
   "metadata": {},
   "outputs": [],
   "source": [
    "def get_other_attributes(divs):\n",
    "    for div in divs:\n",
    "        try:\n",
    "            rows = div.find_all('div', {'class': 'mindatarow'})\n",
    "            for row in rows:\n",
    "                text = row.find_all('div', recursive=False)\n",
    "                if len(text) != 2: continue\n",
    "                try:\n",
    "                    key = text[0].text\n",
    "                    if (lis := text[1].find_all('li', recursive=False)) != []:\n",
    "                        value = '\\n'.join([x.text for x in lis])\n",
    "                    else:\n",
    "                        value = text[1].text\n",
    "                    add_key_to_dict(key, value)\n",
    "                except Exception as e:\n",
    "                    print(e)\n",
    "        except Exception as e:\n",
    "            print(e)\n",
    "        "
   ]
  },
  {
   "cell_type": "code",
   "execution_count": 6,
   "id": "919ff49d-091e-44c7-80ae-888826281d1c",
   "metadata": {},
   "outputs": [],
   "source": [
    "def dump_data():\n",
    "    with open(f'../data/mindat/collected_data-{FILE_NUM}.json', 'w') as f:\n",
    "        json.dump(all_mineral_dict, f)\n",
    "    with open(f'../data/mindat/skipped_data-{FILE_NUM}.txt', 'w') as f:   \n",
    "        f.write('\\n'.join(str(x) for x in skipped))"
   ]
  },
  {
   "cell_type": "code",
   "execution_count": 7,
   "id": "2c8217d8-ec50-4e26-89f1-1a1546fe5f6b",
   "metadata": {},
   "outputs": [],
   "source": [
    "def start_parsing(index, html_text):\n",
    "    global min_dict\n",
    "    global skipped\n",
    "    min_dict = {}\n",
    "\n",
    "    soup  = BeautifulSoup(html_text, \"html.parser\")\n",
    "    try:\n",
    "        container = soup.body.find(\"div\", {\"id\": \"mainwrap\"}).find(\"div\", {\"class\": \"centerer\"}).find(\"div\", {\"class\": \"mindatadiv\"}).find(\"div\", {\"class\": \"fpbox990nl\"})\n",
    "        mineral_name = container.find(\"h1\", {\"class\":\"mineralheading\"}).text\n",
    "        print(mineral_name)\n",
    "        divs = container.find_all(\"div\", {\"id\" : collapse_finder})\n",
    "        get_intro_data(divs[0])\n",
    "        get_other_attributes(divs)\n",
    "        \n",
    "        all_mineral_dict[mineral_name] = {}\n",
    "        for k, val in min_dict.items():\n",
    "            if isinstance(val, list):\n",
    "                val = list(set(val))\n",
    "                if len(val) == 1:\n",
    "                    val = val[0]\n",
    "            all_mineral_dict[mineral_name][k] = val\n",
    "        \n",
    "    except Exception as e:\n",
    "        print(e)\n",
    "        print(\"Extraction failed\")\n",
    "        skipped.append(num)\n",
    "    dump_data()"
   ]
  },
  {
   "cell_type": "code",
   "execution_count": 8,
   "id": "5d5bac7e-5318-4120-85a6-f29be0d6a054",
   "metadata": {},
   "outputs": [],
   "source": [
    "# base_url = \"https://www.mindat.org\"\n",
    "\n",
    "# with open('./mindat/skipped_data-21.txt') as f:\n",
    "#     nums = [int(x.strip()) for x in f]\n",
    "\n",
    "# for num in nums:\n",
    "#     url = f\"{base_url}/min-{num}.html\"\n",
    "#     html_text = requests.get(url).text\n",
    "#     start_parsing(num, html_text)\n",
    "#     print(f\"Page number {num} parsed.\\n\")\n"
   ]
  },
  {
   "cell_type": "code",
   "execution_count": 9,
   "id": "65e4aac4-4ba8-45ed-b81c-d849ed92815a",
   "metadata": {},
   "outputs": [],
   "source": [
    "base_url = \"https://www.mindat.org\"\n",
    "\n",
    "for num in range(4000, 5000):\n",
    "    url = f\"{base_url}/min-{num}.html\"\n",
    "    html_text = requests.get(url).text\n",
    "    start_parsing(num, html_text)\n",
    "    print(f\"Page number {num} parsed.\\n\")\n"
   ]
  }
 ],
 "metadata": {
  "kernelspec": {
   "display_name": "jupy-lab-kernel",
   "language": "python",
   "name": "jupy-lab-kernel"
  },
  "language_info": {
   "codemirror_mode": {
    "name": "ipython",
    "version": 3
   },
   "file_extension": ".py",
   "mimetype": "text/x-python",
   "name": "python",
   "nbconvert_exporter": "python",
   "pygments_lexer": "ipython3",
   "version": "3.8.10"
  }
 },
 "nbformat": 4,
 "nbformat_minor": 5
}
