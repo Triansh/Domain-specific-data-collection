{
 "cells": [
  {
   "cell_type": "code",
   "execution_count": 1,
   "id": "068fa9f1-23b3-408e-887f-b414c4a48946",
   "metadata": {},
   "outputs": [],
   "source": [
    "import os\n",
    "\n",
    "from utils import *"
   ]
  },
  {
   "cell_type": "code",
   "execution_count": 2,
   "id": "6e7a0106-eac8-4b41-a31a-48b32a33e4a7",
   "metadata": {},
   "outputs": [
    {
     "name": "stdout",
     "output_type": "stream",
     "text": [
      "combined_minerals.json\n"
     ]
    }
   ],
   "source": [
    "global_min_dict = {}\n",
    "\n",
    "for file in os.listdir('../data/webmineral'):\n",
    "    if file.endswith('json'):\n",
    "        print(file)\n",
    "        with open(f'../data/webmineral/{file}', 'r') as f:\n",
    "            temp = json.load(f)\n",
    "            global_min_dict.update(temp)"
   ]
  },
  {
   "cell_type": "code",
   "execution_count": 3,
   "id": "f0acb0e0-db35-4dd1-b79a-a62a7ef6ae5c",
   "metadata": {},
   "outputs": [
    {
     "name": "stdout",
     "output_type": "stream",
     "text": [
      "4660\n",
      "32.21738197424893\n",
      "33.0\n"
     ]
    }
   ],
   "source": [
    "print(len(global_min_dict))\n",
    "attr = [len(v) for v in global_min_dict.values()]\n",
    "print(np.mean(attr))\n",
    "print(np.median(attr))"
   ]
  },
  {
   "cell_type": "code",
   "execution_count": 4,
   "id": "2cf3f25b-b1f5-4042-ad07-fb4506d10311",
   "metadata": {},
   "outputs": [],
   "source": [
    "with open('../data/webmineral/combined_minerals.json', 'w') as f:\n",
    "    json.dump(global_min_dict, f)"
   ]
  },
  {
   "cell_type": "code",
   "execution_count": 5,
   "id": "8438b203-4310-409f-93c8-d1c6206f4d81",
   "metadata": {},
   "outputs": [],
   "source": [
    "df = json_to_df('../data/webmineral/combined_minerals.json')"
   ]
  },
  {
   "cell_type": "code",
   "execution_count": 6,
   "id": "b54385d7-9440-40a4-873f-53df8466940c",
   "metadata": {},
   "outputs": [],
   "source": [
    "df.drop(df.columns[range(1, 134)], axis=1, inplace=True)\n",
    "df.reset_index(drop=True, inplace=True)"
   ]
  },
  {
   "cell_type": "code",
   "execution_count": 7,
   "id": "b25aa9a6-cd33-48f9-9712-ad065c2dab47",
   "metadata": {},
   "outputs": [
    {
     "name": "stdout",
     "output_type": "stream",
     "text": [
      "<class 'pandas.core.frame.DataFrame'>\n",
      "RangeIndex: 4660 entries, 0 to 4659\n",
      "Data columns (total 47 columns):\n",
      " #   Column              Non-Null Count  Dtype \n",
      "---  ------              --------------  ----- \n",
      " 0   mineral_name        4660 non-null   object\n",
      " 1   axial ratios        3999 non-null   object\n",
      " 2   cell dimensions     4409 non-null   object\n",
      " 3   chemical formula    4660 non-null   object\n",
      " 4   cleavage            3556 non-null   object\n",
      " 5   color               4526 non-null   object\n",
      " 6   composition         4660 non-null   object\n",
      " 7   crystal structure   3013 non-null   object\n",
      " 8   crystal system      4624 non-null   object\n",
      " 9   dana class          4660 non-null   object\n",
      " 10  density             3813 non-null   object\n",
      " 11  diaphaneity         3978 non-null   object\n",
      " 12  dichroism (e)       194 non-null    object\n",
      " 13  dichroism (w)       195 non-null    object\n",
      " 14  electron density    4540 non-null   object\n",
      " 15  empirical formula   4660 non-null   object\n",
      " 16  environment         4121 non-null   object\n",
      " 17  fermion index       4660 non-null   object\n",
      " 18  forms               631 non-null    object\n",
      " 19  fracture            2298 non-null   object\n",
      " 20  gladstone-dale      3186 non-null   object\n",
      " 21  habit               3228 non-null   object\n",
      " 22  hardness            4010 non-null   object\n",
      " 23  ima status          4660 non-null   object\n",
      " 24  images              4660 non-null   object\n",
      " 25  locality            4660 non-null   object\n",
      " 26  luminescence        1068 non-null   object\n",
      " 27  luster              4137 non-null   object\n",
      " 28  magnetism           363 non-null    object\n",
      " 29  name origin         4657 non-null   object\n",
      " 30  name pronunciation  3573 non-null   object\n",
      " 31  optical data        3906 non-null   object\n",
      " 32  photoelectric       4659 non-null   object\n",
      " 33  pleochroism (x)     665 non-null    object\n",
      " 34  pleochroism (y)     623 non-null    object\n",
      " 35  pleochroism (z)     572 non-null    object\n",
      " 36  radioactivity       4660 non-null   object\n",
      " 37  references          4429 non-null   object\n",
      " 38  rl anisotrophism    591 non-null    object\n",
      " 39  rl bireflectance    166 non-null    object\n",
      " 40  rl color            681 non-null    object\n",
      " 41  rl pleochroism      353 non-null    object\n",
      " 42  see also            4660 non-null   object\n",
      " 43  streak              3730 non-null   object\n",
      " 44  strunz class        4660 non-null   object\n",
      " 45  synonym             3512 non-null   object\n",
      " 46  x ray diffraction   4392 non-null   object\n",
      "dtypes: object(47)\n",
      "memory usage: 1.7+ MB\n"
     ]
    }
   ],
   "source": [
    "df.info()"
   ]
  },
  {
   "cell_type": "code",
   "execution_count": 8,
   "id": "e4c3a8d0-d92c-4e1b-a1af-4ab2ef237fcc",
   "metadata": {},
   "outputs": [],
   "source": [
    "df.to_csv('../data/webmineral/data.csv', index=None)"
   ]
  },
  {
   "cell_type": "code",
   "execution_count": null,
   "id": "82d461c6-133d-43ef-8020-b52ced1dd9dc",
   "metadata": {},
   "outputs": [],
   "source": []
  }
 ],
 "metadata": {
  "kernelspec": {
   "display_name": "jupy-lab-kernel",
   "language": "python",
   "name": "jupy-lab-kernel"
  },
  "language_info": {
   "codemirror_mode": {
    "name": "ipython",
    "version": 3
   },
   "file_extension": ".py",
   "mimetype": "text/x-python",
   "name": "python",
   "nbconvert_exporter": "python",
   "pygments_lexer": "ipython3",
   "version": "3.8.10"
  }
 },
 "nbformat": 4,
 "nbformat_minor": 5
}