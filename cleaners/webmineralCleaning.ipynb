{
 "cells": [
  {
   "cell_type": "code",
   "execution_count": 18,
   "id": "73438f42",
   "metadata": {},
   "outputs": [],
   "source": [
    "## @package cleaning web mineral data\n",
    "#  Documentation for this module.\n",
    "#\n",
    "#  Functionality:\n",
    "# convert the json data in pd df and remove the attributes which are having data less than 3.1 percent.\n",
    "# after processing the data genrating a csv file staging file, which is utilized by another process which merge the data from different sources.\n",
    "\n",
    "import pandas as pd\n",
    "import json\n",
    "import os\n",
    "from collections import defaultdict\n",
    "\n",
    "# os.chdir('C:\\\\Users\\\\arvgoyal\\Python Codes\\IRE Project\\Data Cleaning\\data')"
   ]
  },
  {
   "cell_type": "code",
   "execution_count": null,
   "id": "59c7944c-367b-44a5-bc12-2334e9008dc2",
   "metadata": {},
   "outputs": [],
   "source": [
    "#df = pd.read_json('combined_minerals.json')\n",
    "with open('combined_minerals.json') as webMinJsn:\n",
    "    data = json.load(webMinJsn)   "
   ]
  },
  {
   "cell_type": "code",
   "execution_count": 30,
   "id": "e483c77e",
   "metadata": {},
   "outputs": [],
   "source": [
    "## documentation for a function.\n",
    "# \n",
    "# Prepared the list of all attrbute present for any dataset.\n",
    "def attribute_list():\n",
    "    pass\n",
    "\n",
    "\n",
    "All_Attribute= []\n",
    "Mineral_List = []\n",
    "for mineral in data.keys():\n",
    "    Mineral_List.append(mineral)\n",
    "    for att in data[mineral].keys():\n",
    "        All_Attribute.append(att)\n",
    "        \n",
    "All_Attribute = list(set(All_Attribute))    "
   ]
  },
  {
   "cell_type": "code",
   "execution_count": 32,
   "id": "646d8ddc",
   "metadata": {},
   "outputs": [],
   "source": [
    "AttributeData = defaultdict(list)"
   ]
  },
  {
   "cell_type": "code",
   "execution_count": 33,
   "id": "9096b103",
   "metadata": {},
   "outputs": [],
   "source": [
    "## documentation for a function.\n",
    "# \n",
    "# Prepared the list of all minerals present for any dataset.\n",
    "def minerals_list():\n",
    "    pass\n",
    "\n",
    "\n",
    "for mineral in Mineral_List:\n",
    "    AttributeData['Mineral Name'].append(mineral)\n",
    "    #FinalData['Mineral Name'] = mineral\n",
    "    for att in All_Attribute:\n",
    "        try:\n",
    "            AttributeData[att].append(data[mineral][att])\n",
    "        except:\n",
    "            AttributeData[att].append(None)      "
   ]
  },
  {
   "cell_type": "code",
   "execution_count": 34,
   "id": "185e692b",
   "metadata": {},
   "outputs": [],
   "source": [
    "FinalData = {}\n",
    "\n",
    "for key in AttributeData.keys():\n",
    "    FinalData[key] = AttributeData[key]\n",
    "    #print(len(AttributeData[key]))"
   ]
  },
  {
   "cell_type": "code",
   "execution_count": 35,
   "id": "70f78356",
   "metadata": {},
   "outputs": [],
   "source": [
    "df = pd.DataFrame(FinalData)"
   ]
  },
  {
   "cell_type": "code",
   "execution_count": null,
   "id": "a318e64f-dfe5-4a5e-81e9-21a6067362a0",
   "metadata": {},
   "outputs": [],
   "source": [
    "## documentation for a function.\n",
    "# \n",
    "# Prepared attributes which has data less then 1.13% (60/4660) data.\n",
    "def remove_sparse_attributes():\n",
    "    pass\n",
    "\n",
    "\n",
    "cnt = 0 \n",
    "for col in df.columns:\n",
    "    \n",
    "    blanks = df[col].isnull().sum()\n",
    "    if blanks >4600:\n",
    "        cnt +=1\n",
    "        print(col,' : ',df[col].isnull().sum())\n",
    "        df = df.drop([col],axis=1)\n",
    "        "
   ]
  },
  {
   "cell_type": "code",
   "execution_count": 39,
   "id": "5f771418",
   "metadata": {},
   "outputs": [],
   "source": [
    "col_drop_lst = [\"Locality\", \"  (02.12)where Am Bn Xp, with (m+n)\", \"References\", \"  02.E - Metal Sulfides, M\", \"  02.EB -M\",\"  04.D - Metal\", \"  02.D - Metal Sulfides, M\", \"See Also\", \"Images\", \"  (71.02)with 2\", \"  04.C - Metal\", \"  (02.08)where Am Bn Xp, with (m+n)\", \"  02.C - Metal Sulfides, M\", \"  02.B - Metal Sulfides, M\"]\n",
    "col_crpt_data_lst = ['Cleavage', 'Forms']   #Data is not correct\n",
    "\n",
    "col_name_lst = ['Name Pronunciation','Synonym', 'Name Origin']\n",
    "col_formula_lst = ['Chemical Formula','Empirical Formula']\n",
    "col_clr_lst = ['Color','RL Color','RL Bireflectance','RL Anisotrophism','RL Pleochroism','Pleochroism (x)','Pleochroism (y)','Pleochroism (z)','Streak','Diaphaneity','Dichroism (e)','Dichroism (w)']\n",
    "col_aprnc_lst = ['Luster']  #surface feel\n",
    "col_strctr_lst = ['Density','Electron Density','Hardness','Crystal System','Crystal Structure','Habit','Fracture','Composition']\n"
   ]
  },
  {
   "cell_type": "code",
   "execution_count": null,
   "id": "36d80be3-2399-4df1-a569-3e9ee9f993ca",
   "metadata": {},
   "outputs": [],
   "source": [
    "len(col_drop_lst)\n",
    "df=df.drop(col_drop_lst,axis=1)\n",
    "df=df.drop(col_crpt_data_lst,axis=1)"
   ]
  },
  {
   "cell_type": "code",
   "execution_count": null,
   "id": "78dede9f-9c82-49d7-858f-0195dba88f74",
   "metadata": {},
   "outputs": [],
   "source": [
    "rearrange_col = ['Mineral Name']\n",
    "rearrange_col.extend(col_name_lst)\n",
    "rearrange_col.extend(col_formula_lst)\n",
    "rearrange_col.extend(col_clr_lst)\n",
    "rearrange_col.extend(col_aprnc_lst)\n",
    "rearrange_col.extend(col_strctr_lst)"
   ]
  },
  {
   "cell_type": "code",
   "execution_count": null,
   "id": "a2ae6f34-b1c5-46ea-bca8-f6e649c281b5",
   "metadata": {},
   "outputs": [],
   "source": [
    "df = df[ rearrange_col + [ col for col in df.columns if col not in rearrange_col ] ]"
   ]
  },
  {
   "cell_type": "code",
   "execution_count": 43,
   "id": "e9e23546",
   "metadata": {},
   "outputs": [],
   "source": [
    "## documentation for a function.\n",
    "# \n",
    "# writing processed data in csv file to analyze\n",
    "def processed_data():\n",
    "    pass\n",
    "\n",
    "df.to_csv('combined_minerals.csv')"
   ]
  }
 ],
 "metadata": {
  "kernelspec": {
   "display_name": "Python 3 (ipykernel)",
   "language": "python",
   "name": "python3"
  },
  "language_info": {
   "codemirror_mode": {
    "name": "ipython",
    "version": 3
   },
   "file_extension": ".py",
   "mimetype": "text/x-python",
   "name": "python",
   "nbconvert_exporter": "python",
   "pygments_lexer": "ipython3",
   "version": "3.8.8"
  }
 },
 "nbformat": 4,
 "nbformat_minor": 5
}
