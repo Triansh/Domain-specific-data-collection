{
 "cells": [
  {
   "cell_type": "code",
   "execution_count": 1,
   "id": "5398becb-151a-4eb9-997c-970d5f893d65",
   "metadata": {},
   "outputs": [],
   "source": [
    "import os\n",
    "import json\n",
    "import pandas as pd\n",
    "import numpy as np\n",
    "from pprint import pprint\n",
    "from copy import deepcopy"
   ]
  },
  {
   "cell_type": "code",
   "execution_count": 2,
   "id": "4f47f72b-c620-41f2-baf2-54962bd18b31",
   "metadata": {},
   "outputs": [
    {
     "name": "stdout",
     "output_type": "stream",
     "text": [
      "collected_data-31.json\n",
      "collected_data-30.json\n"
     ]
    }
   ],
   "source": [
    "global_dict = {}\n",
    "\n",
    "for file in os.listdir('../data/mindat'):\n",
    "    if file.endswith('json') and not file.startswith('mindat'):\n",
    "        print(file)\n",
    "        with open(f'../data/mindat/{file}', 'r') as f:\n",
    "            temp= json.load(f)\n",
    "            global_dict.update(temp)"
   ]
  },
  {
   "cell_type": "code",
   "execution_count": 3,
   "id": "9c7a42c4-1144-4094-90cc-ed044459177f",
   "metadata": {},
   "outputs": [
    {
     "name": "stdout",
     "output_type": "stream",
     "text": [
      "937\n",
      "2.846318036286019\n"
     ]
    }
   ],
   "source": [
    "print(len(global_dict))\n",
    "attr = [len(v) for v in global_dict.values()]\n",
    "print(np.mean(attr))"
   ]
  },
  {
   "cell_type": "code",
   "execution_count": 4,
   "id": "0054b210-ad1e-4df2-b516-f24a7b0bdeb3",
   "metadata": {},
   "outputs": [],
   "source": [
    "with open('../data/mindat/mindat-5000-6000.json', 'w') as f:\n",
    "    json.dump(global_dict, f)"
   ]
  },
  {
   "cell_type": "code",
   "execution_count": 5,
   "id": "898d23be-8252-44f5-8dc8-572eb7a2096a",
   "metadata": {},
   "outputs": [
    {
     "name": "stdout",
     "output_type": "stream",
     "text": [
      "937\n",
      "2.0\n",
      "2.846318036286019\n"
     ]
    }
   ],
   "source": [
    "print(len(global_dict))\n",
    "attr = [len(v) for v in global_dict.values()]\n",
    "print(np.median(attr))\n",
    "print(np.mean(attr))"
   ]
  },
  {
   "cell_type": "code",
   "execution_count": 6,
   "id": "74fde4c6-3cf1-4da0-a1de-034878a9da92",
   "metadata": {},
   "outputs": [],
   "source": [
    "records = []\n",
    "for k, v in global_dict.items():\n",
    "    temp = deepcopy(v)\n",
    "    temp['Mineral name'] = k\n",
    "    records.append(temp)"
   ]
  },
  {
   "cell_type": "code",
   "execution_count": 7,
   "id": "50d6a181-891b-48c0-884d-a26ac253a02d",
   "metadata": {},
   "outputs": [
    {
     "name": "stdout",
     "output_type": "stream",
     "text": [
      "<class 'pandas.core.frame.DataFrame'>\n",
      "Index: 937 entries, Dioptasite to Magnesium Chalcanthite\n",
      "Data columns (total 65 columns):\n",
      " #   Column                            Non-Null Count  Dtype \n",
      "---  ------                            --------------  ----- \n",
      " 0   mindat.org URL                    937 non-null    object\n",
      " 1   Search Engines                    937 non-null    object\n",
      " 2   Reference List                    281 non-null    object\n",
      " 3   Colour                            15 non-null     object\n",
      " 4   Lustre                            15 non-null     object\n",
      " 5   Crystal System                    14 non-null     object\n",
      " 6   A Mixture Of                      1 non-null      object\n",
      " 7   Transparency                      11 non-null     object\n",
      " 8   Streak                            5 non-null      object\n",
      " 9   Fracture                          8 non-null      object\n",
      " 10  Health Risks                      74 non-null     object\n",
      " 11  Mineral Dealers                   72 non-null     object\n",
      " 12  Pronounciation                    7 non-null      object\n",
      " 13  Formula                           48 non-null     object\n",
      " 14  Elements listed                   41 non-null     object\n",
      " 15  Hardness                          8 non-null      object\n",
      " 16  Hardness Data                     3 non-null      object\n",
      " 17  Tenacity                          3 non-null      object\n",
      " 18  Cleavage                          5 non-null      object\n",
      " 19  Comment                           6 non-null      object\n",
      " 20  Density                           6 non-null      object\n",
      " 21  Thermal Behaviour                 1 non-null      object\n",
      " 22  Notes                             2 non-null      object\n",
      " 23  Name                              16 non-null     object\n",
      " 24  Synonym of                        14 non-null     object\n",
      " 25  Synonym                           6 non-null      object\n",
      " 26  Class (H-M)                       10 non-null     object\n",
      " 27  Space Group                       7 non-null      object\n",
      " 28  Cell Parameters                   10 non-null     object\n",
      " 29  Ratio                             10 non-null     object\n",
      " 30  Unit Cell V                       10 non-null     object\n",
      " 31  Morphology                        4 non-null      object\n",
      " 32  Twinning                          1 non-null      object\n",
      " 33  Epitaxial Minerals                1 non-null      object\n",
      " 34  Specific Gravity                  5 non-null      object\n",
      " 35  IMA status                        13 non-null     object\n",
      " 36  First published                   2 non-null      object\n",
      " 37  Nickel-Strunz 10th (pending) ed.  9 non-null      object\n",
      " 38  IMA Formula                       2 non-null      object\n",
      " 39  External Links                    4 non-null      object\n",
      " 40  Member of                         2 non-null      object\n",
      " 41  Co-Type Localities                1 non-null      object\n",
      " 42  Approval year                     2 non-null      object\n",
      " 43  Type                              2 non-null      object\n",
      " 44  RI values                         2 non-null      object\n",
      " 45  2V                                1 non-null      object\n",
      " 46  Birefringence                     1 non-null      object\n",
      " 47  Surface Relief                    2 non-null      object\n",
      " 48  Dispersion                        2 non-null      object\n",
      " 49  Z                                 3 non-null      object\n",
      " 50  Powder Diffraction Data           2 non-null      object\n",
      " 51  Dimorph of                        1 non-null      object\n",
      " 52  Dana 8th ed.                      1 non-null      object\n",
      " 53  Type Locality                     2 non-null      object\n",
      " 54  Strunz 8th ed.                    2 non-null      object\n",
      " 55  Oxide wt%                         1 non-null      object\n",
      " 56  Sample references                 1 non-null      object\n",
      " 57  In UV light                       2 non-null      object\n",
      " 58  First Recorded Locality           4 non-null      object\n",
      " 59  Isostructural with                2 non-null      object\n",
      " 60  IMA status notes                  2 non-null      object\n",
      " 61  Approval history                  2 non-null      object\n",
      " 62  French synonym of                 1 non-null      object\n",
      " 63  Recorded ages                     1 non-null      object\n",
      " 64  Setting                           1 non-null      object\n",
      "dtypes: object(65)\n",
      "memory usage: 483.1+ KB\n"
     ]
    }
   ],
   "source": [
    "df = pd.DataFrame.from_records(records)\n",
    "df=df.set_index('Mineral name')\n",
    "df.info()"
   ]
  },
  {
   "cell_type": "code",
   "execution_count": 8,
   "id": "e17cb59c-3c34-4271-b070-7d10634ea103",
   "metadata": {},
   "outputs": [],
   "source": [
    "copy_df = df.copy()"
   ]
  },
  {
   "cell_type": "code",
   "execution_count": 9,
   "id": "250d4d28-cf30-401b-9a58-b1d6e8779503",
   "metadata": {},
   "outputs": [],
   "source": [
    "row_remove_perc = 10.0\n",
    "min_count = int((row_remove_perc / 100) * copy_df.shape[1] + 1)\n",
    "copy_df.dropna(axis=0, how='any', thresh=min_count, inplace=True)\n",
    "copy_df.reset_index(drop=True, inplace=True)"
   ]
  },
  {
   "cell_type": "code",
   "execution_count": 10,
   "id": "d0b89760-5fef-4409-8100-7b780d9a3864",
   "metadata": {},
   "outputs": [
    {
     "name": "stdout",
     "output_type": "stream",
     "text": [
      "<class 'pandas.core.frame.DataFrame'>\n",
      "RangeIndex: 43 entries, 0 to 42\n",
      "Data columns (total 65 columns):\n",
      " #   Column                            Non-Null Count  Dtype \n",
      "---  ------                            --------------  ----- \n",
      " 0   mindat.org URL                    43 non-null     object\n",
      " 1   Search Engines                    43 non-null     object\n",
      " 2   Reference List                    38 non-null     object\n",
      " 3   Colour                            15 non-null     object\n",
      " 4   Lustre                            15 non-null     object\n",
      " 5   Crystal System                    14 non-null     object\n",
      " 6   A Mixture Of                      1 non-null      object\n",
      " 7   Transparency                      11 non-null     object\n",
      " 8   Streak                            5 non-null      object\n",
      " 9   Fracture                          8 non-null      object\n",
      " 10  Health Risks                      43 non-null     object\n",
      " 11  Mineral Dealers                   43 non-null     object\n",
      " 12  Pronounciation                    6 non-null      object\n",
      " 13  Formula                           34 non-null     object\n",
      " 14  Elements listed                   34 non-null     object\n",
      " 15  Hardness                          8 non-null      object\n",
      " 16  Hardness Data                     3 non-null      object\n",
      " 17  Tenacity                          3 non-null      object\n",
      " 18  Cleavage                          5 non-null      object\n",
      " 19  Comment                           6 non-null      object\n",
      " 20  Density                           6 non-null      object\n",
      " 21  Thermal Behaviour                 1 non-null      object\n",
      " 22  Notes                             1 non-null      object\n",
      " 23  Name                              14 non-null     object\n",
      " 24  Synonym of                        3 non-null      object\n",
      " 25  Synonym                           0 non-null      object\n",
      " 26  Class (H-M)                       10 non-null     object\n",
      " 27  Space Group                       7 non-null      object\n",
      " 28  Cell Parameters                   10 non-null     object\n",
      " 29  Ratio                             10 non-null     object\n",
      " 30  Unit Cell V                       10 non-null     object\n",
      " 31  Morphology                        4 non-null      object\n",
      " 32  Twinning                          1 non-null      object\n",
      " 33  Epitaxial Minerals                1 non-null      object\n",
      " 34  Specific Gravity                  5 non-null      object\n",
      " 35  IMA status                        13 non-null     object\n",
      " 36  First published                   2 non-null      object\n",
      " 37  Nickel-Strunz 10th (pending) ed.  9 non-null      object\n",
      " 38  IMA Formula                       2 non-null      object\n",
      " 39  External Links                    4 non-null      object\n",
      " 40  Member of                         2 non-null      object\n",
      " 41  Co-Type Localities                1 non-null      object\n",
      " 42  Approval year                     2 non-null      object\n",
      " 43  Type                              2 non-null      object\n",
      " 44  RI values                         2 non-null      object\n",
      " 45  2V                                1 non-null      object\n",
      " 46  Birefringence                     1 non-null      object\n",
      " 47  Surface Relief                    2 non-null      object\n",
      " 48  Dispersion                        2 non-null      object\n",
      " 49  Z                                 3 non-null      object\n",
      " 50  Powder Diffraction Data           2 non-null      object\n",
      " 51  Dimorph of                        1 non-null      object\n",
      " 52  Dana 8th ed.                      1 non-null      object\n",
      " 53  Type Locality                     2 non-null      object\n",
      " 54  Strunz 8th ed.                    2 non-null      object\n",
      " 55  Oxide wt%                         1 non-null      object\n",
      " 56  Sample references                 1 non-null      object\n",
      " 57  In UV light                       2 non-null      object\n",
      " 58  First Recorded Locality           4 non-null      object\n",
      " 59  Isostructural with                2 non-null      object\n",
      " 60  IMA status notes                  2 non-null      object\n",
      " 61  Approval history                  2 non-null      object\n",
      " 62  French synonym of                 0 non-null      object\n",
      " 63  Recorded ages                     0 non-null      object\n",
      " 64  Setting                           1 non-null      object\n",
      "dtypes: object(65)\n",
      "memory usage: 22.0+ KB\n"
     ]
    }
   ],
   "source": [
    "copy_df.info()"
   ]
  },
  {
   "cell_type": "code",
   "execution_count": 11,
   "id": "70b25c14-5ca5-4efe-abdd-3ff93621400e",
   "metadata": {},
   "outputs": [],
   "source": [
    "col_remove_perc = 30.0\n",
    "min_count = int((col_remove_perc / 100) * copy_df.shape[0] + 1)\n",
    "copy_df.dropna(axis=1, how='any', thresh=min_count, inplace=True)"
   ]
  },
  {
   "cell_type": "code",
   "execution_count": 12,
   "id": "395c3148-9308-484a-8188-7aee669b83e1",
   "metadata": {},
   "outputs": [
    {
     "name": "stdout",
     "output_type": "stream",
     "text": [
      "<class 'pandas.core.frame.DataFrame'>\n",
      "RangeIndex: 43 entries, 0 to 42\n",
      "Data columns (total 12 columns):\n",
      " #   Column           Non-Null Count  Dtype \n",
      "---  ------           --------------  ----- \n",
      " 0   mindat.org URL   43 non-null     object\n",
      " 1   Search Engines   43 non-null     object\n",
      " 2   Reference List   38 non-null     object\n",
      " 3   Colour           15 non-null     object\n",
      " 4   Lustre           15 non-null     object\n",
      " 5   Crystal System   14 non-null     object\n",
      " 6   Health Risks     43 non-null     object\n",
      " 7   Mineral Dealers  43 non-null     object\n",
      " 8   Formula          34 non-null     object\n",
      " 9   Elements listed  34 non-null     object\n",
      " 10  Name             14 non-null     object\n",
      " 11  IMA status       13 non-null     object\n",
      "dtypes: object(12)\n",
      "memory usage: 4.2+ KB\n"
     ]
    }
   ],
   "source": [
    "copy_df.info()"
   ]
  },
  {
   "cell_type": "code",
   "execution_count": 13,
   "id": "86a6c54c-7405-4286-8ed8-f6f176dd8fa0",
   "metadata": {},
   "outputs": [
    {
     "data": {
      "text/plain": [
       "Mineral name\n",
       "Dioptasite                NaN\n",
       "Dolerophane               NaN\n",
       "Dolomie                   NaN\n",
       "Melnikovite               NaN\n",
       "Grossularite              NaN\n",
       "                         ... \n",
       "Native Palladium          NaN\n",
       "Paragonite-2M1            NaN\n",
       "Blockite                  NaN\n",
       "Allenite                  NaN\n",
       "Magnesium Chalcanthite    NaN\n",
       "Name: Hardness, Length: 937, dtype: object"
      ]
     },
     "execution_count": 13,
     "metadata": {},
     "output_type": "execute_result"
    }
   ],
   "source": [
    "df['Hardness']"
   ]
  },
  {
   "cell_type": "code",
   "execution_count": null,
   "id": "491eab15-da63-46d8-80d9-2049fd0f3b7d",
   "metadata": {},
   "outputs": [],
   "source": []
  }
 ],
 "metadata": {
  "kernelspec": {
   "display_name": "Python 3 (ipykernel)",
   "language": "python",
   "name": "python3"
  },
  "language_info": {
   "codemirror_mode": {
    "name": "ipython",
    "version": 3
   },
   "file_extension": ".py",
   "mimetype": "text/x-python",
   "name": "python",
   "nbconvert_exporter": "python",
   "pygments_lexer": "ipython3",
   "version": "3.8.8"
  }
 },
 "nbformat": 4,
 "nbformat_minor": 5
}
