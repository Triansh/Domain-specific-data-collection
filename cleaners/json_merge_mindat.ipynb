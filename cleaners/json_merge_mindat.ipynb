{
 "cells": [
  {
   "cell_type": "code",
   "execution_count": 1,
   "id": "5398becb-151a-4eb9-997c-970d5f893d65",
   "metadata": {},
   "outputs": [],
   "source": [
    "import os\n",
    "import json\n",
    "import pandas as pd\n",
    "import numpy as np\n",
    "from pprint import pprint\n",
    "from copy import deepcopy"
   ]
  },
  {
   "cell_type": "code",
   "execution_count": 2,
   "id": "4f47f72b-c620-41f2-baf2-54962bd18b31",
   "metadata": {},
   "outputs": [
    {
     "name": "stdout",
     "output_type": "stream",
     "text": [
      "collected_data-33.json\n",
      "mindat-7k-all.json\n",
      "collected_data-35.json\n",
      "collected_data-40.json\n",
      "collected_data-41.json\n",
      "mindat-1-4000.json\n",
      "collected_data-42.json\n",
      "mindat-5000-6000.json\n",
      "collected_data-34.json\n"
     ]
    }
   ],
   "source": [
    "global_dict = {}\n",
    "\n",
    "for file in os.listdir('../data/mindat'):\n",
    "    if file.endswith('json') :#and not file.startswith('mindat'):\n",
    "        print(file)\n",
    "        with open(f'../data/mindat/{file}', 'r') as f:\n",
    "            temp= json.load(f)\n",
    "            global_dict.update(temp)"
   ]
  },
  {
   "cell_type": "code",
   "execution_count": 3,
   "id": "9c7a42c4-1144-4094-90cc-ed044459177f",
   "metadata": {},
   "outputs": [
    {
     "name": "stdout",
     "output_type": "stream",
     "text": [
      "6861\n",
      "24.0\n",
      "21.626002040518873\n"
     ]
    }
   ],
   "source": [
    "print(len(global_dict))\n",
    "attr = [len(v) for v in global_dict.values()]\n",
    "print(np.median(attr))\n",
    "print(np.mean(attr))"
   ]
  },
  {
   "cell_type": "code",
   "execution_count": 4,
   "id": "0054b210-ad1e-4df2-b516-f24a7b0bdeb3",
   "metadata": {},
   "outputs": [],
   "source": [
    "with open('../data/mindat/mindat-7k-all.json', 'w') as f:\n",
    "    json.dump(global_dict, f)"
   ]
  },
  {
   "cell_type": "code",
   "execution_count": 9,
   "id": "74fde4c6-3cf1-4da0-a1de-034878a9da92",
   "metadata": {},
   "outputs": [],
   "source": [
    "records = []\n",
    "for k, v in global_dict.items():\n",
    "    temp = deepcopy(v)\n",
    "    temp['Mineral name'] = k\n",
    "    records.append(temp)"
   ]
  },
  {
   "cell_type": "code",
   "execution_count": 21,
   "id": "50d6a181-891b-48c0-884d-a26ac253a02d",
   "metadata": {},
   "outputs": [
    {
     "name": "stdout",
     "output_type": "stream",
     "text": [
      "<class 'pandas.core.frame.DataFrame'>\n",
      "Index: 6861 entries, Torreyite to Horváthite-(Y)\n",
      "Data columns (total 101 columns):\n",
      " #    Column                                Non-Null Count  Dtype \n",
      "---   ------                                --------------  ----- \n",
      " 0    Formula                               4231 non-null   object\n",
      " 1    Colour                                3509 non-null   object\n",
      " 2    Lustre                                3097 non-null   object\n",
      " 3    Hardness                              3374 non-null   object\n",
      " 4    Specific Gravity                      2481 non-null   object\n",
      " 5    Crystal System                        3703 non-null   object\n",
      " 6    Name                                  3553 non-null   object\n",
      " 7    Type Locality                         3174 non-null   object\n",
      " 8    Isostructural with                    340 non-null    object\n",
      " 9    IMA status                            3710 non-null   object\n",
      " 10   Strunz 8th ed.                        3621 non-null   object\n",
      " 11   Nickel-Strunz 10th (pending) ed.      3738 non-null   object\n",
      " 12   Dana 8th ed.                          3446 non-null   object\n",
      " 13   Hey's CIM Ref.                        3343 non-null   object\n",
      " 14   Transparency                          2725 non-null   object\n",
      " 15   Comment                               1612 non-null   object\n",
      " 16   Streak                                2065 non-null   object\n",
      " 17   Tenacity                              1452 non-null   object\n",
      " 18   Cleavage                              2082 non-null   object\n",
      " 19   Fracture                              1263 non-null   object\n",
      " 20   Density                               2638 non-null   object\n",
      " 21   Type                                  2897 non-null   object\n",
      " 22   RI values                             2544 non-null   object\n",
      " 23   2V                                    1434 non-null   object\n",
      " 24   Birefringence                         538 non-null    object\n",
      " 25   Surface Relief                        2544 non-null   object\n",
      " 26   Dispersion                            1922 non-null   object\n",
      " 27   Pleochroism                           1148 non-null   object\n",
      " 28   Comments                              1443 non-null   object\n",
      " 29   IMA Formula                           1907 non-null   object\n",
      " 30   Elements listed                       4195 non-null   object\n",
      " 31   Class (H-M)                           2296 non-null   object\n",
      " 32   Space Group                           1937 non-null   object\n",
      " 33   Setting                               706 non-null    object\n",
      " 34   Cell Parameters                       3313 non-null   object\n",
      " 35   Ratio                                 2995 non-null   object\n",
      " 36   Unit Cell V                           3309 non-null   object\n",
      " 37   Z                                     2038 non-null   object\n",
      " 38   Morphology                            1961 non-null   object\n",
      " 39   Twinning                              751 non-null    object\n",
      " 40   Powder Diffraction Data               1696 non-null   object\n",
      " 41   In UV light                           835 non-null    object\n",
      " 42   Notes                                 860 non-null    object\n",
      " 43   Health Risks                          4621 non-null   object\n",
      " 44   Reference List                        4817 non-null   object\n",
      " 45   mindat.org URL                        6861 non-null   object\n",
      " 46   Search Engines                        6861 non-null   object\n",
      " 47   External Links                        3547 non-null   object\n",
      " 48   Mineral Dealers                       4607 non-null   object\n",
      " 49   First published                       1487 non-null   object\n",
      " 50   Common Impurities                     1371 non-null   object\n",
      " 51   Member of                             1841 non-null   object\n",
      " 52   Co-Type Localities                    256 non-null    object\n",
      " 53   Dimorph of                            245 non-null    object\n",
      " 54   Approval year                         929 non-null    object\n",
      " 55   Reference                             1344 non-null   object\n",
      " 56   Download                              944 non-null    object\n",
      " 57   Pronounciation                        635 non-null    object\n",
      " 58   Crystal Atlas                         280 non-null    object\n",
      " 59   IMA status notes                      177 non-null    object\n",
      " 60   Approval history                      212 non-null    object\n",
      " 61   Anisotropism                          417 non-null    object\n",
      " 62   Bireflectance                         94 non-null     object\n",
      " 63   Reflectivity                          317 non-null    object\n",
      " 64   Colour in reflected light             436 non-null    object\n",
      " 65   Internal Reflections                  139 non-null    object\n",
      " 66   Thermal Behaviour                     131 non-null    object\n",
      " 67   Parting                               123 non-null    object\n",
      " 68   Geological Setting                    963 non-null    object\n",
      " 69   Magnetism                             61 non-null     object\n",
      " 70   Dana 7th ed.                          435 non-null    object\n",
      " 71   Hardness Data                         179 non-null    object\n",
      " 72   Optical Extinction                    271 non-null    object\n",
      " 73   Epitaxial Minerals                    69 non-null     object\n",
      " 74   Epitaxy Comments                      53 non-null     object\n",
      " 75   Polymorph of                          103 non-null    object\n",
      " 76   Idealised Formula                     87 non-null     object\n",
      " 77   Oxide wt%                             121 non-null    object\n",
      " 78   Sample references                     135 non-null    object\n",
      " 79   Empirical formulas                    37 non-null     object\n",
      " 80   Electrical                            57 non-null     object\n",
      " 81   CAS Registry number                   34 non-null     object\n",
      " 82   Industrial Uses                       150 non-null    object\n",
      " 83   IR Spectrum                           48 non-null     object\n",
      " 84   Synonym of                            59 non-null     object\n",
      " 85   Recorded ages                         44 non-null     object\n",
      " 86   First Recorded Locality               102 non-null    object\n",
      " 87   Special Storage/Display Requirements  59 non-null     object\n",
      " 88   Series Formula                        5 non-null      object\n",
      " 89   As a Commodity                        24 non-null     object\n",
      " 90   Strunz 9th ed.                        91 non-null     object\n",
      " 91   Translation gliding                   13 non-null     object\n",
      " 92   Synonym                               15 non-null     object\n",
      " 93   First Recorded Localities             8 non-null      object\n",
      " 94   Co-First Recorded Localities          9 non-null      object\n",
      " 95   German name for                       1 non-null      object\n",
      " 96   A Mixture Of                          17 non-null     object\n",
      " 97   Epitaxi Comments                      5 non-null      object\n",
      " 98   German synonym of                     1 non-null      object\n",
      " 99   Interestingness                       1 non-null      object\n",
      " 100  French synonym of                     1 non-null      object\n",
      "dtypes: object(101)\n",
      "memory usage: 5.3+ MB\n"
     ]
    }
   ],
   "source": [
    "df = pd.DataFrame.from_records(records)\n",
    "df=df.set_index('Mineral name')\n",
    "df.info(max_cols=150)"
   ]
  },
  {
   "cell_type": "code",
   "execution_count": 22,
   "id": "e17cb59c-3c34-4271-b070-7d10634ea103",
   "metadata": {},
   "outputs": [],
   "source": [
    "copy_df = df.copy()"
   ]
  },
  {
   "cell_type": "code",
   "execution_count": 23,
   "id": "250d4d28-cf30-401b-9a58-b1d6e8779503",
   "metadata": {},
   "outputs": [],
   "source": [
    "row_remove_perc = 5.0\n",
    "min_count = int((row_remove_perc / 100) * copy_df.shape[1] + 1)\n",
    "copy_df.dropna(axis=0, how='any', thresh=min_count, inplace=True)\n",
    "copy_df.reset_index(drop=True, inplace=True)"
   ]
  },
  {
   "cell_type": "code",
   "execution_count": 24,
   "id": "d0b89760-5fef-4409-8100-7b780d9a3864",
   "metadata": {},
   "outputs": [
    {
     "name": "stdout",
     "output_type": "stream",
     "text": [
      "<class 'pandas.core.frame.DataFrame'>\n",
      "RangeIndex: 4380 entries, 0 to 4379\n",
      "Columns: 101 entries, Formula to French synonym of\n",
      "dtypes: object(101)\n",
      "memory usage: 3.4+ MB\n"
     ]
    }
   ],
   "source": [
    "copy_df.info()"
   ]
  },
  {
   "cell_type": "code",
   "execution_count": 25,
   "id": "70b25c14-5ca5-4efe-abdd-3ff93621400e",
   "metadata": {},
   "outputs": [],
   "source": [
    "col_remove_perc = 30.0\n",
    "min_count = int((col_remove_perc / 100) * copy_df.shape[0] + 1)\n",
    "copy_df.dropna(axis=1, how='any', thresh=min_count, inplace=True)"
   ]
  },
  {
   "cell_type": "code",
   "execution_count": 26,
   "id": "395c3148-9308-484a-8188-7aee669b83e1",
   "metadata": {},
   "outputs": [
    {
     "name": "stdout",
     "output_type": "stream",
     "text": [
      "<class 'pandas.core.frame.DataFrame'>\n",
      "RangeIndex: 4380 entries, 0 to 4379\n",
      "Data columns (total 45 columns):\n",
      " #   Column                            Non-Null Count  Dtype \n",
      "---  ------                            --------------  ----- \n",
      " 0   Formula                           4221 non-null   object\n",
      " 1   Colour                            3508 non-null   object\n",
      " 2   Lustre                            3097 non-null   object\n",
      " 3   Hardness                          3374 non-null   object\n",
      " 4   Specific Gravity                  2481 non-null   object\n",
      " 5   Crystal System                    3701 non-null   object\n",
      " 6   Name                              3546 non-null   object\n",
      " 7   Type Locality                     3174 non-null   object\n",
      " 8   IMA status                        3705 non-null   object\n",
      " 9   Strunz 8th ed.                    3621 non-null   object\n",
      " 10  Nickel-Strunz 10th (pending) ed.  3738 non-null   object\n",
      " 11  Dana 8th ed.                      3446 non-null   object\n",
      " 12  Hey's CIM Ref.                    3343 non-null   object\n",
      " 13  Transparency                      2725 non-null   object\n",
      " 14  Comment                           1612 non-null   object\n",
      " 15  Streak                            2065 non-null   object\n",
      " 16  Tenacity                          1452 non-null   object\n",
      " 17  Cleavage                          2082 non-null   object\n",
      " 18  Density                           2638 non-null   object\n",
      " 19  Type                              2897 non-null   object\n",
      " 20  RI values                         2544 non-null   object\n",
      " 21  2V                                1434 non-null   object\n",
      " 22  Surface Relief                    2544 non-null   object\n",
      " 23  Dispersion                        1922 non-null   object\n",
      " 24  Comments                          1443 non-null   object\n",
      " 25  IMA Formula                       1907 non-null   object\n",
      " 26  Elements listed                   4195 non-null   object\n",
      " 27  Class (H-M)                       2296 non-null   object\n",
      " 28  Space Group                       1937 non-null   object\n",
      " 29  Cell Parameters                   3313 non-null   object\n",
      " 30  Ratio                             2995 non-null   object\n",
      " 31  Unit Cell V                       3309 non-null   object\n",
      " 32  Z                                 2038 non-null   object\n",
      " 33  Morphology                        1961 non-null   object\n",
      " 34  Powder Diffraction Data           1696 non-null   object\n",
      " 35  Health Risks                      4371 non-null   object\n",
      " 36  Reference List                    4107 non-null   object\n",
      " 37  mindat.org URL                    4380 non-null   object\n",
      " 38  Search Engines                    4380 non-null   object\n",
      " 39  External Links                    3547 non-null   object\n",
      " 40  Mineral Dealers                   4363 non-null   object\n",
      " 41  First published                   1487 non-null   object\n",
      " 42  Common Impurities                 1371 non-null   object\n",
      " 43  Member of                         1841 non-null   object\n",
      " 44  Reference                         1344 non-null   object\n",
      "dtypes: object(45)\n",
      "memory usage: 1.5+ MB\n"
     ]
    }
   ],
   "source": [
    "copy_df.info()"
   ]
  },
  {
   "cell_type": "code",
   "execution_count": 27,
   "id": "86a6c54c-7405-4286-8ed8-f6f176dd8fa0",
   "metadata": {},
   "outputs": [
    {
     "data": {
      "text/plain": [
       "Mineral name\n",
       "Torreyite                   [3, 3 on Mohs scale]\n",
       "Tosudite            [1 - 2, 1 - 2 on Mohs scale]\n",
       "Tounkite          [5 - 5½ on Mohs scale, 5 - 5½]\n",
       "Tourmaline                  [7 on Mohs scale, 7]\n",
       "Toyohaite                   [4, 4 on Mohs scale]\n",
       "                               ...              \n",
       "Högbomite-24R                                NaN\n",
       "Högbomite-4H                                 NaN\n",
       "Högbomite-8H                                 NaN\n",
       "Horobetsuite                [2 on Mohs scale, 2]\n",
       "Horváthite-(Y)              [4, 4 on Mohs scale]\n",
       "Name: Hardness, Length: 6861, dtype: object"
      ]
     },
     "execution_count": 27,
     "metadata": {},
     "output_type": "execute_result"
    }
   ],
   "source": [
    "df['Hardness']"
   ]
  },
  {
   "cell_type": "code",
   "execution_count": null,
   "id": "491eab15-da63-46d8-80d9-2049fd0f3b7d",
   "metadata": {},
   "outputs": [],
   "source": []
  }
 ],
 "metadata": {
  "kernelspec": {
   "display_name": "jupy-lab-kernel",
   "language": "python",
   "name": "jupy-lab-kernel"
  },
  "language_info": {
   "codemirror_mode": {
    "name": "ipython",
    "version": 3
   },
   "file_extension": ".py",
   "mimetype": "text/x-python",
   "name": "python",
   "nbconvert_exporter": "python",
   "pygments_lexer": "ipython3",
   "version": "3.8.10"
  }
 },
 "nbformat": 4,
 "nbformat_minor": 5
}
