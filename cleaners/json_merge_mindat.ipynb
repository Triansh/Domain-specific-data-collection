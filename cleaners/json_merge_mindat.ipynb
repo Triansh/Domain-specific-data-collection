{
 "cells": [
  {
   "cell_type": "code",
   "execution_count": 1,
   "id": "5398becb-151a-4eb9-997c-970d5f893d65",
   "metadata": {},
   "outputs": [],
   "source": [
    "import os\n",
    "import json\n",
    "import pandas as pd\n",
    "import numpy as np\n",
    "from pprint import pprint\n",
    "from copy import deepcopy"
   ]
  },
  {
   "cell_type": "code",
   "execution_count": 2,
   "id": "4f47f72b-c620-41f2-baf2-54962bd18b31",
   "metadata": {},
   "outputs": [
    {
     "name": "stdout",
     "output_type": "stream",
     "text": [
      "data-22.json\n",
      "data-10.json\n",
      "data-13.json\n",
      "data-20.json\n",
      "data-3.json\n",
      "data-15.json\n",
      "data-2.json\n",
      "data-11.json\n",
      "data-1.json\n",
      "data-16.json\n",
      "data-12.json\n",
      "data-21.json\n",
      "data-14.json\n"
     ]
    }
   ],
   "source": [
    "global_dict = {}\n",
    "\n",
    "for file in os.listdir('../data/mindat'):\n",
    "    if file.endswith('json') and not file.startswith('mindat'):\n",
    "        print(file)\n",
    "        with open(f'../data/mindat/{file}', 'r') as f:\n",
    "            temp= json.load(f)\n",
    "            global_dict.update(temp)"
   ]
  },
  {
   "cell_type": "code",
   "execution_count": 3,
   "id": "9c7a42c4-1144-4094-90cc-ed044459177f",
   "metadata": {},
   "outputs": [
    {
     "name": "stdout",
     "output_type": "stream",
     "text": [
      "3986\n",
      "30.906422478675363\n"
     ]
    }
   ],
   "source": [
    "print(len(global_dict))\n",
    "attr = [len(v) for v in global_dict.values()]\n",
    "print(np.mean(attr))"
   ]
  },
  {
   "cell_type": "code",
   "execution_count": 4,
   "id": "0054b210-ad1e-4df2-b516-f24a7b0bdeb3",
   "metadata": {},
   "outputs": [],
   "source": [
    "with open('../data/mindat/mindat-1-4000.json', 'w') as f:\n",
    "    json.dump(global_dict, f)"
   ]
  },
  {
   "cell_type": "code",
   "execution_count": null,
   "id": "74fde4c6-3cf1-4da0-a1de-034878a9da92",
   "metadata": {},
   "outputs": [],
   "source": []
  }
 ],
 "metadata": {
  "kernelspec": {
   "display_name": "jupy-lab-kernel",
   "language": "python",
   "name": "jupy-lab-kernel"
  },
  "language_info": {
   "codemirror_mode": {
    "name": "ipython",
    "version": 3
   },
   "file_extension": ".py",
   "mimetype": "text/x-python",
   "name": "python",
   "nbconvert_exporter": "python",
   "pygments_lexer": "ipython3",
   "version": "3.8.10"
  }
 },
 "nbformat": 4,
 "nbformat_minor": 5
}
