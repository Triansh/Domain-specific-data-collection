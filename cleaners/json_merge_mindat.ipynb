{
 "cells": [
  {
   "cell_type": "code",
   "execution_count": 5,
   "id": "5398becb-151a-4eb9-997c-970d5f893d65",
   "metadata": {},
   "outputs": [],
   "source": [
    "import os\n",
    "import json\n",
    "import pandas as pd\n",
    "import numpy as np\n",
    "from pprint import pprint\n",
    "from copy import deepcopy"
   ]
  },
  {
   "cell_type": "code",
   "execution_count": 6,
   "id": "4f47f72b-c620-41f2-baf2-54962bd18b31",
   "metadata": {},
   "outputs": [
    {
     "name": "stdout",
     "output_type": "stream",
     "text": [
      "mindat-7k-all.json\n",
      "collected_data-52.json\n",
      "collected_data-55.json\n",
      "collected_data-42.json\n",
      "collected_data-50.json\n"
     ]
    }
   ],
   "source": [
    "global_dict = {}\n",
    "\n",
    "for file in os.listdir('../data/mindat'):\n",
    "    if file.endswith('json') :#and not file.startswith('mindat'):\n",
    "        print(file)\n",
    "        with open(f'../data/mindat/{file}', 'r') as f:\n",
    "            temp= json.load(f)\n",
    "            global_dict.update(temp)"
   ]
  },
  {
   "cell_type": "code",
   "execution_count": 7,
   "id": "9c7a42c4-1144-4094-90cc-ed044459177f",
   "metadata": {},
   "outputs": [
    {
     "name": "stdout",
     "output_type": "stream",
     "text": [
      "9112\n",
      "29.0\n",
      "24.283691834942932\n"
     ]
    }
   ],
   "source": [
    "print(len(global_dict))\n",
    "attr = [len(v) for v in global_dict.values()]\n",
    "print(np.median(attr))\n",
    "print(np.mean(attr))"
   ]
  },
  {
   "cell_type": "code",
   "execution_count": 8,
   "id": "0054b210-ad1e-4df2-b516-f24a7b0bdeb3",
   "metadata": {},
   "outputs": [],
   "source": [
    "with open('../data/mindat/mindat-all.json', 'w') as f:\n",
    "    json.dump(global_dict, f)"
   ]
  },
  {
   "cell_type": "code",
   "execution_count": 9,
   "id": "74fde4c6-3cf1-4da0-a1de-034878a9da92",
   "metadata": {},
   "outputs": [],
   "source": [
    "records = []\n",
    "for k, v in global_dict.items():\n",
    "    temp = deepcopy(v)\n",
    "    temp['Mineral name'] = k\n",
    "    records.append(temp)"
   ]
  },
  {
   "cell_type": "code",
   "execution_count": 16,
   "id": "50d6a181-891b-48c0-884d-a26ac253a02d",
   "metadata": {},
   "outputs": [
    {
     "name": "stdout",
     "output_type": "stream",
     "text": [
      "<class 'pandas.core.frame.DataFrame'>\n",
      "Index: 9112 entries, Torreyite to Dewitite\n",
      "Data columns (total 101 columns):\n",
      " #    Column                                Non-Null Count  Dtype \n",
      "---   ------                                --------------  ----- \n",
      " 0    Formula                               6436 non-null   object\n",
      " 1    Colour                                5200 non-null   object\n",
      " 2    Lustre                                4705 non-null   object\n",
      " 3    Hardness                              4696 non-null   object\n",
      " 4    Specific Gravity                      3636 non-null   object\n",
      " 5    Crystal System                        5896 non-null   object\n",
      " 6    Name                                  5041 non-null   object\n",
      " 7    Type Locality                         5229 non-null   object\n",
      " 8    Isostructural with                    494 non-null    object\n",
      " 9    IMA status                            5913 non-null   object\n",
      " 10   Strunz 8th ed.                        4178 non-null   object\n",
      " 11   Nickel-Strunz 10th (pending) ed.      5373 non-null   object\n",
      " 12   Dana 8th ed.                          3755 non-null   object\n",
      " 13   Hey's CIM Ref.                        3348 non-null   object\n",
      " 14   Transparency                          4058 non-null   object\n",
      " 15   Comment                               2389 non-null   object\n",
      " 16   Streak                                3346 non-null   object\n",
      " 17   Tenacity                              2540 non-null   object\n",
      " 18   Cleavage                              3315 non-null   object\n",
      " 19   Fracture                              2165 non-null   object\n",
      " 20   Density                               4167 non-null   object\n",
      " 21   Type                                  4097 non-null   object\n",
      " 22   RI values                             3590 non-null   object\n",
      " 23   2V                                    2035 non-null   object\n",
      " 24   Birefringence                         634 non-null    object\n",
      " 25   Surface Relief                        3590 non-null   object\n",
      " 26   Dispersion                            2343 non-null   object\n",
      " 27   Pleochroism                           1915 non-null   object\n",
      " 28   Comments                              2423 non-null   object\n",
      " 29   IMA Formula                           2906 non-null   object\n",
      " 30   Elements listed                       6400 non-null   object\n",
      " 31   Class (H-M)                           4232 non-null   object\n",
      " 32   Space Group                           3729 non-null   object\n",
      " 33   Setting                               1626 non-null   object\n",
      " 34   Cell Parameters                       5355 non-null   object\n",
      " 35   Ratio                                 4857 non-null   object\n",
      " 36   Unit Cell V                           5351 non-null   object\n",
      " 37   Z                                     3367 non-null   object\n",
      " 38   Morphology                            2629 non-null   object\n",
      " 39   Twinning                              1005 non-null   object\n",
      " 40   Powder Diffraction Data               3537 non-null   object\n",
      " 41   In UV light                           1414 non-null   object\n",
      " 42   Notes                                 1137 non-null   object\n",
      " 43   Health Risks                          6827 non-null   object\n",
      " 44   Reference List                        7021 non-null   object\n",
      " 45   mindat.org URL                        9112 non-null   object\n",
      " 46   Search Engines                        9112 non-null   object\n",
      " 47   External Links                        5748 non-null   object\n",
      " 48   Mineral Dealers                       6812 non-null   object\n",
      " 49   First published                       2582 non-null   object\n",
      " 50   Common Impurities                     1593 non-null   object\n",
      " 51   Member of                             2889 non-null   object\n",
      " 52   Co-Type Localities                    381 non-null    object\n",
      " 53   Dimorph of                            293 non-null    object\n",
      " 54   Approval year                         2765 non-null   object\n",
      " 55   Reference                             2368 non-null   object\n",
      " 56   Download                              1352 non-null   object\n",
      " 57   Pronounciation                        774 non-null    object\n",
      " 58   Crystal Atlas                         280 non-null    object\n",
      " 59   IMA status notes                      216 non-null    object\n",
      " 60   Approval history                      322 non-null    object\n",
      " 61   Anisotropism                          611 non-null    object\n",
      " 62   Bireflectance                         256 non-null    object\n",
      " 63   Reflectivity                          470 non-null    object\n",
      " 64   Colour in reflected light             653 non-null    object\n",
      " 65   Internal Reflections                  309 non-null    object\n",
      " 66   Thermal Behaviour                     150 non-null    object\n",
      " 67   Parting                               341 non-null    object\n",
      " 68   Geological Setting                    1033 non-null   object\n",
      " 69   Magnetism                             70 non-null     object\n",
      " 70   Dana 7th ed.                          485 non-null    object\n",
      " 71   Hardness Data                         360 non-null    object\n",
      " 72   Optical Extinction                    297 non-null    object\n",
      " 73   Epitaxial Minerals                    85 non-null     object\n",
      " 74   Epitaxy Comments                      61 non-null     object\n",
      " 75   Polymorph of                          124 non-null    object\n",
      " 76   Idealised Formula                     132 non-null    object\n",
      " 77   Oxide wt%                             146 non-null    object\n",
      " 78   Sample references                     173 non-null    object\n",
      " 79   Empirical formulas                    66 non-null     object\n",
      " 80   Electrical                            60 non-null     object\n",
      " 81   CAS Registry number                   37 non-null     object\n",
      " 82   Industrial Uses                       154 non-null    object\n",
      " 83   IR Spectrum                           119 non-null    object\n",
      " 84   Synonym of                            59 non-null     object\n",
      " 85   Recorded ages                         44 non-null     object\n",
      " 86   First Recorded Locality               103 non-null    object\n",
      " 87   Special Storage/Display Requirements  77 non-null     object\n",
      " 88   Series Formula                        5 non-null      object\n",
      " 89   As a Commodity                        24 non-null     object\n",
      " 90   Strunz 9th ed.                        197 non-null    object\n",
      " 91   Translation gliding                   13 non-null     object\n",
      " 92   Synonym                               15 non-null     object\n",
      " 93   First Recorded Localities             8 non-null      object\n",
      " 94   Co-First Recorded Localities          9 non-null      object\n",
      " 95   German name for                       1 non-null      object\n",
      " 96   A Mixture Of                          17 non-null     object\n",
      " 97   Epitaxi Comments                      7 non-null      object\n",
      " 98   German synonym of                     1 non-null      object\n",
      " 99   Interestingness                       1 non-null      object\n",
      " 100  French synonym of                     1 non-null      object\n",
      "dtypes: object(101)\n",
      "memory usage: 7.1+ MB\n"
     ]
    }
   ],
   "source": [
    "df = pd.DataFrame.from_records(records)\n",
    "df=df.set_index('Mineral name')\n",
    "df.info(max_cols=150)"
   ]
  },
  {
   "cell_type": "code",
   "execution_count": 17,
   "id": "e17cb59c-3c34-4271-b070-7d10634ea103",
   "metadata": {},
   "outputs": [],
   "source": [
    "copy_df = df.copy()"
   ]
  },
  {
   "cell_type": "code",
   "execution_count": 18,
   "id": "250d4d28-cf30-401b-9a58-b1d6e8779503",
   "metadata": {},
   "outputs": [],
   "source": [
    "row_remove_perc = 10.0\n",
    "min_count = int((row_remove_perc / 100) * copy_df.shape[1] + 1)\n",
    "copy_df.dropna(axis=0, how='any', thresh=min_count, inplace=True)\n",
    "copy_df.reset_index(drop=True, inplace=True)"
   ]
  },
  {
   "cell_type": "code",
   "execution_count": 19,
   "id": "d0b89760-5fef-4409-8100-7b780d9a3864",
   "metadata": {},
   "outputs": [
    {
     "name": "stdout",
     "output_type": "stream",
     "text": [
      "<class 'pandas.core.frame.DataFrame'>\n",
      "RangeIndex: 6043 entries, 0 to 6042\n",
      "Columns: 101 entries, Formula to French synonym of\n",
      "dtypes: object(101)\n",
      "memory usage: 4.7+ MB\n"
     ]
    }
   ],
   "source": [
    "copy_df.info()"
   ]
  },
  {
   "cell_type": "code",
   "execution_count": 22,
   "id": "70b25c14-5ca5-4efe-abdd-3ff93621400e",
   "metadata": {},
   "outputs": [],
   "source": [
    "col_remove_perc = 10.0\n",
    "min_count = int((col_remove_perc / 100) * copy_df.shape[0] + 1)\n",
    "copy_df.dropna(axis=1, how='any', thresh=min_count, inplace=True)"
   ]
  },
  {
   "cell_type": "code",
   "execution_count": 23,
   "id": "395c3148-9308-484a-8188-7aee669b83e1",
   "metadata": {},
   "outputs": [
    {
     "name": "stdout",
     "output_type": "stream",
     "text": [
      "<class 'pandas.core.frame.DataFrame'>\n",
      "RangeIndex: 6043 entries, 0 to 6042\n",
      "Data columns (total 58 columns):\n",
      " #   Column                            Non-Null Count  Dtype \n",
      "---  ------                            --------------  ----- \n",
      " 0   Formula                           5985 non-null   object\n",
      " 1   Colour                            5144 non-null   object\n",
      " 2   Lustre                            4682 non-null   object\n",
      " 3   Hardness                          4687 non-null   object\n",
      " 4   Specific Gravity                  3635 non-null   object\n",
      " 5   Crystal System                    5865 non-null   object\n",
      " 6   Name                              4927 non-null   object\n",
      " 7   Type Locality                     5229 non-null   object\n",
      " 8   IMA status                        5857 non-null   object\n",
      " 9   Strunz 8th ed.                    4169 non-null   object\n",
      " 10  Nickel-Strunz 10th (pending) ed.  5326 non-null   object\n",
      " 11  Dana 8th ed.                      3750 non-null   object\n",
      " 12  Hey's CIM Ref.                    3323 non-null   object\n",
      " 13  Transparency                      4051 non-null   object\n",
      " 14  Comment                           2387 non-null   object\n",
      " 15  Streak                            3344 non-null   object\n",
      " 16  Tenacity                          2539 non-null   object\n",
      " 17  Cleavage                          3314 non-null   object\n",
      " 18  Fracture                          2163 non-null   object\n",
      " 19  Density                           4166 non-null   object\n",
      " 20  Type                              4090 non-null   object\n",
      " 21  RI values                         3590 non-null   object\n",
      " 22  2V                                2035 non-null   object\n",
      " 23  Birefringence                     634 non-null    object\n",
      " 24  Surface Relief                    3590 non-null   object\n",
      " 25  Dispersion                        2343 non-null   object\n",
      " 26  Pleochroism                       1915 non-null   object\n",
      " 27  Comments                          2423 non-null   object\n",
      " 28  IMA Formula                       2906 non-null   object\n",
      " 29  Elements listed                   5970 non-null   object\n",
      " 30  Class (H-M)                       4232 non-null   object\n",
      " 31  Space Group                       3729 non-null   object\n",
      " 32  Setting                           1626 non-null   object\n",
      " 33  Cell Parameters                   5355 non-null   object\n",
      " 34  Ratio                             4857 non-null   object\n",
      " 35  Unit Cell V                       5351 non-null   object\n",
      " 36  Z                                 3367 non-null   object\n",
      " 37  Morphology                        2624 non-null   object\n",
      " 38  Twinning                          1005 non-null   object\n",
      " 39  Powder Diffraction Data           3537 non-null   object\n",
      " 40  In UV light                       1412 non-null   object\n",
      " 41  Notes                             1135 non-null   object\n",
      " 42  Health Risks                      6041 non-null   object\n",
      " 43  Reference List                    6017 non-null   object\n",
      " 44  mindat.org URL                    6043 non-null   object\n",
      " 45  Search Engines                    6043 non-null   object\n",
      " 46  External Links                    5743 non-null   object\n",
      " 47  Mineral Dealers                   6036 non-null   object\n",
      " 48  First published                   2581 non-null   object\n",
      " 49  Common Impurities                 1593 non-null   object\n",
      " 50  Member of                         2878 non-null   object\n",
      " 51  Approval year                     2765 non-null   object\n",
      " 52  Reference                         2368 non-null   object\n",
      " 53  Download                          1352 non-null   object\n",
      " 54  Pronounciation                    680 non-null    object\n",
      " 55  Anisotropism                      611 non-null    object\n",
      " 56  Colour in reflected light         653 non-null    object\n",
      " 57  Geological Setting                1032 non-null   object\n",
      "dtypes: object(58)\n",
      "memory usage: 2.7+ MB\n"
     ]
    }
   ],
   "source": [
    "copy_df.info()"
   ]
  },
  {
   "cell_type": "code",
   "execution_count": 24,
   "id": "86a6c54c-7405-4286-8ed8-f6f176dd8fa0",
   "metadata": {},
   "outputs": [
    {
     "data": {
      "text/plain": [
       "Mineral name\n",
       "Torreyite                 [3, 3 on Mohs scale]\n",
       "Tosudite          [1 - 2, 1 - 2 on Mohs scale]\n",
       "Tounkite        [5 - 5½ on Mohs scale, 5 - 5½]\n",
       "Tourmaline                [7 on Mohs scale, 7]\n",
       "Toyohaite                 [4, 4 on Mohs scale]\n",
       "                             ...              \n",
       "Colomeraite                                NaN\n",
       "Pomite                                     NaN\n",
       "Pseudopomite                               NaN\n",
       "Shimenite                                  NaN\n",
       "Dewitite                                   NaN\n",
       "Name: Hardness, Length: 9112, dtype: object"
      ]
     },
     "execution_count": 24,
     "metadata": {},
     "output_type": "execute_result"
    }
   ],
   "source": [
    "df['Hardness']"
   ]
  },
  {
   "cell_type": "code",
   "execution_count": null,
   "id": "491eab15-da63-46d8-80d9-2049fd0f3b7d",
   "metadata": {},
   "outputs": [],
   "source": []
  }
 ],
 "metadata": {
  "kernelspec": {
   "display_name": "jupy-lab-kernel",
   "language": "python",
   "name": "jupy-lab-kernel"
  },
  "language_info": {
   "codemirror_mode": {
    "name": "ipython",
    "version": 3
   },
   "file_extension": ".py",
   "mimetype": "text/x-python",
   "name": "python",
   "nbconvert_exporter": "python",
   "pygments_lexer": "ipython3",
   "version": "3.8.10"
  }
 },
 "nbformat": 4,
 "nbformat_minor": 5
}
