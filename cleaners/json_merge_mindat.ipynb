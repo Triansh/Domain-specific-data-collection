{
 "cells": [
  {
   "cell_type": "code",
   "execution_count": 5,
   "id": "5398becb-151a-4eb9-997c-970d5f893d65",
   "metadata": {},
   "outputs": [],
   "source": [
    "import os\n",
    "import json\n",
    "import pandas as pd\n",
    "import numpy as np\n",
    "from pprint import pprint\n",
    "from copy import deepcopy"
   ]
  },
  {
   "cell_type": "code",
   "execution_count": 6,
   "id": "4f47f72b-c620-41f2-baf2-54962bd18b31",
   "metadata": {},
   "outputs": [
    {
     "name": "stdout",
     "output_type": "stream",
     "text": [
      "data-22.json\n",
      "data-10.json\n",
      "data-13.json\n",
      "data-20.json\n",
      "data-3.json\n",
      "data-15.json\n",
      "data-2.json\n",
      "data-11.json\n",
      "data-1.json\n",
      "data-16.json\n",
      "data-12.json\n",
      "data-21.json\n",
      "data-14.json\n"
     ]
    }
   ],
   "source": [
    "global_dict = {}\n",
    "\n",
    "for file in os.listdir('../data/mindat'):\n",
    "    if file.endswith('json') and not file.startswith('mindat'):\n",
    "        print(file)\n",
    "        with open(f'../data/mindat/{file}', 'r') as f:\n",
    "            temp= json.load(f)\n",
    "            global_dict.update(temp)"
   ]
  },
  {
   "cell_type": "code",
   "execution_count": 7,
   "id": "9c7a42c4-1144-4094-90cc-ed044459177f",
   "metadata": {},
   "outputs": [
    {
     "name": "stdout",
     "output_type": "stream",
     "text": [
      "3986\n",
      "30.906422478675363\n"
     ]
    }
   ],
   "source": [
    "print(len(global_dict))\n",
    "attr = [len(v) for v in global_dict.values()]\n",
    "print(np.mean(attr))"
   ]
  },
  {
   "cell_type": "code",
   "execution_count": 8,
   "id": "0054b210-ad1e-4df2-b516-f24a7b0bdeb3",
   "metadata": {},
   "outputs": [],
   "source": [
    "with open('../data/mindat/mindat-1-4000.json', 'w') as f:\n",
    "    json.dump(global_dict, f)"
   ]
  },
  {
   "cell_type": "code",
   "execution_count": 64,
   "id": "898d23be-8252-44f5-8dc8-572eb7a2096a",
   "metadata": {},
   "outputs": [
    {
     "name": "stdout",
     "output_type": "stream",
     "text": [
      "3986\n",
      "35.0\n",
      "30.906422478675363\n"
     ]
    }
   ],
   "source": [
    "print(len(global_dict))\n",
    "attr = [len(v) for v in global_dict.values()]\n",
    "print(np.median(attr))\n",
    "print(np.mean(attr))"
   ]
  },
  {
   "cell_type": "code",
   "execution_count": 65,
   "id": "74fde4c6-3cf1-4da0-a1de-034878a9da92",
   "metadata": {},
   "outputs": [],
   "source": [
    "records = []\n",
    "for k, v in global_dict.items():\n",
    "    temp = deepcopy(v)\n",
    "    temp['Mineral name'] = k\n",
    "    records.append(temp)"
   ]
  },
  {
   "cell_type": "code",
   "execution_count": 66,
   "id": "50d6a181-891b-48c0-884d-a26ac253a02d",
   "metadata": {},
   "outputs": [
    {
     "name": "stdout",
     "output_type": "stream",
     "text": [
      "<class 'pandas.core.frame.DataFrame'>\n",
      "Index: 3986 entries, Götzenite to Octophyllite\n",
      "Data columns (total 99 columns):\n",
      " #   Column                                Non-Null Count  Dtype \n",
      "---  ------                                --------------  ----- \n",
      " 0   Formula                               3550 non-null   object\n",
      " 1   Colour                                3001 non-null   object\n",
      " 2   Lustre                                2578 non-null   object\n",
      " 3   Hardness                              2883 non-null   object\n",
      " 4   Specific Gravity                      2182 non-null   object\n",
      " 5   Crystal System                        3153 non-null   object\n",
      " 6   Member of                             1565 non-null   object\n",
      " 7   Name                                  3034 non-null   object\n",
      " 8   Type Locality                         2723 non-null   object\n",
      " 9   IMA status                            3174 non-null   object\n",
      " 10  First published                       1274 non-null   object\n",
      " 11  Strunz 8th ed.                        3107 non-null   object\n",
      " 12  Nickel-Strunz 10th (pending) ed.      3191 non-null   object\n",
      " 13  Dana 7th ed.                          382 non-null    object\n",
      " 14  Dana 8th ed.                          3039 non-null   object\n",
      " 15  Hey's CIM Ref.                        2992 non-null   object\n",
      " 16  Transparency                          2337 non-null   object\n",
      " 17  Comment                               1410 non-null   object\n",
      " 18  Streak                                1787 non-null   object\n",
      " 19  Cleavage                              1817 non-null   object\n",
      " 20  Density                               2303 non-null   object\n",
      " 21  Type                                  2480 non-null   object\n",
      " 22  RI values                             2180 non-null   object\n",
      " 23  2V                                    1236 non-null   object\n",
      " 24  Surface Relief                        2180 non-null   object\n",
      " 25  Dispersion                            1645 non-null   object\n",
      " 26  IMA Formula                           1642 non-null   object\n",
      " 27  Elements listed                       3525 non-null   object\n",
      " 28  Class (H-M)                           2000 non-null   object\n",
      " 29  Space Group                           1682 non-null   object\n",
      " 30  Cell Parameters                       2874 non-null   object\n",
      " 31  Ratio                                 2596 non-null   object\n",
      " 32  Unit Cell V                           2872 non-null   object\n",
      " 33  Z                                     1778 non-null   object\n",
      " 34  Morphology                            1744 non-null   object\n",
      " 35  Twinning                              671 non-null    object\n",
      " 36  Geological Setting                    875 non-null    object\n",
      " 37  Notes                                 745 non-null    object\n",
      " 38  Health Risks                          3842 non-null   object\n",
      " 39  Reference List                        3569 non-null   object\n",
      " 40  mindat.org URL                        3986 non-null   object\n",
      " 41  Search Engines                        3986 non-null   object\n",
      " 42  External Links                        3051 non-null   object\n",
      " 43  Mineral Dealers                       3831 non-null   object\n",
      " 44  Dimorph of                            221 non-null    object\n",
      " 45  Tenacity                              1269 non-null   object\n",
      " 46  Anisotropism                          372 non-null    object\n",
      " 47  Colour in reflected light             390 non-null    object\n",
      " 48  Pleochroism                           1016 non-null   object\n",
      " 49  Common Impurities                     1210 non-null   object\n",
      " 50  Setting                               616 non-null    object\n",
      " 51  Approval year                         704 non-null    object\n",
      " 52  Approval history                      181 non-null    object\n",
      " 53  Powder Diffraction Data               1467 non-null   object\n",
      " 54  Fracture                              1098 non-null   object\n",
      " 55  Comments                              1275 non-null   object\n",
      " 56  Reference                             1166 non-null   object\n",
      " 57  In UV light                           719 non-null    object\n",
      " 58  Reflectivity                          274 non-null    object\n",
      " 59  Crystal Atlas                         258 non-null    object\n",
      " 60  Download                              825 non-null    object\n",
      " 61  Birefringence                         480 non-null    object\n",
      " 62  Optical Extinction                    246 non-null    object\n",
      " 63  Thermal Behaviour                     114 non-null    object\n",
      " 64  Hardness Data                         154 non-null    object\n",
      " 65  A Mixture Of                          15 non-null     object\n",
      " 66  Pronounciation                        530 non-null    object\n",
      " 67  Co-Type Localities                    220 non-null    object\n",
      " 68  Internal Reflections                  121 non-null    object\n",
      " 69  Isostructural with                    294 non-null    object\n",
      " 70  Polymorph of                          95 non-null     object\n",
      " 71  Translation gliding                   12 non-null     object\n",
      " 72  Electrical                            50 non-null     object\n",
      " 73  Industrial Uses                       138 non-null    object\n",
      " 74  Magnetism                             53 non-null     object\n",
      " 75  IMA status notes                      141 non-null    object\n",
      " 76  Oxide wt%                             108 non-null    object\n",
      " 77  Empirical formulas                    34 non-null     object\n",
      " 78  Sample references                     121 non-null    object\n",
      " 79  Special Storage/Display Requirements  53 non-null     object\n",
      " 80  First Recorded Locality               76 non-null     object\n",
      " 81  Recorded ages                         39 non-null     object\n",
      " 82  As a Commodity                        20 non-null     object\n",
      " 83  Parting                               111 non-null    object\n",
      " 84  Bireflectance                         75 non-null     object\n",
      " 85  IR Spectrum                           36 non-null     object\n",
      " 86  Epitaxial Minerals                    58 non-null     object\n",
      " 87  Epitaxy Comments                      45 non-null     object\n",
      " 88  Strunz 9th ed.                        70 non-null     object\n",
      " 89  Idealised Formula                     76 non-null     object\n",
      " 90  CAS Registry number                   27 non-null     object\n",
      " 91  Epitaxi Comments                      5 non-null      object\n",
      " 92  Series Formula                        3 non-null      object\n",
      " 93  Synonym of                            22 non-null     object\n",
      " 94  Co-First Recorded Localities          6 non-null      object\n",
      " 95  German synonym of                     1 non-null      object\n",
      " 96  First Recorded Localities             5 non-null      object\n",
      " 97  Synonym                               5 non-null      object\n",
      " 98  Interestingness                       1 non-null      object\n",
      "dtypes: object(99)\n",
      "memory usage: 3.0+ MB\n"
     ]
    }
   ],
   "source": [
    "df = pd.DataFrame.from_records(records)\n",
    "df=df.set_index('Mineral name')\n",
    "df.info()"
   ]
  },
  {
   "cell_type": "code",
   "execution_count": 67,
   "id": "e17cb59c-3c34-4271-b070-7d10634ea103",
   "metadata": {},
   "outputs": [],
   "source": [
    "copy_df = df.copy()"
   ]
  },
  {
   "cell_type": "code",
   "execution_count": 68,
   "id": "250d4d28-cf30-401b-9a58-b1d6e8779503",
   "metadata": {},
   "outputs": [],
   "source": [
    "row_remove_perc = 10.0\n",
    "min_count = int((row_remove_perc / 100) * copy_df.shape[1] + 1)\n",
    "copy_df.dropna(axis=0, how='any', thresh=min_count, inplace=True)\n",
    "copy_df.reset_index(drop=True, inplace=True)"
   ]
  },
  {
   "cell_type": "code",
   "execution_count": 69,
   "id": "d0b89760-5fef-4409-8100-7b780d9a3864",
   "metadata": {},
   "outputs": [
    {
     "name": "stdout",
     "output_type": "stream",
     "text": [
      "<class 'pandas.core.frame.DataFrame'>\n",
      "RangeIndex: 3281 entries, 0 to 3280\n",
      "Data columns (total 99 columns):\n",
      " #   Column                                Non-Null Count  Dtype \n",
      "---  ------                                --------------  ----- \n",
      " 0   Formula                               3235 non-null   object\n",
      " 1   Colour                                2966 non-null   object\n",
      " 2   Lustre                                2568 non-null   object\n",
      " 3   Hardness                              2877 non-null   object\n",
      " 4   Specific Gravity                      2182 non-null   object\n",
      " 5   Crystal System                        3132 non-null   object\n",
      " 6   Member of                             1558 non-null   object\n",
      " 7   Name                                  2969 non-null   object\n",
      " 8   Type Locality                         2723 non-null   object\n",
      " 9   IMA status                            3139 non-null   object\n",
      " 10  First published                       1274 non-null   object\n",
      " 11  Strunz 8th ed.                        3103 non-null   object\n",
      " 12  Nickel-Strunz 10th (pending) ed.      3162 non-null   object\n",
      " 13  Dana 7th ed.                          382 non-null    object\n",
      " 14  Dana 8th ed.                          3037 non-null   object\n",
      " 15  Hey's CIM Ref.                        2975 non-null   object\n",
      " 16  Transparency                          2333 non-null   object\n",
      " 17  Comment                               1408 non-null   object\n",
      " 18  Streak                                1786 non-null   object\n",
      " 19  Cleavage                              1817 non-null   object\n",
      " 20  Density                               2303 non-null   object\n",
      " 21  Type                                  2475 non-null   object\n",
      " 22  RI values                             2180 non-null   object\n",
      " 23  2V                                    1236 non-null   object\n",
      " 24  Surface Relief                        2180 non-null   object\n",
      " 25  Dispersion                            1645 non-null   object\n",
      " 26  IMA Formula                           1642 non-null   object\n",
      " 27  Elements listed                       3217 non-null   object\n",
      " 28  Class (H-M)                           2000 non-null   object\n",
      " 29  Space Group                           1682 non-null   object\n",
      " 30  Cell Parameters                       2874 non-null   object\n",
      " 31  Ratio                                 2596 non-null   object\n",
      " 32  Unit Cell V                           2872 non-null   object\n",
      " 33  Z                                     1778 non-null   object\n",
      " 34  Morphology                            1741 non-null   object\n",
      " 35  Twinning                              671 non-null    object\n",
      " 36  Geological Setting                    874 non-null    object\n",
      " 37  Notes                                 744 non-null    object\n",
      " 38  Health Risks                          3279 non-null   object\n",
      " 39  Reference List                        3270 non-null   object\n",
      " 40  mindat.org URL                        3281 non-null   object\n",
      " 41  Search Engines                        3281 non-null   object\n",
      " 42  External Links                        3050 non-null   object\n",
      " 43  Mineral Dealers                       3275 non-null   object\n",
      " 44  Dimorph of                            221 non-null    object\n",
      " 45  Tenacity                              1269 non-null   object\n",
      " 46  Anisotropism                          372 non-null    object\n",
      " 47  Colour in reflected light             390 non-null    object\n",
      " 48  Pleochroism                           1016 non-null   object\n",
      " 49  Common Impurities                     1210 non-null   object\n",
      " 50  Setting                               616 non-null    object\n",
      " 51  Approval year                         704 non-null    object\n",
      " 52  Approval history                      180 non-null    object\n",
      " 53  Powder Diffraction Data               1467 non-null   object\n",
      " 54  Fracture                              1096 non-null   object\n",
      " 55  Comments                              1275 non-null   object\n",
      " 56  Reference                             1166 non-null   object\n",
      " 57  In UV light                           717 non-null    object\n",
      " 58  Reflectivity                          274 non-null    object\n",
      " 59  Crystal Atlas                         257 non-null    object\n",
      " 60  Download                              825 non-null    object\n",
      " 61  Birefringence                         480 non-null    object\n",
      " 62  Optical Extinction                    246 non-null    object\n",
      " 63  Thermal Behaviour                     113 non-null    object\n",
      " 64  Hardness Data                         154 non-null    object\n",
      " 65  A Mixture Of                          4 non-null      object\n",
      " 66  Pronounciation                        471 non-null    object\n",
      " 67  Co-Type Localities                    220 non-null    object\n",
      " 68  Internal Reflections                  121 non-null    object\n",
      " 69  Isostructural with                    294 non-null    object\n",
      " 70  Polymorph of                          95 non-null     object\n",
      " 71  Translation gliding                   12 non-null     object\n",
      " 72  Electrical                            50 non-null     object\n",
      " 73  Industrial Uses                       138 non-null    object\n",
      " 74  Magnetism                             53 non-null     object\n",
      " 75  IMA status notes                      136 non-null    object\n",
      " 76  Oxide wt%                             108 non-null    object\n",
      " 77  Empirical formulas                    34 non-null     object\n",
      " 78  Sample references                     121 non-null    object\n",
      " 79  Special Storage/Display Requirements  53 non-null     object\n",
      " 80  First Recorded Locality               63 non-null     object\n",
      " 81  Recorded ages                         37 non-null     object\n",
      " 82  As a Commodity                        17 non-null     object\n",
      " 83  Parting                               111 non-null    object\n",
      " 84  Bireflectance                         75 non-null     object\n",
      " 85  IR Spectrum                           36 non-null     object\n",
      " 86  Epitaxial Minerals                    58 non-null     object\n",
      " 87  Epitaxy Comments                      45 non-null     object\n",
      " 88  Strunz 9th ed.                        70 non-null     object\n",
      " 89  Idealised Formula                     75 non-null     object\n",
      " 90  CAS Registry number                   27 non-null     object\n",
      " 91  Epitaxi Comments                      5 non-null      object\n",
      " 92  Series Formula                        1 non-null      object\n",
      " 93  Synonym of                            6 non-null      object\n",
      " 94  Co-First Recorded Localities          6 non-null      object\n",
      " 95  German synonym of                     0 non-null      object\n",
      " 96  First Recorded Localities             5 non-null      object\n",
      " 97  Synonym                               1 non-null      object\n",
      " 98  Interestingness                       1 non-null      object\n",
      "dtypes: object(99)\n",
      "memory usage: 2.5+ MB\n"
     ]
    }
   ],
   "source": [
    "copy_df.info()"
   ]
  },
  {
   "cell_type": "code",
   "execution_count": 70,
   "id": "70b25c14-5ca5-4efe-abdd-3ff93621400e",
   "metadata": {},
   "outputs": [],
   "source": [
    "col_remove_perc = 30.0\n",
    "min_count = int((col_remove_perc / 100) * copy_df.shape[0] + 1)\n",
    "copy_df.dropna(axis=1, how='any', thresh=min_count, inplace=True)"
   ]
  },
  {
   "cell_type": "code",
   "execution_count": 71,
   "id": "395c3148-9308-484a-8188-7aee669b83e1",
   "metadata": {},
   "outputs": [
    {
     "name": "stdout",
     "output_type": "stream",
     "text": [
      "<class 'pandas.core.frame.DataFrame'>\n",
      "RangeIndex: 3281 entries, 0 to 3280\n",
      "Data columns (total 47 columns):\n",
      " #   Column                            Non-Null Count  Dtype \n",
      "---  ------                            --------------  ----- \n",
      " 0   Formula                           3235 non-null   object\n",
      " 1   Colour                            2966 non-null   object\n",
      " 2   Lustre                            2568 non-null   object\n",
      " 3   Hardness                          2877 non-null   object\n",
      " 4   Specific Gravity                  2182 non-null   object\n",
      " 5   Crystal System                    3132 non-null   object\n",
      " 6   Member of                         1558 non-null   object\n",
      " 7   Name                              2969 non-null   object\n",
      " 8   Type Locality                     2723 non-null   object\n",
      " 9   IMA status                        3139 non-null   object\n",
      " 10  First published                   1274 non-null   object\n",
      " 11  Strunz 8th ed.                    3103 non-null   object\n",
      " 12  Nickel-Strunz 10th (pending) ed.  3162 non-null   object\n",
      " 13  Dana 8th ed.                      3037 non-null   object\n",
      " 14  Hey's CIM Ref.                    2975 non-null   object\n",
      " 15  Transparency                      2333 non-null   object\n",
      " 16  Comment                           1408 non-null   object\n",
      " 17  Streak                            1786 non-null   object\n",
      " 18  Cleavage                          1817 non-null   object\n",
      " 19  Density                           2303 non-null   object\n",
      " 20  Type                              2475 non-null   object\n",
      " 21  RI values                         2180 non-null   object\n",
      " 22  2V                                1236 non-null   object\n",
      " 23  Surface Relief                    2180 non-null   object\n",
      " 24  Dispersion                        1645 non-null   object\n",
      " 25  IMA Formula                       1642 non-null   object\n",
      " 26  Elements listed                   3217 non-null   object\n",
      " 27  Class (H-M)                       2000 non-null   object\n",
      " 28  Space Group                       1682 non-null   object\n",
      " 29  Cell Parameters                   2874 non-null   object\n",
      " 30  Ratio                             2596 non-null   object\n",
      " 31  Unit Cell V                       2872 non-null   object\n",
      " 32  Z                                 1778 non-null   object\n",
      " 33  Morphology                        1741 non-null   object\n",
      " 34  Health Risks                      3279 non-null   object\n",
      " 35  Reference List                    3270 non-null   object\n",
      " 36  mindat.org URL                    3281 non-null   object\n",
      " 37  Search Engines                    3281 non-null   object\n",
      " 38  External Links                    3050 non-null   object\n",
      " 39  Mineral Dealers                   3275 non-null   object\n",
      " 40  Tenacity                          1269 non-null   object\n",
      " 41  Pleochroism                       1016 non-null   object\n",
      " 42  Common Impurities                 1210 non-null   object\n",
      " 43  Powder Diffraction Data           1467 non-null   object\n",
      " 44  Fracture                          1096 non-null   object\n",
      " 45  Comments                          1275 non-null   object\n",
      " 46  Reference                         1166 non-null   object\n",
      "dtypes: object(47)\n",
      "memory usage: 1.2+ MB\n"
     ]
    }
   ],
   "source": [
    "copy_df.info()"
   ]
  },
  {
   "cell_type": "code",
   "execution_count": 72,
   "id": "86a6c54c-7405-4286-8ed8-f6f176dd8fa0",
   "metadata": {},
   "outputs": [
    {
     "data": {
      "text/plain": [
       "Mineral name\n",
       "Götzenite                              [5½ - 6 on Mohs scale, 5½ - 6]\n",
       "Guanajuatite        [2½ - 3, 2½ - 3 on Mohs scale, VHN10=53 - 82 k...\n",
       "Guanglinite                                                       NaN\n",
       "Guanine                                           1 - 2 on Mohs scale\n",
       "Guarinite                                                         NaN\n",
       "                                          ...                        \n",
       "Obradovicite-KCu                               [2½, 2½ on Mohs scale]\n",
       "Obruchevite                                                       NaN\n",
       "Ochran                                                            NaN\n",
       "Ocrite                                                            NaN\n",
       "Octophyllite                                                      NaN\n",
       "Name: Hardness, Length: 3986, dtype: object"
      ]
     },
     "execution_count": 72,
     "metadata": {},
     "output_type": "execute_result"
    }
   ],
   "source": [
    "df['Hardness']"
   ]
  },
  {
   "cell_type": "code",
   "execution_count": null,
   "id": "491eab15-da63-46d8-80d9-2049fd0f3b7d",
   "metadata": {},
   "outputs": [],
   "source": []
  }
 ],
 "metadata": {
  "kernelspec": {
   "display_name": "jupy-lab-kernel",
   "language": "python",
   "name": "jupy-lab-kernel"
  },
  "language_info": {
   "codemirror_mode": {
    "name": "ipython",
    "version": 3
   },
   "file_extension": ".py",
   "mimetype": "text/x-python",
   "name": "python",
   "nbconvert_exporter": "python",
   "pygments_lexer": "ipython3",
   "version": "3.8.10"
  }
 },
 "nbformat": 4,
 "nbformat_minor": 5
}
