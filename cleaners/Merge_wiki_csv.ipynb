{
 "cells": [
  {
   "cell_type": "code",
   "execution_count": 1,
   "id": "0931ca02-1381-4963-ab1e-49800172077c",
   "metadata": {},
   "outputs": [],
   "source": [
    "import os\n",
    "import sys\n",
    "import pandas as pd\n",
    "import re\n"
   ]
  },
  {
   "cell_type": "code",
   "execution_count": 9,
   "id": "27c3a47a-45a6-4081-8bfb-37e096fd0523",
   "metadata": {},
   "outputs": [],
   "source": [
    "name_reg = re.compile(r\"[^(\\w| |\\[|\\]|\\(|\\)|-]+\")\n",
    "sys_cat_regex = re.compile(r\"[\\w\\s,-]+\")\n",
    "\n",
    "rogue_words = {'hlist', 'flatlist', 'plainlist', 's', 'br', '',\n",
    "               'overline', 'list'}\n",
    "\n",
    "synonyms = [('color', 'colour'), ('luster', 'lustre')]\n",
    "\n",
    "df = pd.DataFrame()\n"
   ]
  },
  {
   "cell_type": "code",
   "execution_count": 10,
   "id": "4f094ffc-b8e5-4c89-b9df-1cbc8eff0061",
   "metadata": {},
   "outputs": [
    {
     "data": {
      "text/plain": [
       "'/Users/chief-blackhood/Desktop/sem 5/IRE/Major_Project/Domain-specific-data-collection/cleaners'"
      ]
     },
     "execution_count": 10,
     "metadata": {},
     "output_type": "execute_result"
    }
   ],
   "source": [
    "os.getcwd()"
   ]
  },
  {
   "cell_type": "code",
   "execution_count": 11,
   "id": "7f1e7470-7465-4aab-b3a4-01839b019de4",
   "metadata": {},
   "outputs": [],
   "source": [
    "# remove_html = re.compile(r\"<.*?/>|<[^>]>.*?</[^>]>\")\n",
    "# bracket_cleaner = re.compile(r\"\\[|\\]\")\n",
    "#\n",
    "#\n",
    "# def clean(text):\n",
    "#     text = remove_html.sub(text, ' ')\n",
    "#     text = ''.join(bracket_cleaner.split(text))\n",
    "#     text = ' '.join(text.split())\n",
    "#     return text\n",
    "\n",
    "# def clean_sys_cat(pat: str):\n",
    "#     if pd.isnull(pat):\n",
    "#         return pat\n",
    "#     # print(pat)\n",
    "#     pat = pat.replace('|', ',')\n",
    "#     content = ''.join([' ' if x.strip() in rogue_words else x for x in sys_cat_regex.findall(pat)])\n",
    "#     return content\n",
    "\n",
    "for file in os.listdir('../data/wikipedia'):\n",
    "    if file.endswith('csv'):\n",
    "        df = df.append(pd.read_csv(f'../data/wikipedia/{file}'))\n",
    "        \n",
    "\n"
   ]
  },
  {
   "cell_type": "code",
   "execution_count": 16,
   "id": "e6bc446c-3198-4eef-ba70-c20ee68149c3",
   "metadata": {},
   "outputs": [
    {
     "name": "stdout",
     "output_type": "stream",
     "text": [
      "<class 'pandas.core.frame.DataFrame'>\n",
      "RangeIndex: 1371 entries, 0 to 1370\n",
      "Columns: 601 entries, Unnamed: 0 to area_footnotes\n",
      "dtypes: float64(79), int64(1), object(521)\n",
      "memory usage: 6.3+ MB\n"
     ]
    }
   ],
   "source": [
    "df.info()"
   ]
  },
  {
   "cell_type": "code",
   "execution_count": 14,
   "id": "410f09b4-3d84-4b0b-8aef-9426e53174e6",
   "metadata": {},
   "outputs": [],
   "source": [
    "# df = df.drop(columns=['image', 'caption', 'imagesize'], errors='ignore')\n",
    "df = df.drop_duplicates(subset=[\"name\"])\n",
    "df = df.dropna(subset=[\"name\"]).reset_index(drop=True)"
   ]
  },
  {
   "cell_type": "code",
   "execution_count": 18,
   "id": "960e3be8-7aac-416d-9ded-731523b9d408",
   "metadata": {},
   "outputs": [],
   "source": [
    "# print(df.columns.tolist())\n",
    "# print('Columns:', len(df.columns))\n",
    "\n",
    "for (x, y) in synonyms:\n",
    "    # print(df[[x, y]].info())\n",
    "\n",
    "    # a = df.index[df[x].notnull()].tolist()\n",
    "    # b = df.index[df[y].notnull()].tolist()\n",
    "    # inter = list(set(a).intersection(set(b)))\n",
    "    df[x] = df[x].combine_first(df[y])\n",
    "    df = df.drop(columns=[y])\n",
    "\n",
    "    # print(f\"Intersection of {x} and {y}:\", len(inter))\n",
    "    # print(df[[x, y]].iloc[inter])\n",
    "    # print(df[[x]].info())\n",
    "\n"
   ]
  },
  {
   "cell_type": "code",
   "execution_count": 23,
   "id": "b39fda82-6666-42ed-b87d-d312b191dda7",
   "metadata": {},
   "outputs": [
    {
     "name": "stdout",
     "output_type": "stream",
     "text": [
      "<class 'pandas.core.frame.DataFrame'>\n",
      "RangeIndex: 1371 entries, 0 to 1370\n",
      "Data columns (total 24 columns):\n",
      " #   Column         Non-Null Count  Dtype \n",
      "---  ------         --------------  ----- \n",
      " 0   Unnamed: 0     1371 non-null   int64 \n",
      " 1   name           1371 non-null   object\n",
      " 2   category       1267 non-null   object\n",
      " 3   image          1120 non-null   object\n",
      " 4   caption        808 non-null    object\n",
      " 5   formula        1305 non-null   object\n",
      " 6   strunz         1198 non-null   object\n",
      " 7   system         1300 non-null   object\n",
      " 8   symmetry       1194 non-null   object\n",
      " 9   unit cell      823 non-null    object\n",
      " 10  color          1211 non-null   object\n",
      " 11  cleavage       959 non-null    object\n",
      " 12  fracture       682 non-null    object\n",
      " 13  mohs           1129 non-null   object\n",
      " 14  luster         1130 non-null   object\n",
      " 15  opticalprop    906 non-null    object\n",
      " 16  streak         929 non-null    object\n",
      " 17  gravity        1018 non-null   object\n",
      " 18  diaphaneity    1033 non-null   object\n",
      " 19  imagesize      579 non-null    object\n",
      " 20  refractive     853 non-null    object\n",
      " 21  class          1169 non-null   object\n",
      " 22  birefringence  664 non-null    object\n",
      " 23  habit          985 non-null    object\n",
      "dtypes: int64(1), object(23)\n",
      "memory usage: 257.2+ KB\n",
      "None\n"
     ]
    }
   ],
   "source": [
    "print(df.info())\n",
    "\n",
    "# Attribute wise cleanup here\n",
    "# df['name'] = df['name'].apply(lambda x: ''.join(name_reg.split(x)))\n",
    "# df['system'] = df['system'].apply(lambda x: clean_sys_cat(x))\n",
    "# df['category'] = df['category'].apply(lambda x: clean_sys_cat(x))\n",
    "#     df['category'] = df['category'].apply(lambda x: clean_sys_cat(x))\n",
    "\n"
   ]
  },
  {
   "cell_type": "code",
   "execution_count": 21,
   "id": "4f31c13f-9234-4b71-85b9-229a7d4c65b5",
   "metadata": {},
   "outputs": [],
   "source": [
    "df.to_csv('../data/wikipedia/combined_wiki_mineral_raw.csv', index=False)"
   ]
  },
  {
   "cell_type": "code",
   "execution_count": 22,
   "id": "10665ff2-f431-46d0-baf1-8e224429dcb2",
   "metadata": {},
   "outputs": [],
   "source": [
    "col_remove_perc = 40.0\n",
    "min_count = int((col_remove_perc / 100) * df.shape[0] + 1)\n",
    "df.dropna(axis=1, how='any', thresh=min_count, inplace=True)\n",
    "df.reset_index(drop=True, inplace=True)"
   ]
  },
  {
   "cell_type": "code",
   "execution_count": 24,
   "id": "448ba22b-3e88-4fd8-a502-c6f93b8724a5",
   "metadata": {},
   "outputs": [],
   "source": [
    "df.to_csv('../data/wikipedia/combined_wiki_mineral_clean.csv', index=False)"
   ]
  },
  {
   "cell_type": "code",
   "execution_count": null,
   "id": "c603c08f-61a9-4a4c-a703-88f5397c895a",
   "metadata": {},
   "outputs": [],
   "source": []
  }
 ],
 "metadata": {
  "kernelspec": {
   "display_name": "Python 3",
   "language": "python",
   "name": "python3"
  },
  "language_info": {
   "codemirror_mode": {
    "name": "ipython",
    "version": 3
   },
   "file_extension": ".py",
   "mimetype": "text/x-python",
   "name": "python",
   "nbconvert_exporter": "python",
   "pygments_lexer": "ipython3",
   "version": "3.8.10"
  }
 },
 "nbformat": 4,
 "nbformat_minor": 5
}
