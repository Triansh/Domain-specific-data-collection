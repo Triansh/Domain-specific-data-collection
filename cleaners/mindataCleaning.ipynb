{
 "cells": [
  {
   "cell_type": "code",
   "execution_count": 21,
   "id": "bb8bab3c",
   "metadata": {},
   "outputs": [],
   "source": [
    "## @package cleaning mindat data\n",
    "# Documentation for this module.\n",
    "#\n",
    "# Functionality:\n",
    "# convert the json data in pd df and remove the attributes which are having data less than 3.1 percent.\n",
    "# after processing the data genrating a csv file staging file, which is utilized by another process which merge the data from different sources.\n",
    "\n",
    "\n",
    "import pandas as pd\n",
    "import json\n",
    "import os\n",
    "from collections import defaultdict\n",
    "\n",
    "os.chdir('C:\\\\Users\\\\arvgoyal\\Python Codes\\IRE Project\\Data Cleaning\\data')"
   ]
  },
  {
   "cell_type": "code",
   "execution_count": null,
   "id": "1ab59e7f-a76a-44fe-af32-66de454dfb88",
   "metadata": {},
   "outputs": [],
   "source": [
    "#df = pd.read_json('combined_minerals.json')\n",
    "with open('mindat.json') as webMinJsn:\n",
    "    data = json.load(webMinJsn)   "
   ]
  },
  {
   "cell_type": "code",
   "execution_count": 24,
   "id": "2de03ba5",
   "metadata": {},
   "outputs": [],
   "source": [
    "## documentation for a function.\n",
    "# \n",
    "# Prepared the list of all attrbute present for any dataset.\n",
    "def attribute_list():\n",
    "    pass\n",
    "\n",
    "\n",
    "All_Attribute= []\n",
    "Mineral_List = []\n",
    "for mineral in data.keys():\n",
    "    Mineral_List.append(mineral)\n",
    "    for att in data[mineral].keys():\n",
    "        All_Attribute.append(att)\n",
    "        \n",
    "All_Attribute = list(set(All_Attribute))    "
   ]
  },
  {
   "cell_type": "code",
   "execution_count": 26,
   "id": "20695a33",
   "metadata": {},
   "outputs": [],
   "source": [
    "AttributeData = defaultdict(list)"
   ]
  },
  {
   "cell_type": "code",
   "execution_count": 27,
   "id": "24ef4c52",
   "metadata": {},
   "outputs": [],
   "source": [
    "## documentation for a function.\n",
    "# \n",
    "# Prepared the list of all minerals present for any dataset.\n",
    "def minerals_list():\n",
    "    pass\n",
    "\n",
    "\n",
    "for mineral in Mineral_List:\n",
    "    AttributeData['Mineral Name'].append(mineral)\n",
    "    #FinalData['Mineral Name'] = mineral\n",
    "    for att in All_Attribute:\n",
    "        try:\n",
    "            AttributeData[att].append(data[mineral][att])\n",
    "        except:\n",
    "            AttributeData[att].append(None)      "
   ]
  },
  {
   "cell_type": "code",
   "execution_count": 28,
   "id": "7b001cc0",
   "metadata": {},
   "outputs": [],
   "source": [
    "FinalData = {}\n",
    "\n",
    "for key in AttributeData.keys():\n",
    "    FinalData[key] = AttributeData[key]\n",
    "    #print(len(AttributeData[key]))"
   ]
  },
  {
   "cell_type": "code",
   "execution_count": null,
   "id": "e75bbd4f-881d-46e2-953d-61eda9079e2d",
   "metadata": {},
   "outputs": [],
   "source": [
    "df = pd.DataFrame(FinalData)"
   ]
  },
  {
   "cell_type": "code",
   "execution_count": null,
   "id": "5d734a9d-f9f5-4862-89db-8b6624eda4ff",
   "metadata": {},
   "outputs": [],
   "source": [
    "## documentation for a function.\n",
    "# \n",
    "# Prepared attributes which has data less then 3.42% (312/9112) data.\n",
    "def remove_sparse_attributes():\n",
    "    pass\n",
    "\n",
    "\n",
    "cnt = 0 \n",
    "for col in df.columns:\n",
    "    \n",
    "    blanks = df[col].isnull().sum()\n",
    "    if blanks >8800:\n",
    "        cnt +=1\n",
    "        print(col,' : ',df[col].isnull().sum())\n",
    "        df = df.drop([col],axis=1)"
   ]
  },
  {
   "cell_type": "code",
   "execution_count": 32,
   "id": "444639fd",
   "metadata": {},
   "outputs": [],
   "source": [
    "\n",
    "\n",
    "col_drop_lst = ['Approval year','Search Engines','Reference List','Mineral Dealers','Comment','External Links','Download','Comments','mindat.org URL','First published','Reference','Z']\n",
    "#col_crpt_data_lst = ['Cleavage', 'Forms']   #Data is not correct\n",
    "\n",
    "col_name_lst = ['Name']\n",
    "col_formula_lst = ['Formula','IMA status', 'IMA Formula']\n",
    "col_clr_lst = ['Colour','Streak','Lustre','Transparency','Pleochroism']\n",
    "col_strctr_lst = ['Density','Hardness','Crystal System','Specific Gravity','Tenacity']\n",
    "col_texture_lst = ['Surface Relief', 'Fracture','Morphology']\n",
    "col_compound_lst = ['Elements listed', 'Common Impurities','Geological Setting','Member of',\"Hey's CIM Ref.\",\"Nickel-Strunz 10th (pending) ed.\",\"Type\"]\n"
   ]
  },
  {
   "cell_type": "code",
   "execution_count": null,
   "id": "d3fdf112-d057-4168-9898-cc3e2250661a",
   "metadata": {},
   "outputs": [],
   "source": [
    "len(col_drop_lst)\n",
    "df=df.drop(col_drop_lst,axis=1)"
   ]
  },
  {
   "cell_type": "code",
   "execution_count": 86,
   "id": "dbbb893b",
   "metadata": {},
   "outputs": [],
   "source": [
    "df.to_csv('mindat_9k_stage.csv')"
   ]
  },
  {
   "cell_type": "code",
   "execution_count": 34,
   "id": "3b12a322",
   "metadata": {},
   "outputs": [
    {
     "name": "stdout",
     "output_type": "stream",
     "text": [
      "51\n",
      "54\n"
     ]
    },
    {
     "data": {
      "text/plain": [
       "{'Hardness Data', 'In UV light', 'Pronounciation', 'Setting'}"
      ]
     },
     "execution_count": 34,
     "metadata": {},
     "output_type": "execute_result"
    }
   ],
   "source": [
    "list2 = list(df.columns)\n",
    "list2 = set(list2)\n",
    "\n",
    "list1 = set(['Mineral Name', 'Name', 'Formula', 'IMA Formula', 'IMA status', 'IMA Formula',\n",
    "       'Colour', 'Streak', 'Lustre', 'Transparency', 'Pleochroism', 'Density',\n",
    "       'Hardness', 'Crystal System', 'Specific Gravity', 'Tenacity',\n",
    "       'Surface Relief', 'Fracture', 'Morphology', 'Elements listed',\n",
    "       'Common Impurities', 'Geological Setting', 'Member of',\n",
    "       \"Hey's CIM Ref.\", 'Nickel-Strunz 10th (pending) ed.', 'Type',\n",
    "       'Cell Parameters', 'Powder Diffraction Data', 'Dana 8th ed.',\n",
    "       'Unit Cell V', 'Space Group', 'Dispersion', 'Strunz 8th ed.',\n",
    "       'RI values', 'Cleavage', 'Ratio', 'Type Locality', 'Class (H-M)',\n",
    "       'Health Risks', '2V', 'Approval history', 'Colour in reflected light', 'Anisotropism',\n",
    "        'Reflectivity','Dana 7th ed.','Birefringence','Isostructural with','Co-Type Localities',\n",
    "        'Twinning','Parting','Notes','Mineral Dealers'])\n",
    "\n",
    "print (len(list1))\n",
    "print (len(list2))\n",
    "\n",
    "extra = list2 - list1\n",
    "extra   #"
   ]
  },
  {
   "cell_type": "code",
   "execution_count": null,
   "id": "52c31878-2798-4055-8c0d-04270b9283a7",
   "metadata": {},
   "outputs": [],
   "source": [
    "rearrange_col = ['Mineral Name']\n",
    "rearrange_col.extend(col_name_lst)\n",
    "rearrange_col.extend(col_formula_lst)\n",
    "rearrange_col.extend(col_clr_lst)\n",
    "rearrange_col.extend(col_strctr_lst)\n",
    "rearrange_col.extend(col_texture_lst)\n",
    "rearrange_col.extend(col_compound_lst)"
   ]
  },
  {
   "cell_type": "code",
   "execution_count": null,
   "id": "658ed2a9-41be-4d90-8b97-8a81b147f0dc",
   "metadata": {},
   "outputs": [],
   "source": [
    "df = df[ rearrange_col + [ col for col in df.columns if col not in rearrange_col ] ]"
   ]
  },
  {
   "cell_type": "code",
   "execution_count": 37,
   "id": "f5e5e829",
   "metadata": {},
   "outputs": [],
   "source": [
    "## documentation for a function.\n",
    "# \n",
    "# writing processed data in csv file to analyze\n",
    "def processed_data():\n",
    "    pass\n",
    "df.to_csv('mindat.csv')"
   ]
  }
 ],
 "metadata": {
  "kernelspec": {
   "display_name": "Python 3 (ipykernel)",
   "language": "python",
   "name": "python3"
  },
  "language_info": {
   "codemirror_mode": {
    "name": "ipython",
    "version": 3
   },
   "file_extension": ".py",
   "mimetype": "text/x-python",
   "name": "python",
   "nbconvert_exporter": "python",
   "pygments_lexer": "ipython3",
   "version": "3.8.8"
  }
 },
 "nbformat": 4,
 "nbformat_minor": 5
}
