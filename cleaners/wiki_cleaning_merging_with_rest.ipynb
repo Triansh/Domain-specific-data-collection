{
 "cells": [
  {
   "cell_type": "code",
   "execution_count": 123,
   "id": "3de6f7a1-32c5-4596-a601-7636e401ea64",
   "metadata": {},
   "outputs": [],
   "source": [
    "import os\n",
    "import sys\n",
    "import pandas as pd\n",
    "import re\n",
    "from nltk.corpus import wordnet\n",
    "import unidecode"
   ]
  },
  {
   "cell_type": "code",
   "execution_count": 124,
   "id": "f67b7393-67a6-4d9a-af4f-963024cc9f0b",
   "metadata": {},
   "outputs": [],
   "source": [
    "p_reg = r'\\(p.*\\)'\n",
    "q_reg = r'\\(Q.*\\)'"
   ]
  },
  {
   "cell_type": "code",
   "execution_count": 125,
   "id": "cebd47d2-2056-4519-908c-34ba3e44f345",
   "metadata": {},
   "outputs": [],
   "source": [
    "def get_synonyms(word):\n",
    "    syns = [lm.name() for syn in wordnet.synsets(word) for lm in syn.lemmas()]\n",
    "    return set(syns)"
   ]
  },
  {
   "cell_type": "code",
   "execution_count": 126,
   "id": "68bfc6f2-c778-4884-8533-f5a51a181c3e",
   "metadata": {},
   "outputs": [],
   "source": [
    "def to_lower(df, col):\n",
    "    df[col] = df[col].apply(lambda x: x.lower())\n",
    "    return df"
   ]
  },
  {
   "cell_type": "code",
   "execution_count": 127,
   "id": "380ee6f8-f95e-4e89-a1c3-ea48dc3fbfe0",
   "metadata": {},
   "outputs": [],
   "source": [
    "def remove_synonyms(df):\n",
    "    done_with = set()\n",
    "    for col in df.columns:\n",
    "        for syn in get_synonyms(col):\n",
    "            if syn != col and syn in df.columns and syn not in done_with:\n",
    "                print(f\"{col} has synonym {syn}\")\n",
    "                df[col] = df[col].combine_first(df[syn])\n",
    "                df = df.drop(columns=[syn])\n",
    "                done_with.update([syn, col])\n",
    "    return df"
   ]
  },
  {
   "cell_type": "code",
   "execution_count": 128,
   "id": "6552493f-7e9a-43a3-b760-ee1402e5ff40",
   "metadata": {},
   "outputs": [],
   "source": [
    "def process_df(df):\n",
    "    df.columns = [x.lower() for x in df.columns]\n",
    "    df.sort_index(axis=1, inplace=True)\n",
    "    df.sort_values('mineral_name', inplace=True)\n",
    "    df = to_lower(df, 'mineral_name')\n",
    "    df['mineral_name'] = df['mineral_name'].apply(lambda x: unidecode.unidecode(x))\n",
    "    mid = df['mineral_name']\n",
    "    df.drop(labels=['mineral_name'], axis=1,inplace = True)\n",
    "    df.insert(0, 'mineral_name', mid)\n",
    "    return df"
   ]
  },
  {
   "cell_type": "code",
   "execution_count": 129,
   "id": "80843459-8c36-42cc-8161-a4e37cdf97d7",
   "metadata": {},
   "outputs": [],
   "source": [
    "def get_column_diff(df1, df2, col1, col2=None):\n",
    "    if col2 is None:\n",
    "        col2 = col1\n",
    "    set_1 = set(df1[col1].tolist()).difference(set(df2[col2].tolist()))\n",
    "    set_2 = set(df2[col2].tolist()).difference(set(df1[col1].tolist()))\n",
    "    return set_1, set_2"
   ]
  },
  {
   "cell_type": "code",
   "execution_count": 130,
   "id": "e54c26b7-e289-4676-8808-94bee3adf4e2",
   "metadata": {},
   "outputs": [],
   "source": [
    "\"\"\"\n",
    "use axis = 0 to remove colums\n",
    "use axis = 1 to remove rows\n",
    "\"\"\"\n",
    "def filter_df(df, axis, threshold=30):\n",
    "    min_count = int((threshold / 100) * df.shape[axis] + 1)\n",
    "    filtered_df = df.dropna(axis= int(not axis), how='any', thresh=min_count).reset_index(drop=True)\n",
    "    return filtered_df"
   ]
  },
  {
   "cell_type": "code",
   "execution_count": 131,
   "id": "80776f6f-1459-4ff6-8f3f-327d762918f2",
   "metadata": {},
   "outputs": [],
   "source": [
    "def extra_in_wiki(full_df, wiki_df, col):\n",
    "    count = 0\n",
    "    for value in wiki_df['mineral_name'].tolist():\n",
    "        # print(full_df[full_df['mineral_name'] == value][col].tolist())\n",
    "        if len(full_df[full_df['mineral_name'] == value][col].tolist()) == 0:\n",
    "            count+=1\n",
    "    return count"
   ]
  },
  {
   "cell_type": "code",
   "execution_count": 132,
   "id": "17ad5f84-c4e7-4d9b-9ac4-7b8e78e9e1fb",
   "metadata": {},
   "outputs": [],
   "source": [
    "wiki_df = pd.read_csv('../data/wikipedia/Wikipedia Data.csv', index_col=0)\n",
    "mwi_df = pd.read_csv('../data/merged-MWI.csv')"
   ]
  },
  {
   "cell_type": "code",
   "execution_count": 133,
   "id": "93fb3eed-b9df-4c76-b87e-322aa4c05d18",
   "metadata": {},
   "outputs": [],
   "source": [
    "wiki_df = wiki_df.reset_index(drop=True)"
   ]
  },
  {
   "cell_type": "code",
   "execution_count": 145,
   "id": "14f74d2d-8232-4d52-a265-cca038618b3f",
   "metadata": {},
   "outputs": [
    {
     "data": {
      "text/plain": [
       "(1556, 39)"
      ]
     },
     "execution_count": 145,
     "metadata": {},
     "output_type": "execute_result"
    }
   ],
   "source": [
    "wiki_df.shape"
   ]
  },
  {
   "cell_type": "code",
   "execution_count": 135,
   "id": "43e20817-722e-49d7-a9d8-0fc3b1bac104",
   "metadata": {},
   "outputs": [],
   "source": [
    "wiki_df = wiki_df.rename(columns={'Mineral Name': 'mineral_name'})"
   ]
  },
  {
   "cell_type": "code",
   "execution_count": 136,
   "id": "76482b1e-3066-420b-8680-013195736481",
   "metadata": {},
   "outputs": [],
   "source": [
    "wiki_df = process_df(wiki_df)"
   ]
  },
  {
   "cell_type": "code",
   "execution_count": 137,
   "id": "a847ddb1-6c95-4954-ab63-3fc90048e682",
   "metadata": {},
   "outputs": [],
   "source": [
    "wiki_df = wiki_df[~(wiki_df['mineral_name'] == 'nitre')]"
   ]
  },
  {
   "cell_type": "code",
   "execution_count": 138,
   "id": "2703df27-98c2-4eeb-ae7a-94b49d78ea16",
   "metadata": {},
   "outputs": [],
   "source": [
    "wiki_df = remove_synonyms(wiki_df)"
   ]
  },
  {
   "cell_type": "code",
   "execution_count": 139,
   "id": "919ecfde-9bf4-48be-a325-817d9214599a",
   "metadata": {},
   "outputs": [],
   "source": [
    "wiki_df = filter_df(wiki_df, axis = 0, threshold=20)\n",
    "# filter_df(wiki_df, axis = 1, threshold=20).shape"
   ]
  },
  {
   "cell_type": "code",
   "execution_count": 140,
   "id": "4b7b0331-40be-4ce5-9f23-413fe9081aa1",
   "metadata": {},
   "outputs": [],
   "source": [
    "wiki_df.drop(columns=set(wiki_df.columns).intersection(mwi_df.columns).difference({'mineral_name'}), inplace=True)"
   ]
  },
  {
   "cell_type": "code",
   "execution_count": 141,
   "id": "eafe584e-a05e-4edb-89f8-b744598537a3",
   "metadata": {},
   "outputs": [],
   "source": [
    "for col in wiki_df.columns:\n",
    "    if len(re.findall(p_reg, col)) != 0:\n",
    "        wiki_df[re.sub(p_reg, '', col)]=wiki_df[col].apply(lambda x: re.sub(q_reg, '', str(x)))\n",
    "        wiki_df.drop(columns=[col], inplace=True)"
   ]
  },
  {
   "cell_type": "code",
   "execution_count": null,
   "id": "41d15c5f-29df-4078-940a-04f8f5fc891b",
   "metadata": {},
   "outputs": [],
   "source": [
    "columns_to_drop = [\n",
    "    'caption',\n",
    "    'name',\n",
    "    'other',\n",
    "    'download',\n",
    "    'external links',\n",
    "    'forms',\n",
    "    'hardness data',\n",
    "    'health risks',\n",
    "    'idealised formula',\n",
    "    'ima status notes',\n",
    "    'images',\n",
    "    'industrial uses',\n",
    "    'name pronunciation',\n",
    "    'notes',\n",
    "    'optical extinction',\n",
    "    'oxide wt%',\n",
    "    'pronounciation',\n",
    "    'reference list',\n",
    "    'references',\n",
    "    'sample references',\n",
    "    'search engines',\n",
    "    'see also',\n",
    "    'setting',\n",
    "    'thermal behaviour',\n",
    "]"
   ]
  },
  {
   "cell_type": "code",
   "execution_count": null,
   "id": "e0dce6cb-33bd-4cd3-8938-8cc9f6249cc2",
   "metadata": {},
   "outputs": [],
   "source": [
    "df = df.drop(columns=columns_to_drop)"
   ]
  },
  {
   "cell_type": "code",
   "execution_count": 142,
   "id": "5ccd4457-d602-4b8b-813c-4b32f109bd39",
   "metadata": {},
   "outputs": [
    {
     "data": {
      "text/plain": [
       "Index(['mineral_name', '2v', 'caption', 'class', 'dana', 'diaphaneity',\n",
       "       'gravity', 'habit', 'mohs', 'name', 'opticalprop', 'other',\n",
       "       'refractive', 'strunz', 'symmetry', 'system', 'unit cell',\n",
       "       'commons category ', 'crystal system ', 'dana 8th edition ',\n",
       "       'described by source ', 'encyclopædia britannica online id ',\n",
       "       'freebase id ', 'google knowledge graph id ',\n",
       "       'ima number, broad sense ', 'ima status and/or rank ', 'kivid.info id ',\n",
       "       'microsoft academic id ', 'mindat mineral id ', 'named after ',\n",
       "       'nickel-strunz '10th ed', review of ', 'nickel-strunz 9th edition ',\n",
       "       'space group ', 'store norske leksikon id ', 'streak color ',\n",
       "       'strunz 8th edition ', 'subclass of ', 'type locality ',\n",
       "       'wolfram language entity code '],\n",
       "      dtype='object')"
      ]
     },
     "execution_count": 142,
     "metadata": {},
     "output_type": "execute_result"
    }
   ],
   "source": [
    "wiki_df.columns"
   ]
  },
  {
   "cell_type": "markdown",
   "id": "319223f9-6f0f-4eeb-bd2e-f7e77449127a",
   "metadata": {},
   "source": [
    "wiki_df.info()"
   ]
  },
  {
   "cell_type": "code",
   "execution_count": 143,
   "id": "35ea6ea2-dea7-4cda-8785-60e3c228db62",
   "metadata": {},
   "outputs": [],
   "source": [
    "wiki_minus_mwi, mwi_minus_wiki = get_column_diff(wiki_df, mwi_df, 'mineral_name')"
   ]
  },
  {
   "cell_type": "code",
   "execution_count": 144,
   "id": "1f024599-ac32-4896-9f2b-0a4d8005c2cc",
   "metadata": {},
   "outputs": [
    {
     "data": {
      "text/plain": [
       "(0, 5523)"
      ]
     },
     "execution_count": 144,
     "metadata": {},
     "output_type": "execute_result"
    }
   ],
   "source": [
    "len(wiki_minus_mwi), len(mwi_minus_wiki)"
   ]
  },
  {
   "cell_type": "markdown",
   "id": "14b41cfe-a939-4df0-ac31-b2d9a40c97ac",
   "metadata": {},
   "source": [
    "wiki_df.to_csv('../data/wikipedia/Wikipedia Data.csv')"
   ]
  },
  {
   "cell_type": "code",
   "execution_count": null,
   "id": "9e367ddc-becb-448c-a7d7-12735ad6ad2e",
   "metadata": {},
   "outputs": [],
   "source": [
    "\n"
   ]
  },
  {
   "cell_type": "code",
   "execution_count": null,
   "id": "aa7b6bcc-bf34-4d94-9961-9036f6a1b72d",
   "metadata": {},
   "outputs": [],
   "source": []
  },
  {
   "cell_type": "code",
   "execution_count": null,
   "id": "9d67f128-1c4f-46da-9728-98c45b165f55",
   "metadata": {},
   "outputs": [],
   "source": []
  }
 ],
 "metadata": {
  "kernelspec": {
   "display_name": "Python 3 (ipykernel)",
   "language": "python",
   "name": "python3"
  },
  "language_info": {
   "codemirror_mode": {
    "name": "ipython",
    "version": 3
   },
   "file_extension": ".py",
   "mimetype": "text/x-python",
   "name": "python",
   "nbconvert_exporter": "python",
   "pygments_lexer": "ipython3",
   "version": "3.8.8"
  }
 },
 "nbformat": 4,
 "nbformat_minor": 5
}
