{
 "cells": [
  {
   "cell_type": "code",
   "execution_count": 35,
   "id": "b30ebfa7-a246-42f0-a587-0e4c0015d2db",
   "metadata": {},
   "outputs": [],
   "source": [
    "import json\n",
    "import pandas as pd\n",
    "import numpy as np\n",
    "from copy import deepcopy\n",
    "from utils import *"
   ]
  },
  {
   "cell_type": "code",
   "execution_count": 36,
   "id": "a90322db-e76c-43b3-87de-78860674c4d9",
   "metadata": {},
   "outputs": [
    {
     "data": {
      "text/plain": [
       "(6702, 84)"
      ]
     },
     "execution_count": 36,
     "metadata": {},
     "output_type": "execute_result"
    }
   ],
   "source": [
    "mindat_df = json_to_df('../data/mindat/mindat-all.json')\n",
    "mindat_df = filter_df(mindat_df, axis=1, threshold=5)\n",
    "mindat_df = filter_df(mindat_df, axis=0, threshold=1)\n",
    "\n",
    "mindat_df.shape"
   ]
  },
  {
   "cell_type": "code",
   "execution_count": 37,
   "id": "5a874652-11bd-4abe-817b-2a89f94e5a2d",
   "metadata": {},
   "outputs": [],
   "source": [
    "mindat_df.to_csv('../data/mindat/data.csv')"
   ]
  },
  {
   "cell_type": "code",
   "execution_count": 38,
   "id": "73e558fc-f836-48b4-8b34-bcc21c0a8b2e",
   "metadata": {},
   "outputs": [
    {
     "data": {
      "text/plain": [
       "(5739, 7)"
      ]
     },
     "execution_count": 38,
     "metadata": {},
     "output_type": "execute_result"
    }
   ],
   "source": [
    "ima_df = pd.read_csv('../data/ima/ima-list.csv', index_col=0)\n",
    "ima_df = ima_df.rename(columns={'name': 'mineral_name'})\n",
    "ima_df['mineral_name'] = ima_df['mineral_name'].apply(lambda x: ''.join(x.split()))\n",
    "ima_df = process_df(ima_df)\n",
    "ima_df.shape"
   ]
  },
  {
   "cell_type": "code",
   "execution_count": 39,
   "id": "fa2dd76a-a99a-4693-8c8f-6f518ecb5418",
   "metadata": {},
   "outputs": [],
   "source": [
    "ima_df.to_csv('../data/ima/data.csv')"
   ]
  },
  {
   "cell_type": "code",
   "execution_count": 40,
   "id": "c03abc20-c8e0-49dc-9026-116a377f433e",
   "metadata": {},
   "outputs": [
    {
     "data": {
      "text/plain": [
       "(4660, 47)"
      ]
     },
     "execution_count": 40,
     "metadata": {},
     "output_type": "execute_result"
    }
   ],
   "source": [
    "web_df = json_to_df('../data/webmineral/combined_minerals.json')\n",
    "web_df = web_df.drop(web_df.columns[range(1, 134)], axis=1).reset_index(drop=True)\n",
    "web_df.shape"
   ]
  },
  {
   "cell_type": "code",
   "execution_count": 41,
   "id": "a4370f2c-242e-4ca2-8d1a-f0d06c86edf9",
   "metadata": {},
   "outputs": [],
   "source": [
    "web_df.to_csv('../data/webmineral/data.csv')"
   ]
  },
  {
   "cell_type": "markdown",
   "id": "a2b9a37b-65b6-4b9b-b02a-418d89f543cf",
   "metadata": {},
   "source": [
    "### Common"
   ]
  },
  {
   "cell_type": "code",
   "execution_count": 42,
   "id": "3d269bf2-523b-4adc-9d8b-c03a9cbd85bd",
   "metadata": {},
   "outputs": [
    {
     "data": {
      "text/plain": [
       "(6721, 90)"
      ]
     },
     "execution_count": 42,
     "metadata": {},
     "output_type": "execute_result"
    }
   ],
   "source": [
    "common_df = pd.merge(mindat_df, ima_df, how='outer', on=['mineral_name'])\n",
    "common_df.shape"
   ]
  },
  {
   "cell_type": "code",
   "execution_count": 43,
   "id": "c30980b4-c784-42f2-8eb4-ecc1d39c2c9e",
   "metadata": {},
   "outputs": [
    {
     "data": {
      "text/plain": [
       "(7079, 136)"
      ]
     },
     "execution_count": 43,
     "metadata": {},
     "output_type": "execute_result"
    }
   ],
   "source": [
    "common_df2 = pd.merge(common_df, web_df, how='outer', on=['mineral_name'])\n",
    "common_df2.shape"
   ]
  },
  {
   "cell_type": "code",
   "execution_count": 44,
   "id": "a4c55c5d-2b25-4bce-9735-db5864e38789",
   "metadata": {},
   "outputs": [
    {
     "name": "stdout",
     "output_type": "stream",
     "text": [
      "0 :  2v\n",
      "1 :  anisotropism\n",
      "2 :  approval history\n",
      "3 :  approval year\n",
      "4 :  axial ratios\n",
      "5 :  bireflectance\n",
      "6 :  birefringence\n",
      "7 :  cell dimensions\n",
      "8 :  cell parameters\n",
      "9 :  chemical formula\n",
      "10 :  class (h-m)\n",
      "11 :  cleavage_x\n",
      "12 :  cleavage_y\n",
      "13 :  co-type localities\n",
      "14 :  color\n",
      "15 :  colour\n",
      "16 :  colour in reflected light\n",
      "17 :  comment\n",
      "18 :  comments\n",
      "19 :  common impurities\n",
      "20 :  composition\n",
      "21 :  country\n",
      "22 :  crystal atlas\n",
      "23 :  crystal structure\n",
      "24 :  crystal system_x\n",
      "25 :  crystal system_y\n",
      "26 :  dana 7th ed.\n",
      "27 :  dana 8th ed.\n",
      "28 :  dana class\n",
      "29 :  density_x\n",
      "30 :  density_y\n",
      "31 :  diaphaneity\n",
      "32 :  dichroism (e)\n",
      "33 :  dichroism (w)\n",
      "34 :  dimorph of\n",
      "35 :  dispersion\n",
      "36 :  download\n",
      "37 :  electron density\n",
      "38 :  elements listed\n",
      "39 :  empirical formula\n",
      "40 :  environment\n",
      "41 :  epitaxial minerals\n",
      "42 :  external links\n",
      "43 :  fermion index\n",
      "44 :  first published\n",
      "45 :  first recorded locality\n",
      "46 :  first ref\n",
      "47 :  forms\n",
      "48 :  formula_x\n",
      "49 :  formula_y\n",
      "50 :  fracture_x\n",
      "51 :  fracture_y\n",
      "52 :  geological setting\n",
      "53 :  gladstone-dale\n",
      "54 :  habit\n",
      "55 :  hardness data\n",
      "56 :  hardness_x\n",
      "57 :  hardness_y\n",
      "58 :  health risks\n",
      "59 :  hey's cim ref.\n",
      "60 :  idealised formula\n",
      "61 :  ima formula\n",
      "62 :  ima status\n",
      "63 :  ima status notes\n",
      "64 :  ima status_x\n",
      "65 :  ima status_y\n",
      "66 :  ima year\n",
      "67 :  images\n",
      "68 :  in uv light\n",
      "69 :  industrial uses\n",
      "70 :  internal reflections\n",
      "71 :  ir spectrum\n",
      "72 :  isostructural with\n",
      "73 :  locality\n",
      "74 :  luminescence\n",
      "75 :  luster\n",
      "76 :  lustre\n",
      "77 :  magnetism_x\n",
      "78 :  magnetism_y\n",
      "79 :  member of\n",
      "80 :  mindat.org url\n",
      "81 :  mineral dealers\n",
      "82 :  mineral_name\n",
      "83 :  morphology\n",
      "84 :  name\n",
      "85 :  name origin\n",
      "86 :  name pronunciation\n",
      "87 :  nickel-strunz 10th (pending) ed.\n",
      "88 :  notes\n",
      "89 :  optical data\n",
      "90 :  optical extinction\n",
      "91 :  oxide wt%\n",
      "92 :  parting\n",
      "93 :  photoelectric\n",
      "94 :  pleochroism\n",
      "95 :  pleochroism (x)\n",
      "96 :  pleochroism (y)\n",
      "97 :  pleochroism (z)\n",
      "98 :  polymorph of\n",
      "99 :  powder diffraction data\n",
      "100 :  pronounciation\n",
      "101 :  radioactivity\n",
      "102 :  ratio\n",
      "103 :  reference\n",
      "104 :  reference list\n",
      "105 :  references\n",
      "106 :  reflectivity\n",
      "107 :  ri values\n",
      "108 :  rl anisotrophism\n",
      "109 :  rl bireflectance\n",
      "110 :  rl color\n",
      "111 :  rl pleochroism\n",
      "112 :  sample references\n",
      "113 :  search engines\n",
      "114 :  second ref\n",
      "115 :  see also\n",
      "116 :  setting\n",
      "117 :  space group\n",
      "118 :  special storage/display requirements\n",
      "119 :  specific gravity\n",
      "120 :  streak_x\n",
      "121 :  streak_y\n",
      "122 :  strunz 8th ed.\n",
      "123 :  strunz 9th ed.\n",
      "124 :  strunz class\n",
      "125 :  surface relief\n",
      "126 :  synonym\n",
      "127 :  tenacity\n",
      "128 :  thermal behaviour\n",
      "129 :  transparency\n",
      "130 :  twinning\n",
      "131 :  type\n",
      "132 :  type locality\n",
      "133 :  unit cell v\n",
      "134 :  x ray diffraction\n",
      "135 :  z\n"
     ]
    }
   ],
   "source": [
    "common_df2.sort_index(axis=1, inplace=True)\n",
    "for i, c in enumerate(sorted(common_df2.columns)):\n",
    "    print(i , \": \", c)"
   ]
  },
  {
   "cell_type": "code",
   "execution_count": 45,
   "id": "12aa6bbe-665e-4779-8cfb-38a266b36778",
   "metadata": {},
   "outputs": [],
   "source": [
    "common_df2.to_csv('../data/mindat/all-combined.csv')"
   ]
  },
  {
   "cell_type": "markdown",
   "id": "51c45eee-d1e0-4343-8bc8-f8fe42c865eb",
   "metadata": {},
   "source": [
    "### Checking differences"
   ]
  },
  {
   "cell_type": "code",
   "execution_count": 46,
   "id": "d553babd-bbba-4fe9-8275-aade8e296ee9",
   "metadata": {},
   "outputs": [
    {
     "data": {
      "text/plain": [
       "(982, 19)"
      ]
     },
     "execution_count": 46,
     "metadata": {},
     "output_type": "execute_result"
    }
   ],
   "source": [
    "mindat_minus_ima, ima_minus_mindat = get_column_diff(mindat_df, ima_df, 'mineral_name')\n",
    "len(mindat_minus_ima), len(ima_minus_mindat)"
   ]
  },
  {
   "cell_type": "code",
   "execution_count": 47,
   "id": "f83dba47-2a4a-401e-ba63-dcac22f0cba1",
   "metadata": {},
   "outputs": [
    {
     "data": {
      "text/plain": [
       "(507, 1586)"
      ]
     },
     "execution_count": 47,
     "metadata": {},
     "output_type": "execute_result"
    }
   ],
   "source": [
    "web_minus_ima, ima_minus_web = get_column_diff(web_df, ima_df, 'mineral_name')\n",
    "len(web_minus_ima), len(ima_minus_web)"
   ]
  },
  {
   "cell_type": "code",
   "execution_count": 48,
   "id": "a95c3d30-e9d9-464e-a0eb-656135e07a31",
   "metadata": {},
   "outputs": [
    {
     "data": {
      "text/plain": [
       "(507, 2402)"
      ]
     },
     "execution_count": 48,
     "metadata": {},
     "output_type": "execute_result"
    }
   ],
   "source": [
    "web_minus_mindat, mindat_minus_web = get_column_diff(web_df, mindat_df, 'mineral_name')\n",
    "len(web_minus_ima), len(mindat_minus_web)"
   ]
  },
  {
   "cell_type": "code",
   "execution_count": 49,
   "id": "ec3c3af4-1eb2-4838-90fb-3419eb4b2229",
   "metadata": {},
   "outputs": [
    {
     "data": {
      "text/plain": [
       "358"
      ]
     },
     "execution_count": 49,
     "metadata": {},
     "output_type": "execute_result"
    }
   ],
   "source": [
    "_, c2_minus_c = get_column_diff(common_df, common_df2, 'mineral_name')\n",
    "len(c2_minus_c)"
   ]
  }
 ],
 "metadata": {
  "kernelspec": {
   "display_name": "jupy-lab-kernel",
   "language": "python",
   "name": "jupy-lab-kernel"
  },
  "language_info": {
   "codemirror_mode": {
    "name": "ipython",
    "version": 3
   },
   "file_extension": ".py",
   "mimetype": "text/x-python",
   "name": "python",
   "nbconvert_exporter": "python",
   "pygments_lexer": "ipython3",
   "version": "3.8.10"
  }
 },
 "nbformat": 4,
 "nbformat_minor": 5
}
