{
 "cells": [
  {
   "cell_type": "code",
   "execution_count": 117,
   "id": "b30ebfa7-a246-42f0-a587-0e4c0015d2db",
   "metadata": {},
   "outputs": [],
   "source": [
    "import json\n",
    "import pandas as pd\n",
    "import numpy as np\n",
    "from copy import deepcopy"
   ]
  },
  {
   "cell_type": "code",
   "execution_count": 118,
   "id": "1c95fc8a-3c50-4fe0-a463-a7e15f743ae1",
   "metadata": {},
   "outputs": [],
   "source": [
    "def to_lower(df, col):\n",
    "    df[col] = df[col].apply(lambda x: x.lower())\n",
    "    return df"
   ]
  },
  {
   "cell_type": "code",
   "execution_count": 119,
   "id": "13de993b-81cf-402e-a48f-b2ae832366f3",
   "metadata": {},
   "outputs": [],
   "source": [
    "def process_df(df):\n",
    "    df.columns = [x.lower() for x in df.columns]\n",
    "    df.sort_index(axis=1, inplace=True)\n",
    "    df.sort_values('mineral_name', inplace=True)\n",
    "    df = to_lower(df, 'mineral_name')\n",
    "    mid = df['mineral_name']\n",
    "    df.drop(labels=['mineral_name'], axis=1,inplace = True)\n",
    "    df.insert(0, 'mineral_name', mid)\n",
    "    return df"
   ]
  },
  {
   "cell_type": "code",
   "execution_count": 120,
   "id": "09419106-2c1b-4595-9955-f562804ed1df",
   "metadata": {},
   "outputs": [],
   "source": [
    "def json_to_df(file_path):\n",
    "    with open(file_path, 'r') as f:\n",
    "        obj= json.load(f)\n",
    "    records = []\n",
    "    for k, v in obj.items():\n",
    "        temp = deepcopy(v)\n",
    "        temp['mineral_name'] = ''.join(k.split())\n",
    "        records.append(temp)\n",
    "    df = pd.DataFrame.from_records(records)\n",
    "    df = process_df(df)\n",
    "    return df"
   ]
  },
  {
   "cell_type": "code",
   "execution_count": 121,
   "id": "84c5e8a5-fd38-4d0d-85f9-6dc42a9d82f4",
   "metadata": {},
   "outputs": [],
   "source": [
    "\"\"\"\n",
    "use axis = 0 to remove colums\n",
    "use axis = 1 to remove rows\n",
    "\"\"\"\n",
    "def filter_df(df, axis, threshold=30):\n",
    "    min_count = int((threshold / 100) * df.shape[axis] + 1)\n",
    "    filtered_df = df.dropna(axis= int(not axis), how='any', thresh=min_count).reset_index(drop=True)\n",
    "    return filtered_df"
   ]
  },
  {
   "cell_type": "code",
   "execution_count": 122,
   "id": "ec9c52ae-0121-4e99-a983-6ee5b25152d4",
   "metadata": {},
   "outputs": [],
   "source": [
    "def get_all_cols(dfs):\n",
    "    cols = set()\n",
    "    for df in dfs:\n",
    "        cols.update(df.columns)\n",
    "    return cols"
   ]
  },
  {
   "cell_type": "code",
   "execution_count": 123,
   "id": "9b7415f7-db46-4bed-8cf9-2f486470a7dc",
   "metadata": {},
   "outputs": [],
   "source": [
    "def get_column_diff(df1, df2, col1, col2=None):\n",
    "    if col2 is None:\n",
    "        col2 = col1\n",
    "    set_1 = set(df1[col1].tolist()).difference(set(df2[col2].tolist()))\n",
    "    set_2 = set(df2[col2].tolist()).difference(set(df1[col1].tolist()))\n",
    "    return set_1, set_2"
   ]
  },
  {
   "cell_type": "code",
   "execution_count": 124,
   "id": "a90322db-e76c-43b3-87de-78860674c4d9",
   "metadata": {},
   "outputs": [
    {
     "data": {
      "text/plain": [
       "(9112, 81)"
      ]
     },
     "execution_count": 124,
     "metadata": {},
     "output_type": "execute_result"
    }
   ],
   "source": [
    "mindat_df = json_to_df('../data/mindat/mindat-all.json')\n",
    "mindat_df = filter_df(mindat_df, axis=0, threshold=1)\n",
    "# mindat_df = filter_df(mindat_df, axis=1, threshold=10)\n",
    "mindat_df.shape"
   ]
  },
  {
   "cell_type": "code",
   "execution_count": 125,
   "id": "73e558fc-f836-48b4-8b34-bcc21c0a8b2e",
   "metadata": {},
   "outputs": [
    {
     "data": {
      "text/plain": [
       "(5739, 7)"
      ]
     },
     "execution_count": 125,
     "metadata": {},
     "output_type": "execute_result"
    }
   ],
   "source": [
    "ima_df = pd.read_csv('../data/ima_mineral_list/ima-list.csv', index_col=0)\n",
    "ima_df = ima_df.rename(columns={'name': 'mineral_name'})\n",
    "ima_df['mineral_name'] = ima_df['mineral_name'].apply(lambda x: ''.join(x.split()))\n",
    "ima_df = process_df(ima_df)\n",
    "ima_df.shape"
   ]
  },
  {
   "cell_type": "code",
   "execution_count": 126,
   "id": "c03abc20-c8e0-49dc-9026-116a377f433e",
   "metadata": {},
   "outputs": [
    {
     "data": {
      "text/plain": [
       "(4660, 47)"
      ]
     },
     "execution_count": 126,
     "metadata": {},
     "output_type": "execute_result"
    }
   ],
   "source": [
    "web_df = json_to_df('../data/webmineral/combined_minerals.json')\n",
    "web_df = web_df.drop(web_df.columns[range(1, 134)], axis=1).reset_index(drop=True)\n",
    "web_df.shape"
   ]
  },
  {
   "cell_type": "code",
   "execution_count": 93,
   "id": "c6dba195-8a10-4387-aa2d-0149ac4e46c7",
   "metadata": {},
   "outputs": [
    {
     "data": {
      "text/plain": [
       "124"
      ]
     },
     "execution_count": 93,
     "metadata": {},
     "output_type": "execute_result"
    }
   ],
   "source": [
    "cols = get_all_cols([mindat_df, web_df, ima_df])\n",
    "len(cols)"
   ]
  },
  {
   "cell_type": "markdown",
   "id": "a2b9a37b-65b6-4b9b-b02a-418d89f543cf",
   "metadata": {},
   "source": [
    "### Common"
   ]
  },
  {
   "cell_type": "code",
   "execution_count": 127,
   "id": "3d269bf2-523b-4adc-9d8b-c03a9cbd85bd",
   "metadata": {},
   "outputs": [
    {
     "data": {
      "text/plain": [
       "(9142, 87)"
      ]
     },
     "execution_count": 127,
     "metadata": {},
     "output_type": "execute_result"
    }
   ],
   "source": [
    "common_df = pd.merge(mindat_df, ima_df, how='outer', on=['mineral_name'])\n",
    "common_df.shape"
   ]
  },
  {
   "cell_type": "code",
   "execution_count": 128,
   "id": "d553babd-bbba-4fe9-8275-aade8e296ee9",
   "metadata": {},
   "outputs": [
    {
     "data": {
      "text/plain": [
       "(3403, 30)"
      ]
     },
     "execution_count": 128,
     "metadata": {},
     "output_type": "execute_result"
    }
   ],
   "source": [
    "mindat_minus_ima, ima_minus_mindat = get_column_diff(mindat_df, ima_df, 'mineral_name')\n",
    "len(mindat_minus_ima), len(ima_minus_mindat)"
   ]
  },
  {
   "cell_type": "code",
   "execution_count": 96,
   "id": "6418f5f7-58ca-40c7-84a7-dc37306e875e",
   "metadata": {},
   "outputs": [
    {
     "name": "stdout",
     "output_type": "stream",
     "text": [
      "['baumhaueriteii', 'buserite', 'calcioveatchite', 'chlorkyuygenite', 'cuatrocapaite-(nh4)', 'eleonorite', 'ferri-pedrizite', 'ferro-fluoro-pedrizite', 'ferroqingheiite', \"ferrotaaffeite-2n'2s\", 'fluorapophyllite-(nh4)', 'fluoro-pedrizite', 'fowlerite', 'georgiadesite', 'gismondine', 'hydroxycalcioroméite', 'jagüéite', \"magnesiotaaffeite-2n'2s\", \"magnesiotaaffeite-6n'3s\", 'oskarssonite', 'oxycalcioroméite', 'phosphovanadylite-ba', 'pseudowollastonite', 'písekite-(y)', 'rathite-iv', 'redondite', 'roselite-β', 'staněkite', 'straβmannite', 'zvĕstovite-(zn)']\n"
     ]
    }
   ],
   "source": [
    "print(sorted(ima_minus_mindat))"
   ]
  },
  {
   "cell_type": "code",
   "execution_count": 116,
   "id": "d9d66a4c-085d-459e-8735-763dab12f429",
   "metadata": {},
   "outputs": [
    {
     "data": {
      "text/html": [
       "<div>\n",
       "<style scoped>\n",
       "    .dataframe tbody tr th:only-of-type {\n",
       "        vertical-align: middle;\n",
       "    }\n",
       "\n",
       "    .dataframe tbody tr th {\n",
       "        vertical-align: top;\n",
       "    }\n",
       "\n",
       "    .dataframe thead th {\n",
       "        text-align: right;\n",
       "    }\n",
       "</style>\n",
       "<table border=\"1\" class=\"dataframe\">\n",
       "  <thead>\n",
       "    <tr style=\"text-align: right;\">\n",
       "      <th></th>\n",
       "      <th>density_x</th>\n",
       "      <th>density_y</th>\n",
       "    </tr>\n",
       "  </thead>\n",
       "  <tbody>\n",
       "    <tr>\n",
       "      <th>7</th>\n",
       "      <td>1.33 - 1.48 g/cm3 (Measured)    1.45 g/cm3 (Ca...</td>\n",
       "      <td>1.45</td>\n",
       "    </tr>\n",
       "    <tr>\n",
       "      <th>8</th>\n",
       "      <td>3.21 g/cm3 (Measured)    3.27 g/cm3 (Calculated)</td>\n",
       "      <td>3.21</td>\n",
       "    </tr>\n",
       "    <tr>\n",
       "      <th>9</th>\n",
       "      <td>3.32 g/cm3 (Measured)    3.572 g/cm3 (Calculated)</td>\n",
       "      <td>3.31 - 3.57, Average = 3.44</td>\n",
       "    </tr>\n",
       "    <tr>\n",
       "      <th>10</th>\n",
       "      <td>4.42 g/cm3 (Measured)    4.417 g/cm3 (Calculated)</td>\n",
       "      <td>4.29 - 4.34, Average = 4.31</td>\n",
       "    </tr>\n",
       "    <tr>\n",
       "      <th>22</th>\n",
       "      <td>4.96 g/cm3 (Calculated)</td>\n",
       "      <td>4.96</td>\n",
       "    </tr>\n",
       "    <tr>\n",
       "      <th>...</th>\n",
       "      <td>...</td>\n",
       "      <td>...</td>\n",
       "    </tr>\n",
       "    <tr>\n",
       "      <th>9058</th>\n",
       "      <td>5.15 g/cm3 (Calculated)</td>\n",
       "      <td>5.15</td>\n",
       "    </tr>\n",
       "    <tr>\n",
       "      <th>9063</th>\n",
       "      <td>2.88 g/cm3 (Measured)</td>\n",
       "      <td>2.88</td>\n",
       "    </tr>\n",
       "    <tr>\n",
       "      <th>9064</th>\n",
       "      <td>3.146 g/cm3 (Measured)    3.14 g/cm3 (Calculated)</td>\n",
       "      <td>3.146</td>\n",
       "    </tr>\n",
       "    <tr>\n",
       "      <th>9066</th>\n",
       "      <td>13.32 g/cm3 (Measured)    13.42 g/cm3 (Calcula...</td>\n",
       "      <td>13.32</td>\n",
       "    </tr>\n",
       "    <tr>\n",
       "      <th>9068</th>\n",
       "      <td>3.89 - 3.97 g/cm3 (Measured)    3.92 g/cm3 (Ca...</td>\n",
       "      <td>3.927 - 3.97, Average = 3.94</td>\n",
       "    </tr>\n",
       "  </tbody>\n",
       "</table>\n",
       "<p>2473 rows × 2 columns</p>\n",
       "</div>"
      ],
      "text/plain": [
       "                                              density_x  \\\n",
       "7     1.33 - 1.48 g/cm3 (Measured)    1.45 g/cm3 (Ca...   \n",
       "8      3.21 g/cm3 (Measured)    3.27 g/cm3 (Calculated)   \n",
       "9     3.32 g/cm3 (Measured)    3.572 g/cm3 (Calculated)   \n",
       "10    4.42 g/cm3 (Measured)    4.417 g/cm3 (Calculated)   \n",
       "22                              4.96 g/cm3 (Calculated)   \n",
       "...                                                 ...   \n",
       "9058                            5.15 g/cm3 (Calculated)   \n",
       "9063                          2.88 g/cm3 (Measured)       \n",
       "9064  3.146 g/cm3 (Measured)    3.14 g/cm3 (Calculated)   \n",
       "9066  13.32 g/cm3 (Measured)    13.42 g/cm3 (Calcula...   \n",
       "9068  3.89 - 3.97 g/cm3 (Measured)    3.92 g/cm3 (Ca...   \n",
       "\n",
       "                          density_y  \n",
       "7                              1.45  \n",
       "8                              3.21  \n",
       "9       3.31 - 3.57, Average = 3.44  \n",
       "10      4.29 - 4.34, Average = 4.31  \n",
       "22                             4.96  \n",
       "...                             ...  \n",
       "9058                           5.15  \n",
       "9063                           2.88  \n",
       "9064                          3.146  \n",
       "9066                          13.32  \n",
       "9068   3.927 - 3.97, Average = 3.94  \n",
       "\n",
       "[2473 rows x 2 columns]"
      ]
     },
     "execution_count": 116,
     "metadata": {},
     "output_type": "execute_result"
    }
   ],
   "source": [
    "# common_df2[['density_x', 'density_y']].dropna()"
   ]
  },
  {
   "cell_type": "code",
   "execution_count": 113,
   "id": "e004f640-e194-4ac4-a90a-68c26da780c6",
   "metadata": {},
   "outputs": [],
   "source": [
    "# same = [( 'cleavage_y', 'cleavage_x'), ('crystal system_x', 'crystal system_y')]"
   ]
  },
  {
   "cell_type": "code",
   "execution_count": 115,
   "id": "26392de0-f29d-47e5-8f3a-d90ca05b0cc3",
   "metadata": {},
   "outputs": [
    {
     "name": "stdout",
     "output_type": "stream",
     "text": [
      "4757\n",
      "6529\n"
     ]
    }
   ],
   "source": [
    "# for (x, y) in same:\n",
    "#     common_df2[x] = common_df2[x].combine_first(common_df2[y])\n",
    "#     print(common_df2[x].notna().sum())\n",
    "#     common_df2.drop(columns=[y], inplace=True)"
   ]
  },
  {
   "cell_type": "code",
   "execution_count": 129,
   "id": "6754fe73-4e0b-4872-ac3a-efe10378a73b",
   "metadata": {},
   "outputs": [
    {
     "name": "stdout",
     "output_type": "stream",
     "text": [
      "0 :  2v\n",
      "1 :  anisotropism\n",
      "2 :  approval history\n",
      "3 :  approval year\n",
      "4 :  axial ratios\n",
      "5 :  bireflectance\n",
      "6 :  birefringence\n",
      "7 :  cell dimensions\n",
      "8 :  cell parameters\n",
      "9 :  chemical formula\n",
      "10 :  class (h-m)\n",
      "11 :  cleavage_x\n",
      "12 :  cleavage_y\n",
      "13 :  co-type localities\n",
      "14 :  color\n",
      "15 :  colour\n",
      "16 :  colour in reflected light\n",
      "17 :  comment\n",
      "18 :  comments\n",
      "19 :  common impurities\n",
      "20 :  composition\n",
      "21 :  country\n",
      "22 :  crystal atlas\n",
      "23 :  crystal structure\n",
      "24 :  crystal system_x\n",
      "25 :  crystal system_y\n",
      "26 :  dana 7th ed.\n",
      "27 :  dana 8th ed.\n",
      "28 :  dana class\n",
      "29 :  density_x\n",
      "30 :  density_y\n",
      "31 :  diaphaneity\n",
      "32 :  dichroism (e)\n",
      "33 :  dichroism (w)\n",
      "34 :  dimorph of\n",
      "35 :  dispersion\n",
      "36 :  download\n",
      "37 :  electron density\n",
      "38 :  elements listed\n",
      "39 :  empirical formula\n",
      "40 :  environment\n",
      "41 :  external links\n",
      "42 :  fermion index\n",
      "43 :  first published\n",
      "44 :  first recorded locality\n",
      "45 :  first ref\n",
      "46 :  forms\n",
      "47 :  formula_x\n",
      "48 :  formula_y\n",
      "49 :  fracture_x\n",
      "50 :  fracture_y\n",
      "51 :  geological setting\n",
      "52 :  gladstone-dale\n",
      "53 :  habit\n",
      "54 :  hardness data\n",
      "55 :  hardness_x\n",
      "56 :  hardness_y\n",
      "57 :  health risks\n",
      "58 :  hey's cim ref.\n",
      "59 :  idealised formula\n",
      "60 :  ima formula\n",
      "61 :  ima status\n",
      "62 :  ima status notes\n",
      "63 :  ima status_x\n",
      "64 :  ima status_y\n",
      "65 :  ima year\n",
      "66 :  images\n",
      "67 :  in uv light\n",
      "68 :  industrial uses\n",
      "69 :  internal reflections\n",
      "70 :  ir spectrum\n",
      "71 :  isostructural with\n",
      "72 :  locality\n",
      "73 :  luminescence\n",
      "74 :  luster\n",
      "75 :  lustre\n",
      "76 :  magnetism\n",
      "77 :  member of\n",
      "78 :  mindat.org url\n",
      "79 :  mineral dealers\n",
      "80 :  mineral_name\n",
      "81 :  morphology\n",
      "82 :  name\n",
      "83 :  name origin\n",
      "84 :  name pronunciation\n",
      "85 :  nickel-strunz 10th (pending) ed.\n",
      "86 :  notes\n",
      "87 :  optical data\n",
      "88 :  optical extinction\n",
      "89 :  oxide wt%\n",
      "90 :  parting\n",
      "91 :  photoelectric\n",
      "92 :  pleochroism\n",
      "93 :  pleochroism (x)\n",
      "94 :  pleochroism (y)\n",
      "95 :  pleochroism (z)\n",
      "96 :  polymorph of\n",
      "97 :  powder diffraction data\n",
      "98 :  pronounciation\n",
      "99 :  radioactivity\n",
      "100 :  ratio\n",
      "101 :  reference\n",
      "102 :  reference list\n",
      "103 :  references\n",
      "104 :  reflectivity\n",
      "105 :  ri values\n",
      "106 :  rl anisotrophism\n",
      "107 :  rl bireflectance\n",
      "108 :  rl color\n",
      "109 :  rl pleochroism\n",
      "110 :  sample references\n",
      "111 :  search engines\n",
      "112 :  second ref\n",
      "113 :  see also\n",
      "114 :  setting\n",
      "115 :  space group\n",
      "116 :  specific gravity\n",
      "117 :  streak_x\n",
      "118 :  streak_y\n",
      "119 :  strunz 8th ed.\n",
      "120 :  strunz 9th ed.\n",
      "121 :  strunz class\n",
      "122 :  surface relief\n",
      "123 :  synonym\n",
      "124 :  tenacity\n",
      "125 :  thermal behaviour\n",
      "126 :  transparency\n",
      "127 :  twinning\n",
      "128 :  type\n",
      "129 :  type locality\n",
      "130 :  unit cell v\n",
      "131 :  x ray diffraction\n",
      "132 :  z\n"
     ]
    }
   ],
   "source": [
    "common_df2 = pd.merge(common_df, web_df, how='outer', on=['mineral_name'])\n",
    "common_df2.shape\n",
    "common_df2.sort_index(axis=1, inplace=True)\n",
    "for i, c in enumerate(sorted(common_df2.columns)):\n",
    "    print(i , \": \", c)\n"
   ]
  },
  {
   "cell_type": "code",
   "execution_count": 130,
   "id": "4214aedb-7214-4093-9afa-a1d7b41c6207",
   "metadata": {},
   "outputs": [],
   "source": [
    "common_df2.to_csv('../data/mindat/all-combined.csv')"
   ]
  },
  {
   "cell_type": "code",
   "execution_count": 69,
   "id": "f83dba47-2a4a-401e-ba63-dcac22f0cba1",
   "metadata": {},
   "outputs": [
    {
     "data": {
      "text/plain": [
       "(690, 1769)"
      ]
     },
     "execution_count": 69,
     "metadata": {},
     "output_type": "execute_result"
    }
   ],
   "source": [
    "web_minus_ima, ima_minus_web = get_column_diff(web_df, ima_df, 'mineral_name')\n",
    "len(web_minus_ima), len(ima_minus_web)"
   ]
  },
  {
   "cell_type": "code",
   "execution_count": 58,
   "id": "a95c3d30-e9d9-464e-a0eb-656135e07a31",
   "metadata": {},
   "outputs": [
    {
     "data": {
      "text/plain": [
       "(694, 2253)"
      ]
     },
     "execution_count": 58,
     "metadata": {},
     "output_type": "execute_result"
    }
   ],
   "source": [
    "web_minus_mindat, mindat_minus_web = get_column_diff(web_df, mindat_df, 'mineral_name')\n",
    "len(web_minus_ima), len(mindat_minus_web)"
   ]
  },
  {
   "cell_type": "code",
   "execution_count": 67,
   "id": "3942c366-9f99-486a-b680-77e0b2ff5b34",
   "metadata": {},
   "outputs": [
    {
     "data": {
      "text/html": [
       "<div>\n",
       "<style scoped>\n",
       "    .dataframe tbody tr th:only-of-type {\n",
       "        vertical-align: middle;\n",
       "    }\n",
       "\n",
       "    .dataframe tbody tr th {\n",
       "        vertical-align: top;\n",
       "    }\n",
       "\n",
       "    .dataframe thead th {\n",
       "        text-align: right;\n",
       "    }\n",
       "</style>\n",
       "<table border=\"1\" class=\"dataframe\">\n",
       "  <thead>\n",
       "    <tr style=\"text-align: right;\">\n",
       "      <th></th>\n",
       "      <th>ima status_y</th>\n",
       "      <th>ima status_x</th>\n",
       "    </tr>\n",
       "  </thead>\n",
       "  <tbody>\n",
       "    <tr>\n",
       "      <th>0</th>\n",
       "      <td>NaN</td>\n",
       "      <td>A</td>\n",
       "    </tr>\n",
       "    <tr>\n",
       "      <th>1</th>\n",
       "      <td>Approved IMA 1975</td>\n",
       "      <td>A</td>\n",
       "    </tr>\n",
       "    <tr>\n",
       "      <th>2</th>\n",
       "      <td>Approved IMA 1994</td>\n",
       "      <td>A</td>\n",
       "    </tr>\n",
       "    <tr>\n",
       "      <th>3</th>\n",
       "      <td>Valid Species (Pre-IMA) 1956</td>\n",
       "      <td>G</td>\n",
       "    </tr>\n",
       "    <tr>\n",
       "      <th>4</th>\n",
       "      <td>Approved IMA 1983</td>\n",
       "      <td>A</td>\n",
       "    </tr>\n",
       "    <tr>\n",
       "      <th>5</th>\n",
       "      <td>Approved IMA 2006 (Dana # Added)</td>\n",
       "      <td>A</td>\n",
       "    </tr>\n",
       "    <tr>\n",
       "      <th>6</th>\n",
       "      <td>Approved IMA 1991</td>\n",
       "      <td>A</td>\n",
       "    </tr>\n",
       "    <tr>\n",
       "      <th>7</th>\n",
       "      <td>NaN</td>\n",
       "      <td>A</td>\n",
       "    </tr>\n",
       "    <tr>\n",
       "      <th>8</th>\n",
       "      <td>Valid Species (Pre-IMA) 1855</td>\n",
       "      <td>G</td>\n",
       "    </tr>\n",
       "    <tr>\n",
       "      <th>9</th>\n",
       "      <td>Approved IMA 1975</td>\n",
       "      <td>A</td>\n",
       "    </tr>\n",
       "    <tr>\n",
       "      <th>10</th>\n",
       "      <td>NaN</td>\n",
       "      <td>A</td>\n",
       "    </tr>\n",
       "    <tr>\n",
       "      <th>11</th>\n",
       "      <td>NaN</td>\n",
       "      <td>Rn</td>\n",
       "    </tr>\n",
       "    <tr>\n",
       "      <th>12</th>\n",
       "      <td>NaN</td>\n",
       "      <td>A</td>\n",
       "    </tr>\n",
       "    <tr>\n",
       "      <th>13</th>\n",
       "      <td>NaN</td>\n",
       "      <td>A</td>\n",
       "    </tr>\n",
       "    <tr>\n",
       "      <th>14</th>\n",
       "      <td>Valid Species (Pre-IMA) 1794</td>\n",
       "      <td>Rd</td>\n",
       "    </tr>\n",
       "    <tr>\n",
       "      <th>15</th>\n",
       "      <td>Approved IMA 1987</td>\n",
       "      <td>A</td>\n",
       "    </tr>\n",
       "    <tr>\n",
       "      <th>16</th>\n",
       "      <td>NaN</td>\n",
       "      <td>A</td>\n",
       "    </tr>\n",
       "    <tr>\n",
       "      <th>17</th>\n",
       "      <td>Valid Species (Pre-IMA) 1866</td>\n",
       "      <td>G</td>\n",
       "    </tr>\n",
       "    <tr>\n",
       "      <th>18</th>\n",
       "      <td>Approved IMA 1999 (Dana # Added)</td>\n",
       "      <td>A</td>\n",
       "    </tr>\n",
       "    <tr>\n",
       "      <th>19</th>\n",
       "      <td>NaN</td>\n",
       "      <td>A</td>\n",
       "    </tr>\n",
       "  </tbody>\n",
       "</table>\n",
       "</div>"
      ],
      "text/plain": [
       "                         ima status_y ima status_x\n",
       "0                                 NaN            A\n",
       "1                   Approved IMA 1975            A\n",
       "2                   Approved IMA 1994            A\n",
       "3        Valid Species (Pre-IMA) 1956            G\n",
       "4                   Approved IMA 1983            A\n",
       "5    Approved IMA 2006 (Dana # Added)            A\n",
       "6                   Approved IMA 1991            A\n",
       "7                                 NaN            A\n",
       "8        Valid Species (Pre-IMA) 1855            G\n",
       "9                   Approved IMA 1975            A\n",
       "10                                NaN            A\n",
       "11                                NaN           Rn\n",
       "12                                NaN            A\n",
       "13                                NaN            A\n",
       "14       Valid Species (Pre-IMA) 1794           Rd\n",
       "15                  Approved IMA 1987            A\n",
       "16                                NaN            A\n",
       "17       Valid Species (Pre-IMA) 1866            G\n",
       "18   Approved IMA 1999 (Dana # Added)            A\n",
       "19                                NaN            A"
      ]
     },
     "execution_count": 67,
     "metadata": {},
     "output_type": "execute_result"
    }
   ],
   "source": [
    "common_df[['ima status_y', 'ima status_x']].head(20)"
   ]
  },
  {
   "cell_type": "code",
   "execution_count": 101,
   "id": "9d2acc4e-bd75-4cf0-8a05-6f57eba1768a",
   "metadata": {},
   "outputs": [],
   "source": [
    "fil_df = filter_df(mindat_df, axis=0, threshold=3)\n",
    "fil_df = filter_df(fil_df, axis=1, threshold=10)"
   ]
  },
  {
   "cell_type": "code",
   "execution_count": 102,
   "id": "db85fb65-e76c-4034-b35e-1134c67f9911",
   "metadata": {},
   "outputs": [
    {
     "data": {
      "text/plain": [
       "(4351, 67)"
      ]
     },
     "execution_count": 102,
     "metadata": {},
     "output_type": "execute_result"
    }
   ],
   "source": [
    "fil_df.shape"
   ]
  },
  {
   "cell_type": "markdown",
   "id": "2d1a0839-8637-4b65-a516-5dfcc3c1f80d",
   "metadata": {},
   "source": [
    "### Hardness filter\n"
   ]
  },
  {
   "cell_type": "code",
   "execution_count": 73,
   "id": "f4dafa0f-077a-4e71-afa2-9d332adb56c8",
   "metadata": {},
   "outputs": [],
   "source": [
    "hardness = mindat_df['hardness'].tolist()"
   ]
  },
  {
   "cell_type": "code",
   "execution_count": 74,
   "id": "db7b9b57-ea73-4ebb-b30f-da219d45504c",
   "metadata": {},
   "outputs": [],
   "source": [
    "vickers = [any('VH' in y for y in x) for x in hardness if x != np.nan and isinstance(x, list) ]"
   ]
  },
  {
   "cell_type": "code",
   "execution_count": 75,
   "id": "75be3b88-c1b9-43ba-beab-7aa607201cb8",
   "metadata": {},
   "outputs": [
    {
     "data": {
      "text/plain": [
       "4273"
      ]
     },
     "execution_count": 75,
     "metadata": {},
     "output_type": "execute_result"
    }
   ],
   "source": [
    "len(vickers)"
   ]
  },
  {
   "cell_type": "markdown",
   "id": "f6cfec66-0673-4e79-8bc9-7ac910d0a2c9",
   "metadata": {},
   "source": [
    "## SOme other stuff"
   ]
  },
  {
   "cell_type": "code",
   "execution_count": 8,
   "id": "b3845e70-b7fb-4eea-9614-5d4189d8d243",
   "metadata": {},
   "outputs": [
    {
     "data": {
      "text/plain": [
       "array([ True,  True,  True,  True,  True,  True,  True,  True,  True,\n",
       "        True,  True,  True,  True,  True,  True,  True,  True,  True,\n",
       "        True,  True,  True,  True,  True,  True,  True,  True,  True,\n",
       "        True,  True,  True,  True,  True,  True,  True,  True,  True,\n",
       "        True,  True,  True,  True,  True,  True,  True,  True,  True,\n",
       "        True,  True,  True,  True,  True,  True,  True,  True,  True,\n",
       "        True,  True,  True,  True,  True,  True,  True,  True,  True,\n",
       "        True,  True,  True,  True,  True,  True,  True,  True,  True,\n",
       "        True,  True,  True,  True,  True,  True,  True,  True,  True,\n",
       "        True,  True,  True,  True,  True,  True,  True,  True,  True,\n",
       "        True,  True,  True,  True,  True,  True,  True,  True,  True,\n",
       "        True,  True,  True])"
      ]
     },
     "execution_count": 8,
     "metadata": {},
     "output_type": "execute_result"
    }
   ],
   "source": [
    "old_df = pd.r('../data/mindat/mindat-7k-all.json')\n",
    "df = json_to_df('../data/mindat/mindat-all.json')\n",
    "old_df.columns == df.columns"
   ]
  },
  {
   "cell_type": "code",
   "execution_count": null,
   "id": "6c5cdf95-b133-47eb-82ea-bafa71945a4c",
   "metadata": {},
   "outputs": [],
   "source": []
  }
 ],
 "metadata": {
  "kernelspec": {
   "display_name": "jupy-lab-kernel",
   "language": "python",
   "name": "jupy-lab-kernel"
  },
  "language_info": {
   "codemirror_mode": {
    "name": "ipython",
    "version": 3
   },
   "file_extension": ".py",
   "mimetype": "text/x-python",
   "name": "python",
   "nbconvert_exporter": "python",
   "pygments_lexer": "ipython3",
   "version": "3.8.10"
  }
 },
 "nbformat": 4,
 "nbformat_minor": 5
}
