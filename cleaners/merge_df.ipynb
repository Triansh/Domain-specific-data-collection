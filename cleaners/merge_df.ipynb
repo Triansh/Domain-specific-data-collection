{
 "cells": [
  {
   "cell_type": "code",
   "execution_count": 43,
   "id": "b30ebfa7-a246-42f0-a587-0e4c0015d2db",
   "metadata": {},
   "outputs": [],
   "source": [
    "import json\n",
    "import pandas as pd\n",
    "import numpy as np\n",
    "from copy import deepcopy"
   ]
  },
  {
   "cell_type": "code",
   "execution_count": 44,
   "id": "1c95fc8a-3c50-4fe0-a463-a7e15f743ae1",
   "metadata": {},
   "outputs": [],
   "source": [
    "def to_lower(df, col):\n",
    "    df[col] = df[col].apply(lambda x: x.lower())\n",
    "    return df"
   ]
  },
  {
   "cell_type": "code",
   "execution_count": 45,
   "id": "13de993b-81cf-402e-a48f-b2ae832366f3",
   "metadata": {},
   "outputs": [],
   "source": [
    "def process_df(df):\n",
    "    df.columns = [x.lower() for x in df.columns]\n",
    "    df.sort_index(axis=1, inplace=True)\n",
    "    df.sort_values('mineral_name', inplace=True)\n",
    "    df = to_lower(df, 'mineral_name')\n",
    "    df['mineral_name'] = df['mineral_name'].apply(lambda x: unidecode.unidecode(x))\n",
    "    mid = df['mineral_name']\n",
    "    df.drop(labels=['mineral_name'], axis=1,inplace = True)\n",
    "    df.insert(0, 'mineral_name', mid)\n",
    "    return df"
   ]
  },
  {
   "cell_type": "code",
   "execution_count": 46,
   "id": "09419106-2c1b-4595-9955-f562804ed1df",
   "metadata": {},
   "outputs": [],
   "source": [
    "def json_to_df(file_path):\n",
    "    with open(file_path, 'r') as f:\n",
    "        obj= json.load(f)\n",
    "    records = []\n",
    "    for k, v in obj.items():\n",
    "        temp = deepcopy(v)\n",
    "        temp['mineral_name'] = ''.join(k.split())\n",
    "        records.append(temp)\n",
    "    df = pd.DataFrame.from_records(records)\n",
    "    df = process_df(df)\n",
    "    return df"
   ]
  },
  {
   "cell_type": "code",
   "execution_count": 47,
   "id": "84c5e8a5-fd38-4d0d-85f9-6dc42a9d82f4",
   "metadata": {},
   "outputs": [],
   "source": [
    "\"\"\"\n",
    "use axis = 0 to remove colums\n",
    "use axis = 1 to remove rows\n",
    "\"\"\"\n",
    "def filter_df(df, axis, threshold=30):\n",
    "    min_count = int((threshold / 100) * df.shape[axis] + 1)\n",
    "    filtered_df = df.dropna(axis= int(not axis), how='any', thresh=min_count).reset_index(drop=True)\n",
    "    return filtered_df"
   ]
  },
  {
   "cell_type": "code",
   "execution_count": 48,
   "id": "ec9c52ae-0121-4e99-a983-6ee5b25152d4",
   "metadata": {},
   "outputs": [],
   "source": [
    "def get_all_cols(dfs):\n",
    "    cols = set()\n",
    "    for df in dfs:\n",
    "        cols.update(df.columns)\n",
    "    return cols"
   ]
  },
  {
   "cell_type": "code",
   "execution_count": 49,
   "id": "9b7415f7-db46-4bed-8cf9-2f486470a7dc",
   "metadata": {},
   "outputs": [],
   "source": [
    "def get_column_diff(df1, df2, col1, col2=None):\n",
    "    if col2 is None:\n",
    "        col2 = col1\n",
    "    set_1 = set(df1[col1].tolist()).difference(set(df2[col2].tolist()))\n",
    "    set_2 = set(df2[col2].tolist()).difference(set(df1[col1].tolist()))\n",
    "    return set_1, set_2"
   ]
  },
  {
   "cell_type": "code",
   "execution_count": 50,
   "id": "a90322db-e76c-43b3-87de-78860674c4d9",
   "metadata": {},
   "outputs": [
    {
     "name": "stdout",
     "output_type": "stream",
     "text": [
      "{'electrical', 'german synonym of', 'recorded ages', 'interestingness', 'translation gliding', 'co-first recorded localities', 'epitaxi comments', 'a mixture of', 'cas registry number', 'first recorded localities', 'series formula', 'synonym of', 'german name for', 'epitaxy comments', 'synonym', 'french synonym of', 'empirical formulas', 'as a commodity'}\n"
     ]
    },
    {
     "data": {
      "text/plain": [
       "(6702, 84)"
      ]
     },
     "execution_count": 50,
     "metadata": {},
     "output_type": "execute_result"
    }
   ],
   "source": [
    "mindat_df = json_to_df('../data/mindat/mindat-all.json')\n",
    "copy_df = deepcopy(mindat_df)\n",
    "\n",
    "copy_df = filter_df(copy_df, axis=1, threshold=5)\n",
    "mindat_df = filter_df(copy_df, axis=0, threshold=1)\n",
    "print(get_all_cols([copy_df]).difference(get_all_cols([mindat_df])))\n",
    "\n",
    "# mindat_df['synonym'] = copy_mindat_df['synonym']\n",
    "# mindat_df['magnetism'] = copy_mindat_df['magnetism']\n",
    "mindat_df.shape"
   ]
  },
  {
   "cell_type": "code",
   "execution_count": 51,
   "id": "73e558fc-f836-48b4-8b34-bcc21c0a8b2e",
   "metadata": {},
   "outputs": [
    {
     "data": {
      "text/plain": [
       "(5739, 7)"
      ]
     },
     "execution_count": 51,
     "metadata": {},
     "output_type": "execute_result"
    }
   ],
   "source": [
    "ima_df = pd.read_csv('../data/ima_mineral_list/ima-list.csv', index_col=0)\n",
    "ima_df = ima_df.rename(columns={'name': 'mineral_name'})\n",
    "ima_df['mineral_name'] = ima_df['mineral_name'].apply(lambda x: ''.join(x.split()))\n",
    "ima_df = process_df(ima_df)\n",
    "ima_df.shape"
   ]
  },
  {
   "cell_type": "code",
   "execution_count": 52,
   "id": "c03abc20-c8e0-49dc-9026-116a377f433e",
   "metadata": {},
   "outputs": [
    {
     "data": {
      "text/plain": [
       "(4660, 47)"
      ]
     },
     "execution_count": 52,
     "metadata": {},
     "output_type": "execute_result"
    }
   ],
   "source": [
    "web_df = json_to_df('../data/webmineral/combined_minerals.json')\n",
    "web_df = web_df.drop(web_df.columns[range(1, 134)], axis=1).reset_index(drop=True)\n",
    "# web_df = filter_df(web_df, axis=1, threshold=12)\n",
    "web_df.shape"
   ]
  },
  {
   "cell_type": "code",
   "execution_count": 53,
   "id": "c6dba195-8a10-4387-aa2d-0149ac4e46c7",
   "metadata": {},
   "outputs": [
    {
     "data": {
      "text/plain": [
       "126"
      ]
     },
     "execution_count": 53,
     "metadata": {},
     "output_type": "execute_result"
    }
   ],
   "source": [
    "cols = get_all_cols([mindat_df, web_df, ima_df])\n",
    "len(cols)"
   ]
  },
  {
   "cell_type": "markdown",
   "id": "a2b9a37b-65b6-4b9b-b02a-418d89f543cf",
   "metadata": {},
   "source": [
    "### Common"
   ]
  },
  {
   "cell_type": "code",
   "execution_count": 54,
   "id": "3d269bf2-523b-4adc-9d8b-c03a9cbd85bd",
   "metadata": {},
   "outputs": [
    {
     "data": {
      "text/plain": [
       "(6721, 90)"
      ]
     },
     "execution_count": 54,
     "metadata": {},
     "output_type": "execute_result"
    }
   ],
   "source": [
    "common_df = pd.merge(mindat_df, ima_df, how='outer', on=['mineral_name'])\n",
    "common_df.shape"
   ]
  },
  {
   "cell_type": "code",
   "execution_count": 55,
   "id": "d553babd-bbba-4fe9-8275-aade8e296ee9",
   "metadata": {},
   "outputs": [
    {
     "data": {
      "text/plain": [
       "(982, 19)"
      ]
     },
     "execution_count": 55,
     "metadata": {},
     "output_type": "execute_result"
    }
   ],
   "source": [
    "mindat_minus_ima, ima_minus_mindat = get_column_diff(mindat_df, ima_df, 'mineral_name')\n",
    "len(mindat_minus_ima), len(ima_minus_mindat)"
   ]
  },
  {
   "cell_type": "code",
   "execution_count": 56,
   "id": "6418f5f7-58ca-40c7-84a7-dc37306e875e",
   "metadata": {},
   "outputs": [
    {
     "name": "stdout",
     "output_type": "stream",
     "text": [
      "['baumhaueriteii', 'buserite', 'calcioveatchite', 'chlorkyuygenite', 'eleonorite', 'ferri-pedrizite', 'ferro-fluoro-pedrizite', 'ferroqingheiite', 'fluoro-pedrizite', 'fowlerite', 'gismondine', 'jagueite', 'phosphovanadylite-ba', 'pisekite-(y)', 'pseudowollastonite', 'rathite-iv', 'redondite', 'roselite-b', 'strabmannite']\n"
     ]
    }
   ],
   "source": [
    "print(sorted(ima_minus_mindat))"
   ]
  },
  {
   "cell_type": "code",
   "execution_count": 57,
   "id": "d9d66a4c-085d-459e-8735-763dab12f429",
   "metadata": {},
   "outputs": [],
   "source": [
    "# common_df2[['density_x', 'density_y']].dropna()"
   ]
  },
  {
   "cell_type": "code",
   "execution_count": 58,
   "id": "e004f640-e194-4ac4-a90a-68c26da780c6",
   "metadata": {},
   "outputs": [],
   "source": [
    "# same = [( 'cleavage_y', 'cleavage_x'), ('crystal system_x', 'crystal system_y')]"
   ]
  },
  {
   "cell_type": "code",
   "execution_count": 59,
   "id": "26392de0-f29d-47e5-8f3a-d90ca05b0cc3",
   "metadata": {},
   "outputs": [],
   "source": [
    "# for (x, y) in same:\n",
    "#     common_df2[x] = common_df2[x].combine_first(common_df2[y])\n",
    "#     print(common_df2[x].notna().sum())\n",
    "#     common_df2.drop(columns=[y], inplace=True)"
   ]
  },
  {
   "cell_type": "code",
   "execution_count": 60,
   "id": "6754fe73-4e0b-4872-ac3a-efe10378a73b",
   "metadata": {},
   "outputs": [
    {
     "name": "stdout",
     "output_type": "stream",
     "text": [
      "(7079, 136)\n",
      "0 :  2v\n",
      "1 :  anisotropism\n",
      "2 :  approval history\n",
      "3 :  approval year\n",
      "4 :  axial ratios\n",
      "5 :  bireflectance\n",
      "6 :  birefringence\n",
      "7 :  cell dimensions\n",
      "8 :  cell parameters\n",
      "9 :  chemical formula\n",
      "10 :  class (h-m)\n",
      "11 :  cleavage_x\n",
      "12 :  cleavage_y\n",
      "13 :  co-type localities\n",
      "14 :  color\n",
      "15 :  colour\n",
      "16 :  colour in reflected light\n",
      "17 :  comment\n",
      "18 :  comments\n",
      "19 :  common impurities\n",
      "20 :  composition\n",
      "21 :  country\n",
      "22 :  crystal atlas\n",
      "23 :  crystal structure\n",
      "24 :  crystal system_x\n",
      "25 :  crystal system_y\n",
      "26 :  dana 7th ed.\n",
      "27 :  dana 8th ed.\n",
      "28 :  dana class\n",
      "29 :  density_x\n",
      "30 :  density_y\n",
      "31 :  diaphaneity\n",
      "32 :  dichroism (e)\n",
      "33 :  dichroism (w)\n",
      "34 :  dimorph of\n",
      "35 :  dispersion\n",
      "36 :  download\n",
      "37 :  electron density\n",
      "38 :  elements listed\n",
      "39 :  empirical formula\n",
      "40 :  environment\n",
      "41 :  epitaxial minerals\n",
      "42 :  external links\n",
      "43 :  fermion index\n",
      "44 :  first published\n",
      "45 :  first recorded locality\n",
      "46 :  first ref\n",
      "47 :  forms\n",
      "48 :  formula_x\n",
      "49 :  formula_y\n",
      "50 :  fracture_x\n",
      "51 :  fracture_y\n",
      "52 :  geological setting\n",
      "53 :  gladstone-dale\n",
      "54 :  habit\n",
      "55 :  hardness data\n",
      "56 :  hardness_x\n",
      "57 :  hardness_y\n",
      "58 :  health risks\n",
      "59 :  hey's cim ref.\n",
      "60 :  idealised formula\n",
      "61 :  ima formula\n",
      "62 :  ima status\n",
      "63 :  ima status notes\n",
      "64 :  ima status_x\n",
      "65 :  ima status_y\n",
      "66 :  ima year\n",
      "67 :  images\n",
      "68 :  in uv light\n",
      "69 :  industrial uses\n",
      "70 :  internal reflections\n",
      "71 :  ir spectrum\n",
      "72 :  isostructural with\n",
      "73 :  locality\n",
      "74 :  luminescence\n",
      "75 :  luster\n",
      "76 :  lustre\n",
      "77 :  magnetism_x\n",
      "78 :  magnetism_y\n",
      "79 :  member of\n",
      "80 :  mindat.org url\n",
      "81 :  mineral dealers\n",
      "82 :  mineral_name\n",
      "83 :  morphology\n",
      "84 :  name\n",
      "85 :  name origin\n",
      "86 :  name pronunciation\n",
      "87 :  nickel-strunz 10th (pending) ed.\n",
      "88 :  notes\n",
      "89 :  optical data\n",
      "90 :  optical extinction\n",
      "91 :  oxide wt%\n",
      "92 :  parting\n",
      "93 :  photoelectric\n",
      "94 :  pleochroism\n",
      "95 :  pleochroism (x)\n",
      "96 :  pleochroism (y)\n",
      "97 :  pleochroism (z)\n",
      "98 :  polymorph of\n",
      "99 :  powder diffraction data\n",
      "100 :  pronounciation\n",
      "101 :  radioactivity\n",
      "102 :  ratio\n",
      "103 :  reference\n",
      "104 :  reference list\n",
      "105 :  references\n",
      "106 :  reflectivity\n",
      "107 :  ri values\n",
      "108 :  rl anisotrophism\n",
      "109 :  rl bireflectance\n",
      "110 :  rl color\n",
      "111 :  rl pleochroism\n",
      "112 :  sample references\n",
      "113 :  search engines\n",
      "114 :  second ref\n",
      "115 :  see also\n",
      "116 :  setting\n",
      "117 :  space group\n",
      "118 :  special storage/display requirements\n",
      "119 :  specific gravity\n",
      "120 :  streak_x\n",
      "121 :  streak_y\n",
      "122 :  strunz 8th ed.\n",
      "123 :  strunz 9th ed.\n",
      "124 :  strunz class\n",
      "125 :  surface relief\n",
      "126 :  synonym\n",
      "127 :  tenacity\n",
      "128 :  thermal behaviour\n",
      "129 :  transparency\n",
      "130 :  twinning\n",
      "131 :  type\n",
      "132 :  type locality\n",
      "133 :  unit cell v\n",
      "134 :  x ray diffraction\n",
      "135 :  z\n"
     ]
    }
   ],
   "source": [
    "common_df2 = pd.merge(common_df, web_df, how='outer', on=['mineral_name'])\n",
    "print(common_df2.shape)\n",
    "common_df2.sort_index(axis=1, inplace=True)\n",
    "for i, c in enumerate(sorted(common_df2.columns)):\n",
    "    print(i , \": \", c)\n"
   ]
  },
  {
   "cell_type": "code",
   "execution_count": 61,
   "id": "ec3c3af4-1eb2-4838-90fb-3419eb4b2229",
   "metadata": {},
   "outputs": [
    {
     "data": {
      "text/plain": [
       "358"
      ]
     },
     "execution_count": 61,
     "metadata": {},
     "output_type": "execute_result"
    }
   ],
   "source": [
    "_, c2_minus_c = get_column_diff(common_df, common_df2, 'mineral_name')\n",
    "len(c2_minus_c)"
   ]
  },
  {
   "cell_type": "code",
   "execution_count": 63,
   "id": "6dffb5be-4e04-4f63-8c4f-399811cc894c",
   "metadata": {},
   "outputs": [
    {
     "name": "stdout",
     "output_type": "stream",
     "text": [
      "['agardite-(ca)', 'alumino-magnesiotaramite', 'aluminobarroisite', 'aluminoferrobarroisite', 'aluminoferrotschermakite', 'aluminotaramite', 'aluminum', 'alumopharmacosiderite', 'amalgam', 'ankangite', 'antimonpearceite', 'apatite', 'apatite-(cacl)', 'apatite-(caf)', 'apatite-(caoh)', 'apatite-(caoh)-m', 'apatite-(sroh)', 'apophyllite', 'apophyllite-(kf)', 'apophyllite-(koh)', 'apophyllite-(naf)', 'argentotennantite', 'arrojadite', 'arrojadite-(nafe)', 'arsenosulvanite', 'arsenpolybasite', 'auroantimonate', 'barbertonite', 'bariomicrolite', 'bariopyrochlore', 'barite', 'barium-alumopharmacosiderite', 'barium-zinc-alumopharmacosiderite', 'bariumbannisterite', 'basaluminite', 'baumhauerite-2a', 'beaverite', 'betafite', 'betpakdalite', 'bismutomicrolite', 'bismutoplagionite', 'bismutopyrochlore', 'bobdownsite', 'boehmite', 'boldyrevite', 'brass', 'braunite-i', 'buergerite', 'caichengyunite', 'calcioandyrobertsite-1m', 'calcioandyrobertsite-2o', 'calciobetafite', 'calciogadolinite', 'carbonate-fluorapatite', 'carbonate-hydroxylapatite', 'cerchiaraite', 'ceriopyrochlore-(ce)', 'cerite-(la)', 'cerotungstite-(ce)', 'cesbronite-x', 'cesstibtantite', 'chistyakovaite-(y)', 'chloro-potassichastingsite', 'chromdravite', 'chubutite', 'clinobarylite', 'clinoferroholmquistite', 'clinoholmquistite', 'clinomimetite', 'clinotyrolite', 'clinozoisite-(sr)', 'cumengite', 'cyanophyllite', 'dansite', 'dayingite', 'dellaventuraite', 'deloneite-(ce)', 'dessauite', 'dickinsonite', 'dickinsonite-(kna)', 'dickinsonite-(knana)', 'dickinsonite-(nana)', 'dilithium', 'diomignite', 'duftite-beta', 'ellestadite-(cl)', 'ellestadite-(f)', 'ellestadite-(oh)', 'elsmoreite', 'embolite', 'endellite', 'epidote-(pb)', 'eulytite', 'ferdisilicite', 'fergusonite-beta-(ce)', 'fergusonite-beta-(nd)', 'fergusonite-beta-(y)', 'fermorite', 'ferrazite', 'ferri-arrojadite-(bana)', 'ferri-clinoferroholmquistite', 'ferri-clinoholmquistite', 'ferri-ferrobarroisite', 'ferri-ferrotschermakite', 'ferri-magnesiotaramite', 'ferri-ottoliniite', 'ferribarroisite', 'ferric-ferronyboite', 'ferrikatophorite', 'ferripedrizite', 'ferritaramite', 'ferritschermakite', 'ferriwhittakerite', 'ferriwinchite', 'ferro-aluminotschermakite', 'ferrobarroisite', 'ferrochloropargasite', 'ferroferribarroisite', 'ferroferritschermakite', 'ferroferriwinchite', 'ferrogedrite', 'ferroglaucophane', 'ferroholmquistite', 'ferrohornblende', 'ferrokaersutite', 'ferroleakeite', 'ferronyboite', 'ferropargasite', 'ferrorichterite', 'ferrotaaffeite-6n3s', 'ferrotschermakite', 'ferrowinchite', 'fersilicite', 'fluorarrojadite-(kna)', 'fluoro-alumino-magnesiotaramite', 'fluoro-ferroleakeite', 'fluoro-magnesio-arfvedsonite', 'fluoro-magnesiohastingsite', 'fluoro-potassichastingsite', 'fluoro-sodic-pedrizite', 'fluorocannilloite', 'fluoronyboite', 'fluoropargasite', 'fluororichterite', 'fluorthalenite-(y)', 'freibergite', 'garronite', 'giraudite', 'goldamalgam', 'griffithite', 'hainite', 'hakite', 'hartite', 'hastite', 'heliophyllite', 'helvite', 'herschelite', 'hodrushite', 'hotsonite-vi', 'hotsonite-vii', 'hydroxyuvite', 'ilmajokite', 'isochalcopyrite', 'iwakiite', 'jahnsite-(cafefe)', 'jahnsite-(camgmg)', 'jixianite', 'julgoldite-(fe++)', 'julgoldite-(fe+++)', 'kalipyrochlore', 'kaluginite', 'karpatite', 'kerstenite', 'klyuchevskite-duplicate', 'kornite', 'kozulite', 'krasnogorite', 'krasnoselskite', 'krutaite', 'leakeite', 'lesukite', 'lewisite', 'ludlockite-(pb)', 'lunokite', 'lusungite', 'lutecite', 'mackelveyite-(y)', 'magnesioanthophyllite', 'magnesioastrophyllite', 'magnesioclinoholmquistite', 'magnesiocummingtonite', 'magnesioferrikatophorite', 'magnesiofoitite', 'magnesiogedrite', 'magnesiohastingsite', 'magnesioholmquistite', 'magnesiohornblende', 'magnesiokatophorite', 'magnesioriebeckite', 'magnesiosadanagaite', 'magnesiotaaffeite-2n2s', 'magnesiotaaffeite-6n3s', 'manasseite', 'manganipiemontite-(sr)', 'manganocummingtonite', 'manganogrunerite', 'marianoite', 'matveevite', 'mayenite', 'melanophlogite-beta', 'melilite', 'mendozavilite', 'merrillite-(ca)', 'merrillite-(y)', 'metauranocircite', 'methane', 'microlite', 'minamiite', 'mongshanite', 'monsmedite', 'mosandrite', 'murataite', 'naldretteite', 'natrobetpakdalite', 'natrofairchildite', 'nealite-(h2o)', 'novacekite', 'obertiite', 'obradovicite', 'odanielite', 'okhotskite-(mg)', 'okhotskite-(mn++)', 'olivine', 'orebroite-iii', 'orebroite-viii', 'orpheite', 'orthochevkinite', 'orthoericssonite', 'osumilite-(fe)', 'oxiberaunite', 'parabariomicrolite', 'parakhinite', 'paraspurrite', 'partzite', 'parvo-mangano-edenite', 'parvo-manganotremolite', 'parvowinchite', 'paulingite-na', 'permanganogrunerite', 'pertsevite', 'phosphovanadylite', 'pimelite', 'plagioclase', 'plumbobetafite', 'plumbomicrolite', 'plumbopyrochlore', 'polyphite-vii', 'polyphite-viii', 'potassic-chlorohastingsite', 'potassic-chloropargasite', 'potassic-ferropargasite', 'potassic-fluororichterite', 'potassic-magnesiohastingsite', 'potassic-magnesiosadanagaite', 'potassicarfvedsonite', 'potassicferrisadanagaite', 'potassicleakeite', 'potassicpargasite', 'potassicrichterite', 'potassicsadanagaite', 'prassoite', 'protoanthophyllite', 'protoferro-anthophyllite', 'protojoseite', 'protomangano-ferro-anthophyllite', 'pumpellyite-(fe++)', 'pumpellyite-(fe+++)', 'pumpellyite-(mn++)', 'pyrochlore', 'pyrocoproite', 'pyrophosphite', 'quadruphite-vii', 'quadruphite-viii', 'quintinite-2h', 'quintinite-3t', 'radiobarite', 'ralstonite', 'rinkite', 'romanite', 'romeite', 'roselite-beta', 'scapolite', 'schorl-(f)', 'seelite-1', 'seelite-2', 'semenovite', 'senekevichite', 'shuiskite', 'sjogrenite', 'smolianinovite', 'sobotkite', 'sodic-ferri-ferropedrizite', 'sodic-ferripedrizite', 'sodic-ferro-anthophyllite', 'sodic-ferrogedrite', 'sodicanthophyllite', 'sodicgedrite', 'sodium', 'sodium-autunite', 'sophiite', 'sphaerocobaltite', 'spodiophyllite', 'stannomicrolite', 'stibiobetafite', 'stibioenargite', 'stibiomicrolite', 'stornesite-(y)', 'strontiopyrochlore', 'sturtite', 'sulfur', 'surkhobite', 'swamboite', 'sztrokayite', 'tadzhikite-(y)', 'taimyrite', 'tantalum', 'tennantite', 'tetrahedrite', 'tongxinite', 'ungarettiite', 'ungursaite', 'uranmicrolite', 'uranocircite', 'uranophane', 'uranophane-beta', 'uranpyrochlore', 'vanadiumdravite', 'veatchite-p', 'volfsonite', 'welinite-iii', 'welinite-viii', 'wolframite', 'wolframoixiolite', 'wollastonite-1a', 'wollastonite-3a-4a-5a-7a', 'yamatoite', 'yeelimite', 'yttrobetafite-(y)', 'yttrocerite', 'yttropyrochlore-(y)', 'zajacite-(ce)', 'zinalsite', 'zinc-zippeite', 'zinclavendulan', 'zincosite', 'zincowoodwardite-1t', 'zincowoodwardite-3r', 'zn-schulenbergite']\n"
     ]
    }
   ],
   "source": [
    "print(sorted(c2_minus_c))"
   ]
  },
  {
   "cell_type": "code",
   "execution_count": 64,
   "id": "4214aedb-7214-4093-9afa-a1d7b41c6207",
   "metadata": {},
   "outputs": [],
   "source": [
    "common_df2.to_csv('../data/mindat/all-combined.csv')"
   ]
  },
  {
   "cell_type": "code",
   "execution_count": 65,
   "id": "f83dba47-2a4a-401e-ba63-dcac22f0cba1",
   "metadata": {},
   "outputs": [
    {
     "data": {
      "text/plain": [
       "(507, 1586)"
      ]
     },
     "execution_count": 65,
     "metadata": {},
     "output_type": "execute_result"
    }
   ],
   "source": [
    "web_minus_ima, ima_minus_web = get_column_diff(web_df, ima_df, 'mineral_name')\n",
    "len(web_minus_ima), len(ima_minus_web)"
   ]
  },
  {
   "cell_type": "code",
   "execution_count": 66,
   "id": "a95c3d30-e9d9-464e-a0eb-656135e07a31",
   "metadata": {},
   "outputs": [
    {
     "data": {
      "text/plain": [
       "(507, 2402)"
      ]
     },
     "execution_count": 66,
     "metadata": {},
     "output_type": "execute_result"
    }
   ],
   "source": [
    "web_minus_mindat, mindat_minus_web = get_column_diff(web_df, mindat_df, 'mineral_name')\n",
    "len(web_minus_ima), len(mindat_minus_web)"
   ]
  },
  {
   "cell_type": "code",
   "execution_count": 67,
   "id": "3942c366-9f99-486a-b680-77e0b2ff5b34",
   "metadata": {},
   "outputs": [
    {
     "data": {
      "text/html": [
       "<div>\n",
       "<style scoped>\n",
       "    .dataframe tbody tr th:only-of-type {\n",
       "        vertical-align: middle;\n",
       "    }\n",
       "\n",
       "    .dataframe tbody tr th {\n",
       "        vertical-align: top;\n",
       "    }\n",
       "\n",
       "    .dataframe thead th {\n",
       "        text-align: right;\n",
       "    }\n",
       "</style>\n",
       "<table border=\"1\" class=\"dataframe\">\n",
       "  <thead>\n",
       "    <tr style=\"text-align: right;\">\n",
       "      <th></th>\n",
       "      <th>ima status_y</th>\n",
       "      <th>ima status_x</th>\n",
       "    </tr>\n",
       "  </thead>\n",
       "  <tbody>\n",
       "    <tr>\n",
       "      <th>0</th>\n",
       "      <td>NaN</td>\n",
       "      <td>A</td>\n",
       "    </tr>\n",
       "    <tr>\n",
       "      <th>1</th>\n",
       "      <td>Approved IMA 1975</td>\n",
       "      <td>A</td>\n",
       "    </tr>\n",
       "    <tr>\n",
       "      <th>2</th>\n",
       "      <td>Approved IMA 1994</td>\n",
       "      <td>A</td>\n",
       "    </tr>\n",
       "    <tr>\n",
       "      <th>3</th>\n",
       "      <td>Valid Species (Pre-IMA) 1956</td>\n",
       "      <td>G</td>\n",
       "    </tr>\n",
       "    <tr>\n",
       "      <th>4</th>\n",
       "      <td>Approved IMA 1983</td>\n",
       "      <td>A</td>\n",
       "    </tr>\n",
       "    <tr>\n",
       "      <th>5</th>\n",
       "      <td>Approved IMA 2006 (Dana # Added)</td>\n",
       "      <td>A</td>\n",
       "    </tr>\n",
       "    <tr>\n",
       "      <th>6</th>\n",
       "      <td>Approved IMA 1991</td>\n",
       "      <td>A</td>\n",
       "    </tr>\n",
       "    <tr>\n",
       "      <th>7</th>\n",
       "      <td>NaN</td>\n",
       "      <td>A</td>\n",
       "    </tr>\n",
       "    <tr>\n",
       "      <th>8</th>\n",
       "      <td>Valid Species (Pre-IMA) 1855</td>\n",
       "      <td>G</td>\n",
       "    </tr>\n",
       "    <tr>\n",
       "      <th>9</th>\n",
       "      <td>Approved IMA 1975</td>\n",
       "      <td>A</td>\n",
       "    </tr>\n",
       "    <tr>\n",
       "      <th>10</th>\n",
       "      <td>NaN</td>\n",
       "      <td>A</td>\n",
       "    </tr>\n",
       "    <tr>\n",
       "      <th>11</th>\n",
       "      <td>NaN</td>\n",
       "      <td>Rn</td>\n",
       "    </tr>\n",
       "    <tr>\n",
       "      <th>12</th>\n",
       "      <td>NaN</td>\n",
       "      <td>A</td>\n",
       "    </tr>\n",
       "    <tr>\n",
       "      <th>13</th>\n",
       "      <td>NaN</td>\n",
       "      <td>A</td>\n",
       "    </tr>\n",
       "    <tr>\n",
       "      <th>14</th>\n",
       "      <td>Valid Species (Pre-IMA) 1794</td>\n",
       "      <td>Rd</td>\n",
       "    </tr>\n",
       "    <tr>\n",
       "      <th>15</th>\n",
       "      <td>Approved IMA 1987</td>\n",
       "      <td>A</td>\n",
       "    </tr>\n",
       "    <tr>\n",
       "      <th>16</th>\n",
       "      <td>NaN</td>\n",
       "      <td>A</td>\n",
       "    </tr>\n",
       "    <tr>\n",
       "      <th>17</th>\n",
       "      <td>Valid Species (Pre-IMA) 1866</td>\n",
       "      <td>G</td>\n",
       "    </tr>\n",
       "    <tr>\n",
       "      <th>18</th>\n",
       "      <td>Approved IMA 1999 (Dana # Added)</td>\n",
       "      <td>A</td>\n",
       "    </tr>\n",
       "    <tr>\n",
       "      <th>19</th>\n",
       "      <td>NaN</td>\n",
       "      <td>A</td>\n",
       "    </tr>\n",
       "  </tbody>\n",
       "</table>\n",
       "</div>"
      ],
      "text/plain": [
       "                         ima status_y ima status_x\n",
       "0                                 NaN            A\n",
       "1                   Approved IMA 1975            A\n",
       "2                   Approved IMA 1994            A\n",
       "3        Valid Species (Pre-IMA) 1956            G\n",
       "4                   Approved IMA 1983            A\n",
       "5    Approved IMA 2006 (Dana # Added)            A\n",
       "6                   Approved IMA 1991            A\n",
       "7                                 NaN            A\n",
       "8        Valid Species (Pre-IMA) 1855            G\n",
       "9                   Approved IMA 1975            A\n",
       "10                                NaN            A\n",
       "11                                NaN           Rn\n",
       "12                                NaN            A\n",
       "13                                NaN            A\n",
       "14       Valid Species (Pre-IMA) 1794           Rd\n",
       "15                  Approved IMA 1987            A\n",
       "16                                NaN            A\n",
       "17       Valid Species (Pre-IMA) 1866            G\n",
       "18   Approved IMA 1999 (Dana # Added)            A\n",
       "19                                NaN            A"
      ]
     },
     "execution_count": 67,
     "metadata": {},
     "output_type": "execute_result"
    }
   ],
   "source": [
    "common_df[['ima status_y', 'ima status_x']].head(20)"
   ]
  },
  {
   "cell_type": "code",
   "execution_count": 101,
   "id": "9d2acc4e-bd75-4cf0-8a05-6f57eba1768a",
   "metadata": {},
   "outputs": [],
   "source": [
    "fil_df = filter_df(mindat_df, axis=0, threshold=3)\n",
    "fil_df = filter_df(fil_df, axis=1, threshold=10)"
   ]
  },
  {
   "cell_type": "code",
   "execution_count": 102,
   "id": "db85fb65-e76c-4034-b35e-1134c67f9911",
   "metadata": {},
   "outputs": [
    {
     "data": {
      "text/plain": [
       "(4351, 67)"
      ]
     },
     "execution_count": 102,
     "metadata": {},
     "output_type": "execute_result"
    }
   ],
   "source": [
    "fil_df.shape"
   ]
  },
  {
   "cell_type": "markdown",
   "id": "2d1a0839-8637-4b65-a516-5dfcc3c1f80d",
   "metadata": {},
   "source": [
    "### Hardness filter\n"
   ]
  },
  {
   "cell_type": "code",
   "execution_count": 73,
   "id": "f4dafa0f-077a-4e71-afa2-9d332adb56c8",
   "metadata": {},
   "outputs": [],
   "source": [
    "hardness = mindat_df['hardness'].tolist()"
   ]
  },
  {
   "cell_type": "code",
   "execution_count": 74,
   "id": "db7b9b57-ea73-4ebb-b30f-da219d45504c",
   "metadata": {},
   "outputs": [],
   "source": [
    "vickers = [any('VH' in y for y in x) for x in hardness if x != np.nan and isinstance(x, list) ]"
   ]
  },
  {
   "cell_type": "code",
   "execution_count": 75,
   "id": "75be3b88-c1b9-43ba-beab-7aa607201cb8",
   "metadata": {},
   "outputs": [
    {
     "data": {
      "text/plain": [
       "4273"
      ]
     },
     "execution_count": 75,
     "metadata": {},
     "output_type": "execute_result"
    }
   ],
   "source": [
    "len(vickers)"
   ]
  },
  {
   "cell_type": "markdown",
   "id": "f6cfec66-0673-4e79-8bc9-7ac910d0a2c9",
   "metadata": {},
   "source": [
    "## SOme other stuff"
   ]
  },
  {
   "cell_type": "code",
   "execution_count": 8,
   "id": "b3845e70-b7fb-4eea-9614-5d4189d8d243",
   "metadata": {},
   "outputs": [
    {
     "data": {
      "text/plain": [
       "array([ True,  True,  True,  True,  True,  True,  True,  True,  True,\n",
       "        True,  True,  True,  True,  True,  True,  True,  True,  True,\n",
       "        True,  True,  True,  True,  True,  True,  True,  True,  True,\n",
       "        True,  True,  True,  True,  True,  True,  True,  True,  True,\n",
       "        True,  True,  True,  True,  True,  True,  True,  True,  True,\n",
       "        True,  True,  True,  True,  True,  True,  True,  True,  True,\n",
       "        True,  True,  True,  True,  True,  True,  True,  True,  True,\n",
       "        True,  True,  True,  True,  True,  True,  True,  True,  True,\n",
       "        True,  True,  True,  True,  True,  True,  True,  True,  True,\n",
       "        True,  True,  True,  True,  True,  True,  True,  True,  True,\n",
       "        True,  True,  True,  True,  True,  True,  True,  True,  True,\n",
       "        True,  True,  True])"
      ]
     },
     "execution_count": 8,
     "metadata": {},
     "output_type": "execute_result"
    }
   ],
   "source": [
    "old_df = pd.r('../data/mindat/mindat-7k-all.json')\n",
    "df = json_to_df('../data/mindat/mindat-all.json')\n",
    "old_df.columns == df.columns"
   ]
  },
  {
   "cell_type": "code",
   "execution_count": null,
   "id": "6c5cdf95-b133-47eb-82ea-bafa71945a4c",
   "metadata": {},
   "outputs": [],
   "source": []
  }
 ],
 "metadata": {
  "kernelspec": {
   "display_name": "Python 3 (ipykernel)",
   "language": "python",
   "name": "python3"
  },
  "language_info": {
   "codemirror_mode": {
    "name": "ipython",
    "version": 3
   },
   "file_extension": ".py",
   "mimetype": "text/x-python",
   "name": "python",
   "nbconvert_exporter": "python",
   "pygments_lexer": "ipython3",
   "version": "3.8.8"
  }
 },
 "nbformat": 4,
 "nbformat_minor": 5
}
