{
 "cells": [
  {
   "cell_type": "code",
   "execution_count": 1,
   "id": "b30ebfa7-a246-42f0-a587-0e4c0015d2db",
   "metadata": {},
   "outputs": [],
   "source": [
    "import json\n",
    "import pandas as pd\n",
    "import numpy as np\n",
    "from copy import deepcopy\n",
    "from utils import *"
   ]
  },
  {
   "cell_type": "code",
   "execution_count": 50,
   "id": "a90322db-e76c-43b3-87de-78860674c4d9",
   "metadata": {},
   "outputs": [
    {
     "name": "stdout",
     "output_type": "stream",
     "text": [
      "{'electrical', 'german synonym of', 'recorded ages', 'interestingness', 'translation gliding', 'co-first recorded localities', 'epitaxi comments', 'a mixture of', 'cas registry number', 'first recorded localities', 'series formula', 'synonym of', 'german name for', 'epitaxy comments', 'synonym', 'french synonym of', 'empirical formulas', 'as a commodity'}\n"
     ]
    },
    {
     "data": {
      "text/plain": [
       "(6702, 84)"
      ]
     },
     "execution_count": 50,
     "metadata": {},
     "output_type": "execute_result"
    }
   ],
   "source": [
    "mindat_df = json_to_df('../data/mindat/mindat-all.json')\n",
    "copy_df = deepcopy(mindat_df)\n",
    "\n",
    "copy_df = filter_df(copy_df, axis=1, threshold=5)\n",
    "mindat_df = filter_df(copy_df, axis=0, threshold=1)\n",
    "print(get_all_cols([copy_df]).difference(get_all_cols([mindat_df])))\n",
    "\n",
    "# mindat_df['synonym'] = copy_mindat_df['synonym']\n",
    "# mindat_df['magnetism'] = copy_mindat_df['magnetism']\n",
    "mindat_df.shape"
   ]
  },
  {
   "cell_type": "code",
   "execution_count": 51,
   "id": "73e558fc-f836-48b4-8b34-bcc21c0a8b2e",
   "metadata": {},
   "outputs": [
    {
     "data": {
      "text/plain": [
       "(5739, 7)"
      ]
     },
     "execution_count": 51,
     "metadata": {},
     "output_type": "execute_result"
    }
   ],
   "source": [
    "ima_df = pd.read_csv('../data/ima_mineral_list/ima-list.csv', index_col=0)\n",
    "ima_df = ima_df.rename(columns={'name': 'mineral_name'})\n",
    "ima_df['mineral_name'] = ima_df['mineral_name'].apply(lambda x: ''.join(x.split()))\n",
    "ima_df = process_df(ima_df)\n",
    "ima_df.shape"
   ]
  },
  {
   "cell_type": "code",
   "execution_count": 52,
   "id": "c03abc20-c8e0-49dc-9026-116a377f433e",
   "metadata": {},
   "outputs": [
    {
     "data": {
      "text/plain": [
       "(4660, 47)"
      ]
     },
     "execution_count": 52,
     "metadata": {},
     "output_type": "execute_result"
    }
   ],
   "source": [
    "web_df = json_to_df('../data/webmineral/combined_minerals.json')\n",
    "web_df = web_df.drop(web_df.columns[range(1, 134)], axis=1).reset_index(drop=True)\n",
    "# web_df = filter_df(web_df, axis=1, threshold=12)\n",
    "web_df.shape"
   ]
  },
  {
   "cell_type": "code",
   "execution_count": 53,
   "id": "c6dba195-8a10-4387-aa2d-0149ac4e46c7",
   "metadata": {},
   "outputs": [
    {
     "data": {
      "text/plain": [
       "126"
      ]
     },
     "execution_count": 53,
     "metadata": {},
     "output_type": "execute_result"
    }
   ],
   "source": [
    "cols = get_all_cols([mindat_df, web_df, ima_df])\n",
    "len(cols)"
   ]
  },
  {
   "cell_type": "markdown",
   "id": "a2b9a37b-65b6-4b9b-b02a-418d89f543cf",
   "metadata": {},
   "source": [
    "### Common"
   ]
  },
  {
   "cell_type": "code",
   "execution_count": 54,
   "id": "3d269bf2-523b-4adc-9d8b-c03a9cbd85bd",
   "metadata": {},
   "outputs": [
    {
     "data": {
      "text/plain": [
       "(6721, 90)"
      ]
     },
     "execution_count": 54,
     "metadata": {},
     "output_type": "execute_result"
    }
   ],
   "source": [
    "common_df = pd.merge(mindat_df, ima_df, how='outer', on=['mineral_name'])\n",
    "common_df.shape"
   ]
  },
  {
   "cell_type": "code",
   "execution_count": 55,
   "id": "d553babd-bbba-4fe9-8275-aade8e296ee9",
   "metadata": {},
   "outputs": [
    {
     "data": {
      "text/plain": [
       "(982, 19)"
      ]
     },
     "execution_count": 55,
     "metadata": {},
     "output_type": "execute_result"
    }
   ],
   "source": [
    "mindat_minus_ima, ima_minus_mindat = get_column_diff(mindat_df, ima_df, 'mineral_name')\n",
    "len(mindat_minus_ima), len(ima_minus_mindat)"
   ]
  },
  {
   "cell_type": "code",
   "execution_count": 56,
   "id": "6418f5f7-58ca-40c7-84a7-dc37306e875e",
   "metadata": {},
   "outputs": [
    {
     "name": "stdout",
     "output_type": "stream",
     "text": [
      "['baumhaueriteii', 'buserite', 'calcioveatchite', 'chlorkyuygenite', 'eleonorite', 'ferri-pedrizite', 'ferro-fluoro-pedrizite', 'ferroqingheiite', 'fluoro-pedrizite', 'fowlerite', 'gismondine', 'jagueite', 'phosphovanadylite-ba', 'pisekite-(y)', 'pseudowollastonite', 'rathite-iv', 'redondite', 'roselite-b', 'strabmannite']\n"
     ]
    }
   ],
   "source": [
    "print(sorted(ima_minus_mindat))"
   ]
  },
  {
   "cell_type": "code",
   "execution_count": 57,
   "id": "d9d66a4c-085d-459e-8735-763dab12f429",
   "metadata": {},
   "outputs": [],
   "source": [
    "# common_df2[['density_x', 'density_y']].dropna()"
   ]
  },
  {
   "cell_type": "code",
   "execution_count": 58,
   "id": "e004f640-e194-4ac4-a90a-68c26da780c6",
   "metadata": {},
   "outputs": [],
   "source": [
    "# same = [( 'cleavage_y', 'cleavage_x'), ('crystal system_x', 'crystal system_y')]"
   ]
  },
  {
   "cell_type": "code",
   "execution_count": 59,
   "id": "26392de0-f29d-47e5-8f3a-d90ca05b0cc3",
   "metadata": {},
   "outputs": [],
   "source": [
    "# for (x, y) in same:\n",
    "#     common_df2[x] = common_df2[x].combine_first(common_df2[y])\n",
    "#     print(common_df2[x].notna().sum())\n",
    "#     common_df2.drop(columns=[y], inplace=True)"
   ]
  },
  {
   "cell_type": "code",
   "execution_count": null,
   "id": "c30980b4-c784-42f2-8eb4-ecc1d39c2c9e",
   "metadata": {},
   "outputs": [],
   "source": [
    "common_df2 = pd.merge(common_df, web_df, how='outer', on=['mineral_name'])\n",
    "print(common_df2.shape)\n",
    "common_df2.sort_index(axis=1, inplace=True)\n",
    "for i, c in enumerate(sorted(common_df2.columns)):\n",
    "    print(i , \": \", c)\n"
   ]
  },
  {
   "cell_type": "code",
   "execution_count": 61,
   "id": "ec3c3af4-1eb2-4838-90fb-3419eb4b2229",
   "metadata": {},
   "outputs": [
    {
     "data": {
      "text/plain": [
       "358"
      ]
     },
     "execution_count": 61,
     "metadata": {},
     "output_type": "execute_result"
    }
   ],
   "source": [
    "_, c2_minus_c = get_column_diff(common_df, common_df2, 'mineral_name')\n",
    "len(c2_minus_c)"
   ]
  },
  {
   "cell_type": "code",
   "execution_count": 63,
   "id": "6dffb5be-4e04-4f63-8c4f-399811cc894c",
   "metadata": {},
   "outputs": [
    {
     "name": "stdout",
     "output_type": "stream",
     "text": [
      "['agardite-(ca)', 'alumino-magnesiotaramite', 'aluminobarroisite', 'aluminoferrobarroisite', 'aluminoferrotschermakite', 'aluminotaramite', 'aluminum', 'alumopharmacosiderite', 'amalgam', 'ankangite', 'antimonpearceite', 'apatite', 'apatite-(cacl)', 'apatite-(caf)', 'apatite-(caoh)', 'apatite-(caoh)-m', 'apatite-(sroh)', 'apophyllite', 'apophyllite-(kf)', 'apophyllite-(koh)', 'apophyllite-(naf)', 'argentotennantite', 'arrojadite', 'arrojadite-(nafe)', 'arsenosulvanite', 'arsenpolybasite', 'auroantimonate', 'barbertonite', 'bariomicrolite', 'bariopyrochlore', 'barite', 'barium-alumopharmacosiderite', 'barium-zinc-alumopharmacosiderite', 'bariumbannisterite', 'basaluminite', 'baumhauerite-2a', 'beaverite', 'betafite', 'betpakdalite', 'bismutomicrolite', 'bismutoplagionite', 'bismutopyrochlore', 'bobdownsite', 'boehmite', 'boldyrevite', 'brass', 'braunite-i', 'buergerite', 'caichengyunite', 'calcioandyrobertsite-1m', 'calcioandyrobertsite-2o', 'calciobetafite', 'calciogadolinite', 'carbonate-fluorapatite', 'carbonate-hydroxylapatite', 'cerchiaraite', 'ceriopyrochlore-(ce)', 'cerite-(la)', 'cerotungstite-(ce)', 'cesbronite-x', 'cesstibtantite', 'chistyakovaite-(y)', 'chloro-potassichastingsite', 'chromdravite', 'chubutite', 'clinobarylite', 'clinoferroholmquistite', 'clinoholmquistite', 'clinomimetite', 'clinotyrolite', 'clinozoisite-(sr)', 'cumengite', 'cyanophyllite', 'dansite', 'dayingite', 'dellaventuraite', 'deloneite-(ce)', 'dessauite', 'dickinsonite', 'dickinsonite-(kna)', 'dickinsonite-(knana)', 'dickinsonite-(nana)', 'dilithium', 'diomignite', 'duftite-beta', 'ellestadite-(cl)', 'ellestadite-(f)', 'ellestadite-(oh)', 'elsmoreite', 'embolite', 'endellite', 'epidote-(pb)', 'eulytite', 'ferdisilicite', 'fergusonite-beta-(ce)', 'fergusonite-beta-(nd)', 'fergusonite-beta-(y)', 'fermorite', 'ferrazite', 'ferri-arrojadite-(bana)', 'ferri-clinoferroholmquistite', 'ferri-clinoholmquistite', 'ferri-ferrobarroisite', 'ferri-ferrotschermakite', 'ferri-magnesiotaramite', 'ferri-ottoliniite', 'ferribarroisite', 'ferric-ferronyboite', 'ferrikatophorite', 'ferripedrizite', 'ferritaramite', 'ferritschermakite', 'ferriwhittakerite', 'ferriwinchite', 'ferro-aluminotschermakite', 'ferrobarroisite', 'ferrochloropargasite', 'ferroferribarroisite', 'ferroferritschermakite', 'ferroferriwinchite', 'ferrogedrite', 'ferroglaucophane', 'ferroholmquistite', 'ferrohornblende', 'ferrokaersutite', 'ferroleakeite', 'ferronyboite', 'ferropargasite', 'ferrorichterite', 'ferrotaaffeite-6n3s', 'ferrotschermakite', 'ferrowinchite', 'fersilicite', 'fluorarrojadite-(kna)', 'fluoro-alumino-magnesiotaramite', 'fluoro-ferroleakeite', 'fluoro-magnesio-arfvedsonite', 'fluoro-magnesiohastingsite', 'fluoro-potassichastingsite', 'fluoro-sodic-pedrizite', 'fluorocannilloite', 'fluoronyboite', 'fluoropargasite', 'fluororichterite', 'fluorthalenite-(y)', 'freibergite', 'garronite', 'giraudite', 'goldamalgam', 'griffithite', 'hainite', 'hakite', 'hartite', 'hastite', 'heliophyllite', 'helvite', 'herschelite', 'hodrushite', 'hotsonite-vi', 'hotsonite-vii', 'hydroxyuvite', 'ilmajokite', 'isochalcopyrite', 'iwakiite', 'jahnsite-(cafefe)', 'jahnsite-(camgmg)', 'jixianite', 'julgoldite-(fe++)', 'julgoldite-(fe+++)', 'kalipyrochlore', 'kaluginite', 'karpatite', 'kerstenite', 'klyuchevskite-duplicate', 'kornite', 'kozulite', 'krasnogorite', 'krasnoselskite', 'krutaite', 'leakeite', 'lesukite', 'lewisite', 'ludlockite-(pb)', 'lunokite', 'lusungite', 'lutecite', 'mackelveyite-(y)', 'magnesioanthophyllite', 'magnesioastrophyllite', 'magnesioclinoholmquistite', 'magnesiocummingtonite', 'magnesioferrikatophorite', 'magnesiofoitite', 'magnesiogedrite', 'magnesiohastingsite', 'magnesioholmquistite', 'magnesiohornblende', 'magnesiokatophorite', 'magnesioriebeckite', 'magnesiosadanagaite', 'magnesiotaaffeite-2n2s', 'magnesiotaaffeite-6n3s', 'manasseite', 'manganipiemontite-(sr)', 'manganocummingtonite', 'manganogrunerite', 'marianoite', 'matveevite', 'mayenite', 'melanophlogite-beta', 'melilite', 'mendozavilite', 'merrillite-(ca)', 'merrillite-(y)', 'metauranocircite', 'methane', 'microlite', 'minamiite', 'mongshanite', 'monsmedite', 'mosandrite', 'murataite', 'naldretteite', 'natrobetpakdalite', 'natrofairchildite', 'nealite-(h2o)', 'novacekite', 'obertiite', 'obradovicite', 'odanielite', 'okhotskite-(mg)', 'okhotskite-(mn++)', 'olivine', 'orebroite-iii', 'orebroite-viii', 'orpheite', 'orthochevkinite', 'orthoericssonite', 'osumilite-(fe)', 'oxiberaunite', 'parabariomicrolite', 'parakhinite', 'paraspurrite', 'partzite', 'parvo-mangano-edenite', 'parvo-manganotremolite', 'parvowinchite', 'paulingite-na', 'permanganogrunerite', 'pertsevite', 'phosphovanadylite', 'pimelite', 'plagioclase', 'plumbobetafite', 'plumbomicrolite', 'plumbopyrochlore', 'polyphite-vii', 'polyphite-viii', 'potassic-chlorohastingsite', 'potassic-chloropargasite', 'potassic-ferropargasite', 'potassic-fluororichterite', 'potassic-magnesiohastingsite', 'potassic-magnesiosadanagaite', 'potassicarfvedsonite', 'potassicferrisadanagaite', 'potassicleakeite', 'potassicpargasite', 'potassicrichterite', 'potassicsadanagaite', 'prassoite', 'protoanthophyllite', 'protoferro-anthophyllite', 'protojoseite', 'protomangano-ferro-anthophyllite', 'pumpellyite-(fe++)', 'pumpellyite-(fe+++)', 'pumpellyite-(mn++)', 'pyrochlore', 'pyrocoproite', 'pyrophosphite', 'quadruphite-vii', 'quadruphite-viii', 'quintinite-2h', 'quintinite-3t', 'radiobarite', 'ralstonite', 'rinkite', 'romanite', 'romeite', 'roselite-beta', 'scapolite', 'schorl-(f)', 'seelite-1', 'seelite-2', 'semenovite', 'senekevichite', 'shuiskite', 'sjogrenite', 'smolianinovite', 'sobotkite', 'sodic-ferri-ferropedrizite', 'sodic-ferripedrizite', 'sodic-ferro-anthophyllite', 'sodic-ferrogedrite', 'sodicanthophyllite', 'sodicgedrite', 'sodium', 'sodium-autunite', 'sophiite', 'sphaerocobaltite', 'spodiophyllite', 'stannomicrolite', 'stibiobetafite', 'stibioenargite', 'stibiomicrolite', 'stornesite-(y)', 'strontiopyrochlore', 'sturtite', 'sulfur', 'surkhobite', 'swamboite', 'sztrokayite', 'tadzhikite-(y)', 'taimyrite', 'tantalum', 'tennantite', 'tetrahedrite', 'tongxinite', 'ungarettiite', 'ungursaite', 'uranmicrolite', 'uranocircite', 'uranophane', 'uranophane-beta', 'uranpyrochlore', 'vanadiumdravite', 'veatchite-p', 'volfsonite', 'welinite-iii', 'welinite-viii', 'wolframite', 'wolframoixiolite', 'wollastonite-1a', 'wollastonite-3a-4a-5a-7a', 'yamatoite', 'yeelimite', 'yttrobetafite-(y)', 'yttrocerite', 'yttropyrochlore-(y)', 'zajacite-(ce)', 'zinalsite', 'zinc-zippeite', 'zinclavendulan', 'zincosite', 'zincowoodwardite-1t', 'zincowoodwardite-3r', 'zn-schulenbergite']\n"
     ]
    }
   ],
   "source": [
    "print(sorted(c2_minus_c))"
   ]
  },
  {
   "cell_type": "code",
   "execution_count": 64,
   "id": "4214aedb-7214-4093-9afa-a1d7b41c6207",
   "metadata": {},
   "outputs": [],
   "source": [
    "common_df2.to_csv('../data/mindat/all-combined.csv')"
   ]
  },
  {
   "cell_type": "code",
   "execution_count": 65,
   "id": "f83dba47-2a4a-401e-ba63-dcac22f0cba1",
   "metadata": {},
   "outputs": [
    {
     "data": {
      "text/plain": [
       "(507, 1586)"
      ]
     },
     "execution_count": 65,
     "metadata": {},
     "output_type": "execute_result"
    }
   ],
   "source": [
    "web_minus_ima, ima_minus_web = get_column_diff(web_df, ima_df, 'mineral_name')\n",
    "len(web_minus_ima), len(ima_minus_web)"
   ]
  },
  {
   "cell_type": "code",
   "execution_count": 66,
   "id": "a95c3d30-e9d9-464e-a0eb-656135e07a31",
   "metadata": {},
   "outputs": [
    {
     "data": {
      "text/plain": [
       "(507, 2402)"
      ]
     },
     "execution_count": 66,
     "metadata": {},
     "output_type": "execute_result"
    }
   ],
   "source": [
    "web_minus_mindat, mindat_minus_web = get_column_diff(web_df, mindat_df, 'mineral_name')\n",
    "len(web_minus_ima), len(mindat_minus_web)"
   ]
  },
  {
   "cell_type": "code",
   "execution_count": 67,
   "id": "3942c366-9f99-486a-b680-77e0b2ff5b34",
   "metadata": {},
   "outputs": [
    {
     "data": {
      "text/html": [
       "<div>\n",
       "<style scoped>\n",
       "    .dataframe tbody tr th:only-of-type {\n",
       "        vertical-align: middle;\n",
       "    }\n",
       "\n",
       "    .dataframe tbody tr th {\n",
       "        vertical-align: top;\n",
       "    }\n",
       "\n",
       "    .dataframe thead th {\n",
       "        text-align: right;\n",
       "    }\n",
       "</style>\n",
       "<table border=\"1\" class=\"dataframe\">\n",
       "  <thead>\n",
       "    <tr style=\"text-align: right;\">\n",
       "      <th></th>\n",
       "      <th>ima status_y</th>\n",
       "      <th>ima status_x</th>\n",
       "    </tr>\n",
       "  </thead>\n",
       "  <tbody>\n",
       "    <tr>\n",
       "      <th>0</th>\n",
       "      <td>NaN</td>\n",
       "      <td>A</td>\n",
       "    </tr>\n",
       "    <tr>\n",
       "      <th>1</th>\n",
       "      <td>Approved IMA 1975</td>\n",
       "      <td>A</td>\n",
       "    </tr>\n",
       "    <tr>\n",
       "      <th>2</th>\n",
       "      <td>Approved IMA 1994</td>\n",
       "      <td>A</td>\n",
       "    </tr>\n",
       "    <tr>\n",
       "      <th>3</th>\n",
       "      <td>Valid Species (Pre-IMA) 1956</td>\n",
       "      <td>G</td>\n",
       "    </tr>\n",
       "    <tr>\n",
       "      <th>4</th>\n",
       "      <td>Approved IMA 1983</td>\n",
       "      <td>A</td>\n",
       "    </tr>\n",
       "    <tr>\n",
       "      <th>5</th>\n",
       "      <td>Approved IMA 2006 (Dana # Added)</td>\n",
       "      <td>A</td>\n",
       "    </tr>\n",
       "    <tr>\n",
       "      <th>6</th>\n",
       "      <td>Approved IMA 1991</td>\n",
       "      <td>A</td>\n",
       "    </tr>\n",
       "    <tr>\n",
       "      <th>7</th>\n",
       "      <td>NaN</td>\n",
       "      <td>A</td>\n",
       "    </tr>\n",
       "    <tr>\n",
       "      <th>8</th>\n",
       "      <td>Valid Species (Pre-IMA) 1855</td>\n",
       "      <td>G</td>\n",
       "    </tr>\n",
       "    <tr>\n",
       "      <th>9</th>\n",
       "      <td>Approved IMA 1975</td>\n",
       "      <td>A</td>\n",
       "    </tr>\n",
       "    <tr>\n",
       "      <th>10</th>\n",
       "      <td>NaN</td>\n",
       "      <td>A</td>\n",
       "    </tr>\n",
       "    <tr>\n",
       "      <th>11</th>\n",
       "      <td>NaN</td>\n",
       "      <td>Rn</td>\n",
       "    </tr>\n",
       "    <tr>\n",
       "      <th>12</th>\n",
       "      <td>NaN</td>\n",
       "      <td>A</td>\n",
       "    </tr>\n",
       "    <tr>\n",
       "      <th>13</th>\n",
       "      <td>NaN</td>\n",
       "      <td>A</td>\n",
       "    </tr>\n",
       "    <tr>\n",
       "      <th>14</th>\n",
       "      <td>Valid Species (Pre-IMA) 1794</td>\n",
       "      <td>Rd</td>\n",
       "    </tr>\n",
       "    <tr>\n",
       "      <th>15</th>\n",
       "      <td>Approved IMA 1987</td>\n",
       "      <td>A</td>\n",
       "    </tr>\n",
       "    <tr>\n",
       "      <th>16</th>\n",
       "      <td>NaN</td>\n",
       "      <td>A</td>\n",
       "    </tr>\n",
       "    <tr>\n",
       "      <th>17</th>\n",
       "      <td>Valid Species (Pre-IMA) 1866</td>\n",
       "      <td>G</td>\n",
       "    </tr>\n",
       "    <tr>\n",
       "      <th>18</th>\n",
       "      <td>Approved IMA 1999 (Dana # Added)</td>\n",
       "      <td>A</td>\n",
       "    </tr>\n",
       "    <tr>\n",
       "      <th>19</th>\n",
       "      <td>NaN</td>\n",
       "      <td>A</td>\n",
       "    </tr>\n",
       "  </tbody>\n",
       "</table>\n",
       "</div>"
      ],
      "text/plain": [
       "                         ima status_y ima status_x\n",
       "0                                 NaN            A\n",
       "1                   Approved IMA 1975            A\n",
       "2                   Approved IMA 1994            A\n",
       "3        Valid Species (Pre-IMA) 1956            G\n",
       "4                   Approved IMA 1983            A\n",
       "5    Approved IMA 2006 (Dana # Added)            A\n",
       "6                   Approved IMA 1991            A\n",
       "7                                 NaN            A\n",
       "8        Valid Species (Pre-IMA) 1855            G\n",
       "9                   Approved IMA 1975            A\n",
       "10                                NaN            A\n",
       "11                                NaN           Rn\n",
       "12                                NaN            A\n",
       "13                                NaN            A\n",
       "14       Valid Species (Pre-IMA) 1794           Rd\n",
       "15                  Approved IMA 1987            A\n",
       "16                                NaN            A\n",
       "17       Valid Species (Pre-IMA) 1866            G\n",
       "18   Approved IMA 1999 (Dana # Added)            A\n",
       "19                                NaN            A"
      ]
     },
     "execution_count": 67,
     "metadata": {},
     "output_type": "execute_result"
    }
   ],
   "source": [
    "common_df[['ima status_y', 'ima status_x']].head(20)"
   ]
  },
  {
   "cell_type": "code",
   "execution_count": 101,
   "id": "9d2acc4e-bd75-4cf0-8a05-6f57eba1768a",
   "metadata": {},
   "outputs": [],
   "source": [
    "fil_df = filter_df(mindat_df, axis=0, threshold=3)\n",
    "fil_df = filter_df(fil_df, axis=1, threshold=10)"
   ]
  },
  {
   "cell_type": "code",
   "execution_count": 102,
   "id": "db85fb65-e76c-4034-b35e-1134c67f9911",
   "metadata": {},
   "outputs": [
    {
     "data": {
      "text/plain": [
       "(4351, 67)"
      ]
     },
     "execution_count": 102,
     "metadata": {},
     "output_type": "execute_result"
    }
   ],
   "source": [
    "fil_df.shape"
   ]
  },
  {
   "cell_type": "markdown",
   "id": "f6cfec66-0673-4e79-8bc9-7ac910d0a2c9",
   "metadata": {},
   "source": [
    "## Final processing"
   ]
  },
  {
   "cell_type": "code",
   "execution_count": 21,
   "id": "b3845e70-b7fb-4eea-9614-5d4189d8d243",
   "metadata": {},
   "outputs": [],
   "source": [
    "df = pd.read_csv('../data/merged-MWI.csv')"
   ]
  },
  {
   "cell_type": "code",
   "execution_count": 22,
   "id": "6c5cdf95-b133-47eb-82ea-bafa71945a4c",
   "metadata": {},
   "outputs": [],
   "source": [
    "df = filter_df(df, axis=1, threshold=30)"
   ]
  },
  {
   "cell_type": "code",
   "execution_count": 23,
   "id": "5a0e0cfd-9a76-4f90-bfb2-0d03bc1a911c",
   "metadata": {},
   "outputs": [
    {
     "name": "stdout",
     "output_type": "stream",
     "text": [
      "<class 'pandas.core.frame.DataFrame'>\n",
      "RangeIndex: 5663 entries, 0 to 5662\n",
      "Data columns (total 89 columns):\n",
      " #   Column                            Non-Null Count  Dtype  \n",
      "---  ------                            --------------  -----  \n",
      " 0   mineral_name                      5663 non-null   object \n",
      " 1   2v calculated                     1635 non-null   object \n",
      " 2   2v measured                       1880 non-null   object \n",
      " 3   anisotrophism                     796 non-null    object \n",
      " 4   approval history                  236 non-null    object \n",
      " 5   approval year                     2438 non-null   float64\n",
      " 6   axial ratios                      5029 non-null   object \n",
      " 7   bireflectance                     252 non-null    object \n",
      " 8   birefringence                     631 non-null    object \n",
      " 9   boson index                       4506 non-null   float64\n",
      " 10  cell dimensions                   4370 non-null   object \n",
      " 11  cell parameters                   4896 non-null   object \n",
      " 12  class (h-m)                       3788 non-null   object \n",
      " 13  cleavage                          4606 non-null   object \n",
      " 14  color                             5585 non-null   object \n",
      " 15  common impurities                 1568 non-null   object \n",
      " 16  country                           5244 non-null   object \n",
      " 17  crystal system                    5663 non-null   object \n",
      " 18  dana 7th ed.                      483 non-null    object \n",
      " 19  dana 8th ed.                      3682 non-null   object \n",
      " 20  dana class                        4549 non-null   object \n",
      " 21  density calculated (in gm/cc)     3618 non-null   object \n",
      " 22  density measured (in gm/cc)       4266 non-null   object \n",
      " 23  dichroism (e)                     194 non-null    object \n",
      " 24  dichroism (w)                     195 non-null    object \n",
      " 25  dispersion                        2330 non-null   object \n",
      " 26  electron density                  4487 non-null   object \n",
      " 27  elements listed                   5363 non-null   object \n",
      " 28  empirical formula                 4546 non-null   object \n",
      " 29  environment                       4065 non-null   object \n",
      " 30  epitaxial minerals                84 non-null     object \n",
      " 31  fermion index                     4507 non-null   float64\n",
      " 32  first published                   2465 non-null   float64\n",
      " 33  first ref                         5244 non-null   object \n",
      " 34  formula                           5661 non-null   object \n",
      " 35  fracture                          3269 non-null   object \n",
      " 36  geological setting                1011 non-null   object \n",
      " 37  gladstone-dale                    3168 non-null   object \n",
      " 38  hardness mohs                     4937 non-null   object \n",
      " 39  hardness vickers                  755 non-null    object \n",
      " 40  hey's cim ref.                    3257 non-null   object \n",
      " 41  ima status                        5656 non-null   object \n",
      " 42  ima year                          5245 non-null   object \n",
      " 43  in uv light                       1389 non-null   object \n",
      " 44  internal reflections              304 non-null    object \n",
      " 45  ir spectrum                       116 non-null    object \n",
      " 46  isostructural with                479 non-null    object \n",
      " 47  locality                          5653 non-null   object \n",
      " 48  luminescence                      1066 non-null   object \n",
      " 49  luster                            5300 non-null   object \n",
      " 50  magnetism                         404 non-null    object \n",
      " 51  member of                         2634 non-null   object \n",
      " 52  mindat.org url                    5398 non-null   object \n",
      " 53  mineral dealers                   5396 non-null   object \n",
      " 54  molecular weight                  4549 non-null   object \n",
      " 55  morphology                        2574 non-null   object \n",
      " 56  name origin                       5369 non-null   object \n",
      " 57  nickel-strunz 10th (pending) ed.  5010 non-null   object \n",
      " 58  number of molecules in unit cell  3242 non-null   float64\n",
      " 59  optical data                      3777 non-null   object \n",
      " 60  parting                           337 non-null    object \n",
      " 61  photoelectric                     4548 non-null   object \n",
      " 62  pleochroism                       2056 non-null   object \n",
      " 63  pleochroism (x)                   665 non-null    object \n",
      " 64  pleochroism (y)                   623 non-null    object \n",
      " 65  pleochroism (z)                   572 non-null    object \n",
      " 66  polymorphism                      400 non-null    object \n",
      " 67  powder diffraction                3120 non-null   object \n",
      " 68  radioactivity                     4548 non-null   object \n",
      " 69  reflectivity                      465 non-null    object \n",
      " 70  ri values                         3562 non-null   object \n",
      " 71  rl bireflectance                  166 non-null    object \n",
      " 72  rl color                          915 non-null    object \n",
      " 73  second ref                        3447 non-null   object \n",
      " 74  space group                       3320 non-null   object \n",
      " 75  special storage                   75 non-null     object \n",
      " 76  specific gravity (in gm/cc)       5263 non-null   object \n",
      " 77  streak                            4725 non-null   object \n",
      " 78  strunz 8th ed.                    4081 non-null   object \n",
      " 79  strunz 9th ed.                    185 non-null    object \n",
      " 80  strunz class                      4549 non-null   object \n",
      " 81  surface relief                    3562 non-null   object \n",
      " 82  synonym                           3474 non-null   object \n",
      " 83  tenacity                          4416 non-null   object \n",
      " 84  transparency                      5115 non-null   object \n",
      " 85  twinning                          992 non-null    object \n",
      " 86  type                              4041 non-null   object \n",
      " 87  unit cell v                       4892 non-null   object \n",
      " 88  x ray diffraction                 4357 non-null   object \n",
      "dtypes: float64(5), object(84)\n",
      "memory usage: 3.8+ MB\n"
     ]
    }
   ],
   "source": [
    "df.info()"
   ]
  },
  {
   "cell_type": "code",
   "execution_count": null,
   "id": "b8bb4427-fc36-41ae-b567-6a806f3fcac3",
   "metadata": {},
   "outputs": [],
   "source": []
  },
  {
   "cell_type": "code",
   "execution_count": null,
   "id": "1af1ff9a-cdb6-40f9-8998-ee0e3de0ec98",
   "metadata": {},
   "outputs": [],
   "source": []
  }
 ],
 "metadata": {
  "kernelspec": {
   "display_name": "jupy-lab-kernel",
   "language": "python",
   "name": "jupy-lab-kernel"
  },
  "language_info": {
   "codemirror_mode": {
    "name": "ipython",
    "version": 3
   },
   "file_extension": ".py",
   "mimetype": "text/x-python",
   "name": "python",
   "nbconvert_exporter": "python",
   "pygments_lexer": "ipython3",
   "version": "3.8.10"
  }
 },
 "nbformat": 4,
 "nbformat_minor": 5
}
