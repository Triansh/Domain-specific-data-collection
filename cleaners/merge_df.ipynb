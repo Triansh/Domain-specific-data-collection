{
 "cells": [
  {
   "cell_type": "code",
   "execution_count": 69,
   "id": "b30ebfa7-a246-42f0-a587-0e4c0015d2db",
   "metadata": {},
   "outputs": [],
   "source": [
    "import json\n",
    "import pandas as pd\n",
    "import numpy as np\n",
    "from copy import deepcopy"
   ]
  },
  {
   "cell_type": "code",
   "execution_count": 62,
   "id": "1c95fc8a-3c50-4fe0-a463-a7e15f743ae1",
   "metadata": {},
   "outputs": [],
   "source": [
    "def to_lower(df, col):\n",
    "    df[col] = df[col].apply(lambda x: x.lower())\n",
    "    return df"
   ]
  },
  {
   "cell_type": "code",
   "execution_count": 63,
   "id": "13de993b-81cf-402e-a48f-b2ae832366f3",
   "metadata": {},
   "outputs": [],
   "source": [
    "def process_df(df):\n",
    "    df.columns = [x.lower() for x in df.columns]\n",
    "    df.sort_index(axis=1, inplace=True)\n",
    "    df.sort_values('mineral_name', inplace=True)\n",
    "    df = to_lower(df, 'mineral_name')\n",
    "    mid = df['mineral_name']\n",
    "    df.drop(labels=['mineral_name'], axis=1,inplace = True)\n",
    "    df.insert(0, 'mineral_name', mid)\n",
    "    return df"
   ]
  },
  {
   "cell_type": "code",
   "execution_count": 64,
   "id": "09419106-2c1b-4595-9955-f562804ed1df",
   "metadata": {},
   "outputs": [],
   "source": [
    "def json_to_df(file_path):\n",
    "    with open(file_path, 'r') as f:\n",
    "        obj= json.load(f)\n",
    "    records = []\n",
    "    for k, v in obj.items():\n",
    "        temp = deepcopy(v)\n",
    "        temp['mineral_name'] = k\n",
    "        records.append(temp)\n",
    "    df = pd.DataFrame.from_records(records)\n",
    "    df = process_df(df)\n",
    "    return df"
   ]
  },
  {
   "cell_type": "code",
   "execution_count": 65,
   "id": "84c5e8a5-fd38-4d0d-85f9-6dc42a9d82f4",
   "metadata": {},
   "outputs": [],
   "source": [
    "\"\"\"\n",
    "use axis = 0 to remove colums\n",
    "use axis = 1 to remove rows\n",
    "\"\"\"\n",
    "def filter_df(df, axis, threshold=30):\n",
    "    min_count = int((threshold / 100) * df.shape[axis] + 1)\n",
    "    filtered_df = df.dropna(axis= int(not axis), how='any', thresh=min_count).reset_index(drop=True)\n",
    "    return filtered_df"
   ]
  },
  {
   "cell_type": "code",
   "execution_count": 66,
   "id": "ec9c52ae-0121-4e99-a983-6ee5b25152d4",
   "metadata": {},
   "outputs": [],
   "source": [
    "def get_all_cols(dfs):\n",
    "    cols = set()\n",
    "    for df in dfs:\n",
    "        cols.update(df.columns)\n",
    "    return cols"
   ]
  },
  {
   "cell_type": "code",
   "execution_count": 42,
   "id": "9b7415f7-db46-4bed-8cf9-2f486470a7dc",
   "metadata": {},
   "outputs": [],
   "source": [
    "def get_column_diff(df1, df2, col1, col2=None):\n",
    "    if col2 is None:\n",
    "        col2 = col1\n",
    "    set_1 = set(df1[col1].tolist()).difference(set(df2[col2].tolist()))\n",
    "    set_2 = set(df2[col2].tolist()).difference(set(df1[col1].tolist()))\n",
    "    return set_1, set_2"
   ]
  },
  {
   "cell_type": "code",
   "execution_count": 33,
   "id": "a90322db-e76c-43b3-87de-78860674c4d9",
   "metadata": {},
   "outputs": [
    {
     "data": {
      "text/plain": [
       "(6363, 73)"
      ]
     },
     "execution_count": 33,
     "metadata": {},
     "output_type": "execute_result"
    }
   ],
   "source": [
    "mindat_df = json_to_df('../data/mindat/mindat-all.json')\n",
    "mindat_df = filter_df(mindat_df, axis=0, threshold=2)\n",
    "mindat_df = filter_df(mindat_df, axis=1, threshold=10)\n",
    "mindat_df.shape"
   ]
  },
  {
   "cell_type": "code",
   "execution_count": 34,
   "id": "73e558fc-f836-48b4-8b34-bcc21c0a8b2e",
   "metadata": {},
   "outputs": [
    {
     "data": {
      "text/plain": [
       "(5739, 7)"
      ]
     },
     "execution_count": 34,
     "metadata": {},
     "output_type": "execute_result"
    }
   ],
   "source": [
    "ima_df = pd.read_csv('../data/ima_mineral_list/ima-list.csv', index_col=0)\n",
    "ima_df = ima_df.rename(columns={'name': 'mineral_name'})\n",
    "ima_df = process_df(ima_df)\n",
    "ima_df.shape"
   ]
  },
  {
   "cell_type": "code",
   "execution_count": 35,
   "id": "c03abc20-c8e0-49dc-9026-116a377f433e",
   "metadata": {},
   "outputs": [
    {
     "data": {
      "text/plain": [
       "(4660, 47)"
      ]
     },
     "execution_count": 35,
     "metadata": {},
     "output_type": "execute_result"
    }
   ],
   "source": [
    "web_df = json_to_df('../data/webmineral/combined_minerals.json')\n",
    "web_df = web_df.drop(web_df.columns[range(1, 134)], axis=1).reset_index(drop=True)\n",
    "web_df.shape"
   ]
  },
  {
   "cell_type": "code",
   "execution_count": 60,
   "id": "c6dba195-8a10-4387-aa2d-0149ac4e46c7",
   "metadata": {},
   "outputs": [
    {
     "data": {
      "text/plain": [
       "116"
      ]
     },
     "execution_count": 60,
     "metadata": {},
     "output_type": "execute_result"
    }
   ],
   "source": [
    "cols = get_all_cols([mindat_df, web_df, ima_df])\n",
    "len(cols)"
   ]
  },
  {
   "cell_type": "markdown",
   "id": "a2b9a37b-65b6-4b9b-b02a-418d89f543cf",
   "metadata": {},
   "source": [
    "### Common"
   ]
  },
  {
   "cell_type": "code",
   "execution_count": 43,
   "id": "3d269bf2-523b-4adc-9d8b-c03a9cbd85bd",
   "metadata": {},
   "outputs": [
    {
     "data": {
      "text/plain": [
       "(6414, 79)"
      ]
     },
     "execution_count": 43,
     "metadata": {},
     "output_type": "execute_result"
    }
   ],
   "source": [
    "common_df = pd.merge(mindat_df, ima_df, how='outer', on=['mineral_name'])\n",
    "common_df.shape"
   ]
  },
  {
   "cell_type": "code",
   "execution_count": 52,
   "id": "d553babd-bbba-4fe9-8275-aade8e296ee9",
   "metadata": {},
   "outputs": [
    {
     "data": {
      "text/plain": [
       "(675, 51)"
      ]
     },
     "execution_count": 52,
     "metadata": {},
     "output_type": "execute_result"
    }
   ],
   "source": [
    "mindat_minus_ima, ima_minus_mindat = get_column_diff(mindat_df, ima_df, 'mineral_name')\n",
    "len(mindat_minus_ima), len(ima_minus_mindat)"
   ]
  },
  {
   "cell_type": "code",
   "execution_count": 53,
   "id": "6418f5f7-58ca-40c7-84a7-dc37306e875e",
   "metadata": {},
   "outputs": [
    {
     "name": "stdout",
     "output_type": "stream",
     "text": [
      "['baumhauerite ii', 'buserite', 'calcioveatchite', 'chlorkyuygenite', 'cuatrocapaite-(nh4)', 'eleonorite', 'ferri-pedrizite', 'ferro-fluoro-pedrizite', 'ferrohögbomite-2n 2s', 'ferronigerite-2n 1s', 'ferronigerite-6n 6s', 'ferroqingheiite', \"ferrotaaffeite-2n' 2s\", \"ferrotaaffeite-6n' 3s\", 'fluorapophyllite-(nh4)', 'fluoro-pedrizite', 'fowlerite', 'georgiadesite', 'gersdorffite-p 213', 'gersdorffite-pa 3', 'gersdorffite-pca 21', 'gismondine', 'hydroxycalcioroméite', 'jagüéite', 'kësterite', 'magnesiobeltrandoite-2n 3s', 'magnesiohögbomite-2n 2s', 'magnesiohögbomite-2n 3s', 'magnesiohögbomite-2n 4s', 'magnesiohögbomite-6n 12s', 'magnesiohögbomite-6n 6s', 'magnesionigerite-2n 1s', 'magnesionigerite-6n 6s', \"magnesiotaaffeite-2n '2s\", \"magnesiotaaffeite-6n' 3s\", 'oskarssonite', 'oxycalcioroméite', 'phosphovanadylite-ba', 'pseudowollastonite', 'písekite-(y)', 'rathite-iv', 'redondite', 'roselite-β', 'staněkite', 'straβmannite', 'zincohögbomite-2n 2s', 'zincohögbomite-2n 6s', 'zinconigerite-2n 1s', 'zinconigerite-6n 6s', 'zincovelesite-6n 6s', 'zvĕstovite-(zn)']\n"
     ]
    }
   ],
   "source": [
    "print(sorted(ima_minus_mindat))"
   ]
  },
  {
   "cell_type": "code",
   "execution_count": 50,
   "id": "6754fe73-4e0b-4872-ac3a-efe10378a73b",
   "metadata": {},
   "outputs": [
    {
     "data": {
      "text/plain": [
       "(6433, 53)"
      ]
     },
     "execution_count": 50,
     "metadata": {},
     "output_type": "execute_result"
    }
   ],
   "source": [
    "common_df2 = pd.merge(ima_df, web_df, how='outer', on=['mineral_name'])\n",
    "common_df2.shape"
   ]
  },
  {
   "cell_type": "code",
   "execution_count": 57,
   "id": "f83dba47-2a4a-401e-ba63-dcac22f0cba1",
   "metadata": {},
   "outputs": [
    {
     "data": {
      "text/plain": [
       "(694, 1773)"
      ]
     },
     "execution_count": 57,
     "metadata": {},
     "output_type": "execute_result"
    }
   ],
   "source": [
    "web_minus_ima, ima_minus_web = get_column_diff(web_df, ima_df, 'mineral_name')\n",
    "len(web_minus_ima), len(ima_minus_web)"
   ]
  },
  {
   "cell_type": "code",
   "execution_count": 58,
   "id": "a95c3d30-e9d9-464e-a0eb-656135e07a31",
   "metadata": {},
   "outputs": [
    {
     "data": {
      "text/plain": [
       "(694, 2253)"
      ]
     },
     "execution_count": 58,
     "metadata": {},
     "output_type": "execute_result"
    }
   ],
   "source": [
    "web_minus_mindat, mindat_minus_web = get_column_diff(web_df, mindat_df, 'mineral_name')\n",
    "len(web_minus_ima), len(mindat_minus_web)"
   ]
  },
  {
   "cell_type": "code",
   "execution_count": 67,
   "id": "3942c366-9f99-486a-b680-77e0b2ff5b34",
   "metadata": {},
   "outputs": [
    {
     "data": {
      "text/html": [
       "<div>\n",
       "<style scoped>\n",
       "    .dataframe tbody tr th:only-of-type {\n",
       "        vertical-align: middle;\n",
       "    }\n",
       "\n",
       "    .dataframe tbody tr th {\n",
       "        vertical-align: top;\n",
       "    }\n",
       "\n",
       "    .dataframe thead th {\n",
       "        text-align: right;\n",
       "    }\n",
       "</style>\n",
       "<table border=\"1\" class=\"dataframe\">\n",
       "  <thead>\n",
       "    <tr style=\"text-align: right;\">\n",
       "      <th></th>\n",
       "      <th>ima status_y</th>\n",
       "      <th>ima status_x</th>\n",
       "    </tr>\n",
       "  </thead>\n",
       "  <tbody>\n",
       "    <tr>\n",
       "      <th>0</th>\n",
       "      <td>NaN</td>\n",
       "      <td>A</td>\n",
       "    </tr>\n",
       "    <tr>\n",
       "      <th>1</th>\n",
       "      <td>Approved IMA 1975</td>\n",
       "      <td>A</td>\n",
       "    </tr>\n",
       "    <tr>\n",
       "      <th>2</th>\n",
       "      <td>Approved IMA 1994</td>\n",
       "      <td>A</td>\n",
       "    </tr>\n",
       "    <tr>\n",
       "      <th>3</th>\n",
       "      <td>Valid Species (Pre-IMA) 1956</td>\n",
       "      <td>G</td>\n",
       "    </tr>\n",
       "    <tr>\n",
       "      <th>4</th>\n",
       "      <td>Approved IMA 1983</td>\n",
       "      <td>A</td>\n",
       "    </tr>\n",
       "    <tr>\n",
       "      <th>5</th>\n",
       "      <td>Approved IMA 2006 (Dana # Added)</td>\n",
       "      <td>A</td>\n",
       "    </tr>\n",
       "    <tr>\n",
       "      <th>6</th>\n",
       "      <td>Approved IMA 1991</td>\n",
       "      <td>A</td>\n",
       "    </tr>\n",
       "    <tr>\n",
       "      <th>7</th>\n",
       "      <td>NaN</td>\n",
       "      <td>A</td>\n",
       "    </tr>\n",
       "    <tr>\n",
       "      <th>8</th>\n",
       "      <td>Valid Species (Pre-IMA) 1855</td>\n",
       "      <td>G</td>\n",
       "    </tr>\n",
       "    <tr>\n",
       "      <th>9</th>\n",
       "      <td>Approved IMA 1975</td>\n",
       "      <td>A</td>\n",
       "    </tr>\n",
       "    <tr>\n",
       "      <th>10</th>\n",
       "      <td>NaN</td>\n",
       "      <td>A</td>\n",
       "    </tr>\n",
       "    <tr>\n",
       "      <th>11</th>\n",
       "      <td>NaN</td>\n",
       "      <td>Rn</td>\n",
       "    </tr>\n",
       "    <tr>\n",
       "      <th>12</th>\n",
       "      <td>NaN</td>\n",
       "      <td>A</td>\n",
       "    </tr>\n",
       "    <tr>\n",
       "      <th>13</th>\n",
       "      <td>NaN</td>\n",
       "      <td>A</td>\n",
       "    </tr>\n",
       "    <tr>\n",
       "      <th>14</th>\n",
       "      <td>Valid Species (Pre-IMA) 1794</td>\n",
       "      <td>Rd</td>\n",
       "    </tr>\n",
       "    <tr>\n",
       "      <th>15</th>\n",
       "      <td>Approved IMA 1987</td>\n",
       "      <td>A</td>\n",
       "    </tr>\n",
       "    <tr>\n",
       "      <th>16</th>\n",
       "      <td>NaN</td>\n",
       "      <td>A</td>\n",
       "    </tr>\n",
       "    <tr>\n",
       "      <th>17</th>\n",
       "      <td>Valid Species (Pre-IMA) 1866</td>\n",
       "      <td>G</td>\n",
       "    </tr>\n",
       "    <tr>\n",
       "      <th>18</th>\n",
       "      <td>Approved IMA 1999 (Dana # Added)</td>\n",
       "      <td>A</td>\n",
       "    </tr>\n",
       "    <tr>\n",
       "      <th>19</th>\n",
       "      <td>NaN</td>\n",
       "      <td>A</td>\n",
       "    </tr>\n",
       "  </tbody>\n",
       "</table>\n",
       "</div>"
      ],
      "text/plain": [
       "                         ima status_y ima status_x\n",
       "0                                 NaN            A\n",
       "1                   Approved IMA 1975            A\n",
       "2                   Approved IMA 1994            A\n",
       "3        Valid Species (Pre-IMA) 1956            G\n",
       "4                   Approved IMA 1983            A\n",
       "5    Approved IMA 2006 (Dana # Added)            A\n",
       "6                   Approved IMA 1991            A\n",
       "7                                 NaN            A\n",
       "8        Valid Species (Pre-IMA) 1855            G\n",
       "9                   Approved IMA 1975            A\n",
       "10                                NaN            A\n",
       "11                                NaN           Rn\n",
       "12                                NaN            A\n",
       "13                                NaN            A\n",
       "14       Valid Species (Pre-IMA) 1794           Rd\n",
       "15                  Approved IMA 1987            A\n",
       "16                                NaN            A\n",
       "17       Valid Species (Pre-IMA) 1866            G\n",
       "18   Approved IMA 1999 (Dana # Added)            A\n",
       "19                                NaN            A"
      ]
     },
     "execution_count": 67,
     "metadata": {},
     "output_type": "execute_result"
    }
   ],
   "source": [
    "common_df[['ima status_y', 'ima status_x']].head(20)"
   ]
  },
  {
   "cell_type": "code",
   "execution_count": 101,
   "id": "9d2acc4e-bd75-4cf0-8a05-6f57eba1768a",
   "metadata": {},
   "outputs": [],
   "source": [
    "fil_df = filter_df(mindat_df, axis=0, threshold=3)\n",
    "fil_df = filter_df(fil_df, axis=1, threshold=10)"
   ]
  },
  {
   "cell_type": "code",
   "execution_count": 102,
   "id": "db85fb65-e76c-4034-b35e-1134c67f9911",
   "metadata": {},
   "outputs": [
    {
     "data": {
      "text/plain": [
       "(4351, 67)"
      ]
     },
     "execution_count": 102,
     "metadata": {},
     "output_type": "execute_result"
    }
   ],
   "source": [
    "fil_df.shape"
   ]
  },
  {
   "cell_type": "markdown",
   "id": "2d1a0839-8637-4b65-a516-5dfcc3c1f80d",
   "metadata": {},
   "source": [
    "### Hardness filter\n"
   ]
  },
  {
   "cell_type": "code",
   "execution_count": 73,
   "id": "f4dafa0f-077a-4e71-afa2-9d332adb56c8",
   "metadata": {},
   "outputs": [],
   "source": [
    "hardness = mindat_df['hardness'].tolist()"
   ]
  },
  {
   "cell_type": "code",
   "execution_count": 74,
   "id": "db7b9b57-ea73-4ebb-b30f-da219d45504c",
   "metadata": {},
   "outputs": [],
   "source": [
    "vickers = [any('VH' in y for y in x) for x in hardness if x != np.nan and isinstance(x, list) ]"
   ]
  },
  {
   "cell_type": "code",
   "execution_count": 75,
   "id": "75be3b88-c1b9-43ba-beab-7aa607201cb8",
   "metadata": {},
   "outputs": [
    {
     "data": {
      "text/plain": [
       "4273"
      ]
     },
     "execution_count": 75,
     "metadata": {},
     "output_type": "execute_result"
    }
   ],
   "source": [
    "len(vickers)"
   ]
  },
  {
   "cell_type": "code",
   "execution_count": null,
   "id": "6cccb107-64a2-4a77-a150-fdfbc0293c71",
   "metadata": {},
   "outputs": [],
   "source": []
  }
 ],
 "metadata": {
  "kernelspec": {
   "display_name": "jupy-lab-kernel",
   "language": "python",
   "name": "jupy-lab-kernel"
  },
  "language_info": {
   "codemirror_mode": {
    "name": "ipython",
    "version": 3
   },
   "file_extension": ".py",
   "mimetype": "text/x-python",
   "name": "python",
   "nbconvert_exporter": "python",
   "pygments_lexer": "ipython3",
   "version": "3.8.10"
  }
 },
 "nbformat": 4,
 "nbformat_minor": 5
}
