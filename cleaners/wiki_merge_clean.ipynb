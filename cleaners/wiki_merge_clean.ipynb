{
 "cells": [
  {
   "cell_type": "code",
   "execution_count": 1,
   "id": "3de6f7a1-32c5-4596-a601-7636e401ea64",
   "metadata": {},
   "outputs": [],
   "source": [
    "import re\n",
    "from collections import defaultdict\n",
    "\n",
    "from utils import *"
   ]
  },
  {
   "cell_type": "code",
   "execution_count": 2,
   "id": "f67b7393-67a6-4d9a-af4f-963024cc9f0b",
   "metadata": {},
   "outputs": [],
   "source": [
    "p_reg = r'\\(p.*\\)'\n",
    "q_reg = r'\\(Q.*\\)'"
   ]
  },
  {
   "cell_type": "code",
   "execution_count": 3,
   "id": "052ba634-7f24-4168-8d3a-05572d3d2274",
   "metadata": {},
   "outputs": [],
   "source": [
    "def extra_in_wiki(full_df, wiki_df, col):\n",
    "    count = 0\n",
    "    for value in wiki_df['mineral_name'].tolist():\n",
    "        if not pd.notna(full_df[full_df['mineral_name'] == value][col].tolist()[0]):\n",
    "            count += 1\n",
    "    return count"
   ]
  },
  {
   "cell_type": "code",
   "execution_count": 4,
   "id": "17ad5f84-c4e7-4d9b-9ac4-7b8e78e9e1fb",
   "metadata": {},
   "outputs": [],
   "source": [
    "wiki_df = pd.read_csv('../data/wikipedia/data.csv', index_col=0)\n",
    "mwi_df = pd.read_csv('../data/merged-MWI.csv')"
   ]
  },
  {
   "cell_type": "code",
   "execution_count": 5,
   "id": "93fb3eed-b9df-4c76-b87e-322aa4c05d18",
   "metadata": {},
   "outputs": [
    {
     "data": {
      "text/plain": [
       "(1556, 63)"
      ]
     },
     "execution_count": 5,
     "metadata": {},
     "output_type": "execute_result"
    }
   ],
   "source": [
    "wiki_df = wiki_df.reset_index(drop=True)\n",
    "wiki_df = wiki_df.rename(columns={'Mineral Name': 'mineral_name'})\n",
    "wiki_df = process_df(wiki_df)\n",
    "wiki_df.shape"
   ]
  },
  {
   "cell_type": "code",
   "execution_count": 6,
   "id": "14f74d2d-8232-4d52-a265-cca038618b3f",
   "metadata": {},
   "outputs": [],
   "source": [
    "wiki_df = wiki_df[~(wiki_df['mineral_name'] == 'nitre')]"
   ]
  },
  {
   "cell_type": "code",
   "execution_count": 7,
   "id": "43e20817-722e-49d7-a9d8-0fc3b1bac104",
   "metadata": {},
   "outputs": [],
   "source": [
    "wiki_df = remove_synonyms(wiki_df)"
   ]
  },
  {
   "cell_type": "code",
   "execution_count": 8,
   "id": "76482b1e-3066-420b-8680-013195736481",
   "metadata": {},
   "outputs": [],
   "source": [
    "wiki_df.drop(columns=set(wiki_df.columns).intersection(mwi_df.columns).difference(\n",
    "    {'mineral_name', 'habit', 'tenacity'}), inplace=True)"
   ]
  },
  {
   "cell_type": "code",
   "execution_count": 9,
   "id": "eafe584e-a05e-4edb-89f8-b744598537a3",
   "metadata": {},
   "outputs": [],
   "source": [
    "for col in wiki_df.columns:\n",
    "    if len(re.findall(p_reg, col)) != 0:\n",
    "        wiki_df[re.sub(p_reg, '', col)] = wiki_df[col].apply(lambda x: re.sub(q_reg, '', str(x)))\n",
    "        wiki_df.drop(columns=[col], inplace=True)"
   ]
  },
  {
   "cell_type": "code",
   "execution_count": 10,
   "id": "114ada2b-53a6-4065-bb04-2016bf9a9ba7",
   "metadata": {},
   "outputs": [],
   "source": [
    "wiki_df['nickel-strunz \\'10th ed\\', review of (9th ed/ 2009 update) '] = wiki_df[\n",
    "    'nickel-strunz \\'10th ed\\', review of (9th ed/ 2009 update) '].combine_first(\n",
    "    wiki_df['nickel-strunz 9th edition (updated 2009) '])"
   ]
  },
  {
   "cell_type": "code",
   "execution_count": 11,
   "id": "4d6f613f-5704-482d-8ae2-2e2bfeec2382",
   "metadata": {},
   "outputs": [
    {
     "data": {
      "text/plain": [
       "Index(['mineral_name', '2v', 'caption', 'class', 'colour', 'dana', 'density',\n",
       "       'description', 'diaphaneity', 'fluorescence', 'gravity', 'habit',\n",
       "       'mohs', 'molweight', 'name', 'opticalprop', 'other', 'refractive',\n",
       "       'solubility', 'strunz', 'symmetry', 'system', 'tenacity', 'unit cell',\n",
       "       'art & architecture thesaurus id ', 'babelnet id ', 'commons category ',\n",
       "       'crystal system ', 'dana 8th edition ', 'described by source ',\n",
       "       'elhuyar zth id ', 'encyclopædia britannica online id ',\n",
       "       'encyclopædia universalis id ', 'freebase id ',\n",
       "       'google knowledge graph id ', 'gran enciclopèdia catalana id ',\n",
       "       'great russian encyclopedia online id ', 'ima number, broad sense ',\n",
       "       'ima status and/or rank ', 'kbpedia id ', 'kivid.info id ',\n",
       "       'microsoft academic id ', 'mindat mineral id ', 'mohs' hardness ',\n",
       "       'named after ',\n",
       "       'nickel-strunz '10th ed', review of (9th ed/ 2009 update) ',\n",
       "       'nickel-strunz 9th edition (updated 2009) ',\n",
       "       'solid solution series with ', 'space group ',\n",
       "       'store norske leksikon id ', 'streak color ',\n",
       "       'strunz 8th edition (series id, updated) ', 'subclass of ',\n",
       "       'type locality (geology) ', 'wolfram language entity code '],\n",
       "      dtype='object')"
      ]
     },
     "execution_count": 11,
     "metadata": {},
     "output_type": "execute_result"
    }
   ],
   "source": [
    "wiki_df.columns"
   ]
  },
  {
   "cell_type": "code",
   "execution_count": 12,
   "id": "41d15c5f-29df-4078-940a-04f8f5fc891b",
   "metadata": {},
   "outputs": [],
   "source": [
    "columns_to_drop = [\n",
    "    '2v', 'caption', 'colour', 'dana', 'density',\n",
    "    'description', 'fluorescence', 'molweight', 'name', 'other',\n",
    "    'solubility', 'unit cell',\n",
    "    'art & architecture thesaurus id ', 'babelnet id ', 'commons category ',\n",
    "    'crystal system ', 'described by source ',\n",
    "    'elhuyar zth id ',\n",
    "    'encyclopædia universalis id ',\n",
    "    'gran enciclopèdia catalana id ',\n",
    "    'great russian encyclopedia online id ',\n",
    "    'ima status and/or rank ', 'kbpedia id ',\n",
    "    'mindat mineral id ', 'mohs\\' hardness ',\n",
    "    'nickel-strunz 9th edition (updated 2009) ',\n",
    "    'solid solution series with ',\n",
    "    'store norske leksikon id ',\n",
    "    'wolfram language entity code '\n",
    "\n",
    "]"
   ]
  },
  {
   "cell_type": "code",
   "execution_count": 13,
   "id": "e0dce6cb-33bd-4cd3-8938-8cc9f6249cc2",
   "metadata": {},
   "outputs": [],
   "source": [
    "wiki_df = wiki_df.drop(columns=columns_to_drop)"
   ]
  },
  {
   "cell_type": "raw",
   "id": "88851a2d-f676-40e0-8d3f-4903987dcbcd",
   "metadata": {},
   "source": [
    "extra = [\n",
    "refractive, class, symmetry, encyclopædia britannica online id , freebase id , google knowledge graph id , ima number, broad sense , kivid.info id , microsoft academic id , subclass of , tenacity, habit]"
   ]
  },
  {
   "cell_type": "code",
   "execution_count": 14,
   "id": "ad12dcc0-6f00-4725-9639-b20cc3ef7fbe",
   "metadata": {},
   "outputs": [],
   "source": [
    "columns_to_rename = {\n",
    "    'diaphaneity': 'transparency',\n",
    "    'gravity': 'specific gravity (in gm/cc)',\n",
    "    'mohs': 'hardness mohs',\n",
    "    'opticalprop': 'optical data',\n",
    "    'strunz': 'strunz 9th ed.',\n",
    "    'system': 'crystal system',\n",
    "    'unit cell': 'cell dimensions',\n",
    "    'dana 8th edition ': 'dana 8th ed.',\n",
    "    'named after ': 'name origin',\n",
    "    'nickel-strunz \\'10th ed\\', review of (9th ed/ 2009 update) ': 'nickel-strunz 10th (pending) ed.',\n",
    "    'space group ': 'space group',\n",
    "    'streak color ': 'streak',\n",
    "    'strunz 8th edition (series id, updated) ': 'strunz 8th ed.',\n",
    "    'type locality (geology) ': 'locality',\n",
    "\n",
    "}"
   ]
  },
  {
   "cell_type": "code",
   "execution_count": 15,
   "id": "6665b9f8-671c-406d-b7b0-a3a41f20ec9d",
   "metadata": {},
   "outputs": [],
   "source": [
    "wiki_df = wiki_df.rename(columns=columns_to_rename)"
   ]
  },
  {
   "cell_type": "code",
   "execution_count": 16,
   "id": "83dfa089-0b51-4267-a12a-46a871da1f5e",
   "metadata": {},
   "outputs": [],
   "source": [
    "def handle_crystal_sys(x):\n",
    "    x = re.sub('[\\[\\]]', '', x)\n",
    "    x = re.sub('crystal system', '', x)\n",
    "    x = x.split('|')[0]\n",
    "    x = x.split('<')[0]\n",
    "    return x"
   ]
  },
  {
   "cell_type": "code",
   "execution_count": 17,
   "id": "330edf2d-dcb5-4037-8c78-8aff3852b98c",
   "metadata": {},
   "outputs": [],
   "source": [
    "def handle_space(x):\n",
    "    x = re.sub('[space group]', '', x)\n",
    "    x = re.split('\\/', x)[0]\n",
    "    return x"
   ]
  },
  {
   "cell_type": "code",
   "execution_count": 18,
   "id": "3e0d2c6a-7d12-4208-b620-2e43568166d2",
   "metadata": {},
   "outputs": [],
   "source": [
    "def romanToInt(s):\n",
    "    roman = {'I': 1, 'V': 5, 'X': 10, 'L': 50, 'C': 100, 'D': 500, 'M': 1000, 'IV': 4, 'IX': 9,\n",
    "             'XL': 40, 'XC': 90, 'CD': 400, 'CM': 900}\n",
    "    i = 0\n",
    "    num = 0\n",
    "    while i < len(s):\n",
    "        if i + 1 < len(s) and s[i:i + 2] in roman:\n",
    "            num += roman[s[i:i + 2]]\n",
    "            i += 2\n",
    "        else:\n",
    "            num += roman[s[i]]\n",
    "            i += 1\n",
    "    return str(num)"
   ]
  },
  {
   "cell_type": "code",
   "execution_count": 19,
   "id": "2aee11cf-7b5c-45c7-8116-4435a479b46e",
   "metadata": {},
   "outputs": [],
   "source": [
    "def handle_strunz_8(x):\n",
    "    rom = x.split('/')[0]\n",
    "    try:\n",
    "        int_str = romanToInt(rom)\n",
    "    except:\n",
    "        return np.nan\n",
    "    x = int_str + '/' + x.split('/')[1]\n",
    "    return x"
   ]
  },
  {
   "cell_type": "code",
   "execution_count": 20,
   "id": "22ebbd81-575c-4e25-91a7-c31f106326da",
   "metadata": {},
   "outputs": [],
   "source": [
    "def handle_refractive(x):\n",
    "    x = re.sub('<br.*?>', ',', x)\n",
    "    x = re.sub('<.*?sub.*?>', '', x)\n",
    "    x = re.sub('\\(.*\\)', '', x)\n",
    "    return x"
   ]
  },
  {
   "cell_type": "code",
   "execution_count": 21,
   "id": "5120ebff-3767-442a-8bd3-3aae3840fd62",
   "metadata": {},
   "outputs": [],
   "source": [
    "def handle_class(x):\n",
    "    x = re.sub('[\\[\\]\\']', '', x)\n",
    "    x = x.split('(')[0]\n",
    "    return x"
   ]
  },
  {
   "cell_type": "code",
   "execution_count": 22,
   "id": "c5b55478-a056-4930-a8dc-f3923a4a7e96",
   "metadata": {},
   "outputs": [],
   "source": [
    "wiki_df['specific gravity (in gm/cc)'] = wiki_df['specific gravity (in gm/cc)'].apply(\n",
    "    lambda x: re.split('[a-z\\(\\,\\{]', x)[0] if pd.notna(x) else x)"
   ]
  },
  {
   "cell_type": "code",
   "execution_count": 23,
   "id": "fd1329bd-c8ed-4356-935a-6d528c24a843",
   "metadata": {},
   "outputs": [],
   "source": [
    "wiki_df['hardness mohs'] = wiki_df['hardness mohs'].apply(\n",
    "    lambda x: re.split('[a-z\\(\\,\\{\\-\\&\\~]', x)[0] if pd.notna(x) else x)"
   ]
  },
  {
   "cell_type": "code",
   "execution_count": 24,
   "id": "ae726fd0-e605-41cd-a940-e1bd8bcd2b3b",
   "metadata": {},
   "outputs": [],
   "source": [
    "wiki_df['strunz 9th ed.'] = wiki_df['strunz 9th ed.'].apply(\n",
    "    lambda x: re.split('[\\(]', x)[0] if pd.notna(x) else x)"
   ]
  },
  {
   "cell_type": "code",
   "execution_count": 25,
   "id": "37933a11-7d6c-4c50-bb6e-113c51f75aa2",
   "metadata": {},
   "outputs": [],
   "source": [
    "wiki_df['tenacity'] = wiki_df['tenacity'].apply(\n",
    "    lambda x: x.replace('[[\\[\\]]', '') if pd.notna(x) else x)"
   ]
  },
  {
   "cell_type": "code",
   "execution_count": 26,
   "id": "7d1a8c8a-3be0-4631-bc85-d964f3fe7a15",
   "metadata": {},
   "outputs": [],
   "source": [
    "wiki_df['crystal system'] = wiki_df['crystal system'].apply(\n",
    "    lambda x: handle_crystal_sys(x) if pd.notna(x) else x)"
   ]
  },
  {
   "cell_type": "code",
   "execution_count": 27,
   "id": "ee02e726-27fe-4b28-ba23-9d45fff54f0b",
   "metadata": {},
   "outputs": [],
   "source": [
    "wiki_df['name origin'] = wiki_df['name origin'].apply(\n",
    "    lambda x: re.sub('[\\[\\]\\']', '', x) if pd.notna(x) else x)"
   ]
  },
  {
   "cell_type": "code",
   "execution_count": 28,
   "id": "fcde57e0-a60e-4628-ab37-8ed3320d7709",
   "metadata": {},
   "outputs": [],
   "source": [
    "wiki_df['locality'] = wiki_df['locality'].apply(\n",
    "    lambda x: re.sub('[\\[\\]\\']', '', x) if pd.notna(x) else x)"
   ]
  },
  {
   "cell_type": "code",
   "execution_count": 29,
   "id": "b01aed23-77d0-4549-955c-e3ff0368a920",
   "metadata": {},
   "outputs": [],
   "source": [
    "wiki_df['space group'] = wiki_df['space group'].apply(\n",
    "    lambda x: handle_space(x) if pd.notna(x) else x)"
   ]
  },
  {
   "cell_type": "code",
   "execution_count": 30,
   "id": "f31ef98f-feba-42c4-98b5-d6234ba2135c",
   "metadata": {},
   "outputs": [],
   "source": [
    "wiki_df['strunz 8th ed.'] = wiki_df['strunz 8th ed.'].apply(\n",
    "    lambda x: handle_strunz_8(x) if pd.notna(x) else x)"
   ]
  },
  {
   "cell_type": "code",
   "execution_count": 31,
   "id": "3d57984f-055a-4644-8731-f2f5a6ed61bf",
   "metadata": {},
   "outputs": [],
   "source": [
    "wiki_df['refractive'] = wiki_df['refractive'].apply(\n",
    "    lambda x: handle_refractive(x) if pd.notna(x) else x)"
   ]
  },
  {
   "cell_type": "code",
   "execution_count": 32,
   "id": "51424b56-3854-49f5-9b81-ca19895a65ed",
   "metadata": {},
   "outputs": [],
   "source": [
    "wiki_df['class'] = wiki_df['class'].apply(lambda x: handle_class(x) if pd.notna(x) else x)"
   ]
  },
  {
   "cell_type": "code",
   "execution_count": 33,
   "id": "ace50474-204b-462e-bfce-715834ce7768",
   "metadata": {},
   "outputs": [],
   "source": [
    "wiki_df['symmetry'] = wiki_df['symmetry'].apply(\n",
    "    lambda x: re.sub('\\[\\[.*\\]\\]|{{.*}}|<[^>]*>|\\([^\\)]*\\)|\\'|\\:', '', x) if pd.notna(x) else x)"
   ]
  },
  {
   "cell_type": "code",
   "execution_count": 34,
   "id": "7ee117c7-f461-46e6-b258-76070f41d4d6",
   "metadata": {},
   "outputs": [],
   "source": [
    "wiki_df.columns = [x.strip() for x in wiki_df.columns]"
   ]
  },
  {
   "cell_type": "code",
   "execution_count": 35,
   "id": "88d98801-22b3-4ed3-8a05-e00a4c2e5dfd",
   "metadata": {},
   "outputs": [],
   "source": [
    "df = pd.merge(mwi_df, wiki_df, how='outer', on='mineral_name')"
   ]
  },
  {
   "cell_type": "raw",
   "id": "cbf5d4fd-abca-42f1-a714-12c62cea9e8b",
   "metadata": {},
   "source": [
    "attr_dic['class']=                 ['class']\n",
    "attr_dic['refractive']=                 ['refractive']\n",
    "attr_dic['symmetry']=                 ['symmetry']\n",
    "attr_dic['encyclopaedia britannica online id']=                 ['encyclopædia britannica online id']\n",
    "attr_dic['freebase id']=                 ['freebase id']\n",
    "attr_dic['google knowledge graph id']=                 ['google knowledge graph id']\n",
    "attr_dic['ima number']=                 ['ima number, broad sense']\n",
    "attr_dic['kivid info id']=                 ['kivid.info id']\n",
    "attr_dic['microsoft academic id']=                 ['microsoft academic id']\n",
    "attr_dic['subclass of']=                 ['subclass of']"
   ]
  },
  {
   "cell_type": "code",
   "execution_count": 36,
   "id": "32d08331-7bd2-480f-bcdc-1055ae0cf241",
   "metadata": {},
   "outputs": [],
   "source": [
    "attr_dic = defaultdict(lambda: defaultdict(list))"
   ]
  },
  {
   "cell_type": "code",
   "execution_count": 37,
   "id": "391f0d33-9b1e-4039-8800-87c84e334fc3",
   "metadata": {},
   "outputs": [],
   "source": [
    "attr_dic['Crystal System']=                         ['Crystal System_x', 'Crystal System_y']\n",
    "attr_dic['dana 8th ed.']=                           ['dana 8th ed._x', 'dana 8th ed._y']\n",
    "attr_dic['Habit']=                                  ['Habit_x', 'Habit_y']\n",
    "attr_dic['hardness mohs']=                          ['hardness mohs_x', 'hardness mohs_y']\n",
    "attr_dic['Locality']=                               ['locality_x', 'locality_y']\n",
    "attr_dic['Name Origin']=                            ['Name Origin_x', 'Name Origin_y']\n",
    "attr_dic['Nickel-Strunz 10th (pending) ed.']=       ['Nickel-Strunz 10th (pending) ed._x','Nickel-Strunz 10th (pending) ed._y']\n",
    "attr_dic['Optical Data']=                           ['Optical Data_x', 'Optical Data_y']\n",
    "attr_dic['Space Group']=                            ['Space Group_x', 'Space Group_x']\n",
    "attr_dic['specific gravity (in gm/cc)']=            ['specific gravity (in gm/cc)_x','specific gravity (in gm/cc)_y']\n",
    "attr_dic['Streak']=                                 ['Streak_x', 'Streak_y']\n",
    "attr_dic['Strunz 8th ed.']=                         ['Strunz 8th ed._x', 'Strunz 8th ed._y']\n",
    "attr_dic['strunz 9th ed.']=                         ['strunz 9th ed._x', 'strunz 9th ed._y']\n",
    "attr_dic['Tenacity']=                               ['Tenacity_x', 'Tenacity_y']\n",
    "attr_dic['Transparency']=                           ['Transparency_x', 'Transparency_y']"
   ]
  },
  {
   "cell_type": "code",
   "execution_count": 38,
   "id": "9272921f-e7fc-40c8-a131-0569d1945225",
   "metadata": {},
   "outputs": [],
   "source": [
    "for k, v in attr_dic.items():\n",
    "    k = k.lower()\n",
    "    v = [x.lower() for x in v]\n",
    "    df[k] = df[v[0]].combine_first(df[v[1]])\n",
    "    df.drop(columns=v, inplace=True)"
   ]
  },
  {
   "cell_type": "code",
   "execution_count": 39,
   "id": "3026180c-c574-40ef-ba74-c04ed5c5ea3d",
   "metadata": {},
   "outputs": [],
   "source": [
    "df['space group'] = df['space group'].combine_first(df['space group_y'])\n",
    "df.drop(columns=['space group_y'], inplace=True)"
   ]
  },
  {
   "cell_type": "code",
   "execution_count": 40,
   "id": "3f6a36be-90a0-45ac-b01a-ff0104cfb173",
   "metadata": {},
   "outputs": [],
   "source": [
    "df['encyclopedia britannica online id'] = df['encyclopædia britannica online id'].copy()\n",
    "df.drop(columns=['encyclopædia britannica online id'], inplace=True)"
   ]
  },
  {
   "cell_type": "code",
   "execution_count": 41,
   "id": "a3be39fb-c60f-4b5d-8408-4d46647e82ae",
   "metadata": {},
   "outputs": [],
   "source": [
    "df = df.replace('', np.nan, regex=True)"
   ]
  },
  {
   "cell_type": "code",
   "execution_count": 42,
   "id": "7fb92a8c-960b-458f-8efd-b2fd5381720e",
   "metadata": {},
   "outputs": [],
   "source": [
    "df = process_df(df)"
   ]
  },
  {
   "cell_type": "code",
   "execution_count": 43,
   "id": "42f30242-bf82-4cc3-ba1b-7270f7ef417c",
   "metadata": {},
   "outputs": [],
   "source": [
    "for col in df.columns:\n",
    "    df[col] = df[col].astype(str).str.strip()"
   ]
  },
  {
   "cell_type": "code",
   "execution_count": 44,
   "id": "3896255d-c8ef-4375-975b-316cff888f84",
   "metadata": {},
   "outputs": [],
   "source": [
    "df.to_csv('../data/MWIW.csv', index=None)"
   ]
  },
  {
   "cell_type": "code",
   "execution_count": 45,
   "id": "9e367ddc-becb-448c-a7d7-12735ad6ad2e",
   "metadata": {},
   "outputs": [
    {
     "name": "stdout",
     "output_type": "stream",
     "text": [
      "<class 'pandas.core.frame.DataFrame'>\n",
      "Int64Index: 7079 entries, 0 to 7078\n",
      "Data columns (total 100 columns):\n",
      " #   Column                             Non-Null Count  Dtype \n",
      "---  ------                             --------------  ----- \n",
      " 0   mineral_name                       7079 non-null   object\n",
      " 1   2v calculated                      7079 non-null   object\n",
      " 2   2v measured                        7079 non-null   object\n",
      " 3   anisotrophism                      7079 non-null   object\n",
      " 4   approval history                   7079 non-null   object\n",
      " 5   approval year                      7079 non-null   object\n",
      " 6   axial ratios                       7079 non-null   object\n",
      " 7   bireflectance                      7079 non-null   object\n",
      " 8   birefringence                      7079 non-null   object\n",
      " 9   boson index                        7079 non-null   object\n",
      " 10  cell dimensions                    7079 non-null   object\n",
      " 11  cell parameters                    7079 non-null   object\n",
      " 12  class                              7079 non-null   object\n",
      " 13  class (h-m)                        7079 non-null   object\n",
      " 14  cleavage                           7079 non-null   object\n",
      " 15  color                              7079 non-null   object\n",
      " 16  common impurities                  7079 non-null   object\n",
      " 17  country                            7079 non-null   object\n",
      " 18  crystal system                     7079 non-null   object\n",
      " 19  dana 7th ed.                       7079 non-null   object\n",
      " 20  dana 8th ed.                       7079 non-null   object\n",
      " 21  dana class                         7079 non-null   object\n",
      " 22  density calculated (in gm/cc)      7079 non-null   object\n",
      " 23  density measured (in gm/cc)        7079 non-null   object\n",
      " 24  dichroism (e)                      7079 non-null   object\n",
      " 25  dichroism (w)                      7079 non-null   object\n",
      " 26  dispersion                         7079 non-null   object\n",
      " 27  electron density                   7079 non-null   object\n",
      " 28  elements listed                    7079 non-null   object\n",
      " 29  empirical formula                  7079 non-null   object\n",
      " 30  encyclopedia britannica online id  7079 non-null   object\n",
      " 31  environment                        7079 non-null   object\n",
      " 32  epitaxial minerals                 7079 non-null   object\n",
      " 33  fermion index                      7079 non-null   object\n",
      " 34  first published                    7079 non-null   object\n",
      " 35  first ref                          7079 non-null   object\n",
      " 36  formula                            7079 non-null   object\n",
      " 37  fracture                           7079 non-null   object\n",
      " 38  freebase id                        7079 non-null   object\n",
      " 39  geological setting                 7079 non-null   object\n",
      " 40  gladstone-dale                     7079 non-null   object\n",
      " 41  google knowledge graph id          7079 non-null   object\n",
      " 42  habit                              7079 non-null   object\n",
      " 43  hardness mohs                      7079 non-null   object\n",
      " 44  hardness vickers                   7079 non-null   object\n",
      " 45  hey's cim ref.                     7079 non-null   object\n",
      " 46  ima number, broad sense            7079 non-null   object\n",
      " 47  ima status                         7079 non-null   object\n",
      " 48  ima year                           7079 non-null   object\n",
      " 49  in uv light                        7079 non-null   object\n",
      " 50  internal reflections               7079 non-null   object\n",
      " 51  ir spectrum                        7079 non-null   object\n",
      " 52  isostructural with                 7079 non-null   object\n",
      " 53  kivid.info id                      7079 non-null   object\n",
      " 54  locality                           7079 non-null   object\n",
      " 55  luminescence                       7079 non-null   object\n",
      " 56  luster                             7079 non-null   object\n",
      " 57  magnetism                          7079 non-null   object\n",
      " 58  member of                          7079 non-null   object\n",
      " 59  microsoft academic id              7079 non-null   object\n",
      " 60  mindat.org url                     7079 non-null   object\n",
      " 61  mineral dealers                    7079 non-null   object\n",
      " 62  molecular weight                   7079 non-null   object\n",
      " 63  morphology                         7079 non-null   object\n",
      " 64  name origin                        7079 non-null   object\n",
      " 65  nickel-strunz 10th (pending) ed.   7079 non-null   object\n",
      " 66  number of molecules in unit cell   7079 non-null   object\n",
      " 67  optical data                       7079 non-null   object\n",
      " 68  parting                            7079 non-null   object\n",
      " 69  photoelectric                      7079 non-null   object\n",
      " 70  pleochroism                        7079 non-null   object\n",
      " 71  pleochroism (x)                    7079 non-null   object\n",
      " 72  pleochroism (y)                    7079 non-null   object\n",
      " 73  pleochroism (z)                    7079 non-null   object\n",
      " 74  polymorphism                       7079 non-null   object\n",
      " 75  powder diffraction                 7079 non-null   object\n",
      " 76  radioactivity                      7079 non-null   object\n",
      " 77  reflectivity                       7079 non-null   object\n",
      " 78  refractive                         7079 non-null   object\n",
      " 79  ri values                          7079 non-null   object\n",
      " 80  rl bireflectance                   7079 non-null   object\n",
      " 81  rl color                           7079 non-null   object\n",
      " 82  second ref                         7079 non-null   object\n",
      " 83  space group                        7079 non-null   object\n",
      " 84  special storage                    7079 non-null   object\n",
      " 85  specific gravity (in gm/cc)        7079 non-null   object\n",
      " 86  streak                             7079 non-null   object\n",
      " 87  strunz 8th ed.                     7079 non-null   object\n",
      " 88  strunz 9th ed.                     7079 non-null   object\n",
      " 89  strunz class                       7079 non-null   object\n",
      " 90  subclass of                        7079 non-null   object\n",
      " 91  surface relief                     7079 non-null   object\n",
      " 92  symmetry                           7079 non-null   object\n",
      " 93  synonym                            7079 non-null   object\n",
      " 94  tenacity                           7079 non-null   object\n",
      " 95  transparency                       7079 non-null   object\n",
      " 96  twinning                           7079 non-null   object\n",
      " 97  type                               7079 non-null   object\n",
      " 98  unit cell v                        7079 non-null   object\n",
      " 99  x ray diffraction                  7079 non-null   object\n",
      "dtypes: object(100)\n",
      "memory usage: 5.5+ MB\n"
     ]
    }
   ],
   "source": [
    "df.info()"
   ]
  },
  {
   "cell_type": "code",
   "execution_count": null,
   "id": "aa7b6bcc-bf34-4d94-9961-9036f6a1b72d",
   "metadata": {},
   "outputs": [],
   "source": []
  }
 ],
 "metadata": {
  "kernelspec": {
   "display_name": "jupy-lab-kernel",
   "language": "python",
   "name": "jupy-lab-kernel"
  },
  "language_info": {
   "codemirror_mode": {
    "name": "ipython",
    "version": 3
   },
   "file_extension": ".py",
   "mimetype": "text/x-python",
   "name": "python",
   "nbconvert_exporter": "python",
   "pygments_lexer": "ipython3",
   "version": "3.8.10"
  }
 },
 "nbformat": 4,
 "nbformat_minor": 5
}
