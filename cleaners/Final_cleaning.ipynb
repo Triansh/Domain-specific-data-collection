{
 "cells": [
  {
   "cell_type": "code",
   "execution_count": 1,
   "id": "6885c2a4-1e0f-4972-b810-93b6c785872b",
   "metadata": {},
   "outputs": [],
   "source": [
    "import pandas as pd\n",
    "import re\n",
    "from utils import *"
   ]
  },
  {
   "cell_type": "code",
   "execution_count": 2,
   "id": "85aead3a-9198-4f6c-becd-7e751e5054f5",
   "metadata": {},
   "outputs": [],
   "source": [
    "final_df = pd.read_csv('../data/MWIW.csv')"
   ]
  },
  {
   "cell_type": "code",
   "execution_count": 3,
   "id": "6d16eb74-de4e-41c6-972d-2877cf44f18b",
   "metadata": {},
   "outputs": [],
   "source": [
    "emoji_reg = re.compile(\"[\"\n",
    "                           u\"\\U0001F600-\\U0001F64F\"  # emoticons\n",
    "                           u\"\\U0001F300-\\U0001F5FF\"  # symbols & pictographs\n",
    "                           u\"\\U0001F680-\\U0001F6FF\"  # transport & map symbols\n",
    "                           u\"\\U0001F1E0-\\U0001F1FF\"  # flags (iOS)\n",
    "                           u\"\\U00002500-\\U00002BEF\"  # chinese char\n",
    "                           u\"\\U00002702-\\U000027B0\"\n",
    "                           u\"\\U00002702-\\U000027B0\"\n",
    "                           u\"\\U000024C2-\\U0001F251\"\n",
    "                           u\"\\U0001f926-\\U0001f937\"\n",
    "                           u\"\\U00010000-\\U0010ffff\"\n",
    "                           u\"\\u2640-\\u2642\"\n",
    "                           u\"\\u2600-\\u2B55\"\n",
    "                           u\"\\u200d\"\n",
    "                           u\"\\u23cf\"\n",
    "                           u\"\\u23e9\"\n",
    "                           u\"\\u231a\"\n",
    "                           u\"\\ufe0f\"  # dingbats\n",
    "                           u\"\\u3030\"\n",
    "                           \"]+\", flags=re.UNICODE)"
   ]
  },
  {
   "cell_type": "code",
   "execution_count": 4,
   "id": "3b61658a-54f9-4782-9122-46e09f71bc05",
   "metadata": {},
   "outputs": [],
   "source": [
    "def handle_wiki_ima(x):\n",
    "    x = re.split('-', x)[0]\n",
    "    x = re.sub('IMA', '', x)\n",
    "    return x"
   ]
  },
  {
   "cell_type": "code",
   "execution_count": 5,
   "id": "6b113a99-ff29-4542-929e-1a1f19f92d90",
   "metadata": {},
   "outputs": [],
   "source": [
    "final_df['approval year'] = final_df['approval year'].apply(lambda x: int(x) if pd.notna(x) else x)"
   ]
  },
  {
   "cell_type": "code",
   "execution_count": 6,
   "id": "e8094f10-55bf-4139-b93d-5da9c546131c",
   "metadata": {},
   "outputs": [],
   "source": [
    "final_df['ima year'] = final_df['ima year'].apply(lambda x: re.split('-', x)[0] if pd.notna(x) else x)"
   ]
  },
  {
   "cell_type": "code",
   "execution_count": 7,
   "id": "08e8ad58-81b8-4cb9-92f8-f3da38a3e683",
   "metadata": {},
   "outputs": [],
   "source": [
    "final_df['ima number, broad sense'] = final_df['ima number, broad sense'].apply(lambda x: handle_wiki_ima(x) if pd.notna(x) else x)"
   ]
  },
  {
   "cell_type": "code",
   "execution_count": 8,
   "id": "360e39ab-0a9a-4771-b17d-7f28086eb864",
   "metadata": {},
   "outputs": [],
   "source": [
    "final_df['ima year'] = final_df['ima year'].combine_first(final_df['approval year'])\n",
    "final_df['ima year'] = final_df['ima year'].combine_first(final_df['ima number, broad sense'])"
   ]
  },
  {
   "cell_type": "code",
   "execution_count": 9,
   "id": "295431ff-4a60-45eb-a49f-de067dbc1238",
   "metadata": {},
   "outputs": [],
   "source": [
    "final_df['strunz 10th ed.'] = final_df['nickel-strunz 10th (pending) ed.']"
   ]
  },
  {
   "cell_type": "code",
   "execution_count": 10,
   "id": "5ce43c68-5fe6-4d96-85d9-258a706ca1aa",
   "metadata": {},
   "outputs": [],
   "source": [
    "final_df['radioactivity (in GRapi)'] = final_df['radioactivity'].apply(lambda x: re.split('=', x)[1] if pd.notna(x) else x)"
   ]
  },
  {
   "cell_type": "code",
   "execution_count": 11,
   "id": "d8c97e12-953e-484d-9cc5-012092a55432",
   "metadata": {},
   "outputs": [],
   "source": [
    "final_df['refractive index values'] = final_df['refractive'].combine_first(final_df['ri values'])"
   ]
  },
  {
   "cell_type": "code",
   "execution_count": 12,
   "id": "50811c06-88c4-4a4f-af5f-787d85cd5712",
   "metadata": {},
   "outputs": [],
   "source": [
    "final_df['molecular weight (in gm)'] = final_df['molecular weight'].apply(lambda x: re.split('g', x)[0] if pd.notna(x) else x)"
   ]
  },
  {
   "cell_type": "code",
   "execution_count": 13,
   "id": "cbc4ee71-38c1-4140-b74e-b4568151f520",
   "metadata": {},
   "outputs": [],
   "source": [
    "final_df['photoelectric (in barns/electron)'] = final_df['photoelectric'].apply(lambda x: re.split('b', x)[0] if pd.notna(x) else x)"
   ]
  },
  {
   "cell_type": "code",
   "execution_count": 14,
   "id": "eb8742ba-168e-4cf9-a184-572864f55561",
   "metadata": {},
   "outputs": [],
   "source": [
    "final_df['locality'] = final_df['locality'].apply(lambda x: emoji_reg.sub('', x) if pd.notna(x) else x)"
   ]
  },
  {
   "cell_type": "code",
   "execution_count": 15,
   "id": "6264e86c-3378-4475-b45e-bbba87a0fa84",
   "metadata": {},
   "outputs": [],
   "source": [
    "final_df['density calculated (in gm/cc)'] = final_df['density calculated (in gm/cc)'].apply(lambda x: re.split('g', x)[0] if pd.notna(x) else x)"
   ]
  },
  {
   "cell_type": "code",
   "execution_count": 16,
   "id": "280ab4be-2e67-4864-8435-c6db6ba32872",
   "metadata": {},
   "outputs": [],
   "source": [
    "final_df['class'] = final_df['class'].combine_first(final_df['class (h-m)'])"
   ]
  },
  {
   "cell_type": "code",
   "execution_count": 17,
   "id": "aa6a4d56-375d-4a7a-83d9-566c680ee67b",
   "metadata": {},
   "outputs": [],
   "source": [
    "final_df['electron density (in gm/cc)'] = final_df['electron density'].apply(lambda x: re.split('g', x)[0] if pd.notna(x) else x)"
   ]
  },
  {
   "cell_type": "code",
   "execution_count": 18,
   "id": "62f3ed3e-56df-47b8-91da-2d3776a2d390",
   "metadata": {},
   "outputs": [],
   "source": [
    "final_df['optical data'] = final_df['type']"
   ]
  },
  {
   "cell_type": "code",
   "execution_count": 19,
   "id": "6cd061bb-8b53-4da4-b215-9782f4cba309",
   "metadata": {},
   "outputs": [],
   "source": [
    "final_df.drop(columns=['boson index',\n",
    "                       'gladstone-dale',\n",
    "                       'class (h-m)',\n",
    "                       'ir spectrum',\n",
    "                       'approval year',\n",
    "                       'ima number, broad sense',\n",
    "                       'electron density',\n",
    "                       'molecular weight',\n",
    "                       'photoelectric',\n",
    "                       'powder diffraction',\n",
    "                       'nickel-strunz 10th (pending) ed.',\n",
    "                       'radioactivity',\n",
    "                       'reflectivity',\n",
    "                       'refractive',\n",
    "                       'ri values',\n",
    "                       'x ray diffraction',\n",
    "                       'cell dimensions',\n",
    "                       'cell parameters',\n",
    "                       'type'\n",
    "                      ], inplace=True)"
   ]
  },
  {
   "cell_type": "code",
   "execution_count": 20,
   "id": "87329b40-3367-4f68-8ec1-44d6d1bda9b7",
   "metadata": {},
   "outputs": [],
   "source": [
    "final_df = process_df(final_df)\n",
    "final_df = strip_data(final_df)"
   ]
  },
  {
   "cell_type": "code",
   "execution_count": 21,
   "id": "78cc3c15-11a4-4e63-8fad-b80624e5580c",
   "metadata": {},
   "outputs": [],
   "source": [
    "final_df.to_csv('../data/clean_MWIW.csv', index=None)"
   ]
  },
  {
   "cell_type": "code",
   "execution_count": 22,
   "id": "d7d0aee3-ea4a-478f-b0d6-23a254980665",
   "metadata": {},
   "outputs": [
    {
     "name": "stdout",
     "output_type": "stream",
     "text": [
      "<class 'pandas.core.frame.DataFrame'>\n",
      "Int64Index: 7079 entries, 0 to 7078\n",
      "Data columns (total 87 columns):\n",
      " #   Column                             Non-Null Count  Dtype \n",
      "---  ------                             --------------  ----- \n",
      " 0   mineral_name                       7079 non-null   object\n",
      " 1   2v calculated                      1645 non-null   object\n",
      " 2   2v measured                        1892 non-null   object\n",
      " 3   anisotrophism                      806 non-null    object\n",
      " 4   approval history                   322 non-null    object\n",
      " 5   axial ratios                       5452 non-null   object\n",
      " 6   bireflectance                      256 non-null    object\n",
      " 7   birefringence                      632 non-null    object\n",
      " 8   class                              4570 non-null   object\n",
      " 9   cleavage                           4685 non-null   object\n",
      " 10  color                              5907 non-null   object\n",
      " 11  common impurities                  1593 non-null   object\n",
      " 12  country                            5738 non-null   object\n",
      " 13  crystal system                     6348 non-null   object\n",
      " 14  dana 7th ed.                       485 non-null    object\n",
      " 15  dana 8th ed.                       3768 non-null   object\n",
      " 16  dana class                         4660 non-null   object\n",
      " 17  density calculated (in gm/cc)      3707 non-null   object\n",
      " 18  density measured (in gm/cc)        4335 non-null   object\n",
      " 19  dichroism (e)                      194 non-null    object\n",
      " 20  dichroism (w)                      195 non-null    object\n",
      " 21  dispersion                         2343 non-null   object\n",
      " 22  electron density (in gm/cc)        4540 non-null   object\n",
      " 23  elements listed                    6393 non-null   object\n",
      " 24  empirical formula                  4657 non-null   object\n",
      " 25  encyclopedia britannica online id  314 non-null    object\n",
      " 26  environment                        4121 non-null   object\n",
      " 27  epitaxial minerals                 85 non-null     object\n",
      " 28  fermion index                      4617 non-null   object\n",
      " 29  first published                    2582 non-null   object\n",
      " 30  first ref                          5737 non-null   object\n",
      " 31  formula                            6842 non-null   object\n",
      " 32  fracture                           3321 non-null   object\n",
      " 33  freebase id                        1207 non-null   object\n",
      " 34  geological setting                 1033 non-null   object\n",
      " 35  google knowledge graph id          348 non-null    object\n",
      " 36  habit                              3485 non-null   object\n",
      " 37  hardness mohs                      5146 non-null   object\n",
      " 38  hardness vickers                   763 non-null    object\n",
      " 39  hey's cim ref.                     3348 non-null   object\n",
      " 40  ima status                         6368 non-null   object\n",
      " 41  ima year                           5753 non-null   object\n",
      " 42  in uv light                        1414 non-null   object\n",
      " 43  internal reflections               309 non-null    object\n",
      " 44  isostructural with                 494 non-null    object\n",
      " 45  kivid.info id                      458 non-null    object\n",
      " 46  locality                           6299 non-null   object\n",
      " 47  luminescence                       1068 non-null   object\n",
      " 48  luster                             5533 non-null   object\n",
      " 49  magnetism                          411 non-null    object\n",
      " 50  member of                          2889 non-null   object\n",
      " 51  microsoft academic id              708 non-null    object\n",
      " 52  mindat.org url                     6702 non-null   object\n",
      " 53  mineral dealers                    6674 non-null   object\n",
      " 54  molecular weight (in gm)           4660 non-null   object\n",
      " 55  morphology                         2624 non-null   object\n",
      " 56  name origin                        5865 non-null   object\n",
      " 57  number of molecules in unit cell   3367 non-null   object\n",
      " 58  optical data                       4097 non-null   object\n",
      " 59  parting                            341 non-null    object\n",
      " 60  photoelectric (in barns/electron)  4659 non-null   object\n",
      " 61  pleochroism                        2066 non-null   object\n",
      " 62  pleochroism (x)                    665 non-null    object\n",
      " 63  pleochroism (y)                    623 non-null    object\n",
      " 64  pleochroism (z)                    572 non-null    object\n",
      " 65  polymorphism                       417 non-null    object\n",
      " 66  radioactivity (in grapi)           4659 non-null   object\n",
      " 67  refractive index values            3678 non-null   object\n",
      " 68  rl bireflectance                   166 non-null    object\n",
      " 69  rl color                           926 non-null    object\n",
      " 70  second ref                         3530 non-null   object\n",
      " 71  space group                        4285 non-null   object\n",
      " 72  special storage                    77 non-null     object\n",
      " 73  specific gravity (in gm/cc)        5380 non-null   object\n",
      " 74  streak                             4845 non-null   object\n",
      " 75  strunz 10th ed.                    5378 non-null   object\n",
      " 76  strunz 8th ed.                     4186 non-null   object\n",
      " 77  strunz 9th ed.                     1420 non-null   object\n",
      " 78  strunz class                       4660 non-null   object\n",
      " 79  subclass of                        1555 non-null   object\n",
      " 80  surface relief                     3590 non-null   object\n",
      " 81  symmetry                           1304 non-null   object\n",
      " 82  synonym                            3512 non-null   object\n",
      " 83  tenacity                           2636 non-null   object\n",
      " 84  transparency                       5317 non-null   object\n",
      " 85  twinning                           1005 non-null   object\n",
      " 86  unit cell v                        5351 non-null   object\n",
      "dtypes: object(87)\n",
      "memory usage: 4.8+ MB\n"
     ]
    }
   ],
   "source": [
    "final_df.info()"
   ]
  },
  {
   "cell_type": "code",
   "execution_count": 23,
   "id": "ec9a01d2-5caa-4097-afc9-5854ed70e084",
   "metadata": {},
   "outputs": [],
   "source": [
    "df = filter_df(final_df, axis=1, threshold=25)\n",
    "df = filter_df(df, axis=0, threshold=25)"
   ]
  },
  {
   "cell_type": "code",
   "execution_count": 24,
   "id": "9e19e031-3f3c-49cd-9efa-964e1ce79370",
   "metadata": {},
   "outputs": [
    {
     "name": "stdout",
     "output_type": "stream",
     "text": [
      "<class 'pandas.core.frame.DataFrame'>\n",
      "RangeIndex: 5800 entries, 0 to 5799\n",
      "Data columns (total 56 columns):\n",
      " #   Column                             Non-Null Count  Dtype \n",
      "---  ------                             --------------  ----- \n",
      " 0   mineral_name                       5800 non-null   object\n",
      " 1   2v calculated                      1641 non-null   object\n",
      " 2   2v measured                        1889 non-null   object\n",
      " 3   axial ratios                       5116 non-null   object\n",
      " 4   class                              4213 non-null   object\n",
      " 5   cleavage                           4642 non-null   object\n",
      " 6   color                              5674 non-null   object\n",
      " 7   common impurities                  1582 non-null   object\n",
      " 8   country                            5352 non-null   object\n",
      " 9   crystal system                     5800 non-null   object\n",
      " 10  dana 8th ed.                       3716 non-null   object\n",
      " 11  dana class                         4571 non-null   object\n",
      " 12  density calculated (in gm/cc)      3672 non-null   object\n",
      " 13  density measured (in gm/cc)        4283 non-null   object\n",
      " 14  dispersion                         2338 non-null   object\n",
      " 15  electron density (in gm/cc)        4499 non-null   object\n",
      " 16  elements listed                    5486 non-null   object\n",
      " 17  empirical formula                  4568 non-null   object\n",
      " 18  environment                        4078 non-null   object\n",
      " 19  fermion index                      4529 non-null   object\n",
      " 20  first published                    2514 non-null   object\n",
      " 21  first ref                          5352 non-null   object\n",
      " 22  formula                            5796 non-null   object\n",
      " 23  fracture                           3282 non-null   object\n",
      " 24  habit                              3477 non-null   object\n",
      " 25  hardness mohs                      5013 non-null   object\n",
      " 26  hey's cim ref.                     3273 non-null   object\n",
      " 27  ima status                         5788 non-null   object\n",
      " 28  ima year                           5364 non-null   object\n",
      " 29  locality                           5784 non-null   object\n",
      " 30  luster                             5375 non-null   object\n",
      " 31  member of                          2696 non-null   object\n",
      " 32  mindat.org url                     5524 non-null   object\n",
      " 33  mineral dealers                    5521 non-null   object\n",
      " 34  molecular weight (in gm)           4571 non-null   object\n",
      " 35  morphology                         2603 non-null   object\n",
      " 36  name origin                        5487 non-null   object\n",
      " 37  number of molecules in unit cell   3294 non-null   object\n",
      " 38  optical data                       4069 non-null   object\n",
      " 39  photoelectric (in barns/electron)  4570 non-null   object\n",
      " 40  pleochroism                        2065 non-null   object\n",
      " 41  radioactivity (in grapi)           4570 non-null   object\n",
      " 42  refractive index values            3670 non-null   object\n",
      " 43  second ref                         3472 non-null   object\n",
      " 44  space group                        3955 non-null   object\n",
      " 45  specific gravity (in gm/cc)        5310 non-null   object\n",
      " 46  streak                             4779 non-null   object\n",
      " 47  strunz 10th ed.                    5090 non-null   object\n",
      " 48  strunz 8th ed.                     4127 non-null   object\n",
      " 49  strunz class                       4571 non-null   object\n",
      " 50  subclass of                        1544 non-null   object\n",
      " 51  surface relief                     3582 non-null   object\n",
      " 52  synonym                            3479 non-null   object\n",
      " 53  tenacity                           2603 non-null   object\n",
      " 54  transparency                       5208 non-null   object\n",
      " 55  unit cell v                        4989 non-null   object\n",
      "dtypes: object(56)\n",
      "memory usage: 2.5+ MB\n"
     ]
    }
   ],
   "source": [
    "df.info()"
   ]
  },
  {
   "cell_type": "code",
   "execution_count": 25,
   "id": "77a9a169-55d8-4bd5-a9f0-80e6dd1c4a24",
   "metadata": {},
   "outputs": [],
   "source": [
    "df.to_csv('../data/processed_MWIW.csv', index=None)"
   ]
  },
  {
   "cell_type": "code",
   "execution_count": null,
   "id": "8586383a-0a18-42f1-9561-97c2dbbd531e",
   "metadata": {},
   "outputs": [],
   "source": []
  }
 ],
 "metadata": {
  "kernelspec": {
   "display_name": "jupy-lab-kernel",
   "language": "python",
   "name": "jupy-lab-kernel"
  },
  "language_info": {
   "codemirror_mode": {
    "name": "ipython",
    "version": 3
   },
   "file_extension": ".py",
   "mimetype": "text/x-python",
   "name": "python",
   "nbconvert_exporter": "python",
   "pygments_lexer": "ipython3",
   "version": "3.8.10"
  }
 },
 "nbformat": 4,
 "nbformat_minor": 5
}
