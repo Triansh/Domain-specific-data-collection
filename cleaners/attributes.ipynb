{
 "cells": [
  {
   "cell_type": "code",
   "execution_count": 34,
   "id": "53d14915-9350-4e37-98e0-d3a3ce6e8eb7",
   "metadata": {},
   "outputs": [],
   "source": [
    "import json\n",
    "import pandas as pd\n",
    "import numpy as np\n",
    "from copy import deepcopy\n",
    "import re"
   ]
  },
  {
   "cell_type": "markdown",
   "id": "c1ae0c44-27da-4969-8969-5a72787812d9",
   "metadata": {},
   "source": [
    "* formula_y should be used -> formula_x -> chemical formula\n",
    "* ima_staus_y (expand) -> ima_status_x -> ima status\n",
    "* check localities (locality, type locality, co-type localities )\n",
    "* merge axial ratio and ratio\n",
    "* merge streak_x and streak_y\n",
    "* merge transparency and diaphenity\n",
    "* z is number of molecules"
   ]
  },
  {
   "cell_type": "code",
   "execution_count": 89,
   "id": "a725ad0d-693a-48fe-b967-22aa0d6040f4",
   "metadata": {},
   "outputs": [],
   "source": [
    "df = pd.read_csv('../data/mindat/all-combined.csv', index_col=0)"
   ]
  },
  {
   "cell_type": "code",
   "execution_count": 124,
   "id": "2abcfe49-e1c1-40d3-8ed9-5fe65266e209",
   "metadata": {},
   "outputs": [],
   "source": [
    "def lowerUpperSplit(x):\n",
    "    z = []\n",
    "    x = x.replace('Buy from ', '')\n",
    "    t = x[0]\n",
    "    for (c_prev, c) in zip(x, x[1:]):\n",
    "        if c.isupper() and ( c_prev.islower() or c_prev=='.'):\n",
    "            z.append(t)\n",
    "            t = ''\n",
    "        t += c\n",
    "    return '|'.join(z)"
   ]
  },
  {
   "cell_type": "code",
   "execution_count": 49,
   "id": "16656093-d919-44cc-889f-f8749c8f7c45",
   "metadata": {},
   "outputs": [
    {
     "data": {
      "text/plain": [
       "['Measured: 53° (3)', ' Calculated: 51.6° ']"
      ]
     },
     "execution_count": 49,
     "metadata": {},
     "output_type": "execute_result"
    }
   ],
   "source": [
    "df['2v'].dropna()[59].split(',')\n"
   ]
  },
  {
   "cell_type": "code",
   "execution_count": 149,
   "id": "c102e418-1d34-4beb-8e2f-17abed296ad8",
   "metadata": {},
   "outputs": [
    {
     "data": {
      "text/html": [
       "<div>\n",
       "<style scoped>\n",
       "    .dataframe tbody tr th:only-of-type {\n",
       "        vertical-align: middle;\n",
       "    }\n",
       "\n",
       "    .dataframe tbody tr th {\n",
       "        vertical-align: top;\n",
       "    }\n",
       "\n",
       "    .dataframe thead th {\n",
       "        text-align: right;\n",
       "    }\n",
       "</style>\n",
       "<table border=\"1\" class=\"dataframe\">\n",
       "  <thead>\n",
       "    <tr style=\"text-align: right;\">\n",
       "      <th></th>\n",
       "      <th>gladstone-dale</th>\n",
       "      <th>mineral_name</th>\n",
       "    </tr>\n",
       "  </thead>\n",
       "  <tbody>\n",
       "    <tr>\n",
       "      <th>8</th>\n",
       "      <td>CI meas= -0.051 (Good) - where the CI = (1-KP...</td>\n",
       "      <td>abenakiite-(ce)</td>\n",
       "    </tr>\n",
       "    <tr>\n",
       "      <th>9</th>\n",
       "      <td>CI meas= -0.112 (Poor) - where the CI = (1-KP...</td>\n",
       "      <td>abernathyite</td>\n",
       "    </tr>\n",
       "    <tr>\n",
       "      <th>10</th>\n",
       "      <td>CI meas= -0.409 (Poor) - where the CI = (1-KP...</td>\n",
       "      <td>abhurite</td>\n",
       "    </tr>\n",
       "    <tr>\n",
       "      <th>63</th>\n",
       "      <td>CI meas= -0.002 (Superior) - where the CI = (...</td>\n",
       "      <td>actinolite</td>\n",
       "    </tr>\n",
       "    <tr>\n",
       "      <th>72</th>\n",
       "      <td>CI meas= -0.02 (Excellent) - where the CI = (...</td>\n",
       "      <td>adamite</td>\n",
       "    </tr>\n",
       "    <tr>\n",
       "      <th>75</th>\n",
       "      <td>CI calc= -0.036 (Excellent) - where the CI = ...</td>\n",
       "      <td>adamsite-(y)</td>\n",
       "    </tr>\n",
       "    <tr>\n",
       "      <th>79</th>\n",
       "      <td>CI meas= -0.018 (Superior) - where the CI = (...</td>\n",
       "      <td>adelite</td>\n",
       "    </tr>\n",
       "    <tr>\n",
       "      <th>87</th>\n",
       "      <td>CI meas= -0.004 (Superior) - where the CI = (...</td>\n",
       "      <td>admontite</td>\n",
       "    </tr>\n",
       "    <tr>\n",
       "      <th>103</th>\n",
       "      <td>CI meas= 0.092 (Poor) - where the CI = (1-KPD...</td>\n",
       "      <td>aegirine</td>\n",
       "    </tr>\n",
       "    <tr>\n",
       "      <th>106</th>\n",
       "      <td>CI meas= 0 (Superior) - where the CI = (1-KPD...</td>\n",
       "      <td>aegirine-augite</td>\n",
       "    </tr>\n",
       "  </tbody>\n",
       "</table>\n",
       "</div>"
      ],
      "text/plain": [
       "                                        gladstone-dale     mineral_name\n",
       "8     CI meas= -0.051 (Good) - where the CI = (1-KP...  abenakiite-(ce)\n",
       "9     CI meas= -0.112 (Poor) - where the CI = (1-KP...     abernathyite\n",
       "10    CI meas= -0.409 (Poor) - where the CI = (1-KP...         abhurite\n",
       "63    CI meas= -0.002 (Superior) - where the CI = (...       actinolite\n",
       "72    CI meas= -0.02 (Excellent) - where the CI = (...          adamite\n",
       "75    CI calc= -0.036 (Excellent) - where the CI = ...     adamsite-(y)\n",
       "79    CI meas= -0.018 (Superior) - where the CI = (...          adelite\n",
       "87    CI meas= -0.004 (Superior) - where the CI = (...        admontite\n",
       "103   CI meas= 0.092 (Poor) - where the CI = (1-KPD...         aegirine\n",
       "106   CI meas= 0 (Superior) - where the CI = (1-KPD...  aegirine-augite"
      ]
     },
     "execution_count": 149,
     "metadata": {},
     "output_type": "execute_result"
    }
   ],
   "source": [
    "df[['gladstone-dale', 'mineral_name']].dropna().head(10)"
   ]
  },
  {
   "cell_type": "code",
   "execution_count": 148,
   "id": "35ace58e-05a3-458d-bf0f-624445db41cb",
   "metadata": {},
   "outputs": [
    {
     "data": {
      "text/plain": [
       "0                                     \n",
       "1                                     \n",
       "2                                     \n",
       "3                                     \n",
       "4                                     \n",
       "5                                     \n",
       "6                                     \n",
       "7                    organic compounds\n",
       "8               silicates (germanates)\n",
       "9     phosphates, arsenates, vanadates\n",
       "Name: _strunz class, dtype: object"
      ]
     },
     "execution_count": 148,
     "metadata": {},
     "output_type": "execute_result"
    }
   ],
   "source": [
    "df['_strunz class'].dropna().head(10)"
   ]
  },
  {
   "cell_type": "code",
   "execution_count": 91,
   "id": "769c4ebb-4fe1-472f-b205-be3cd29ef7d5",
   "metadata": {},
   "outputs": [],
   "source": [
    "df['_2v'] = df['2v'].apply(lambda x: str(x).split(',') if pd.notna(x) else x)"
   ]
  },
  {
   "cell_type": "code",
   "execution_count": 92,
   "id": "bbc0b392-8fbc-4c52-a4f9-580b66139309",
   "metadata": {},
   "outputs": [],
   "source": [
    "df['_approval year'] = df['approval year'].apply(lambda x: int(x) if pd.notna(x) else '')"
   ]
  },
  {
   "cell_type": "code",
   "execution_count": 93,
   "id": "9f3ef37b-77e9-48fd-8672-58e95c78bffa",
   "metadata": {},
   "outputs": [],
   "source": [
    "df['_comp_mol_weight'] = df['composition'].apply(lambda x: x.replace('Molecular Weight = ', '') if pd.notna(x) else '')"
   ]
  },
  {
   "cell_type": "code",
   "execution_count": 94,
   "id": "aaf24bcf-1154-4c9a-8a03-f936d6177e3c",
   "metadata": {},
   "outputs": [],
   "source": [
    "df['_dana 8th ed.'] = df['dana 8th ed.'].apply(lambda x: x.split(':')[0] if pd.notna(x) else '')"
   ]
  },
  {
   "cell_type": "code",
   "execution_count": 95,
   "id": "a09aeedc-dbf6-4247-bdb5-4f532676a65d",
   "metadata": {},
   "outputs": [],
   "source": [
    "df['_dana class'] = df['dana class'].apply(lambda x: x.split(')')[1] if pd.notna(x) else '')"
   ]
  },
  {
   "cell_type": "code",
   "execution_count": 96,
   "id": "cf584d51-57e3-482f-ac82-fd503722de68",
   "metadata": {},
   "outputs": [],
   "source": [
    "df['_density_x'] = df['density_x'].apply(lambda x: re.split(r'\\s{2,}', x) if pd.notna(x) else '')"
   ]
  },
  {
   "cell_type": "code",
   "execution_count": 97,
   "id": "d2d7f27e-a2c2-4bc0-8d27-8c9dfc289aa1",
   "metadata": {},
   "outputs": [],
   "source": [
    "df['_density_y'] = df['density_y'].apply(lambda x: x.split(',')[0] if pd.notna(x) else '')"
   ]
  },
  {
   "cell_type": "code",
   "execution_count": 98,
   "id": "89dfdeeb-4dc0-4878-958a-3b31a4cdf044",
   "metadata": {},
   "outputs": [],
   "source": [
    "df['_electron density'] = df['electron density'].apply(lambda x: re.findall(r'\\d+\\.\\d+ gm\\/cc', x) if pd.notna(x) else '')"
   ]
  },
  {
   "cell_type": "code",
   "execution_count": 99,
   "id": "9506024a-f1b2-44ef-ba00-792753c458f5",
   "metadata": {},
   "outputs": [],
   "source": [
    "df['_elements listed'] = df['elements listed'].apply(lambda x: x.split('-')[0] if pd.notna(x) else '')"
   ]
  },
  {
   "cell_type": "code",
   "execution_count": 101,
   "id": "4473711d-8d30-4930-adf6-f1a767f5d84c",
   "metadata": {},
   "outputs": [],
   "source": [
    "df['_fermion index'] = df['fermion index'].apply(lambda x: re.findall(r'\\d+\\.\\d+', x) if pd.notna(x) else '')"
   ]
  },
  {
   "cell_type": "code",
   "execution_count": 103,
   "id": "a9897513-f4ea-4399-a62f-082bf6710014",
   "metadata": {},
   "outputs": [],
   "source": [
    "df['_fracture_y'] = df['fracture_y'].apply(lambda x: x.split('-')[0] if pd.notna(x) else '')"
   ]
  },
  {
   "cell_type": "code",
   "execution_count": 105,
   "id": "106fdb10-4e65-4e5e-916c-d7898b26e496",
   "metadata": {},
   "outputs": [],
   "source": [
    "df['_habit'] = df['habit'].apply(lambda x: x.split('-')[0] if pd.notna(x) else '')"
   ]
  },
  {
   "cell_type": "code",
   "execution_count": 108,
   "id": "0cea46cc-c9bd-4cb6-b710-3dd10801fecd",
   "metadata": {},
   "outputs": [],
   "source": [
    "df['_hardness_y'] = df['hardness_y'].apply(lambda x: re.split('\\s\\-\\s', x)[0] if pd.notna(x) else '')"
   ]
  },
  {
   "cell_type": "code",
   "execution_count": 111,
   "id": "6448f20b-bc79-443e-9cbe-ea8404c6e32b",
   "metadata": {},
   "outputs": [],
   "source": [
    "df['_hey\\'s cim ref.'] = df['hey\\'s cim ref.'].apply(lambda x: x.split(':')[0] if pd.notna(x) else '')"
   ]
  },
  {
   "cell_type": "code",
   "execution_count": 113,
   "id": "a5a72ad5-5d3c-49a5-a177-4311327e7dff",
   "metadata": {},
   "outputs": [],
   "source": [
    "df['_mindat.org url'] = df['mindat.org url'].apply(lambda x: x.replace('Please feel free to link to this page.', '') if pd.notna(x) else '')"
   ]
  },
  {
   "cell_type": "code",
   "execution_count": 125,
   "id": "6cd81b15-7139-4af9-b083-0889c15885b9",
   "metadata": {},
   "outputs": [],
   "source": [
    "df['_mineral dealers'] = df['mineral dealers'].apply(lambda x: lowerUpperSplit(x) if pd.notna(x) else '')"
   ]
  },
  {
   "cell_type": "code",
   "execution_count": 127,
   "id": "4471fe05-9b5a-4978-962f-f545b4d2e043",
   "metadata": {},
   "outputs": [],
   "source": [
    "df['_nickel-strunz 10th (pending) ed.'] = df['nickel-strunz 10th (pending) ed.'].apply(lambda x: x.split(':')[0] if pd.notna(x) else '')"
   ]
  },
  {
   "cell_type": "code",
   "execution_count": 134,
   "id": "d82006f6-89d1-4019-ab6d-0c6a0d1bd580",
   "metadata": {},
   "outputs": [],
   "source": [
    "df['_photoelectric'] = df['photoelectric'].apply(lambda x: re.findall(r'\\d+\\.\\d+ barns\\/electron', x)[0] if pd.notna(x) else '')"
   ]
  },
  {
   "cell_type": "code",
   "execution_count": 145,
   "id": "875caa21-2a92-40ba-b31f-38916158fb95",
   "metadata": {},
   "outputs": [],
   "source": [
    "df['_radioactivity'] = df['radioactivity'].apply(lambda x: x.split('(')[0].strip() if pd.notna(x) else '')"
   ]
  },
  {
   "cell_type": "code",
   "execution_count": 147,
   "id": "5e73db26-2b10-4ae1-a7f9-28268c4b93fe",
   "metadata": {},
   "outputs": [],
   "source": [
    "df['_strunz class'] = df['strunz class'].apply(lambda x: x.split('-')[1].lower() if pd.notna(x) else '')"
   ]
  },
  {
   "cell_type": "code",
   "execution_count": null,
   "id": "348bba3d-c40f-494e-af2d-574dead96564",
   "metadata": {},
   "outputs": [],
   "source": []
  },
  {
   "cell_type": "code",
   "execution_count": null,
   "id": "0490f7c5-a9c5-450a-bc00-2314bd7697cf",
   "metadata": {},
   "outputs": [],
   "source": []
  },
  {
   "cell_type": "code",
   "execution_count": null,
   "id": "143454b5-5da5-4f34-93a8-42be02f27598",
   "metadata": {},
   "outputs": [],
   "source": []
  },
  {
   "cell_type": "code",
   "execution_count": null,
   "id": "2403a601-83f5-4e5c-b36a-f1ea0438f266",
   "metadata": {},
   "outputs": [],
   "source": []
  },
  {
   "cell_type": "code",
   "execution_count": null,
   "id": "5bf4ad75-1b63-447d-84eb-6762264f1f45",
   "metadata": {},
   "outputs": [],
   "source": [
    "\tdensity_x\n",
    "8\t1.33 - 1.48 g/cm3 (Measured)    1.45 g/cm3 (Calculated)\n",
    "\tmindat.org url\n",
    "1\thttps://www.mindat.org/min-1877.htmlPlease feel free to link to this page.\n",
    "[a-z]+[A-Z][a-z]+ jkbdjhdjHGkjbkbd\n",
    "\tmineral dealers\n",
    "    \tmineral dealers\n",
    "24\tBlue Gems Australian & InternationalQuality Mineral Specimens For Sale ~ Cal Neva Mineral CompanyFabre Minerals - search for Abuite specimensFine Minerals from Weinrich Minerals, Inc.Buy from David K Joyce mineralsWilensky Exquisite MineralsQuality Minerals at Fair PricesTop quality minerals from Kristalle of CaliforniaBuy rare minerals from Excalibur MineralsHigh-end worldwide specimens & outstanding customer serviceWendel Minerals - Auction & Shop\n",
    "7\tBuy from McDougall MineralsFine Minerals from Weinrich Minerals, Inc.Buy from David K Joyce mineralsQuality Minerals at Fair PricesBlue Gems Australian & InternationalQuality Mineral Specimens For Sale ~ Cal Neva Mineral CompanyHigh-end worldwide specimens & outstanding customer serviceWilensky Exquisite MineralsFabre Minerals - search for Abellaite specimensTop quality minerals from Kristalle of CaliforniaWendel Minerals - Auction & Shop"
   ]
  }
 ],
 "metadata": {
  "kernelspec": {
   "display_name": "jupy-lab-kernel",
   "language": "python",
   "name": "jupy-lab-kernel"
  },
  "language_info": {
   "codemirror_mode": {
    "name": "ipython",
    "version": 3
   },
   "file_extension": ".py",
   "mimetype": "text/x-python",
   "name": "python",
   "nbconvert_exporter": "python",
   "pygments_lexer": "ipython3",
   "version": "3.8.10"
  }
 },
 "nbformat": 4,
 "nbformat_minor": 5
}
