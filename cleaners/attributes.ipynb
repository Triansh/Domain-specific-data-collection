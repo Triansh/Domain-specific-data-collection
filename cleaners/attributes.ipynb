{
 "cells": [
  {
   "cell_type": "code",
   "execution_count": 1,
   "id": "53d14915-9350-4e37-98e0-d3a3ce6e8eb7",
   "metadata": {},
   "outputs": [],
   "source": [
    "import re\n",
    "import pandas as pd\n",
    "import numpy as np\n",
    "\n",
    "from utils import *"
   ]
  },
  {
   "cell_type": "markdown",
   "id": "c1ae0c44-27da-4969-8969-5a72787812d9",
   "metadata": {},
   "source": [
    "* formula_y should be used -> formula_x -> chemical formula\n",
    "* merge density_y -> measured density (any)\n",
    "* specific_gravity_new -> specific gravity (any)\n",
    "* fracture_x -> fracture_y\n",
    "* ima_staus_y (expand) -> ima_status_x -> ima status\n",
    "* check localities (locality, type locality, co-type localities, first recorded locality )\n",
    "* merge axial ratio and ratio\n",
    "* merge streak_x and streak_y\n",
    "* merge transparency and diaphenity\n",
    "* z is number of molecules\n",
    "\n",
    "* if we space group, then crystal system_y"
   ]
  },
  {
   "cell_type": "code",
   "execution_count": 2,
   "id": "2d68b73c-fa00-4397-9a55-1264ab309cc5",
   "metadata": {},
   "outputs": [],
   "source": [
    "def handle_2v(x):\n",
    "    y = x.lower().split(',')[:2]\n",
    "    y += [np.nan] * (2 - len(y))\n",
    "    if 'measured' not in y[0]:\n",
    "        y[1], y[0] = y[0], y[1]\n",
    "    for i in range(2):\n",
    "        if pd.notna(y[i]):\n",
    "            y[i] = re.sub(r\"\\(.*\\)\", '', y[i].split(':')[1]).strip()\n",
    "    #     print(y)\n",
    "    return '|'.join(str(x) for x in y)"
   ]
  },
  {
   "cell_type": "code",
   "execution_count": 3,
   "id": "ff325e00-6841-4b21-a67e-15b6d01f65cf",
   "metadata": {},
   "outputs": [],
   "source": [
    "def handle_density_x(x):\n",
    "    y = re.split(r'\\s{2,}', x.lower())[:2]\n",
    "    y += [np.nan] * (2 - len(y))\n",
    "    if 'measured' not in y[0]:\n",
    "        y[1], y[0] = y[0], y[1]\n",
    "    for i in range(2):\n",
    "        if pd.notna(y[i]):\n",
    "            y[i] = re.sub(r\"\\(.*\\)\", '', y[i]).strip()\n",
    "    #     print(y)\n",
    "    return '|'.join(str(x) for x in y)"
   ]
  },
  {
   "cell_type": "code",
   "execution_count": 4,
   "id": "417c6bd8-fee5-4b8f-a3cc-724f69135400",
   "metadata": {},
   "outputs": [],
   "source": [
    "def handle_hardness(x):\n",
    "    x = x.lower().replace('\\'', '')\n",
    "    x = x[1:-1].split(',') if x[0] == '[' else x\n",
    "    y = [0, 0]  # mohs, vickers\n",
    "    if isinstance(x, str):\n",
    "        if 'mohs' in x:\n",
    "            y = [x.replace('on', '').replace('scale', '').replace('mohs', ''), np.nan]\n",
    "        else:\n",
    "            y = [np.nan, x.replace('vickers', '').replace('-', '')]\n",
    "    else:\n",
    "        x_m = [z for z in x if 'mohs' in z]\n",
    "        x_v = [z for z in x if 'vickers' in z]\n",
    "        y[0] = x_m[0].replace('on', '').replace('scale', '').replace('mohs', '') if len(\n",
    "            x_m) > 0 else np.nan\n",
    "        y[1] = x_v[0].replace('vickers', '').replace('-', '') if len(x_v) > 0 else np.nan\n",
    "    return '|'.join(str(x) for x in y)"
   ]
  },
  {
   "cell_type": "code",
   "execution_count": 5,
   "id": "2abcfe49-e1c1-40d3-8ed9-5fe65266e209",
   "metadata": {},
   "outputs": [],
   "source": [
    "def lowerUpperSplit(x):\n",
    "    z = []\n",
    "    x = x.replace('Buy from ', '')\n",
    "    x = re.sub(r' \\- search for (\\w|\\(|\\)|\\-)+ specimens', '', x)\n",
    "    t = x[0]\n",
    "    for (c_prev, c) in zip(x, x[1:]):\n",
    "        if c.isupper() and (c_prev.islower() or c_prev == '.') and len(t) > 2:\n",
    "            z.append(t)\n",
    "            t = ''\n",
    "        t += c\n",
    "    return '|'.join(z)"
   ]
  },
  {
   "cell_type": "code",
   "execution_count": 6,
   "id": "a725ad0d-693a-48fe-b967-22aa0d6040f4",
   "metadata": {},
   "outputs": [],
   "source": [
    "df = pd.read_csv('../data/mindat/all-combined.csv', index_col=0)"
   ]
  },
  {
   "cell_type": "code",
   "execution_count": 7,
   "id": "499bd355-47e8-4429-9445-2df47002a510",
   "metadata": {},
   "outputs": [
    {
     "name": "stdout",
     "output_type": "stream",
     "text": [
      "color has synonym colour\n",
      "comments has synonym comment\n",
      "luster has synonym lustre\n",
      "references has synonym reference\n"
     ]
    }
   ],
   "source": [
    "df = remove_synonyms(df)"
   ]
  },
  {
   "cell_type": "code",
   "execution_count": 8,
   "id": "60b35f39-e03e-47e5-8239-fde7b1cb1cde",
   "metadata": {},
   "outputs": [],
   "source": [
    "columns_to_drop = [\n",
    "    'comments',\n",
    "    'crystal atlas',\n",
    "    'crystal structure',\n",
    "    'download',\n",
    "    'external links',\n",
    "    'forms',\n",
    "    'hardness data',\n",
    "    'health risks',\n",
    "    'idealised formula',\n",
    "    'ima status notes',\n",
    "    'images',\n",
    "    'industrial uses',\n",
    "    'name pronunciation',\n",
    "    'notes',\n",
    "    'optical extinction',\n",
    "    'oxide wt%',\n",
    "    'pronounciation',\n",
    "    'reference list',\n",
    "    'references',\n",
    "    'sample references',\n",
    "    'search engines',\n",
    "    'see also',\n",
    "    'setting',\n",
    "    'thermal behaviour',\n",
    "]"
   ]
  },
  {
   "cell_type": "code",
   "execution_count": 9,
   "id": "4ac26dd6-0884-4ff5-b218-b8c6605dd786",
   "metadata": {},
   "outputs": [],
   "source": [
    "df = df.drop(columns=columns_to_drop)"
   ]
  },
  {
   "cell_type": "code",
   "execution_count": 10,
   "id": "e1db563b-e239-43c3-9464-e22f7ef5e4ac",
   "metadata": {},
   "outputs": [],
   "source": [
    "ima_map = {\n",
    "    'A': 'Approved',\n",
    "    'G': 'Grandfathered',\n",
    "    'Rd': 'Redefined',\n",
    "    'Rn': 'Renamed',\n",
    "    'Q': 'Questionable',\n",
    "}"
   ]
  },
  {
   "cell_type": "code",
   "execution_count": 11,
   "id": "769c4ebb-4fe1-472f-b205-be3cd29ef7d5",
   "metadata": {},
   "outputs": [],
   "source": [
    "df[['measured 2v', 'calculated 2v']] = df['2v'].apply(\n",
    "    lambda x: handle_2v(x) if pd.notna(x) else x).str.split('|', expand=True)\n",
    "df = df.drop(columns=['2v'])"
   ]
  },
  {
   "cell_type": "code",
   "execution_count": 12,
   "id": "bbc0b392-8fbc-4c52-a4f9-580b66139309",
   "metadata": {},
   "outputs": [],
   "source": [
    "df['approval year'] = df['approval year'].apply(lambda x: int(x) if pd.notna(x) else x)"
   ]
  },
  {
   "cell_type": "code",
   "execution_count": 13,
   "id": "9f3ef37b-77e9-48fd-8672-58e95c78bffa",
   "metadata": {},
   "outputs": [],
   "source": [
    "df['composition'] = df['composition'].apply(\n",
    "    lambda x: x.replace('Molecular Weight = ', '') if pd.notna(x) else x)"
   ]
  },
  {
   "cell_type": "code",
   "execution_count": 14,
   "id": "aaf24bcf-1154-4c9a-8a03-f936d6177e3c",
   "metadata": {},
   "outputs": [],
   "source": [
    "df['dana 8th ed.'] = df['dana 8th ed.'].apply(\n",
    "    lambda x: x.split(':')[0].strip() if pd.notna(x) else x)"
   ]
  },
  {
   "cell_type": "code",
   "execution_count": 15,
   "id": "a09aeedc-dbf6-4247-bdb5-4f532676a65d",
   "metadata": {},
   "outputs": [],
   "source": [
    "df['dana class'] = df['dana class'].apply(lambda x: x.split(')')[1].strip() if pd.notna(x) else x)"
   ]
  },
  {
   "cell_type": "code",
   "execution_count": 16,
   "id": "cf584d51-57e3-482f-ac82-fd503722de68",
   "metadata": {},
   "outputs": [],
   "source": [
    "df[['measured density', 'calculated density']] = df['density_x'].apply(\n",
    "    lambda x: handle_density_x(x) if pd.notna(x) else x).str.split('|', expand=True)\n",
    "df['measured density'] = df['measured density'].apply(\n",
    "    lambda x: x.split('g')[0] if pd.notna(x) else x)\n",
    "df = df.drop(columns=['density_x'])"
   ]
  },
  {
   "cell_type": "code",
   "execution_count": 17,
   "id": "d2d7f27e-a2c2-4bc0-8d27-8c9dfc289aa1",
   "metadata": {},
   "outputs": [],
   "source": [
    "df['density_y'] = df['density_y'].apply(lambda x: x.split(',')[0] if pd.notna(x) else x)"
   ]
  },
  {
   "cell_type": "code",
   "execution_count": 18,
   "id": "89dfdeeb-4dc0-4878-958a-3b31a4cdf044",
   "metadata": {},
   "outputs": [],
   "source": [
    "df[['electron density', 'specific_gravity_new']] = df['electron density'].apply(\n",
    "    lambda x: '|'.join(re.findall(r'\\d+\\.\\d+ gm\\/cc', x)) if pd.notna(x) else x).str.split('|',\n",
    "                                                                                           expand=True)\n",
    "df['specific_gravity_new'] = df['specific_gravity_new'].apply(\n",
    "    lambda x: x.split('g')[0] if pd.notna(x) else x)"
   ]
  },
  {
   "cell_type": "code",
   "execution_count": 19,
   "id": "9506024a-f1b2-44ef-ba00-792753c458f5",
   "metadata": {},
   "outputs": [],
   "source": [
    "df['elements listed'] = df['elements listed'].apply(lambda x: x.split('-')[0] if pd.notna(x) else x)"
   ]
  },
  {
   "cell_type": "code",
   "execution_count": 20,
   "id": "4473711d-8d30-4930-adf6-f1a767f5d84c",
   "metadata": {},
   "outputs": [],
   "source": [
    "df[['fermion index', 'boson index']] = df['fermion index'].apply(\n",
    "    lambda x: '|'.join(re.findall(r'\\d+\\.\\d+', x)) if pd.notna(x) else x).str.split('|',\n",
    "                                                                                    expand=True)"
   ]
  },
  {
   "cell_type": "code",
   "execution_count": 21,
   "id": "a9897513-f4ea-4399-a62f-082bf6710014",
   "metadata": {},
   "outputs": [],
   "source": [
    "df['fracture_y'] = df['fracture_y'].apply(lambda x: x.split('-')[0] if pd.notna(x) else x)"
   ]
  },
  {
   "cell_type": "code",
   "execution_count": 22,
   "id": "106fdb10-4e65-4e5e-916c-d7898b26e496",
   "metadata": {},
   "outputs": [],
   "source": [
    "df['habit'] = df['habit'].apply(lambda x: x.split('-')[0] if pd.notna(x) else x)"
   ]
  },
  {
   "cell_type": "code",
   "execution_count": 23,
   "id": "38dfa53c-760a-4e4e-8e0d-bcae45ea8027",
   "metadata": {},
   "outputs": [],
   "source": [
    "df[['hardness mohs', 'hardness vickers']] = df['hardness_x'].apply(\n",
    "    lambda x: handle_hardness(x) if pd.notna(x) else x).str.split('|', expand=True)\n",
    "df = df.drop(columns=['hardness_x'])"
   ]
  },
  {
   "cell_type": "raw",
   "id": "c148c532-aece-405a-bc06-290e008cbe98",
   "metadata": {},
   "source": []
  },
  {
   "cell_type": "code",
   "execution_count": null,
   "id": "12e8b5eb-fc98-47a8-b301-e9977f64afff",
   "metadata": {},
   "outputs": [],
   "source": []
  },
  {
   "cell_type": "code",
   "execution_count": 611,
   "id": "bfb8f45d-206d-40cc-8638-846903c9e9aa",
   "metadata": {},
   "outputs": [
    {
     "data": {
      "text/plain": [
       "['mineral_name',\n",
       " '2v calculated',\n",
       " '2v measured',\n",
       " 'anisotrophism',\n",
       " 'approval history',\n",
       " 'approval year',\n",
       " 'axial ratios',\n",
       " 'bireflectance',\n",
       " 'birefringence',\n",
       " 'boson index',\n",
       " 'cell dimensions',\n",
       " 'cell parameters',\n",
       " 'class (h-m)',\n",
       " 'cleavage',\n",
       " 'color',\n",
       " 'common impurities',\n",
       " 'country',\n",
       " 'dana 7th ed.',\n",
       " 'dana class',\n",
       " 'density calculated (in gm/cc)',\n",
       " 'density measured (in gm/cc)',\n",
       " 'dichroism (e)',\n",
       " 'dichroism (w)',\n",
       " 'dispersion',\n",
       " 'electron density',\n",
       " 'elements listed',\n",
       " 'empirical formula',\n",
       " 'environment',\n",
       " 'epitaxial minerals',\n",
       " 'fermion index',\n",
       " 'first published',\n",
       " 'first ref',\n",
       " 'formula',\n",
       " 'fracture',\n",
       " 'geological setting',\n",
       " 'gladstone-dale',\n",
       " 'hardness vickers',\n",
       " \"hey's cim ref.\",\n",
       " 'ima status',\n",
       " 'ima year',\n",
       " 'in uv light',\n",
       " 'internal reflections',\n",
       " 'ir spectrum',\n",
       " 'isostructural with',\n",
       " 'luminescence',\n",
       " 'luster',\n",
       " 'magnetism',\n",
       " 'member of',\n",
       " 'mindat.org url',\n",
       " 'mineral dealers',\n",
       " 'molecular weight',\n",
       " 'morphology',\n",
       " 'number of molecules in unit cell',\n",
       " 'parting',\n",
       " 'photoelectric',\n",
       " 'pleochroism',\n",
       " 'pleochroism (x)',\n",
       " 'pleochroism (y)',\n",
       " 'pleochroism (z)',\n",
       " 'polymorphism',\n",
       " 'powder diffraction',\n",
       " 'radioactivity',\n",
       " 'reflectivity',\n",
       " 'ri values',\n",
       " 'rl bireflectance',\n",
       " 'rl color',\n",
       " 'second ref',\n",
       " 'special storage',\n",
       " 'strunz class',\n",
       " 'surface relief',\n",
       " 'synonym',\n",
       " 'twinning',\n",
       " 'type',\n",
       " 'unit cell v',\n",
       " 'x ray diffraction',\n",
       " 'class',\n",
       " 'refractive',\n",
       " 'symmetry',\n",
       " 'encyclopædia britannica online id',\n",
       " 'freebase id',\n",
       " 'google knowledge graph id',\n",
       " 'ima number, broad sense',\n",
       " 'kivid.info id',\n",
       " 'microsoft academic id',\n",
       " 'space group_y',\n",
       " 'subclass of',\n",
       " 'name origin',\n",
       " 'streak',\n",
       " 'transparency',\n",
       " 'hardness mohs',\n",
       " 'crystal system',\n",
       " 'locality',\n",
       " 'specific gravity (in gm/cc)',\n",
       " 'dana 8th ed.',\n",
       " 'nickel-strunz 10th (pending) ed.',\n",
       " 'strunz 8th ed.',\n",
       " 'strunz 9th ed.',\n",
       " 'optical data',\n",
       " 'space group',\n",
       " 'tenacity',\n",
       " 'habit']"
      ]
     },
     "execution_count": 611,
     "metadata": {},
     "output_type": "execute_result"
    }
   ],
   "source": [
    "df.columns.tolist()"
   ]
  },
  {
   "cell_type": "code",
   "execution_count": 24,
   "id": "0cea46cc-c9bd-4cb6-b710-3dd10801fecd",
   "metadata": {},
   "outputs": [],
   "source": [
    "df['hardness_y'] = df['hardness_y'].apply(lambda x: re.split('\\s\\-\\s', x)[0] if pd.notna(x) else x)"
   ]
  },
  {
   "cell_type": "code",
   "execution_count": 25,
   "id": "6448f20b-bc79-443e-9cbe-ea8404c6e32b",
   "metadata": {},
   "outputs": [],
   "source": [
    "df['hey\\'s cim ref.'] = df['hey\\'s cim ref.'].apply(lambda x: x.split(':')[0] if pd.notna(x) else x)"
   ]
  },
  {
   "cell_type": "code",
   "execution_count": 26,
   "id": "10dd1e5c-a853-4346-b3d6-1cfce2aaa800",
   "metadata": {},
   "outputs": [],
   "source": [
    "df['ima status_y'] = df['ima status_y'].apply(\n",
    "    lambda x: ima_map[x.strip()[:2].strip()] if pd.notna(x) else x)"
   ]
  },
  {
   "cell_type": "code",
   "execution_count": 27,
   "id": "a5a72ad5-5d3c-49a5-a177-4311327e7dff",
   "metadata": {},
   "outputs": [],
   "source": [
    "df['mindat.org url'] = df['mindat.org url'].apply(\n",
    "    lambda x: x.replace('Please feel free to link to this page.', '') if pd.notna(x) else x)"
   ]
  },
  {
   "cell_type": "code",
   "execution_count": 28,
   "id": "6cd81b15-7139-4af9-b083-0889c15885b9",
   "metadata": {},
   "outputs": [],
   "source": [
    "df['mineral dealers'] = df['mineral dealers'].apply(\n",
    "    lambda x: lowerUpperSplit(x) if pd.notna(x) else x)"
   ]
  },
  {
   "cell_type": "code",
   "execution_count": 29,
   "id": "4471fe05-9b5a-4978-962f-f545b4d2e043",
   "metadata": {},
   "outputs": [],
   "source": [
    "df['nickel-strunz 10th (pending) ed.'] = df['nickel-strunz 10th (pending) ed.'].apply(\n",
    "    lambda x: x.split(':')[0] if pd.notna(x) else x)"
   ]
  },
  {
   "cell_type": "code",
   "execution_count": 30,
   "id": "d82006f6-89d1-4019-ab6d-0c6a0d1bd580",
   "metadata": {},
   "outputs": [],
   "source": [
    "df['photoelectric'] = df['photoelectric'].apply(\n",
    "    lambda x: re.findall(r'\\d+\\.\\d+ barns\\/electron', x)[0] if pd.notna(x) else x)"
   ]
  },
  {
   "cell_type": "code",
   "execution_count": 31,
   "id": "875caa21-2a92-40ba-b31f-38916158fb95",
   "metadata": {},
   "outputs": [],
   "source": [
    "df['radioactivity'] = df['radioactivity'].apply(\n",
    "    lambda x: x.split('(')[0].strip() if pd.notna(x) else x)"
   ]
  },
  {
   "cell_type": "code",
   "execution_count": 32,
   "id": "fcc2322f-1e3d-4363-87d5-a10283cb65fe",
   "metadata": {},
   "outputs": [],
   "source": [
    "df['specific gravity'] = df['specific gravity'].apply(\n",
    "    lambda x: re.sub(r\"\\(.*\\)\", '', x) if pd.notna(x) else x)"
   ]
  },
  {
   "cell_type": "code",
   "execution_count": 33,
   "id": "5e73db26-2b10-4ae1-a7f9-28268c4b93fe",
   "metadata": {},
   "outputs": [],
   "source": [
    "df['strunz class'] = df['strunz class'].apply(\n",
    "    lambda x: x.split('-')[1].lower() if pd.notna(x) else x)"
   ]
  },
  {
   "cell_type": "code",
   "execution_count": 34,
   "id": "348bba3d-c40f-494e-af2d-574dead96564",
   "metadata": {},
   "outputs": [],
   "source": [
    "df.to_csv('../data/processed-MWI.csv')"
   ]
  }
 ],
 "metadata": {
  "kernelspec": {
   "display_name": "Python 3 (ipykernel)",
   "language": "python",
   "name": "python3"
  },
  "language_info": {
   "codemirror_mode": {
    "name": "ipython",
    "version": 3
   },
   "file_extension": ".py",
   "mimetype": "text/x-python",
   "name": "python",
   "nbconvert_exporter": "python",
   "pygments_lexer": "ipython3",
   "version": "3.8.8"
  }
 },
 "nbformat": 4,
 "nbformat_minor": 5
}
