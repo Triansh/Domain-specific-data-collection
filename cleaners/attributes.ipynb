{
 "cells": [
  {
   "cell_type": "code",
   "execution_count": 750,
   "id": "53d14915-9350-4e37-98e0-d3a3ce6e8eb7",
   "metadata": {},
   "outputs": [],
   "source": [
    "import json\n",
    "import re\n",
    "import pandas as pd\n",
    "import numpy as np\n",
    "\n",
    "from copy import deepcopy\n",
    "from nltk.corpus import wordnet"
   ]
  },
  {
   "cell_type": "markdown",
   "id": "c1ae0c44-27da-4969-8969-5a72787812d9",
   "metadata": {},
   "source": [
    "* formula_y should be used -> formula_x -> chemical formula\n",
    "* merge density_y -> measured density (any)\n",
    "* specific_gravity_new -> specific gravity (any)\n",
    "* fracture_x -> fracture_y\n",
    "* ima_staus_y (expand) -> ima_status_x -> ima status\n",
    "* check localities (locality, type locality, co-type localities, first recorded locality )\n",
    "* merge axial ratio and ratio\n",
    "* merge streak_x and streak_y\n",
    "* merge transparency and diaphenity\n",
    "* z is number of molecules\n",
    "\n",
    "* if we space group, then crystal system_y"
   ]
  },
  {
   "cell_type": "code",
   "execution_count": 751,
   "id": "92796d7d-c376-48d7-8ea5-da383098869a",
   "metadata": {},
   "outputs": [],
   "source": [
    "def get_synonyms(word):\n",
    "    syns = [lm.name() for syn in wordnet.synsets(word) for lm in syn.lemmas()]\n",
    "    return set(syns)"
   ]
  },
  {
   "cell_type": "code",
   "execution_count": 752,
   "id": "50668c5c-25b5-410f-9ef2-71ed910b70bd",
   "metadata": {},
   "outputs": [],
   "source": [
    "def remove_synonyms(df):\n",
    "    done_with = set()\n",
    "    for col in df.columns:\n",
    "        for syn in get_synonyms(col):\n",
    "            if syn != col and syn in df.columns and syn not in done_with:\n",
    "                print(f\"{col} has synonym {syn}\")\n",
    "                df[col] = df[col].combine_first(df[syn])\n",
    "                df = df.drop(columns=[syn])\n",
    "                done_with.update([syn, col])\n",
    "    return df"
   ]
  },
  {
   "cell_type": "code",
   "execution_count": 753,
   "id": "2d68b73c-fa00-4397-9a55-1264ab309cc5",
   "metadata": {},
   "outputs": [],
   "source": [
    "def handle_2v(x):\n",
    "    y = x.lower().split(',')[:2]\n",
    "    y += [np.nan] * (2 - len(y))\n",
    "    if 'measured' not in y[0]:\n",
    "        y[1], y[0] = y[0], y[1]\n",
    "    for i in range(2):\n",
    "        if pd.notna(y[i]):\n",
    "            y[i] = re.sub(r\"\\(.*\\)\", '', y[i].split(':')[1]).strip()\n",
    "    #     print(y)\n",
    "    return '|'.join(str(x) for x in y)"
   ]
  },
  {
   "cell_type": "code",
   "execution_count": 754,
   "id": "ff325e00-6841-4b21-a67e-15b6d01f65cf",
   "metadata": {},
   "outputs": [],
   "source": [
    "def handle_density_x(x):\n",
    "    y = re.split(r'\\s{2,}', x.lower())[:2]\n",
    "    y += [np.nan] * (2 - len(y))\n",
    "    if 'measured' not in y[0]:\n",
    "        y[1], y[0] = y[0], y[1]\n",
    "    for i in range(2):\n",
    "        if pd.notna(y[i]):\n",
    "            y[i] = re.sub(r\"\\(.*\\)\", '', y[i]).strip()\n",
    "    #     print(y)\n",
    "    return '|'.join(str(x) for x in y)\n"
   ]
  },
  {
   "cell_type": "code",
   "execution_count": 755,
   "id": "417c6bd8-fee5-4b8f-a3cc-724f69135400",
   "metadata": {},
   "outputs": [],
   "source": [
    "def handle_hardness(x):\n",
    "    x = x.lower().replace('\\'', '')\n",
    "    x = x[1:-1].split(',') if x[0] == '[' else x\n",
    "    y = [0, 0] # mohs, vickers\n",
    "    if isinstance(x, str):\n",
    "        if 'mohs' in x:\n",
    "            y = [x.replace('on', '').replace('scale', '').replace('mohs', ''), np.nan]\n",
    "        else:\n",
    "            y = [np.nan, x.replace('vickers', '').replace('-', '')]\n",
    "    else:\n",
    "        x_m = [z for z in x if 'mohs' in z]\n",
    "        x_v = [z for z in x if 'vickers' in z]\n",
    "        y[0] = x_m[0].replace('on', '').replace('scale', '').replace('mohs', '') if len(x_m) > 0 else np.nan\n",
    "        y[1] = x_v[0].replace('vickers', '').replace('-', '') if len(x_v) > 0 else np.nan\n",
    "    return '|'.join(str(x) for x in y)\n",
    "    "
   ]
  },
  {
   "cell_type": "code",
   "execution_count": 756,
   "id": "2abcfe49-e1c1-40d3-8ed9-5fe65266e209",
   "metadata": {},
   "outputs": [],
   "source": [
    "def lowerUpperSplit(x):\n",
    "    z = []\n",
    "    x = x.replace('Buy from ', '')\n",
    "    x = re.sub(r' \\- search for (\\w|\\(|\\)|\\-)+ specimens', '', x)\n",
    "    t = x[0]\n",
    "    for (c_prev, c) in zip(x, x[1:]):\n",
    "        if c.isupper() and (c_prev.islower() or c_prev == '.') and len(t) > 2:\n",
    "            z.append(t)\n",
    "            t = ''\n",
    "        t += c\n",
    "    return '|'.join(z)"
   ]
  },
  {
   "cell_type": "code",
   "execution_count": 757,
   "id": "a725ad0d-693a-48fe-b967-22aa0d6040f4",
   "metadata": {},
   "outputs": [],
   "source": [
    "df = pd.read_csv('../data/mindat/all-combined.csv', index_col=0)"
   ]
  },
  {
   "cell_type": "code",
   "execution_count": 758,
   "id": "499bd355-47e8-4429-9445-2df47002a510",
   "metadata": {},
   "outputs": [
    {
     "name": "stdout",
     "output_type": "stream",
     "text": [
      "color has synonym colour\n",
      "comments has synonym comment\n",
      "luster has synonym lustre\n",
      "references has synonym reference\n"
     ]
    }
   ],
   "source": [
    "df = remove_synonyms(df)"
   ]
  },
  {
   "cell_type": "code",
   "execution_count": 759,
   "id": "d5ea2c0e-2f1c-447b-8c69-c57a785be9d1",
   "metadata": {},
   "outputs": [],
   "source": [
    "# df.info(max_cols=200)"
   ]
  },
  {
   "cell_type": "code",
   "execution_count": 760,
   "id": "60b35f39-e03e-47e5-8239-fde7b1cb1cde",
   "metadata": {},
   "outputs": [],
   "source": [
    "columns_to_drop = [\n",
    "    'comments',\n",
    "    'crystal atlas',\n",
    "    'crystal structure',\n",
    "    'download',\n",
    "    'external links',\n",
    "    'forms',\n",
    "    'hardness data',\n",
    "    'health risks',\n",
    "    'idealised formula',\n",
    "    'ima status notes',\n",
    "    'images',\n",
    "    'industrial uses',\n",
    "    'name pronunciation',\n",
    "    'notes',\n",
    "    'optical extinction',\n",
    "    'oxide wt%',\n",
    "    'pronounciation',\n",
    "    'reference list',\n",
    "    'references',\n",
    "    'sample references',\n",
    "    'search engines',\n",
    "    'see also',\n",
    "    'setting',\n",
    "    'thermal behaviour',\n",
    "]"
   ]
  },
  {
   "cell_type": "code",
   "execution_count": 761,
   "id": "4ac26dd6-0884-4ff5-b218-b8c6605dd786",
   "metadata": {},
   "outputs": [],
   "source": [
    "df = df.drop(columns=columns_to_drop)"
   ]
  },
  {
   "cell_type": "code",
   "execution_count": 762,
   "id": "e1db563b-e239-43c3-9464-e22f7ef5e4ac",
   "metadata": {},
   "outputs": [],
   "source": [
    "ima_map = {\n",
    "    'A' : 'Approved',\n",
    "    'G' : 'Grandfathered',\n",
    "    'Rd' : 'Redefined',\n",
    "    'Rn' : 'Renamed',\n",
    "    'Q' : 'Questionable',\n",
    "}"
   ]
  },
  {
   "cell_type": "code",
   "execution_count": 763,
   "id": "16656093-d919-44cc-889f-f8749c8f7c45",
   "metadata": {},
   "outputs": [],
   "source": [
    "# df['2v'].dropna()[59].split(',')\n"
   ]
  },
  {
   "cell_type": "code",
   "execution_count": 764,
   "id": "c102e418-1d34-4beb-8e2f-17abed296ad8",
   "metadata": {},
   "outputs": [],
   "source": [
    "# df[['gladstone-dale', 'mineral_name']].dropna().head(10)"
   ]
  },
  {
   "cell_type": "code",
   "execution_count": 765,
   "id": "35ace58e-05a3-458d-bf0f-624445db41cb",
   "metadata": {},
   "outputs": [],
   "source": [
    "# df[['hardness mohs', 'hardness vickers']].iloc[0:30, :]"
   ]
  },
  {
   "cell_type": "code",
   "execution_count": 766,
   "id": "769c4ebb-4fe1-472f-b205-be3cd29ef7d5",
   "metadata": {},
   "outputs": [],
   "source": [
    "df[['measured 2v', 'calculated 2v']] = df['2v'].apply( lambda x: handle_2v(x) if pd.notna(x) else x).str.split('|', expand=True)\n",
    "df = df.drop(columns=['2v'])"
   ]
  },
  {
   "cell_type": "code",
   "execution_count": 767,
   "id": "bbc0b392-8fbc-4c52-a4f9-580b66139309",
   "metadata": {},
   "outputs": [],
   "source": [
    "df['approval year'] = df['approval year'].apply(lambda x: int(x) if pd.notna(x) else x)"
   ]
  },
  {
   "cell_type": "code",
   "execution_count": 768,
   "id": "9f3ef37b-77e9-48fd-8672-58e95c78bffa",
   "metadata": {},
   "outputs": [],
   "source": [
    "df['composition'] = df['composition'].apply( lambda x: x.replace('Molecular Weight = ', '') if pd.notna(x) else x)"
   ]
  },
  {
   "cell_type": "code",
   "execution_count": 769,
   "id": "aaf24bcf-1154-4c9a-8a03-f936d6177e3c",
   "metadata": {},
   "outputs": [],
   "source": [
    "df['dana 8th ed.'] = df['dana 8th ed.'].apply( lambda x: x.split(':')[0].strip() if pd.notna(x) else x)"
   ]
  },
  {
   "cell_type": "code",
   "execution_count": 770,
   "id": "a09aeedc-dbf6-4247-bdb5-4f532676a65d",
   "metadata": {},
   "outputs": [],
   "source": [
    "df['dana class'] = df['dana class'].apply(lambda x: x.split(')')[1].strip() if pd.notna(x) else x)"
   ]
  },
  {
   "cell_type": "code",
   "execution_count": 771,
   "id": "cf584d51-57e3-482f-ac82-fd503722de68",
   "metadata": {},
   "outputs": [],
   "source": [
    "df[['measured density', 'calculated density']] = df['density_x'].apply(lambda x: handle_density_x(x) if pd.notna(x) else x).str.split('|', expand=True)\n",
    "df['measured density'] = df['measured density'].apply(lambda x : x.split('g')[0] if pd.notna(x) else x)\n",
    "df = df.drop(columns=['density_x'])"
   ]
  },
  {
   "cell_type": "code",
   "execution_count": 772,
   "id": "d2d7f27e-a2c2-4bc0-8d27-8c9dfc289aa1",
   "metadata": {},
   "outputs": [],
   "source": [
    "df['density_y'] = df['density_y'].apply(lambda x: x.split(',')[0] if pd.notna(x) else x)"
   ]
  },
  {
   "cell_type": "code",
   "execution_count": 773,
   "id": "89dfdeeb-4dc0-4878-958a-3b31a4cdf044",
   "metadata": {},
   "outputs": [],
   "source": [
    "df[['electron density', 'specific_gravity_new']] = df['electron density'].apply(lambda x: '|'.join(re.findall(r'\\d+\\.\\d+ gm\\/cc', x)) if pd.notna(x) else x).str.split('|',expand=True)\n",
    "df['specific_gravity_new'] = df['specific_gravity_new'].apply(lambda x: x.split('g')[0] if pd.notna(x) else x)"
   ]
  },
  {
   "cell_type": "code",
   "execution_count": 774,
   "id": "9506024a-f1b2-44ef-ba00-792753c458f5",
   "metadata": {},
   "outputs": [],
   "source": [
    "df['elements listed'] = df['elements listed'].apply(lambda x: x.split('-')[0] if pd.notna(x) else x)"
   ]
  },
  {
   "cell_type": "code",
   "execution_count": 775,
   "id": "4473711d-8d30-4930-adf6-f1a767f5d84c",
   "metadata": {},
   "outputs": [],
   "source": [
    "df[['fermion index', 'boson index']] = df['fermion index'].apply(lambda x: '|'.join(re.findall(r'\\d+\\.\\d+', x)) if pd.notna(x) else x).str.split('|',expand=True)"
   ]
  },
  {
   "cell_type": "code",
   "execution_count": 776,
   "id": "a9897513-f4ea-4399-a62f-082bf6710014",
   "metadata": {},
   "outputs": [],
   "source": [
    "df['fracture_y'] = df['fracture_y'].apply(lambda x: x.split('-')[0] if pd.notna(x) else x)"
   ]
  },
  {
   "cell_type": "code",
   "execution_count": 777,
   "id": "106fdb10-4e65-4e5e-916c-d7898b26e496",
   "metadata": {},
   "outputs": [],
   "source": [
    "df['habit'] = df['habit'].apply(lambda x: x.split('-')[0] if pd.notna(x) else x)"
   ]
  },
  {
   "cell_type": "code",
   "execution_count": 778,
   "id": "38dfa53c-760a-4e4e-8e0d-bcae45ea8027",
   "metadata": {},
   "outputs": [],
   "source": [
    "df[['hardness mohs', 'hardness vickers']] = df['hardness_x'].apply(lambda x: handle_hardness(x) if pd.notna(x) else x).str.split('|',expand=True)\n",
    "df = df.drop(columns=['hardness_x'])"
   ]
  },
  {
   "cell_type": "code",
   "execution_count": 779,
   "id": "0cea46cc-c9bd-4cb6-b710-3dd10801fecd",
   "metadata": {},
   "outputs": [],
   "source": [
    "df['hardness_y'] = df['hardness_y'].apply(lambda x: re.split('\\s\\-\\s', x)[0] if pd.notna(x) else x)"
   ]
  },
  {
   "cell_type": "code",
   "execution_count": 780,
   "id": "6448f20b-bc79-443e-9cbe-ea8404c6e32b",
   "metadata": {},
   "outputs": [],
   "source": [
    "df['hey\\'s cim ref.'] = df['hey\\'s cim ref.'].apply(lambda x: x.split(':')[0] if pd.notna(x) else x)"
   ]
  },
  {
   "cell_type": "code",
   "execution_count": 781,
   "id": "10dd1e5c-a853-4346-b3d6-1cfce2aaa800",
   "metadata": {},
   "outputs": [],
   "source": [
    "df['ima status_y'] = df['ima status_y'].apply(lambda x: ima_map[x.strip()[:2].strip()] if pd.notna(x) else x)"
   ]
  },
  {
   "cell_type": "code",
   "execution_count": 782,
   "id": "a5a72ad5-5d3c-49a5-a177-4311327e7dff",
   "metadata": {},
   "outputs": [],
   "source": [
    "df['mindat.org url'] = df['mindat.org url'].apply(lambda x: x.replace('Please feel free to link to this page.', '') if pd.notna(x) else x)"
   ]
  },
  {
   "cell_type": "code",
   "execution_count": 783,
   "id": "6cd81b15-7139-4af9-b083-0889c15885b9",
   "metadata": {},
   "outputs": [],
   "source": [
    "df['mineral dealers'] = df['mineral dealers'].apply(lambda x: lowerUpperSplit(x) if pd.notna(x) else x)"
   ]
  },
  {
   "cell_type": "code",
   "execution_count": 784,
   "id": "4471fe05-9b5a-4978-962f-f545b4d2e043",
   "metadata": {},
   "outputs": [],
   "source": [
    "df['nickel-strunz 10th (pending) ed.'] = df['nickel-strunz 10th (pending) ed.'].apply(lambda x: x.split(':')[0] if pd.notna(x) else x)"
   ]
  },
  {
   "cell_type": "code",
   "execution_count": 785,
   "id": "d82006f6-89d1-4019-ab6d-0c6a0d1bd580",
   "metadata": {},
   "outputs": [],
   "source": [
    "df['photoelectric'] = df['photoelectric'].apply(lambda x: re.findall(r'\\d+\\.\\d+ barns\\/electron', x)[0] if pd.notna(x) else x)"
   ]
  },
  {
   "cell_type": "code",
   "execution_count": 786,
   "id": "875caa21-2a92-40ba-b31f-38916158fb95",
   "metadata": {},
   "outputs": [],
   "source": [
    "df['radioactivity'] = df['radioactivity'].apply(lambda x: x.split('(')[0].strip() if pd.notna(x) else x)"
   ]
  },
  {
   "cell_type": "code",
   "execution_count": 787,
   "id": "fcc2322f-1e3d-4363-87d5-a10283cb65fe",
   "metadata": {},
   "outputs": [],
   "source": [
    "df['specific gravity'] = df['specific gravity'].apply(lambda x: re.sub(r\"\\(.*\\)\", '', x) if pd.notna(x) else x)"
   ]
  },
  {
   "cell_type": "code",
   "execution_count": 788,
   "id": "5e73db26-2b10-4ae1-a7f9-28268c4b93fe",
   "metadata": {},
   "outputs": [],
   "source": [
    "df['strunz class'] = df['strunz class'].apply(lambda x: x.split('-')[1].lower() if pd.notna(x) else x)"
   ]
  },
  {
   "cell_type": "code",
   "execution_count": 789,
   "id": "348bba3d-c40f-494e-af2d-574dead96564",
   "metadata": {},
   "outputs": [],
   "source": [
    "df.to_csv('../data/processed-MWI.csv')"
   ]
  },
  {
   "cell_type": "code",
   "execution_count": null,
   "id": "2403a601-83f5-4e5c-b36a-f1ea0438f266",
   "metadata": {},
   "outputs": [],
   "source": []
  },
  {
   "cell_type": "markdown",
   "id": "7959a67a-9d05-4e92-aa10-60164e1b76c3",
   "metadata": {},
   "source": [
    "density_x\n",
    "8\n",
    "1.33 - 1.48\n",
    "g / cm3(Measured)    1.45\n",
    "g / cm3(Calculated)\n",
    "mindat.org\n",
    "url\n",
    "1\n",
    "https: // www.mindat.org / min - 1877.\n",
    "htmlPlease\n",
    "feel\n",
    "free\n",
    "to\n",
    "link\n",
    "to\n",
    "this\n",
    "page.\n",
    "[a - z] + [A - Z][a - z] + jkbdjhdjHGkjbkbd\n",
    "mineral\n",
    "dealers\n",
    "mineral\n",
    "dealers\n",
    "24\n",
    "Blue\n",
    "Gems\n",
    "Australian & InternationalQuality\n",
    "Mineral\n",
    "Specimens\n",
    "For\n",
    "Sale\n",
    "~ Cal\n",
    "Neva\n",
    "Mineral\n",
    "CompanyFabre\n",
    "Minerals - search\n",
    "for Abuite specimensFine Minerals from Weinrich Minerals, Inc.Buy from David K Joyce mineralsWilensky Exquisite MineralsQuality Minerals at Fair PricesTop quality minerals from Kristalle of CaliforniaBuy rare minerals from Excalibur MineralsHigh-end worldwide specimens & outstanding customer serviceWendel Minerals - Auction & Shop\n",
    "7\n",
    "Buy\n",
    "from McDougall MineralsFine\n",
    "\n",
    "Minerals\n",
    "from Weinrich Minerals, Inc.Buy\n",
    "from David K\n",
    "\n",
    "Joyce\n",
    "mineralsQuality\n",
    "Minerals\n",
    "at\n",
    "Fair\n",
    "PricesBlue\n",
    "Gems\n",
    "Australian & InternationalQuality\n",
    "Mineral\n",
    "Specimens\n",
    "For\n",
    "Sale\n",
    "~ Cal\n",
    "Neva\n",
    "Mineral\n",
    "CompanyHigh - end\n",
    "worldwide\n",
    "specimens & outstanding\n",
    "customer\n",
    "serviceWilensky\n",
    "Exquisite\n",
    "MineralsFabre\n",
    "Minerals - search\n",
    "for Abellaite specimensTop quality minerals from Kristalle of CaliforniaWendel Minerals - Auction & Shop"
   ]
  },
  {
   "cell_type": "code",
   "execution_count": null,
   "id": "9434dc94-22e6-4e54-842f-1ae0a3358922",
   "metadata": {},
   "outputs": [],
   "source": []
  },
  {
   "cell_type": "code",
   "execution_count": null,
   "id": "bd3b85e0-147b-4e1f-be00-3b20103b94f6",
   "metadata": {},
   "outputs": [],
   "source": []
  },
  {
   "cell_type": "code",
   "execution_count": null,
   "id": "258e4a66-d9ca-4f6e-9674-01e8fab4446a",
   "metadata": {},
   "outputs": [],
   "source": []
  },
  {
   "cell_type": "code",
   "execution_count": null,
   "id": "11793aec-abaa-456b-8d12-7760cd261bc0",
   "metadata": {},
   "outputs": [],
   "source": []
  },
  {
   "cell_type": "code",
   "execution_count": null,
   "id": "2d9cf5cc-8695-4bae-882b-bf7b23fb8358",
   "metadata": {},
   "outputs": [],
   "source": []
  }
 ],
 "metadata": {
  "kernelspec": {
   "display_name": "Python 3 (ipykernel)",
   "language": "python",
   "name": "python3"
  },
  "language_info": {
   "codemirror_mode": {
    "name": "ipython",
    "version": 3
   },
   "file_extension": ".py",
   "mimetype": "text/x-python",
   "name": "python",
   "nbconvert_exporter": "python",
   "pygments_lexer": "ipython3",
   "version": "3.8.8"
  }
 },
 "nbformat": 4,
 "nbformat_minor": 5
}
