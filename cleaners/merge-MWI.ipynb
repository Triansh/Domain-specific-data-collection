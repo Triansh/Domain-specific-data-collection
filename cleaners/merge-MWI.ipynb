{
 "cells": [
  {
   "cell_type": "code",
   "execution_count": 215,
   "id": "ef546659",
   "metadata": {},
   "outputs": [],
   "source": [
    "import pandas as pd\n",
    "import json\n",
    "import os\n",
    "from collections import defaultdict\n",
    "\n",
    "# os.chdir('C:\\\\Users\\\\arvgoyal\\Python Codes\\IRE Project\\Data Cleaning\\data')"
   ]
  },
  {
   "cell_type": "code",
   "execution_count": 176,
   "id": "2fed7258-75a6-422b-ae55-5e3d5d3a28ce",
   "metadata": {},
   "outputs": [
    {
     "ename": "FileNotFoundError",
     "evalue": "[Errno 2] No such file or directory: 'combined_minerals.json'",
     "output_type": "error",
     "traceback": [
      "\u001b[0;31m---------------------------------------------------------------------------\u001b[0m",
      "\u001b[0;31mFileNotFoundError\u001b[0m                         Traceback (most recent call last)",
      "\u001b[0;32m/tmp/ipykernel_175395/2684633632.py\u001b[0m in \u001b[0;36m<module>\u001b[0;34m\u001b[0m\n\u001b[1;32m      1\u001b[0m \u001b[0;31m#df = pd.read_json('combined_minerals.json')\u001b[0m\u001b[0;34m\u001b[0m\u001b[0;34m\u001b[0m\u001b[0;34m\u001b[0m\u001b[0m\n\u001b[0;32m----> 2\u001b[0;31m \u001b[0;32mwith\u001b[0m \u001b[0mopen\u001b[0m\u001b[0;34m(\u001b[0m\u001b[0;34m'combined_minerals.json'\u001b[0m\u001b[0;34m)\u001b[0m \u001b[0;32mas\u001b[0m \u001b[0mwebMinJsn\u001b[0m\u001b[0;34m:\u001b[0m\u001b[0;34m\u001b[0m\u001b[0;34m\u001b[0m\u001b[0m\n\u001b[0m\u001b[1;32m      3\u001b[0m     \u001b[0mwebMin_dic\u001b[0m \u001b[0;34m=\u001b[0m \u001b[0mjson\u001b[0m\u001b[0;34m.\u001b[0m\u001b[0mload\u001b[0m\u001b[0;34m(\u001b[0m\u001b[0mwebMinJsn\u001b[0m\u001b[0;34m)\u001b[0m\u001b[0;34m\u001b[0m\u001b[0;34m\u001b[0m\u001b[0m\n\u001b[1;32m      4\u001b[0m \u001b[0;34m\u001b[0m\u001b[0m\n\u001b[1;32m      5\u001b[0m \u001b[0;32mwith\u001b[0m \u001b[0mopen\u001b[0m\u001b[0;34m(\u001b[0m\u001b[0;34m'mindat.json'\u001b[0m\u001b[0;34m)\u001b[0m \u001b[0;32mas\u001b[0m \u001b[0mminDatJsn\u001b[0m\u001b[0;34m:\u001b[0m\u001b[0;34m\u001b[0m\u001b[0;34m\u001b[0m\u001b[0m\n",
      "\u001b[0;31mFileNotFoundError\u001b[0m: [Errno 2] No such file or directory: 'combined_minerals.json'"
     ]
    }
   ],
   "source": [
    "# #df = pd.read_json('combined_minerals.json')\n",
    "# with open('combined_minerals.json') as webMinJsn:\n",
    "#     webMin_dic = json.load(webMinJsn)\n",
    "\n",
    "# with open('mindat.json') as minDatJsn:\n",
    "#     minDat_dic = json.load(minDatJsn)\n",
    "\n",
    "# webMin_dic['Natanite'].keys()\n",
    "# minDat_dic.keys()"
   ]
  },
  {
   "cell_type": "code",
   "execution_count": 177,
   "id": "858bb5e5",
   "metadata": {},
   "outputs": [
    {
     "ename": "NameError",
     "evalue": "name 'webMin_dic' is not defined",
     "output_type": "error",
     "traceback": [
      "\u001b[0;31m---------------------------------------------------------------------------\u001b[0m",
      "\u001b[0;31mNameError\u001b[0m                                 Traceback (most recent call last)",
      "\u001b[0;32m/tmp/ipykernel_175395/3818239113.py\u001b[0m in \u001b[0;36m<module>\u001b[0;34m\u001b[0m\n\u001b[1;32m      6\u001b[0m \u001b[0mwebmin_mnrl\u001b[0m \u001b[0;34m=\u001b[0m \u001b[0mset\u001b[0m\u001b[0;34m(\u001b[0m\u001b[0;34m)\u001b[0m\u001b[0;34m\u001b[0m\u001b[0;34m\u001b[0m\u001b[0m\n\u001b[1;32m      7\u001b[0m \u001b[0;34m\u001b[0m\u001b[0m\n\u001b[0;32m----> 8\u001b[0;31m \u001b[0;32mfor\u001b[0m \u001b[0mmnrl\u001b[0m \u001b[0;32min\u001b[0m \u001b[0mwebMin_dic\u001b[0m\u001b[0;34m.\u001b[0m\u001b[0mkeys\u001b[0m\u001b[0;34m(\u001b[0m\u001b[0;34m)\u001b[0m\u001b[0;34m:\u001b[0m\u001b[0;34m\u001b[0m\u001b[0;34m\u001b[0m\u001b[0m\n\u001b[0m\u001b[1;32m      9\u001b[0m     \u001b[0mall_mnrl\u001b[0m\u001b[0;34m.\u001b[0m\u001b[0madd\u001b[0m\u001b[0;34m(\u001b[0m\u001b[0mmnrl\u001b[0m\u001b[0;34m.\u001b[0m\u001b[0mlower\u001b[0m\u001b[0;34m(\u001b[0m\u001b[0;34m)\u001b[0m\u001b[0;34m)\u001b[0m\u001b[0;34m\u001b[0m\u001b[0;34m\u001b[0m\u001b[0m\n\u001b[1;32m     10\u001b[0m     \u001b[0mwebmin_mnrl\u001b[0m\u001b[0;34m.\u001b[0m\u001b[0madd\u001b[0m\u001b[0;34m(\u001b[0m\u001b[0mmnrl\u001b[0m\u001b[0;34m.\u001b[0m\u001b[0mlower\u001b[0m\u001b[0;34m(\u001b[0m\u001b[0;34m)\u001b[0m\u001b[0;34m)\u001b[0m\u001b[0;34m\u001b[0m\u001b[0;34m\u001b[0m\u001b[0m\n",
      "\u001b[0;31mNameError\u001b[0m: name 'webMin_dic' is not defined"
     ]
    }
   ],
   "source": [
    "# #for k in webMin_dic.keys():\n",
    "# #    print (len(webMin_dic[k].keys()))\n",
    "\n",
    "# all_mnrl = set()\n",
    "# mindat_mnrl = set()\n",
    "# webmin_mnrl = set()\n",
    "\n",
    "# for mnrl in webMin_dic.keys():\n",
    "#     all_mnrl.add(mnrl.lower())\n",
    "#     webmin_mnrl.add(mnrl.lower())\n",
    "\n",
    "# for mnrl in minDat_dic.keys():\n",
    "#     all_mnrl.add(mnrl.lower())\n",
    "#     mindat_mnrl.add(mnrl.lower())\n"
   ]
  },
  {
   "cell_type": "code",
   "execution_count": 5,
   "id": "c69ea254",
   "metadata": {},
   "outputs": [
    {
     "name": "stdout",
     "output_type": "stream",
     "text": [
      "9609\n",
      "4660\n",
      "9112\n"
     ]
    }
   ],
   "source": [
    "# print(len(all_mnrl))\n",
    "# print(len(webmin_mnrl))\n",
    "# print(len(mindat_mnrl))"
   ]
  },
  {
   "cell_type": "code",
   "execution_count": 232,
   "id": "acffb57f",
   "metadata": {},
   "outputs": [],
   "source": [
    "attr_dic  = defaultdict(lambda:defaultdict(list))\n",
    "\n",
    "#attr_dic['Name Pronunciation']=    ['webMin','Name Pronunciation']\n",
    "\n",
    "# Grouped attributes start here\n",
    "attr_dic['Name Origin']=           ['Name Origin','Name']\n",
    "\n",
    "attr_dic['Formula']=               ['Formula_y','Formula_x','ima formula','chemical Formula']\n",
    "\n",
    "attr_dic['IMA Status']=            ['IMA Status_y','IMA status_x', 'IMA status']\n",
    "\n",
    "attr_dic['Color']=                 ['Color']\n",
    "\n",
    "attr_dic['Streak']=                ['Streak_x','Streak_y']\n",
    "\n",
    "attr_dic['Luster']=                ['Luster']\n",
    "\n",
    "attr_dic['Transparency']=          ['Diaphaneity','Transparency']\n",
    "\n",
    "attr_dic['RL Color']=              ['RL Color','Colour in reflected light']\n",
    "\n",
    "attr_dic['Axial Ratios']=          ['Axial Ratios', 'Ratio']\n",
    "\n",
    "attr_dic['density calculated (in gm/cc)']=           ['calculated density']\n",
    "attr_dic['density measured (in gm/cc)']=           ['measured density', 'density_y']\n",
    "\n",
    "attr_dic['Electron Density']=      ['Electron Density']\n",
    "\n",
    "attr_dic['hardness mohs']=              ['hardness mohs','Hardness_y']\n",
    "attr_dic['hardness vickers']=              ['hardness vickers']\n",
    "\n",
    "attr_dic['Crystal System']=        ['Crystal System_x','Crystal System_y']\n",
    "\n",
    "attr_dic['Specific Gravity (in gm/cc)']=      ['Specific_Gravity_new', 'Specific Gravity']\n",
    "\n",
    "attr_dic['Fracture']=              ['Fracture_x','Fracture_y']\n",
    "\n",
    "attr_dic['Cleavage']=              ['Cleavage_x', 'Cleavage_y']\n",
    "\n",
    "attr_dic['Locality']=         [ 'first recorded locality', 'locality', 'type locality', 'co-type localities']\n",
    "\n",
    "attr_dic['Magnetism']=             ['Magnetism_x','Magnetism_y' ]\n",
    "\n",
    "attr_dic['2V calculated']=                    ['calculated 2v']\n",
    "attr_dic['2V measured']=                    ['measured 2v']\n",
    "\n",
    "## Dilemma\n",
    "\n",
    "attr_dic['Dana Class']=            ['dana class']\n",
    "attr_dic['dana 8th ed.']=            ['dana 8th ed.']\n",
    "attr_dic['dana 7th ed.']=            ['dana 7th ed.']\n",
    "\n",
    "\n",
    "\n",
    "attr_dic['Strunz Class']=          ['Strunz Class']\n",
    "attr_dic['Nickel-Strunz 10th (pending) ed.']=          ['Nickel-Strunz 10th (pending) ed.']\n",
    "attr_dic['strunz 9th ed.']=           ['strunz 9th ed.']\n",
    "attr_dic['Strunz 8th ed.']=        ['Strunz 8th ed.']\n",
    "\n",
    "attr_dic['Tenacity']=              ['Tenacity', 'Habit']\n",
    "\n",
    "\n",
    "attr_dic['Cell Dimensions']=       ['cell dimensions']\n",
    "attr_dic['Cell Parameters']=       ['Cell Parameters']\n",
    "\n",
    "# This should be same\n",
    "attr_dic['Anisotrophism']=         ['Anisotropism', 'RL Anisotrophism']\n",
    "\n",
    "\n",
    "## All single attributes start here\n",
    "\n",
    "attr_dic['Radioactivity']=         ['Radioactivity']\n",
    "attr_dic['Photoelectric']=         ['Photoelectric']\n",
    "attr_dic['Environment']=           ['Environment']\n",
    "attr_dic['Fermion Index']=         ['Fermion Index']\n",
    "\n",
    "attr_dic['Gladstone-Dale']=        ['Gladstone-Dale']\n",
    "attr_dic['X Ray Diffraction']=     ['X Ray Diffraction']\n",
    "attr_dic['Luminescence']=          ['Luminescence']\n",
    "attr_dic['Optical Data']=          ['Optical Data']\n",
    "attr_dic['Birefringence']=         ['Birefringence']\n",
    "attr_dic['Surface Relief']=        ['Surface Relief']\n",
    "attr_dic['Morphology']=            ['Morphology']\n",
    "attr_dic['Elements listed']=       ['Elements listed']\n",
    "attr_dic['Common Impurities']=     ['Common Impurities']\n",
    "attr_dic['Geological Setting']=    ['Geological Setting']\n",
    "attr_dic['Member of']=             ['Member of']\n",
    "attr_dic['Isostructural with']=    ['Isostructural with']\n",
    "attr_dic[\"Hey's CIM Ref.\"]=        ['Hey\\'s CIM Ref.']\n",
    "attr_dic['Type']=                  ['Type']\n",
    "attr_dic['Powder Diffraction']=    ['Powder Diffraction Data']\n",
    "attr_dic['Unit Cell V']=           ['Unit Cell V']\n",
    "attr_dic['Space Group']=           ['Space Group']\n",
    "attr_dic['Dispersion']=            ['Dispersion']\n",
    "attr_dic['RI values']=             ['RI values']\n",
    "attr_dic['Class (H-M)']=           ['Class (H-M)']\n",
    "\n",
    "\n",
    "attr_dic['Twinning']=              ['Twinning']\n",
    "attr_dic['Parting']=               ['Parting']\n",
    "attr_dic['Mineral Dealers']=       ['Mineral Dealers']\n",
    "attr_dic['Pleochroism']=     ['Pleochroism','RL Pleochroism']\n",
    "attr_dic['Pleochroism (x)']=       ['Pleochroism (x)']\n",
    "attr_dic['Pleochroism (y)']=       ['Pleochroism (y)']\n",
    "attr_dic['Pleochroism (z)']=       ['Pleochroism (z)']\n",
    "attr_dic['Synonym']=               ['Synonym']\n",
    "attr_dic['Dichroism (e)']=         ['Dichroism (e)']\n",
    "attr_dic['Dichroism (w)']=         ['Dichroism (w)']\n",
    "attr_dic['Reflectivity']=          ['Reflectivity']\n",
    "attr_dic['RL Bireflectance']=      ['RL Bireflectance']\n",
    "attr_dic['Empirical Formula']=     ['Empirical Formula']\n",
    "attr_dic['Approval History']=      ['Approval history']\n",
    "attr_dic['Approval Year']=      ['Approval year']\n",
    "attr_dic['Molecular Weight']=      ['composition']\n",
    "attr_dic['In UV Light']=           ['In UV light']\n",
    "attr_dic['boson index']=           ['boson index']\n",
    "\n",
    "attr_dic['country']=           ['country']\n",
    "attr_dic['Polymorphism']=           ['polymorph of','dimorph of' ]\n",
    "attr_dic['epitaxial minerals']=           ['epitaxial minerals']\n",
    "attr_dic['first published']=           ['first published']\n",
    "attr_dic['first ref']=           ['first ref']\n",
    "attr_dic['first published']=           ['first published']\n",
    "attr_dic['ima year']=           ['ima year']\n",
    "attr_dic['internal reflections']=           ['internal reflections']\n",
    "attr_dic['ir spectrum']=           ['ir spectrum']\n",
    "attr_dic['mindat.org url']=           ['mindat.org url']\n",
    "attr_dic['second ref']=           ['second ref']\n",
    "attr_dic['special storage']=           ['special storage/display requirements']\n",
    "attr_dic['Number of molecules in unit cell']=           ['z']\n",
    "attr_dic['mineral_name']=           ['mineral_name']\n",
    "attr_dic['bireflectance']=           ['bireflectance']"
   ]
  },
  {
   "cell_type": "code",
   "execution_count": 233,
   "id": "37bcd58f-e4fd-4d5f-a758-1162ac2dc899",
   "metadata": {},
   "outputs": [],
   "source": [
    "df = pd.read_csv('../data/processed-MWI.csv', index_col=0)"
   ]
  },
  {
   "cell_type": "code",
   "execution_count": 234,
   "id": "a1528acd-8de0-4da6-bebd-ec79b9f8b50e",
   "metadata": {},
   "outputs": [],
   "source": [
    "# df.info(max_cols=200)"
   ]
  },
  {
   "cell_type": "code",
   "execution_count": 235,
   "id": "b3b335c1-34b0-4155-b60a-ef3fe2df1a97",
   "metadata": {},
   "outputs": [],
   "source": [
    "in_attr =set()\n",
    "x = [ in_attr.update([y.lower() for y in x]) for x in attr_dic.values()]"
   ]
  },
  {
   "cell_type": "code",
   "execution_count": 236,
   "id": "a973b682-7d2d-4568-9ef3-824d83e9ca28",
   "metadata": {},
   "outputs": [
    {
     "data": {
      "text/plain": [
       "(set(), set())"
      ]
     },
     "execution_count": 236,
     "metadata": {},
     "output_type": "execute_result"
    }
   ],
   "source": [
    "set(df.columns).difference(in_attr)\n",
    "in_attr.difference(df.columns), set(df.columns).difference(in_attr)\n"
   ]
  },
  {
   "cell_type": "code",
   "execution_count": 237,
   "id": "9cf0a21c-570c-4251-8fec-13cb61f433c1",
   "metadata": {},
   "outputs": [],
   "source": [
    "main_df = pd.DataFrame(columns = [x.lower() for x in attr_dic.keys()])"
   ]
  },
  {
   "cell_type": "code",
   "execution_count": 238,
   "id": "6c465da4-bd69-4558-94b6-6078657dff47",
   "metadata": {},
   "outputs": [],
   "source": [
    "\n",
    "for k, v in attr_dic.items():\n",
    "    k = k.lower()\n",
    "    for at in v:\n",
    "        main_df[k] = main_df[k].combine_first(df[at.lower()])\n",
    "    "
   ]
  },
  {
   "cell_type": "code",
   "execution_count": 239,
   "id": "719b2604-fd0f-4226-809b-5ee8da103ca4",
   "metadata": {},
   "outputs": [],
   "source": [
    "def process_df(df):\n",
    "    df.sort_index(axis=1, inplace=True)\n",
    "    df.sort_values('mineral_name', inplace=True)\n",
    "    mid = df['mineral_name']\n",
    "    df.drop(labels=['mineral_name'], axis=1,inplace = True)\n",
    "    df.insert(0, 'mineral_name', mid)\n",
    "    return df"
   ]
  },
  {
   "cell_type": "code",
   "execution_count": 240,
   "id": "65438592-f451-4734-94ce-2d649284b26c",
   "metadata": {},
   "outputs": [],
   "source": [
    "main_df = process_df(main_df).reset_index(drop=True)"
   ]
  },
  {
   "cell_type": "code",
   "execution_count": 241,
   "id": "7eff5e0b-5ae0-4b3b-9a91-9fc454ff9e40",
   "metadata": {},
   "outputs": [
    {
     "name": "stdout",
     "output_type": "stream",
     "text": [
      "<class 'pandas.core.frame.DataFrame'>\n",
      "RangeIndex: 7079 entries, 0 to 7078\n",
      "Data columns (total 89 columns):\n",
      " #   Column                            Non-Null Count  Dtype \n",
      "---  ------                            --------------  ----- \n",
      " 0   mineral_name                      7079 non-null   object\n",
      " 1   2v calculated                     1645 non-null   object\n",
      " 2   2v measured                       1892 non-null   object\n",
      " 3   anisotrophism                     806 non-null    object\n",
      " 4   approval history                  322 non-null    object\n",
      " 5   approval year                     2765 non-null   object\n",
      " 6   axial ratios                      5452 non-null   object\n",
      " 7   bireflectance                     256 non-null    object\n",
      " 8   birefringence                     634 non-null    object\n",
      " 9   boson index                       4616 non-null   object\n",
      " 10  cell dimensions                   4409 non-null   object\n",
      " 11  cell parameters                   5355 non-null   object\n",
      " 12  class (h-m)                       4232 non-null   object\n",
      " 13  cleavage                          4685 non-null   object\n",
      " 14  color                             5907 non-null   object\n",
      " 15  common impurities                 1593 non-null   object\n",
      " 16  country                           5738 non-null   object\n",
      " 17  crystal system                    6346 non-null   object\n",
      " 18  dana 7th ed.                      485 non-null    object\n",
      " 19  dana 8th ed.                      3755 non-null   object\n",
      " 20  dana class                        4660 non-null   object\n",
      " 21  density calculated (in gm/cc)     3707 non-null   object\n",
      " 22  density measured (in gm/cc)       4335 non-null   object\n",
      " 23  dichroism (e)                     194 non-null    object\n",
      " 24  dichroism (w)                     195 non-null    object\n",
      " 25  dispersion                        2343 non-null   object\n",
      " 26  electron density                  4540 non-null   object\n",
      " 27  elements listed                   6393 non-null   object\n",
      " 28  empirical formula                 4657 non-null   object\n",
      " 29  environment                       4121 non-null   object\n",
      " 30  epitaxial minerals                85 non-null     object\n",
      " 31  fermion index                     4617 non-null   object\n",
      " 32  first published                   2582 non-null   object\n",
      " 33  first ref                         5737 non-null   object\n",
      " 34  formula                           6842 non-null   object\n",
      " 35  fracture                          3321 non-null   object\n",
      " 36  geological setting                1033 non-null   object\n",
      " 37  gladstone-dale                    3186 non-null   object\n",
      " 38  hardness mohs                     5122 non-null   object\n",
      " 39  hardness vickers                  763 non-null    object\n",
      " 40  hey's cim ref.                    3348 non-null   object\n",
      " 41  ima status                        6368 non-null   object\n",
      " 42  ima year                          5739 non-null   object\n",
      " 43  in uv light                       1414 non-null   object\n",
      " 44  internal reflections              309 non-null    object\n",
      " 45  ir spectrum                       119 non-null    object\n",
      " 46  isostructural with                494 non-null    object\n",
      " 47  locality                          6298 non-null   object\n",
      " 48  luminescence                      1068 non-null   object\n",
      " 49  luster                            5533 non-null   object\n",
      " 50  magnetism                         411 non-null    object\n",
      " 51  member of                         2889 non-null   object\n",
      " 52  mindat.org url                    6702 non-null   object\n",
      " 53  mineral dealers                   6674 non-null   object\n",
      " 54  molecular weight                  4660 non-null   object\n",
      " 55  morphology                        2629 non-null   object\n",
      " 56  name origin                       5831 non-null   object\n",
      " 57  nickel-strunz 10th (pending) ed.  5373 non-null   object\n",
      " 58  number of molecules in unit cell  3367 non-null   object\n",
      " 59  optical data                      3823 non-null   object\n",
      " 60  parting                           341 non-null    object\n",
      " 61  photoelectric                     4659 non-null   object\n",
      " 62  pleochroism                       2066 non-null   object\n",
      " 63  pleochroism (x)                   665 non-null    object\n",
      " 64  pleochroism (y)                   623 non-null    object\n",
      " 65  pleochroism (z)                   572 non-null    object\n",
      " 66  polymorphism                      417 non-null    object\n",
      " 67  powder diffraction                3537 non-null   object\n",
      " 68  radioactivity                     4659 non-null   object\n",
      " 69  reflectivity                      470 non-null    object\n",
      " 70  ri values                         3590 non-null   object\n",
      " 71  rl bireflectance                  166 non-null    object\n",
      " 72  rl color                          926 non-null    object\n",
      " 73  second ref                        3530 non-null   object\n",
      " 74  space group                       3729 non-null   object\n",
      " 75  special storage                   77 non-null     object\n",
      " 76  specific gravity (in gm/cc)       5371 non-null   object\n",
      " 77  streak                            4837 non-null   object\n",
      " 78  strunz 8th ed.                    4178 non-null   object\n",
      " 79  strunz 9th ed.                    197 non-null    object\n",
      " 80  strunz class                      4660 non-null   object\n",
      " 81  surface relief                    3590 non-null   object\n",
      " 82  synonym                           3512 non-null   object\n",
      " 83  tenacity                          4480 non-null   object\n",
      " 84  transparency                      5278 non-null   object\n",
      " 85  twinning                          1005 non-null   object\n",
      " 86  type                              4097 non-null   object\n",
      " 87  unit cell v                       5351 non-null   object\n",
      " 88  x ray diffraction                 4392 non-null   object\n",
      "dtypes: object(89)\n",
      "memory usage: 4.8+ MB\n"
     ]
    }
   ],
   "source": [
    "main_df.info()"
   ]
  },
  {
   "cell_type": "code",
   "execution_count": 242,
   "id": "c8eda1d2-c81f-4aee-a067-584d7e0cda36",
   "metadata": {},
   "outputs": [],
   "source": [
    "for col in main_df.columns:\n",
    "    main_df[col] = main_df[col].astype(str).str.strip()"
   ]
  },
  {
   "cell_type": "code",
   "execution_count": 243,
   "id": "f9a54605-cb31-4b13-8042-d2918be602e7",
   "metadata": {},
   "outputs": [],
   "source": [
    "main_df.to_csv('../data/merged-MWI.csv', index=None)"
   ]
  },
  {
   "cell_type": "markdown",
   "id": "4a4d90cc-be9b-4d2e-9a58-35fc25ccde70",
   "metadata": {},
   "source": [
    "### Done by Arvin"
   ]
  },
  {
   "cell_type": "code",
   "execution_count": 7,
   "id": "44e8fd1c",
   "metadata": {},
   "outputs": [],
   "source": [
    "def get_atr_val(mnrl_web,mnrl_dat,atr):\n",
    "    m=''\n",
    "    value =''\n",
    "    for i in attr_dic[atr].keys():\n",
    "        lst = attr_dic[atr][i]\n",
    "\n",
    "        if lst[0] == 'webMin':\n",
    "            try:\n",
    "                value = webMin_dic[mnrl_web][lst[1]]\n",
    "                m = mnrl_web\n",
    "                break\n",
    "            except:\n",
    "                a=1\n",
    "        else:\n",
    "            try:\n",
    "                value = minDat_dic[mnrl_dat][lst[1]]\n",
    "                m = mnrl_dat\n",
    "                break\n",
    "            except:\n",
    "                a=1\n",
    "    return (value,m)\n"
   ]
  },
  {
   "cell_type": "code",
   "execution_count": 8,
   "id": "7f95dd0e",
   "metadata": {},
   "outputs": [],
   "source": [
    "merged_dic  = defaultdict(lambda:defaultdict(str))\n",
    "\n",
    "for mnrl in all_mnrl:\n",
    "    mName_web = ''\n",
    "    mName_dat = ''\n",
    "    for m in webMin_dic.keys():\n",
    "        if mnrl.lower() == m.lower():\n",
    "            mName_web = m\n",
    "            break\n",
    "\n",
    "    for m in  minDat_dic.keys():\n",
    "        if mnrl.lower() == m.lower():\n",
    "            mName_dat = m\n",
    "            break\n",
    "\n",
    "\n",
    "    for atr in attr_dic.keys():\n",
    "        val,m = get_atr_val(mName_web,mName_dat, atr)\n",
    "        if m != '':\n",
    "            merged_dic[m][atr] = val\n",
    "\n",
    "\n"
   ]
  },
  {
   "cell_type": "code",
   "execution_count": 9,
   "id": "c8b4abcd",
   "metadata": {},
   "outputs": [],
   "source": [
    "#for k in merged_dic.keys():\n",
    "#    print (len(merged_dic[k].keys()))\n",
    "len(merged_dic.keys())\n",
    "\n",
    "mrg_set = set()\n",
    "for m in merged_dic.keys():\n",
    "    mrg_set.add(m.lower())\n",
    "\n",
    "lst = all_mnrl - mrg_set\n"
   ]
  },
  {
   "cell_type": "markdown",
   "id": "fb1c56bf-6d46-490d-abf8-c2300af2a6be",
   "metadata": {},
   "source": [
    "print(lst)\n",
    "len(lst)\n"
   ]
  },
  {
   "cell_type": "code",
   "execution_count": 11,
   "id": "74a584e4",
   "metadata": {},
   "outputs": [],
   "source": [
    "with open('merged_webmin_mindat.json', 'w') as file:\n",
    "    json.dump(merged_dic, file)"
   ]
  },
  {
   "cell_type": "markdown",
   "id": "1227e0b2-20c9-48f6-bbbc-64916273a8c4",
   "metadata": {},
   "source": [
    "merged_dic.keys()"
   ]
  },
  {
   "cell_type": "markdown",
   "id": "828a56c1-2612-47f4-a202-2b300c2c4e37",
   "metadata": {},
   "source": [
    "keys = attr_dic.keys()\n",
    "merged_dic2  = {key:{k:merged_dic[k][key] for k in merged_dic if key in merged_dic[k]} for key in keys}\n",
    "\n",
    "df = pd.DataFrame(merged_dic2)\n",
    "df\n"
   ]
  },
  {
   "cell_type": "code",
   "execution_count": 16,
   "id": "6ed8d3a5",
   "metadata": {},
   "outputs": [],
   "source": [
    "df.to_csv('merged_webmin_mindat.csv')"
   ]
  },
  {
   "cell_type": "code",
   "execution_count": null,
   "id": "14021931",
   "metadata": {},
   "outputs": [],
   "source": [
    "\n"
   ]
  }
 ],
 "metadata": {
  "kernelspec": {
   "display_name": "jupy-lab-kernel",
   "language": "python",
   "name": "jupy-lab-kernel"
  },
  "language_info": {
   "codemirror_mode": {
    "name": "ipython",
    "version": 3
   },
   "file_extension": ".py",
   "mimetype": "text/x-python",
   "name": "python",
   "nbconvert_exporter": "python",
   "pygments_lexer": "ipython3",
   "version": "3.8.10"
  }
 },
 "nbformat": 4,
 "nbformat_minor": 5
}
