{
 "cells": [
  {
   "cell_type": "code",
   "execution_count": 12,
   "id": "c34d6317-8134-4b40-ba85-4dbcdfd20f1e",
   "metadata": {},
   "outputs": [],
   "source": [
    "import json\n",
    "import pandas as pd\n",
    "\n",
    "from nltk.corpus import wordnet\n",
    "from copy import deepcopy"
   ]
  },
  {
   "cell_type": "code",
   "execution_count": 13,
   "id": "5262bfb5-a352-4933-b867-7558487db55f",
   "metadata": {},
   "outputs": [],
   "source": [
    "def get_synonyms(word):\n",
    "    syns = [lm.name() for syn in wordnet.synsets(word) for lm in syn.lemmas()]\n",
    "    return set(syns)"
   ]
  },
  {
   "cell_type": "code",
   "execution_count": 93,
   "id": "cd0b7647-e9a5-4f72-bce4-b4a30f2a1707",
   "metadata": {},
   "outputs": [],
   "source": [
    "def json_to_df(obj):\n",
    "    records = []\n",
    "    for k, v in obj.items():\n",
    "        temp = deepcopy(v)\n",
    "        temp['Mineral name'] = k\n",
    "        records.append(temp)\n",
    "    df = pd.DataFrame.from_records(records)\n",
    "    df.columns = [x.lower() for x in df.columns]\n",
    "    df.sort_index(axis=1, inplace=True)\n",
    "    return df"
   ]
  },
  {
   "cell_type": "code",
   "execution_count": 94,
   "id": "cb596b91-f110-4e46-ba7c-60c55e34e7a4",
   "metadata": {},
   "outputs": [],
   "source": [
    "def filter_df(df, axis, threshhold=30):\n",
    "    min_count = int((threshhold / 100) * df.shape[axis] + 1)\n",
    "    filtered_df = df.dropna(axis= int(not axis), how='any', thresh=min_count).reset_index(drop=True)\n",
    "    return filtered_df"
   ]
  },
  {
   "cell_type": "code",
   "execution_count": 96,
   "id": "b97a133d-22a8-400e-937e-7994f4a1e960",
   "metadata": {},
   "outputs": [],
   "source": [
    "# with open('../data/mindat/mindat-7k-all.json', 'r') as f:\n",
    "#     mindat = json.load(f)"
   ]
  },
  {
   "cell_type": "code",
   "execution_count": 97,
   "id": "2fdef3c7-fbc4-43bc-bd5b-2764d3525b29",
   "metadata": {},
   "outputs": [],
   "source": [
    "# with open('../data/webmineral/combined_minerals.json') as f:\n",
    "#     webm = json.load(f)"
   ]
  },
  {
   "cell_type": "code",
   "execution_count": 152,
   "id": "e1817999-9cab-44fc-8254-b434757238bd",
   "metadata": {},
   "outputs": [],
   "source": [
    "with open('../data/wikipedia/combined-wiki-all.json', 'r') as f:\n",
    "    mindat= json.load(f)"
   ]
  },
  {
   "cell_type": "code",
   "execution_count": 153,
   "id": "6d322be2-5ef8-41ec-9d85-bed26cc7fcea",
   "metadata": {},
   "outputs": [],
   "source": [
    "mindat_df = json_to_df(mindat)"
   ]
  },
  {
   "cell_type": "code",
   "execution_count": 140,
   "id": "07227a5d-3f21-4d07-8dfd-ed6f85ae72cf",
   "metadata": {},
   "outputs": [],
   "source": [
    "# webm_df = json_to_df(webm)"
   ]
  },
  {
   "cell_type": "code",
   "execution_count": 151,
   "id": "4ead8faf-9149-4bd4-ab2a-f0eff0fea65a",
   "metadata": {},
   "outputs": [
    {
     "name": "stdout",
     "output_type": "stream",
     "text": [
      "<class 'pandas.core.frame.DataFrame'>\n",
      "RangeIndex: 1873 entries, 0 to 1872\n",
      "Data columns (total 62 columns):\n",
      " #   Column                                                           Non-Null Count  Dtype \n",
      "---  ------                                                           --------------  ----- \n",
      " 0   2v                                                               396 non-null    object\n",
      " 1   birefringence                                                    708 non-null    object\n",
      " 2   caption                                                          874 non-null    object\n",
      " 3   category                                                         1415 non-null   object\n",
      " 4   chemical formula (p274)                                          1591 non-null   object\n",
      " 5   class                                                            1335 non-null   object\n",
      " 6   cleavage                                                         1044 non-null   object\n",
      " 7   color                                                            1250 non-null   object\n",
      " 8   commons category (p373)                                          1338 non-null   object\n",
      " 9   crystal system (p556)                                            1403 non-null   object\n",
      " 10  dana                                                             418 non-null    object\n",
      " 11  dana 8th edition (p714)                                          536 non-null    object\n",
      " 12  density                                                          262 non-null    object\n",
      " 13  described by source (p1343)                                      662 non-null    object\n",
      " 14  description                                                      429 non-null    object\n",
      " 15  diaphaneity                                                      1131 non-null   object\n",
      " 16  dispersion                                                       195 non-null    object\n",
      " 17  encyclopædia britannica online id (p1417)                        424 non-null    object\n",
      " 18  formula                                                          1498 non-null   object\n",
      " 19  fracture                                                         739 non-null    object\n",
      " 20  freebase id (p646)                                               1456 non-null   object\n",
      " 21  google knowledge graph id (p2671)                                385 non-null    object\n",
      " 22  gravity                                                          1076 non-null   object\n",
      " 23  great russian encyclopedia online id (p2924)                     206 non-null    object\n",
      " 24  habit                                                            1076 non-null   object\n",
      " 25  ima number, broad sense (p484)                                   919 non-null    object\n",
      " 26  ima status and/or rank (p579)                                    1573 non-null   object\n",
      " 27  image                                                            1204 non-null   object\n",
      " 28  image (p18)                                                      1382 non-null   object\n",
      " 29  imagesize                                                        583 non-null    object\n",
      " 30  instance of (p31)                                                1807 non-null   object\n",
      " 31  kbpedia id (p8408)                                               347 non-null    object\n",
      " 32  kivid.info id (p7348)                                            509 non-null    object\n",
      " 33  luster                                                           1196 non-null   object\n",
      " 34  microsoft academic id (p6366)                                    879 non-null    object\n",
      " 35  mindat mineral id (p6263)                                        413 non-null    object\n",
      " 36  mineral name                                                     1873 non-null   object\n",
      " 37  mohs                                                             1248 non-null   object\n",
      " 38  molweight                                                        296 non-null    object\n",
      " 39  name                                                             1567 non-null   object\n",
      " 40  named after (p138)                                               1496 non-null   object\n",
      " 41  nickel-strunz '10th ed', review of (9th ed/ 2009 update) (p713)  1444 non-null   object\n",
      " 42  nickel-strunz 9th edition (updated 2009) (p712)                  1436 non-null   object\n",
      " 43  opticalprop                                                      991 non-null    object\n",
      " 44  other                                                            354 non-null    object\n",
      " 45  pleochroism                                                      493 non-null    object\n",
      " 46  refractive                                                       914 non-null    object\n",
      " 47  solubility                                                       210 non-null    object\n",
      " 48  space group (p690)                                               493 non-null    object\n",
      " 49  store norske leksikon id (p4342)                                 434 non-null    object\n",
      " 50  streak                                                           1030 non-null   object\n",
      " 51  streak color (p534)                                              579 non-null    object\n",
      " 52  strunz                                                           1316 non-null   object\n",
      " 53  strunz 8th edition (series id, updated) (p711)                   1374 non-null   object\n",
      " 54  subclass of (p279)                                               1687 non-null   object\n",
      " 55  symmetry                                                         1352 non-null   object\n",
      " 56  system                                                           1493 non-null   object\n",
      " 57  tenacity                                                         599 non-null    object\n",
      " 58  twinning                                                         388 non-null    object\n",
      " 59  type locality (geology) (p2695)                                  980 non-null    object\n",
      " 60  unit cell                                                        995 non-null    object\n",
      " 61  wolfram language entity code (p4839)                             497 non-null    object\n",
      "dtypes: object(62)\n",
      "memory usage: 907.4+ KB\n"
     ]
    }
   ],
   "source": [
    "# webm_df.drop(webm_df.columns[range(133)], axis=1, inplace=True)\n",
    "# mindat_df.info(max_cols=2000)\n",
    "filter_df(mindat_df, axis=0, threshhold=10).info()"
   ]
  },
  {
   "cell_type": "code",
   "execution_count": 156,
   "id": "be9772d3-ad00-460a-886d-da176d2cd9e9",
   "metadata": {},
   "outputs": [
    {
     "name": "stdout",
     "output_type": "stream",
     "text": [
      "colour has synonym color\n",
      "lustre has synonym luster\n"
     ]
    },
    {
     "data": {
      "text/plain": [
       "1027"
      ]
     },
     "execution_count": 156,
     "metadata": {},
     "output_type": "execute_result"
    }
   ],
   "source": [
    "for col in mindat_df.columns:\n",
    "    for syn in get_synonyms(col):\n",
    "        if syn != col and syn in webm_df.columns:\n",
    "            print(f\"{col} has synonym {syn}\")\n",
    "len(mindat_df.columns)"
   ]
  },
  {
   "cell_type": "code",
   "execution_count": 130,
   "id": "24764d49-be7c-413b-ac52-28ae78e62af2",
   "metadata": {},
   "outputs": [
    {
     "name": "stdout",
     "output_type": "stream",
     "text": [
      "<class 'pandas.core.frame.DataFrame'>\n",
      "RangeIndex: 3777 entries, 0 to 3776\n",
      "Data columns (total 60 columns):\n",
      " #   Column                            Non-Null Count  Dtype \n",
      "---  ------                            --------------  ----- \n",
      " 0   2v                                1432 non-null   object\n",
      " 1   anisotropism                      417 non-null    object\n",
      " 2   approval year                     929 non-null    object\n",
      " 3   birefringence                     538 non-null    object\n",
      " 4   cell parameters                   3311 non-null   object\n",
      " 5   class (h-m)                       2293 non-null   object\n",
      " 6   cleavage                          2079 non-null   object\n",
      " 7   colour                            3430 non-null   object\n",
      " 8   colour in reflected light         436 non-null    object\n",
      " 9   comment                           1607 non-null   object\n",
      " 10  comments                          1443 non-null   object\n",
      " 11  common impurities                 1371 non-null   object\n",
      " 12  crystal system                    3650 non-null   object\n",
      " 13  dana 7th ed.                      435 non-null    object\n",
      " 14  dana 8th ed.                      3433 non-null   object\n",
      " 15  density                           2634 non-null   object\n",
      " 16  dispersion                        1919 non-null   object\n",
      " 17  download                          944 non-null    object\n",
      " 18  elements listed                   3726 non-null   object\n",
      " 19  external links                    3545 non-null   object\n",
      " 20  first published                   1485 non-null   object\n",
      " 21  formula                           3736 non-null   object\n",
      " 22  fracture                          1256 non-null   object\n",
      " 23  geological setting                959 non-null    object\n",
      " 24  hardness                          3352 non-null   object\n",
      " 25  health risks                      3776 non-null   object\n",
      " 26  hey's cim ref.                    3301 non-null   object\n",
      " 27  ima formula                       1907 non-null   object\n",
      " 28  ima status                        3642 non-null   object\n",
      " 29  in uv light                       830 non-null    object\n",
      " 30  lustre                            3051 non-null   object\n",
      " 31  member of                         1822 non-null   object\n",
      " 32  mindat.org url                    3777 non-null   object\n",
      " 33  mineral dealers                   3773 non-null   object\n",
      " 34  mineral name                      3777 non-null   object\n",
      " 35  morphology                        1955 non-null   object\n",
      " 36  name                              3413 non-null   object\n",
      " 37  nickel-strunz 10th (pending) ed.  3670 non-null   object\n",
      " 38  notes                             855 non-null    object\n",
      " 39  pleochroism                       1148 non-null   object\n",
      " 40  powder diffraction data           1696 non-null   object\n",
      " 41  pronounciation                    533 non-null    object\n",
      " 42  ratio                             2993 non-null   object\n",
      " 43  reference                         1344 non-null   object\n",
      " 44  reference list                    3763 non-null   object\n",
      " 45  ri values                         2540 non-null   object\n",
      " 46  search engines                    3777 non-null   object\n",
      " 47  setting                           705 non-null    object\n",
      " 48  space group                       1934 non-null   object\n",
      " 49  specific gravity                  2478 non-null   object\n",
      " 50  streak                            2055 non-null   object\n",
      " 51  strunz 8th ed.                    3604 non-null   object\n",
      " 52  surface relief                    2540 non-null   object\n",
      " 53  tenacity                          1447 non-null   object\n",
      " 54  transparency                      2709 non-null   object\n",
      " 55  twinning                          750 non-null    object\n",
      " 56  type                              2884 non-null   object\n",
      " 57  type locality                     3174 non-null   object\n",
      " 58  unit cell v                       3307 non-null   object\n",
      " 59  z                                 2038 non-null   object\n",
      "dtypes: object(60)\n",
      "memory usage: 1.7+ MB\n"
     ]
    }
   ],
   "source": [
    "mindat_df = filter_df(mindat_df, axis = 0, threshhold=5)\n",
    "mindat_df = filter_df(mindat_df, axis = 1, threshhold=20)\n",
    "mindat_df.info()"
   ]
  },
  {
   "cell_type": "code",
   "execution_count": null,
   "id": "ab15f0f6-affc-4310-80d0-a8f830df6107",
   "metadata": {},
   "outputs": [],
   "source": []
  }
 ],
 "metadata": {
  "kernelspec": {
   "display_name": "jupy-lab-kernel",
   "language": "python",
   "name": "jupy-lab-kernel"
  },
  "language_info": {
   "codemirror_mode": {
    "name": "ipython",
    "version": 3
   },
   "file_extension": ".py",
   "mimetype": "text/x-python",
   "name": "python",
   "nbconvert_exporter": "python",
   "pygments_lexer": "ipython3",
   "version": "3.8.10"
  }
 },
 "nbformat": 4,
 "nbformat_minor": 5
}
