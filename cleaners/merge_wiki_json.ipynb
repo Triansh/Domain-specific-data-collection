{
 "cells": [
  {
   "cell_type": "code",
   "execution_count": 1,
   "id": "ea40024c-2f13-46fd-9135-724f7f51cfaa",
   "metadata": {},
   "outputs": [],
   "source": [
    "import os\n",
    "import json\n",
    "import pandas as pd\n",
    "import numpy as np\n",
    "from copy import deepcopy"
   ]
  },
  {
   "cell_type": "code",
   "execution_count": 2,
   "id": "6ea2c5ab-e9a2-43af-b0d8-5bc6954e9691",
   "metadata": {},
   "outputs": [],
   "source": [
    "global_min_dict = {}"
   ]
  },
  {
   "cell_type": "code",
   "execution_count": 3,
   "id": "ef0604ab-57c0-497b-827d-640da9cd05b3",
   "metadata": {},
   "outputs": [
    {
     "name": "stdout",
     "output_type": "stream",
     "text": [
      "minerals-06-11_09:49:59.json\n",
      "minerals-06-11_08:07:51.json\n",
      "minerals-05-11_19:51:03.json\n"
     ]
    }
   ],
   "source": [
    "for file in os.listdir('../data/wikipedia'):\n",
    "    if file.endswith('json') and file.startswith('minerals'):\n",
    "        print(file)\n",
    "        with open(f'../data/wikipedia/{file}', 'r') as f:\n",
    "            data = json.load(f)\n",
    "            global_min_dict.update(data)"
   ]
  },
  {
   "cell_type": "code",
   "execution_count": 4,
   "id": "e50b80d7-4416-403a-9b6a-67f56b119738",
   "metadata": {},
   "outputs": [
    {
     "name": "stdout",
     "output_type": "stream",
     "text": [
      "1873\n",
      "37.0\n",
      "35.919380672717566\n"
     ]
    }
   ],
   "source": [
    "print(len(global_min_dict))\n",
    "attr = [len(v) for v in global_min_dict.values()]\n",
    "print(np.median(attr))\n",
    "print(np.mean(attr))"
   ]
  },
  {
   "cell_type": "code",
   "execution_count": 5,
   "id": "dbb6264e-ad3a-4f63-937b-d2cd11186fe7",
   "metadata": {},
   "outputs": [],
   "source": [
    "with open('../data/wikipedia/combined-wiki-all.json', 'w') as f:\n",
    "    json.dump(global_min_dict, f)"
   ]
  }
 ],
 "metadata": {
  "kernelspec": {
   "display_name": "jupy-lab-kernel",
   "language": "python",
   "name": "jupy-lab-kernel"
  },
  "language_info": {
   "codemirror_mode": {
    "name": "ipython",
    "version": 3
   },
   "file_extension": ".py",
   "mimetype": "text/x-python",
   "name": "python",
   "nbconvert_exporter": "python",
   "pygments_lexer": "ipython3",
   "version": "3.8.10"
  }
 },
 "nbformat": 4,
 "nbformat_minor": 5
}
